{
 "cells": [
  {
   "cell_type": "raw",
   "id": "9a927190-4180-4d5a-a3b5-1aeeeb07e1d8",
   "metadata": {},
   "source": [
    "\"\"\"\n",
    "REQUESTS is an Apache2 Licensed HTTP library, that allows to send HTTP/1.1 requests using Python.\n",
    "\n",
    "Usage:\n",
    "*  Make requests using the most common HTTP methods\n",
    "*  Customize your requests’ headers and data using the query string and message body\n",
    "*  Inspect data from your requests and responses\n",
    "*  Make authenticated requests\n",
    "*  Configure your requests to help prevent your application from backing up or slowing down\n",
    "\n",
    "\n",
    "\"\"\""
   ]
  },
  {
   "cell_type": "raw",
   "id": "d8f4c2ab-deb2-4d70-a75a-8d9d45973e6c",
   "metadata": {},
   "source": [
    "\"\"\"\n",
    "HTTP response codes\n",
    "1xx informational response – the request was received, continuing process\n",
    "2xx successful – the request was successfully received, understood, and accepted\n",
    "3xx redirection – further action needs to be taken in order to complete the request\n",
    "4xx client error – the request contains bad syntax or cannot be fulfilled\n",
    "5xx server error – the server failed to fulfil an apparently valid request\n",
    "\"\"\""
   ]
  },
  {
   "cell_type": "raw",
   "id": "d37be79d-2e21-4b3d-8d5e-81f34569c815",
   "metadata": {},
   "source": [
    "\"\"\"\n",
    "EXCEPTIONS IN REQUESTS\n",
    "\n",
    "ConnectionError:\n",
    "When the server cannot be reached, this exception is raised.\n",
    "This might be the result of a number of things, like a DNS resolution issue or a connection rejection.\n",
    "\n",
    "Timeout: \n",
    "raised when a request runs out of time without a reply.\n",
    "It can happen when the server is responding slowly or when there are network problems.\n",
    "\n",
    "TooManyRedirects: \n",
    "raised when the request makes more redirects than allowed.\n",
    "When a server directs the client to another URL, a redirect occurs.\n",
    "\n",
    "HTTPError: \n",
    "raised for HTTP responses that fail (status codes 400 and higher). \n",
    "It means that the server provided an error status code in response.\n",
    "\n",
    "RequestException:\n",
    "the default exception class for the Requests module.\n",
    "It includes a variety of exception types that might appear while processing a request.\n",
    "\"\"\""
   ]
  },
  {
   "cell_type": "raw",
   "id": "ec1a93bb-08bb-42a2-846c-0fa79e491f19",
   "metadata": {},
   "source": [
    "\"\"\"\n",
    "GET() METHOD\n",
    "GET method is used to retrieve information from the given server using a given URI.\n",
    "requests.get(url, params={key: value}, args)\n",
    "\n",
    "https://www.geeksforgeeks.org/get-method-python-requests/\n",
    "\n",
    "Advantages: \n",
    "*  Since the data sent by the GET method are displayed in the URL, it is possible to bookmark the page with specific query string values.\n",
    "*  GET requests can be cached and GET requests remain in the browser history.\n",
    "*  GET requests can be bookmarked.\n",
    "\n",
    "Disadvantages:\n",
    "*  The GET method is not suitable for passing sensitive information such as the username and password, because these are fully visible in the URL query string as well as potentially stored in the client browser’s memory as a visited page.\n",
    "*  Because the GET method assigns data to a server environment variable, the length of the URL is limited. So, there is a limitation for the total data to be sent.\n",
    "\n",
    "\n",
    "\"\"\""
   ]
  },
  {
   "cell_type": "raw",
   "id": "fd7e0a73-00b1-4ef2-be35-2b83255187e1",
   "metadata": {},
   "source": [
    "\"\"\"\n",
    "\n",
    "RESPONSE METHOD\n",
    "\n",
    "Property/Method\t\t\tDescription\n",
    "apparent_encoding\t\tReturns the apparent encoding\n",
    "close()\t\t\t\t    Closes the connection to the server\n",
    "content\t\t  \t\t    Returns the content of the response, in bytes\n",
    "cookies\t\t\t\t    Returns a CookieJar object with the cookies sent back from the server\n",
    "elapsed\t\t\t\t    Returns a timedelta object with the time elapsed from sending the request to the arrival of the response\n",
    "encoding\t\t\t    Returns the encoding used to decode r.text\n",
    "headers\t\t\t\t    Returns a dictionary of response headers\n",
    "history\t\t\t\t    Returns a list of response objects holding the history of request (url)\n",
    "is_permanent_redirect\tReturns True if the response is the permanent redirected url, otherwise False\n",
    "is_redirect\t\t\t    Returns True if the response was redirected, otherwise False\n",
    "iter_content()\t\t\tIterates over the response\n",
    "iter_lines()\t\t\tIterates over the lines of the response\n",
    "json()\t\t\t\t    Returns a JSON object of the result (if the result was written in JSON format, if not it raises an error)\n",
    "links\t\t\t\t    Returns the header links\n",
    "next\t\t\t\t    Returns a PreparedRequest object for the next request in a redirection\n",
    "ok\t\t\t\t        Returns True if status_code is less than 400, otherwise False\n",
    "raise_for_status()\t\tIf an error occur, this method returns a HTTPError object\n",
    "reason\t\t\t\t    Returns a text corresponding to the status code\n",
    "request\t\t\t\t    Returns the request object that requested this response\n",
    "status_code\t\t\t    Returns a number that indicates the status (200 is OK, 404 is Not Found)\n",
    "text\t\t\t\t    Returns the content of the response, in unicode\n",
    "url\t\t\t\t        Returns the URL of the response\n",
    "\n",
    "\n",
    "\"\"\""
   ]
  },
  {
   "cell_type": "code",
   "execution_count": 438,
   "id": "44fe03bb-232a-4d21-95c8-2f9ccd1c4ebd",
   "metadata": {},
   "outputs": [
    {
     "name": "stdout",
     "output_type": "stream",
     "text": [
      "Success!\n",
      "close\n",
      "200\n"
     ]
    },
    {
     "data": {
      "text/plain": [
       "'https://newsapi.org/v2/top-headlines?country=us&category=business&apiKey=94c5d9f6f4564dd2b7c43ebcb0b6d67e&langauage=en'"
      ]
     },
     "execution_count": 438,
     "metadata": {},
     "output_type": "execute_result"
    }
   ],
   "source": [
    "import requests\n",
    "#from requests.exceptions import HTTPError\n",
    "\n",
    "#url=\"https://newsapi.org/v2/top-headlines?country=us&category=business&apiKey=94c5d9f6f4564dd2b7c43ebcb0b6d67e&language=en\"\n",
    "url=\"https://newsapi.org/v2/top-headlines?country=us&category=business\"                       # define parameters in requests.get()\n",
    "#  Search parameters = https://newsapi.org/docs/endpoints/everything\n",
    "payload={\"apiKey\":\"94c5d9f6f4564dd2b7c43ebcb0b6d67e\",\"langauage\":\"en\"}\n",
    "\n",
    "try:\n",
    "    response=requests.get(url,params=payload)\n",
    "    response.raise_for_status()                                    # Raise an exception for unsuccessful HTTP status codes\n",
    "    print(\"Success!\")\n",
    "except requests.exceptions.HTTPError as http_err:\n",
    "    print(f\"HTTP error occurred: {http_err}\")\n",
    "except Exception as exc_err:\n",
    "    print(f\"Other error occurred: {exc_err}\")\n",
    "except requests.exceptions.ConnectionError as conn_err:\n",
    "    print(f\"Other error occurred: {conn_err}\")\n",
    "except requests.exceptions.Timeout as time_err:\n",
    "    print(f\"Other error occurred: {time_err}\")\n",
    "finally:                                                            # the final block will be executed regardless of exception occurred or not\n",
    "    print(\"close\")\n",
    "\n",
    "print(response.status_code)\n",
    "response.encoding\n",
    "response.url"
   ]
  },
  {
   "cell_type": "code",
   "execution_count": 439,
   "id": "2e7382b4-684e-4fb7-92be-16bdc39db949",
   "metadata": {},
   "outputs": [
    {
     "data": {
      "text/plain": [
       "datetime.timedelta(seconds=1, microseconds=294156)"
      ]
     },
     "execution_count": 439,
     "metadata": {},
     "output_type": "execute_result"
    }
   ],
   "source": [
    "response.elapsed"
   ]
  },
  {
   "cell_type": "raw",
   "id": "aa7b4a90-1594-4567-9ba6-6c2c2e6be29b",
   "metadata": {},
   "source": [
    "\"\"\"\n",
    "GET IMAGES\n",
    "\"\"\""
   ]
  },
  {
   "cell_type": "code",
   "execution_count": 442,
   "id": "f4a5d89c-8f47-41ec-bf74-f3b90a396236",
   "metadata": {},
   "outputs": [
    {
     "name": "stdout",
     "output_type": "stream",
     "text": [
      "success\n"
     ]
    }
   ],
   "source": [
    "url=\"https://images.squarespace-cdn.com/content/v1/54822a56e4b0b30bd821480c/29708160-9b39-42d0-a5ed-4f8b9c85a267/labrador+retriever+dans+pet+care.jpeg?format=2500w\"\n",
    "i=requests.get(url)\n",
    "with open('image.jpg','wb') as file:\n",
    "    file.write(i.content)\n",
    "    print('success')"
   ]
  },
  {
   "cell_type": "code",
   "execution_count": 408,
   "id": "884cc88b-b2ab-46a6-8e6c-410ea476875c",
   "metadata": {},
   "outputs": [
    {
     "data": {
      "text/plain": [
       "{'Connection': 'keep-alive', 'Content-Length': '64692', 'Content-Type': 'text/html', 'belfrage-cache-status': 'MISS', 'bid': 'bruce', 'brequestid': 'ed6fd62dd3f64961b71350f3a0bf59ba', 'bsig': '3b894d3078a41765bdb9f826b4fd9d9c', 'content-encoding': 'gzip', 'content-security-policy': \"default-src 'none'; script-src 'strict-dynamic' 'nonce-4vRk22Hy80nh6Ab3GoSuwKD6yBXre6esBAk8encTIrjPpDHpkl' 'self' 'report-sample' 'unsafe-inline' assets.wearehearken.eu cdn.syndication.twimg.com connect.facebook.net c.files.bbci.co.uk emp.bbci.co.uk ems.wearehearken.eu modules.wearehearken.eu mybbc-analytics.files.bbci.co.uk nav.files.bbci.co.uk news.files.bbci.co.uk platform.twitter.com public.flourish.studio static.bbc.co.uk static.bbci.co.uk static.chartbeat.com static2.chartbeat.com www.bbc.co.uk www.instagram.com www.ons.gov.uk gn-web-assets.api.bbc.com www.google-analytics.com bitesize.files.bbci.co.uk www.tiktok.com lf16-tiktok-web.ttwstatic.com static.files.bbci.co.uk; img-src 'self' https: data:; font-src c.files.bbci.co.uk gel.files.bbci.co.uk static.files.bbci.co.uk static.bbci.co.uk news.files.bbci.co.uk ws-downloads.files.bbci.co.uk bitesize.files.bbci.co.uk; style-src branding.files.bbci.co.uk cdn.riddle.com flo.uri.sh news.files.bbci.co.uk platform.twitter.com static.bbc.co.uk static.bbci.co.uk static.files.bbci.co.uk ton.twimg.com www.riddle.com 'unsafe-inline' lf16-tiktok-web.ttwstatic.com; frame-src 'self' bbc001.carto.com bbc003.carto.com bbc-maps.carto.com cdn.riddle.com chartbeat.com emp.bbc.co.uk emp.bbc.com flo.uri.sh graphics.reuters.com www.reuters.com m.facebook.com news.files.bbci.co.uk personaltaxcalculator2.deloittecloud.co.uk platform.twitter.com public.flourish.studio static2.chartbeat.com syndication.twitter.com web.facebook.com www.bbc.co.uk www.facebook.com www.instagram.com www.tiktok.com www.ons.gov.uk www.riddle.com www.youtube.com www.youtube-nocookie.com uk-script.dotmetrics.net ssp-app-uk.votenow.tv ssp-app-uktest.votenow.tv ssp-app-ukbench.votenow.tv session.test.bbc.co.uk session.bbc.co.uk session.stage.bbc.co.uk bitesize.files.bbci.co.uk; object-src 'none'; manifest-src static.files.bbci.co.uk bitesize.files.bbci.co.uk; media-src 'self' blob: https:; connect-src 'self' https:; child-src blob:; base-uri 'none'; form-action 'self' platform.twitter.com syndication.twitter.com uk-script.dotmetrics.net/DeviceInfo.dotmetrics; frame-ancestors 'none'; upgrade-insecure-requests; report-to default; report-uri https://webcore.bbc-reporting-api.app/report-endpoint;\", 'feature-policy': \"accelerometer 'none'; autoplay 'self' https://emp.bbc.com https://emp.bbc.co.uk http://emp.bbc.com http://emp.bbc.co.uk; camera 'none'; document-domain 'self' https://emp.bbc.com https://emp.bbc.co.uk http://emp.bbc.com http://emp.bbc.co.uk; encrypted-media 'none'; fullscreen 'self' https://emp.bbc.com https://emp.bbc.co.uk http://emp.bbc.com http://emp.bbc.co.uk; geolocation 'none'; gyroscope 'none'; magnetometer 'none'; microphone 'none'; midi 'none'; payment 'none'; picture-in-picture 'self' https://emp.bbc.com https://emp.bbc.co.uk http://emp.bbc.com http://emp.bbc.co.uk; screen-wake-lock 'none'; sync-xhr 'self'; usb 'none'; xr-spatial-tracking 'none'\", 'nel': '{\"report_to\":\"default\",\"max_age\":2592000,\"include_subdomains\":true,\"failure_fraction\":0.25}', 'permissions-policy': 'accelerometer=(), autoplay=(self \"https://emp.bbc.com\" \"https://emp.bbc.co.uk\" \"http://emp.bbc.com\" \"http://emp.bbc.co.uk\"), camera=(), document-domain=(self \"https://emp.bbc.com\" \"https://emp.bbc.co.uk\" \"http://emp.bbc.com\" \"http://emp.bbc.co.uk\"), encrypted-media=(), fullscreen=(self \"https://emp.bbc.com\" \"https://emp.bbc.co.uk\" \"http://emp.bbc.com\" \"http://emp.bbc.co.uk\"), geolocation=(), gyroscope=(), magnetometer=(), microphone=(), midi=(), payment=(), picture-in-picture=(self \"https://emp.bbc.com\" \"https://emp.bbc.co.uk\" \"http://emp.bbc.com\" \"http://emp.bbc.co.uk\"), screen-wake-lock=(), sync-xhr=(self), usb=(), xr-spatial-tracking=(), browsing-topics=(), join-ad-interest-group=(), run-ad-auction=()', 'referrer-policy': 'strict-origin-when-cross-origin', 'req-svc-chain': 'FASTLY,GTM,BELFRAGE', 'via': '1.1 BBC-GTM, 1.1 Belfrage, 1.1 varnish', 'x-content-type-options': 'nosniff', 'x-frame-options': 'DENY', 'x-xss-protection': '1; mode=block', 'Origin-Agent-Cluster': '?0', 'X-BBC-Edge-Cache-Status': 'STALE', 'report-to': '{\"group\":\"default\",\"max_age\":2592000,\"endpoints\":[{\"url\":\"https://default.bbc-reporting-api.app/report-endpoint\",\"priority\":1}],\"include_subdomains\":true}', 'Server': 'BBC-GTM', 'Strict-Transport-Security': 'max-age=31536000; preload', 'Fastly-Restarts': '1', 'Accept-Ranges': 'bytes', 'Date': 'Sat, 21 Sep 2024 05:29:40 GMT', 'X-Fastly-Cache-Status': 'HIT-CLUSTER', 'X-Served-By': 'cache-syd10125-SYD', 'X-Cache': 'HIT', 'X-Cache-Hits': '1', 'X-Timer': 'S1726896580.242154,VS0,VE7', 'X-Fastly-Pre-Flight-Cache': 'HIT, HIT', 'X-Fastly-Pre-Flight-Cache-Status': 'HIT-CLUSTER', 'X-cache-age': '1', 'X-LB-NoCache': 'true', 'Cache-Control': 'private, stale-if-error=90, stale-while-revalidate=30, max-age=0, must-revalidate', 'Vary': 'X-BBC-Edge-Scheme,x-id-oidc-signedin,Accept-Encoding', 'alt-svc': 'h3=\":443\";ma=86400,h3-29=\":443\";ma=86400,h3-27=\":443\";ma=86400'}"
      ]
     },
     "execution_count": 408,
     "metadata": {},
     "output_type": "execute_result"
    }
   ],
   "source": [
    "response.headers"
   ]
  },
  {
   "cell_type": "code",
   "execution_count": 376,
   "id": "866e3eea-f970-434b-9433-521a75d0926e",
   "metadata": {},
   "outputs": [
    {
     "data": {
      "text/plain": [
       "'{\"status\":\"ok\",\"totalResults\":42,\"articles\":[{\"source\":{\"id\":null,\"name\":\"CNBC\"},\"author\":\"Anniek Bao\",\"title\":\"Bank of Japan keeps key interest rate steady as it treads cautiously on normalizing policy - CNBC\",\"description\":\"The decision came as the central bank seeks to wean its economy off the long-held ultra-easy monetary policy and curb the yen\\'s slide against the U.S. dollar.\",\"url\":\"https://www.cnbc.com/2024/09/20/bank-of-japan-keeps-benchmark-interest-rate-steady-as-it-treads-cautiously-on-normalizing-policy-.html\",\"urlToImage\":\"https://image.cnbcfm.com/api/v1/image/107193967-1676336822877-gettyimages-1240268939-AFP_32927KV.jpeg?v=1726787079&w=1920&h=1080\",\"publishedAt\":\"2024-09-20T03:07:00Z\",\"content\":\"The Bank of Japan kept its benchmark interest rate steady at \\\\\"around 0.25%\\\\\" the highest rate since 2008 at the conclusion of a two-day meeting Friday.\\xa0\\\\r\\\\nWhile the decision is in line with Reuters pol… [+2816 chars]\"},{\"source\":{\"id\":null,\"name\":\"The Seattle Times\"},\"author\":\"Dominic Gates\",\"title\":\"Hit by strike, Boeing flies in out-of-state janitors, applies furloughs broadly - The Seattle Times\",\"description\":\"A few of the incoming workers, who have relocated here for the duration of the strike, said they had arrived from Alabama, Mississippi and Texas.\",\"url\":\"https://www.seattletimes.com/business/boeing-aerospace/hit-by-strike-boeing-flies-in-out-of-state-janitors-applies-furloughs-broadly/\",\"urlToImage\":\"https://images.seattletimes.com/wp-content/uploads/2024/09/09192024_boeing-everett_183114.jpg?d=1200x630\",\"publishedAt\":\"2024-09-20T02:32:06Z\",\"content\":\"With Boeing’s blue-collar workforce on strike, management has engaged an outside janitorial contractor that has flown more than 400 people from southern states to perform routine cleaning and mainten… [+6401 chars]\"},{\"source\":{\"id\":\"the-washington-post\",\"name\":\"The Washington Post\"},\"author\":\"Hannah Ziegler\",\"title\":\"Nike CEO John Donahoe to step down; will be replaced by Elliott Hill - The Washington Post\",\"description\":\"The shake-up comes amid slumping sales and aggressive competition from rivals.\",\"url\":\"https://www.washingtonpost.com/business/2024/09/19/nike-ceo-elliott-hill-john-donahoe/\",\"urlToImage\":\"https://www.washingtonpost.com/wp-apps/imrs.php?src=https://arc-anglerfish-washpost-prod-washpost.s3.amazonaws.com/public/VXN3XJ5MNKWV6SVFEFLRUCNAS4.JPG&w=1440\",\"publishedAt\":\"2024-09-20T02:26:07Z\",\"content\":\"Nike chief executive John Donahoe will retire next month, the company announced Thursday marking the latest shake-up for the sneaker giant during a period of sluggish sales.\\\\r\\\\nDonahoes last day with N… [+2047 chars]\"},{\"source\":{\"id\":null,\"name\":\"CNBC\"},\"author\":\"Anniek Bao\",\"title\":\"China unexpectedly leaves benchmark lending rates unchanged after Fed’s jumbo cut - CNBC\",\"description\":\"The People\\'s Bank of China (PBOC) said it would keep the one-year loan prime rate (LPR) at 3.35%, as well as the five-year LPR at 3.85%.\",\"url\":\"https://www.cnbc.com/2024/09/20/china-unexpectedly-leaves-benchmark-lending-rates-unchanged-after-feds-jumbo-cut.html\",\"urlToImage\":\"https://image.cnbcfm.com/api/v1/image/107387864-1710462735036-gettyimages-1352271307-syz05818-1.jpeg?v=1714398514&w=1920&h=1080\",\"publishedAt\":\"2024-09-20T01:22:00Z\",\"content\":\"China on Friday kept its main benchmark lending rates unchanged at the monthly fixing.\\\\r\\\\nMarket watchers polled by Reuters had expected a trim as the Federal Reserve\\'s 50 basis point rate cut had give… [+2236 chars]\"},{\"source\":{\"id\":\"cnn\",\"name\":\"CNN\"},\"author\":\"Krystal Hur\",\"title\":\"Dow, S&P 500 close at record highs after Federal Reserve’s supersized rate cut - CNN\",\"description\":\"Stocks jumped Thursday as investors cheered the Federal Reserve’s eye-popping half-point interest rate cut.\",\"url\":\"https://www.cnn.com/2024/09/19/investing/stocks-fed-rate-cut/index.html\",\"urlToImage\":\"https://media.cnn.com/api/v1/images/stellar/prod/gettyimages-2172012022-copy.jpg?c=16x9&q=w_800,c_fill\",\"publishedAt\":\"2024-09-20T01:08:17Z\",\"content\":\"Stocks jumped Thursday as investors cheered the Federal Reserves eye-popping half-point interest rate cut.\\\\r\\\\nThe Dow closed 522 points, or 1.3%, higher, reaching a new record after passing the 42,000 … [+2355 chars]\"},{\"source\":{\"id\":null,\"name\":\"CNBC\"},\"author\":\"Julie Coleman\",\"title\":\"Jim Cramer reviews 10 stocks that perform well just after the start of a cutting cycle - CNBC\",\"description\":\"CNBC\\'s Jim Cramer on Thursday reviewed stocks that have historically performed well just after the a cutting cycle starts and endorsed his favorites.\",\"url\":\"https://www.cnbc.com/2024/09/19/jim-cramer-reviews-10-stocks-that-perform-well-after-rate-cuts-start.html\",\"urlToImage\":\"https://image.cnbcfm.com/api/v1/image/104602212-IMG_3653-jim-cramer.jpg?v=1692226226&w=1920&h=1080\",\"publishedAt\":\"2024-09-19T22:47:06Z\",\"content\":\"CNBC\\'s Jim Cramer on Thursday reviewed stocks that have historically performed well just after the Federal Reserve embarks on a cutting cycle and chose his favorites. Using data compiled by CNBC Pro,… [+3348 chars]\"},{\"source\":{\"id\":null,\"name\":\"New York Post\"},\"author\":\"Ariel Zilber\",\"title\":\"Trump Media stock sinks as former president can finally sell his shares - New York Post \",\"description\":\"The six-month lockup period was put in place after Trump Media consummated its merger with a blank-check company.\",\"url\":\"https://nypost.com/2024/09/19/business/trump-media-stock-dips-just-before-lockup-period-expires/\",\"urlToImage\":\"https://nypost.com/wp-content/uploads/sites/2/2024/09/former-us-president-donald-trump-89999129.jpg?quality=75&strip=all&w=1024\",\"publishedAt\":\"2024-09-19T22:26:00Z\",\"content\":\"Shares of Trump Media plunged to a new low Thursday — the day that former President Donald Trump and other major investors were finally allowed to sell their shares in the parent company of social me… [+1731 chars]\"},{\"source\":{\"id\":null,\"name\":\"Space.com\"},\"author\":\"Mike Wall\",\"title\":\"SpaceX blasts proposed FAA fines in complaint letter to Congress - Space.com\",\"description\":\"\\\\\"SpaceX forcefully rejects the FAA\\'s assertion that it violated any regulations.\\\\\"\",\"url\":\"https://www.space.com/spacex-letter-congress-contest-faa-fines\",\"urlToImage\":\"https://cdn.mos.cms.futurecdn.net/8FdKMmCstG8xM7hs7yAaLA-1200-80.jpg\",\"publishedAt\":\"2024-09-19T22:00:55Z\",\"content\":\"SpaceX has taken its dispute with the U.S. Federal Aviation Administration (FAA) to Capitol Hill.\\\\r\\\\nOn Tuesday (Sept. 17), the FAA announced that it plans to fine SpaceX $630,000 for allegedly skirtin… [+4957 chars]\"},{\"source\":{\"id\":\"the-wall-street-journal\",\"name\":\"The Wall Street Journal\"},\"author\":\"Connor Hart\",\"title\":\"FedEx Cuts Full-Year Outlook After Posting Lower Profit, Revenue - The Wall Street Journal\",\"description\":\"Weaker-than-expected demand, particularly in the U.S. domestic package market, hurts results\",\"url\":\"https://www.wsj.com/business/earnings/fedex-cuts-full-year-outlook-after-posting-lower-profit-revenue-8d4322ac\",\"urlToImage\":\"https://images.wsj.net/im-92882879/social\",\"publishedAt\":\"2024-09-19T21:46:00Z\",\"content\":null},{\"source\":{\"id\":null,\"name\":\"KTLA Los Angeles\"},\"author\":\"Iman Palm\",\"title\":\"California digital driver’s license and ID cards can now be added to Apple Wallet - KTLA Los Angeles\",\"description\":\"Apple Wallet support for California digital driver’s licenses and state ID cards is now available, the tech company announced Thursday. “Californians now have the option of adding their driver’s license or state ID to their iPhone or Apple Watch in Apple Wall…\",\"url\":\"https://ktla.com/news/california/california-digital-drivers-license-and-id-cards-can-now-be-added-to-apple-wallet/\",\"urlToImage\":\"https://ktla.com/wp-content/uploads/sites/4/2024/09/Apple-Wallet-drivers-licenses-California.jpg?w=1280\",\"publishedAt\":\"2024-09-19T21:44:42Z\",\"content\":\"Apple Wallet support for California digital drivers licenses and state ID cards is now available, the tech company announced Thursday.\\\\r\\\\nCalifornians now have the option of adding their drivers licens… [+1081 chars]\"},{\"source\":{\"id\":null,\"name\":\"CNBC\"},\"author\":\"Sarah Whitten\",\"title\":\"Disney to ditch Slack following July data breach - CNBC\",\"description\":\"The company\\'s Slack server was hacked in July, leading to more than a terabyte of company data being leaked to the public.\",\"url\":\"https://www.cnbc.com/2024/09/19/disney-to-ditch-slack-after-july-data-breach-.html\",\"urlToImage\":\"https://image.cnbcfm.com/api/v1/image/108016952-1722962214453-gettyimages-2155783215-mg_8935_wd19_05312024.jpeg?v=1726776515&w=1920&h=1080\",\"publishedAt\":\"2024-09-19T20:53:23Z\",\"content\":\"The Walt Disney Company will no longer use Slack for in-house company communication months after a hack that involved more than a terabyte of company data being leaked to the public.\\\\r\\\\nThe company had… [+1307 chars]\"},{\"source\":{\"id\":null,\"name\":\"Yahoo Entertainment\"},\"author\":\"WYATTE GRANTHAM-PHILIPS\",\"title\":\"23andMe directors resign as the CEO of the genetic-testing company seeks to take it private - Yahoo Finance\",\"description\":\"All of 23andMe\\'s independent directors resigned from its board this week, a rare move that marks the latest challenge for the genetic-testing company.  The...\",\"url\":\"https://finance.yahoo.com/news/23andme-directors-resign-ceo-genetic-205019604.html/\",\"urlToImage\":\"https://s.yimg.com/cv/apiv2/social/images/yahoo_default_logo.png\",\"publishedAt\":\"2024-09-19T20:50:19Z\",\"content\":\"NEW YORK (AP) All of 23andMe\\'s independent directors resigned from its board this week, a rare move that marks the latest challenge for the genetic-testing company.\\\\r\\\\nThe resignations follow drawn-out… [+2826 chars]\"},{\"source\":{\"id\":null,\"name\":\"Investor\\'s Business Daily\"},\"author\":\"Investor\\'s Business Daily\",\"title\":\"Apple Stock Rises On Reassuring iPhone 16 Sales Comments From T-Mobile - Investor\\'s Business Daily\",\"description\":null,\"url\":\"https://www.investors.com/news/technology/apple-stock-t-mobile-iphone-16-sales/\",\"urlToImage\":null,\"publishedAt\":\"2024-09-19T20:24:00Z\",\"content\":null},{\"source\":{\"id\":null,\"name\":\"[Removed]\"},\"author\":null,\"title\":\"[Removed]\",\"description\":\"[Removed]\",\"url\":\"https://removed.com\",\"urlToImage\":null,\"publishedAt\":\"2024-09-19T20:23:00Z\",\"content\":\"[Removed]\"},{\"source\":{\"id\":\"politico\",\"name\":\"Politico\"},\"author\":\"POLITICO\",\"title\":\"Trump seizes on Fed rate cut to open new line of attack on economy - POLITICO\",\"description\":null,\"url\":\"https://www.politico.com/news/2024/09/19/trump-attacks-fed-rate-cut-00180068\",\"urlToImage\":null,\"publishedAt\":\"2024-09-19T20:08:08Z\",\"content\":null},{\"source\":{\"id\":null,\"name\":\"Fox Business\"},\"author\":\"Aislinn Murphy\",\"title\":\"Uber to provide delivery for Olive Garden in new partnership - Fox Business\",\"description\":\"Darden Restaurants plans to start delivering Olive Garden food via Uber later this year, according to a Thursday announcement from the company.\",\"url\":\"https://www.foxbusiness.com/markets/uber-provide-delivery-olive-garden-new-partnership\",\"urlToImage\":\"https://a57.foxnews.com/static.foxbusiness.com/foxbusiness.com/content/uploads/2024/06/0/0/olive-garden-1.jpg?ve=1&tl=1\",\"publishedAt\":\"2024-09-19T19:53:00Z\",\"content\":\"Darden Restaurants will start delivering Olive Garden food via Uber later this year.\\\\r\\\\nThe corporate parent of the Italian chain and other restaurant brands said Thursday that it will do that as part … [+3604 chars]\"},{\"source\":{\"id\":null,\"name\":\"Yahoo Entertainment\"},\"author\":\"Claire Boston\",\"title\":\"Mortgage rates inch closer to 6% following Fed rate cut - Yahoo Finance\",\"description\":\"The average rate on a 30-year loan fell to 6.09% this week, according to Freddie Mac. Mortgage rates have been falling over the last few months in...\",\"url\":\"https://finance.yahoo.com/news/mortgage-rates-inch-closer-to-6-following-fed-rate-cut-160309788.html/\",\"urlToImage\":\"https://s.yimg.com/cv/apiv2/social/images/yahoo_default_logo.png\",\"publishedAt\":\"2024-09-19T19:52:16Z\",\"content\":\"Average 30-year fixed mortgage rates fell again this week to 6.09%, though the move wasnt directly tied to the Federal Reserves rate cut on Wednesday.\\\\r\\\\nThe average rate dropped 0.11 percentage point … [+2491 chars]\"},{\"source\":{\"id\":\"politico\",\"name\":\"Politico\"},\"author\":\"POLITICO\",\"title\":\"Biden touts economic gains, acknowledges a long way to go - POLITICO\",\"description\":null,\"url\":\"https://www.politico.com/news/2024/09/19/biden-economy-interest-rates-00180088\",\"urlToImage\":null,\"publishedAt\":\"2024-09-19T19:49:30Z\",\"content\":null},{\"source\":{\"id\":null,\"name\":\"CNBC\"},\"author\":\"Lori Ann LaRocco\",\"title\":\"Largest port on U.S. East Coast, New York/New Jersey, begins prepping for what could be first union strike since 1977 - CNBC\",\"description\":\"A deadline of Oct. 1 for a new deal between port workers and ownership is approaching, and after talks broke down during the summer, tensions are high.\",\"url\":\"https://www.cnbc.com/2024/09/19/largest-port-on-east-coast-begins-preparations-for-a-strike.html\",\"urlToImage\":\"https://image.cnbcfm.com/api/v1/image/107395504-1712064652342-gettyimages-2118348126-PORT_OPERATIONS_NEWARK.jpeg?v=1712064690&w=1920&h=1080\",\"publishedAt\":\"2024-09-19T18:59:43Z\",\"content\":\"Port of New York/New Jersey executives tell CNBC they have begun preparations for a potential complete work stoppage by the International Longshoreman\\'s Association, the largest union in North Americ… [+9080 chars]\"},{\"source\":{\"id\":\"bloomberg\",\"name\":\"Bloomberg\"},\"author\":\"Daniela Sirtori\",\"title\":\"Starbucks New CEO on Return to Office: ‘We’re All Adults Here’ - Bloomberg\",\"description\":\"New Starbucks Corp. Chief Executive Brian Niccol thinks his employees should be wherever they need to be to get their jobs done. More often than not, he said, that place is the office.\",\"url\":\"https://www.bloomberg.com/news/articles/2024-09-19/starbucks-new-ceo-on-return-to-office-we-re-all-adults-here\",\"urlToImage\":\"https://assets.bwbx.io/images/users/iqjWHBFdfxIU/iB_cK6YVBiVQ/v0/1200x800.jpg\",\"publishedAt\":\"2024-09-19T18:56:53Z\",\"content\":\"New Starbucks Corp. Chief Executive Brian Niccol thinks his employees should be wherever they need to be to get their jobs done. More often than not, he said, that place is the office.\\\\r\\\\nIn Niccols fi… [+297 chars]\"}]}'"
      ]
     },
     "execution_count": 376,
     "metadata": {},
     "output_type": "execute_result"
    }
   ],
   "source": [
    "response.text"
   ]
  },
  {
   "cell_type": "code",
   "execution_count": 378,
   "id": "160c00a7-aba0-45e9-8d91-364318d932ad",
   "metadata": {},
   "outputs": [
    {
     "data": {
      "text/plain": [
       "b'{\"status\":\"ok\",\"totalResults\":42,\"articles\":[{\"source\":{\"id\":null,\"name\":\"CNBC\"},\"author\":\"Anniek Bao\",\"title\":\"Bank of Japan keeps key interest rate steady as it treads cautiously on normalizing policy - CNBC\",\"description\":\"The decision came as the central bank seeks to wean its economy off the long-held ultra-easy monetary policy and curb the yen\\'s slide against the U.S. dollar.\",\"url\":\"https://www.cnbc.com/2024/09/20/bank-of-japan-keeps-benchmark-interest-rate-steady-as-it-treads-cautiously-on-normalizing-policy-.html\",\"urlToImage\":\"https://image.cnbcfm.com/api/v1/image/107193967-1676336822877-gettyimages-1240268939-AFP_32927KV.jpeg?v=1726787079&w=1920&h=1080\",\"publishedAt\":\"2024-09-20T03:07:00Z\",\"content\":\"The Bank of Japan kept its benchmark interest rate steady at \\\\\"around 0.25%\\\\\" the highest rate since 2008 at the conclusion of a two-day meeting Friday.\\xc2\\xa0\\\\r\\\\nWhile the decision is in line with Reuters pol\\xe2\\x80\\xa6 [+2816 chars]\"},{\"source\":{\"id\":null,\"name\":\"The Seattle Times\"},\"author\":\"Dominic Gates\",\"title\":\"Hit by strike, Boeing flies in out-of-state janitors, applies furloughs broadly - The Seattle Times\",\"description\":\"A few of the incoming workers, who have relocated here for the duration of the strike, said they had arrived from Alabama, Mississippi and Texas.\",\"url\":\"https://www.seattletimes.com/business/boeing-aerospace/hit-by-strike-boeing-flies-in-out-of-state-janitors-applies-furloughs-broadly/\",\"urlToImage\":\"https://images.seattletimes.com/wp-content/uploads/2024/09/09192024_boeing-everett_183114.jpg?d=1200x630\",\"publishedAt\":\"2024-09-20T02:32:06Z\",\"content\":\"With Boeing\\xe2\\x80\\x99s blue-collar workforce on strike, management has engaged an outside janitorial contractor that has flown more than 400 people from southern states to perform routine cleaning and mainten\\xe2\\x80\\xa6 [+6401 chars]\"},{\"source\":{\"id\":\"the-washington-post\",\"name\":\"The Washington Post\"},\"author\":\"Hannah Ziegler\",\"title\":\"Nike CEO John Donahoe to step down; will be replaced by Elliott Hill - The Washington Post\",\"description\":\"The shake-up comes amid slumping sales and aggressive competition from rivals.\",\"url\":\"https://www.washingtonpost.com/business/2024/09/19/nike-ceo-elliott-hill-john-donahoe/\",\"urlToImage\":\"https://www.washingtonpost.com/wp-apps/imrs.php?src=https://arc-anglerfish-washpost-prod-washpost.s3.amazonaws.com/public/VXN3XJ5MNKWV6SVFEFLRUCNAS4.JPG&w=1440\",\"publishedAt\":\"2024-09-20T02:26:07Z\",\"content\":\"Nike chief executive John Donahoe will retire next month, the company announced Thursday marking the latest shake-up for the sneaker giant during a period of sluggish sales.\\\\r\\\\nDonahoes last day with N\\xe2\\x80\\xa6 [+2047 chars]\"},{\"source\":{\"id\":null,\"name\":\"CNBC\"},\"author\":\"Anniek Bao\",\"title\":\"China unexpectedly leaves benchmark lending rates unchanged after Fed\\xe2\\x80\\x99s jumbo cut - CNBC\",\"description\":\"The People\\'s Bank of China (PBOC) said it would keep the one-year loan prime rate (LPR) at 3.35%, as well as the five-year LPR at 3.85%.\",\"url\":\"https://www.cnbc.com/2024/09/20/china-unexpectedly-leaves-benchmark-lending-rates-unchanged-after-feds-jumbo-cut.html\",\"urlToImage\":\"https://image.cnbcfm.com/api/v1/image/107387864-1710462735036-gettyimages-1352271307-syz05818-1.jpeg?v=1714398514&w=1920&h=1080\",\"publishedAt\":\"2024-09-20T01:22:00Z\",\"content\":\"China on Friday kept its main benchmark lending rates unchanged at the monthly fixing.\\\\r\\\\nMarket watchers polled by Reuters had expected a trim as the Federal Reserve\\'s 50 basis point rate cut had give\\xe2\\x80\\xa6 [+2236 chars]\"},{\"source\":{\"id\":\"cnn\",\"name\":\"CNN\"},\"author\":\"Krystal Hur\",\"title\":\"Dow, S&P 500 close at record highs after Federal Reserve\\xe2\\x80\\x99s supersized rate cut - CNN\",\"description\":\"Stocks jumped Thursday as investors cheered the Federal Reserve\\xe2\\x80\\x99s eye-popping half-point interest rate cut.\",\"url\":\"https://www.cnn.com/2024/09/19/investing/stocks-fed-rate-cut/index.html\",\"urlToImage\":\"https://media.cnn.com/api/v1/images/stellar/prod/gettyimages-2172012022-copy.jpg?c=16x9&q=w_800,c_fill\",\"publishedAt\":\"2024-09-20T01:08:17Z\",\"content\":\"Stocks jumped Thursday as investors cheered the Federal Reserves eye-popping half-point interest rate cut.\\\\r\\\\nThe Dow closed 522 points, or 1.3%, higher, reaching a new record after passing the 42,000 \\xe2\\x80\\xa6 [+2355 chars]\"},{\"source\":{\"id\":null,\"name\":\"CNBC\"},\"author\":\"Julie Coleman\",\"title\":\"Jim Cramer reviews 10 stocks that perform well just after the start of a cutting cycle - CNBC\",\"description\":\"CNBC\\'s Jim Cramer on Thursday reviewed stocks that have historically performed well just after the a cutting cycle starts and endorsed his favorites.\",\"url\":\"https://www.cnbc.com/2024/09/19/jim-cramer-reviews-10-stocks-that-perform-well-after-rate-cuts-start.html\",\"urlToImage\":\"https://image.cnbcfm.com/api/v1/image/104602212-IMG_3653-jim-cramer.jpg?v=1692226226&w=1920&h=1080\",\"publishedAt\":\"2024-09-19T22:47:06Z\",\"content\":\"CNBC\\'s Jim Cramer on Thursday reviewed stocks that have historically performed well just after the Federal Reserve embarks on a cutting cycle and chose his favorites. Using data compiled by CNBC Pro,\\xe2\\x80\\xa6 [+3348 chars]\"},{\"source\":{\"id\":null,\"name\":\"New York Post\"},\"author\":\"Ariel Zilber\",\"title\":\"Trump Media stock sinks as former president can finally sell his shares - New York Post \",\"description\":\"The six-month lockup period was put in place after Trump Media consummated its merger with a blank-check company.\",\"url\":\"https://nypost.com/2024/09/19/business/trump-media-stock-dips-just-before-lockup-period-expires/\",\"urlToImage\":\"https://nypost.com/wp-content/uploads/sites/2/2024/09/former-us-president-donald-trump-89999129.jpg?quality=75&strip=all&w=1024\",\"publishedAt\":\"2024-09-19T22:26:00Z\",\"content\":\"Shares of Trump Media plunged to a new low Thursday \\xe2\\x80\\x94 the day that former President Donald Trump and other major investors were finally allowed to sell their shares in the parent company of social me\\xe2\\x80\\xa6 [+1731 chars]\"},{\"source\":{\"id\":null,\"name\":\"Space.com\"},\"author\":\"Mike Wall\",\"title\":\"SpaceX blasts proposed FAA fines in complaint letter to Congress - Space.com\",\"description\":\"\\\\\"SpaceX forcefully rejects the FAA\\'s assertion that it violated any regulations.\\\\\"\",\"url\":\"https://www.space.com/spacex-letter-congress-contest-faa-fines\",\"urlToImage\":\"https://cdn.mos.cms.futurecdn.net/8FdKMmCstG8xM7hs7yAaLA-1200-80.jpg\",\"publishedAt\":\"2024-09-19T22:00:55Z\",\"content\":\"SpaceX has taken its dispute with the U.S. Federal Aviation Administration (FAA) to Capitol Hill.\\\\r\\\\nOn Tuesday (Sept. 17), the FAA announced that it plans to fine SpaceX $630,000 for allegedly skirtin\\xe2\\x80\\xa6 [+4957 chars]\"},{\"source\":{\"id\":\"the-wall-street-journal\",\"name\":\"The Wall Street Journal\"},\"author\":\"Connor Hart\",\"title\":\"FedEx Cuts Full-Year Outlook After Posting Lower Profit, Revenue - The Wall Street Journal\",\"description\":\"Weaker-than-expected demand, particularly in the U.S. domestic package market, hurts results\",\"url\":\"https://www.wsj.com/business/earnings/fedex-cuts-full-year-outlook-after-posting-lower-profit-revenue-8d4322ac\",\"urlToImage\":\"https://images.wsj.net/im-92882879/social\",\"publishedAt\":\"2024-09-19T21:46:00Z\",\"content\":null},{\"source\":{\"id\":null,\"name\":\"KTLA Los Angeles\"},\"author\":\"Iman Palm\",\"title\":\"California digital driver\\xe2\\x80\\x99s license and ID cards can now be added to Apple Wallet - KTLA Los Angeles\",\"description\":\"Apple Wallet support for California digital driver\\xe2\\x80\\x99s licenses and state ID cards is now available, the tech company announced Thursday. \\xe2\\x80\\x9cCalifornians now have the option of adding their driver\\xe2\\x80\\x99s license or state ID to their iPhone or Apple Watch in Apple Wall\\xe2\\x80\\xa6\",\"url\":\"https://ktla.com/news/california/california-digital-drivers-license-and-id-cards-can-now-be-added-to-apple-wallet/\",\"urlToImage\":\"https://ktla.com/wp-content/uploads/sites/4/2024/09/Apple-Wallet-drivers-licenses-California.jpg?w=1280\",\"publishedAt\":\"2024-09-19T21:44:42Z\",\"content\":\"Apple Wallet support for California digital drivers licenses and state ID cards is now available, the tech company announced Thursday.\\\\r\\\\nCalifornians now have the option of adding their drivers licens\\xe2\\x80\\xa6 [+1081 chars]\"},{\"source\":{\"id\":null,\"name\":\"CNBC\"},\"author\":\"Sarah Whitten\",\"title\":\"Disney to ditch Slack following July data breach - CNBC\",\"description\":\"The company\\'s Slack server was hacked in July, leading to more than a terabyte of company data being leaked to the public.\",\"url\":\"https://www.cnbc.com/2024/09/19/disney-to-ditch-slack-after-july-data-breach-.html\",\"urlToImage\":\"https://image.cnbcfm.com/api/v1/image/108016952-1722962214453-gettyimages-2155783215-mg_8935_wd19_05312024.jpeg?v=1726776515&w=1920&h=1080\",\"publishedAt\":\"2024-09-19T20:53:23Z\",\"content\":\"The Walt Disney Company will no longer use Slack for in-house company communication months after a hack that involved more than a terabyte of company data being leaked to the public.\\\\r\\\\nThe company had\\xe2\\x80\\xa6 [+1307 chars]\"},{\"source\":{\"id\":null,\"name\":\"Yahoo Entertainment\"},\"author\":\"WYATTE GRANTHAM-PHILIPS\",\"title\":\"23andMe directors resign as the CEO of the genetic-testing company seeks to take it private - Yahoo Finance\",\"description\":\"All of 23andMe\\'s independent directors resigned from its board this week, a rare move that marks the latest challenge for the genetic-testing company.  The...\",\"url\":\"https://finance.yahoo.com/news/23andme-directors-resign-ceo-genetic-205019604.html/\",\"urlToImage\":\"https://s.yimg.com/cv/apiv2/social/images/yahoo_default_logo.png\",\"publishedAt\":\"2024-09-19T20:50:19Z\",\"content\":\"NEW YORK (AP) All of 23andMe\\'s independent directors resigned from its board this week, a rare move that marks the latest challenge for the genetic-testing company.\\\\r\\\\nThe resignations follow drawn-out\\xe2\\x80\\xa6 [+2826 chars]\"},{\"source\":{\"id\":null,\"name\":\"Investor\\'s Business Daily\"},\"author\":\"Investor\\'s Business Daily\",\"title\":\"Apple Stock Rises On Reassuring iPhone 16 Sales Comments From T-Mobile - Investor\\'s Business Daily\",\"description\":null,\"url\":\"https://www.investors.com/news/technology/apple-stock-t-mobile-iphone-16-sales/\",\"urlToImage\":null,\"publishedAt\":\"2024-09-19T20:24:00Z\",\"content\":null},{\"source\":{\"id\":null,\"name\":\"[Removed]\"},\"author\":null,\"title\":\"[Removed]\",\"description\":\"[Removed]\",\"url\":\"https://removed.com\",\"urlToImage\":null,\"publishedAt\":\"2024-09-19T20:23:00Z\",\"content\":\"[Removed]\"},{\"source\":{\"id\":\"politico\",\"name\":\"Politico\"},\"author\":\"POLITICO\",\"title\":\"Trump seizes on Fed rate cut to open new line of attack on economy - POLITICO\",\"description\":null,\"url\":\"https://www.politico.com/news/2024/09/19/trump-attacks-fed-rate-cut-00180068\",\"urlToImage\":null,\"publishedAt\":\"2024-09-19T20:08:08Z\",\"content\":null},{\"source\":{\"id\":null,\"name\":\"Fox Business\"},\"author\":\"Aislinn Murphy\",\"title\":\"Uber to provide delivery for Olive Garden in new partnership - Fox Business\",\"description\":\"Darden Restaurants plans to start delivering Olive Garden food via Uber later this year, according to a Thursday announcement from the company.\",\"url\":\"https://www.foxbusiness.com/markets/uber-provide-delivery-olive-garden-new-partnership\",\"urlToImage\":\"https://a57.foxnews.com/static.foxbusiness.com/foxbusiness.com/content/uploads/2024/06/0/0/olive-garden-1.jpg?ve=1&tl=1\",\"publishedAt\":\"2024-09-19T19:53:00Z\",\"content\":\"Darden Restaurants will start delivering Olive Garden food via Uber later this year.\\\\r\\\\nThe corporate parent of the Italian chain and other restaurant brands said Thursday that it will do that as part \\xe2\\x80\\xa6 [+3604 chars]\"},{\"source\":{\"id\":null,\"name\":\"Yahoo Entertainment\"},\"author\":\"Claire Boston\",\"title\":\"Mortgage rates inch closer to 6% following Fed rate cut - Yahoo Finance\",\"description\":\"The average rate on a 30-year loan fell to 6.09% this week, according to Freddie Mac. Mortgage rates have been falling over the last few months in...\",\"url\":\"https://finance.yahoo.com/news/mortgage-rates-inch-closer-to-6-following-fed-rate-cut-160309788.html/\",\"urlToImage\":\"https://s.yimg.com/cv/apiv2/social/images/yahoo_default_logo.png\",\"publishedAt\":\"2024-09-19T19:52:16Z\",\"content\":\"Average 30-year fixed mortgage rates fell again this week to 6.09%, though the move wasnt directly tied to the Federal Reserves rate cut on Wednesday.\\\\r\\\\nThe average rate dropped 0.11 percentage point \\xe2\\x80\\xa6 [+2491 chars]\"},{\"source\":{\"id\":\"politico\",\"name\":\"Politico\"},\"author\":\"POLITICO\",\"title\":\"Biden touts economic gains, acknowledges a long way to go - POLITICO\",\"description\":null,\"url\":\"https://www.politico.com/news/2024/09/19/biden-economy-interest-rates-00180088\",\"urlToImage\":null,\"publishedAt\":\"2024-09-19T19:49:30Z\",\"content\":null},{\"source\":{\"id\":null,\"name\":\"CNBC\"},\"author\":\"Lori Ann LaRocco\",\"title\":\"Largest port on U.S. East Coast, New York/New Jersey, begins prepping for what could be first union strike since 1977 - CNBC\",\"description\":\"A deadline of Oct. 1 for a new deal between port workers and ownership is approaching, and after talks broke down during the summer, tensions are high.\",\"url\":\"https://www.cnbc.com/2024/09/19/largest-port-on-east-coast-begins-preparations-for-a-strike.html\",\"urlToImage\":\"https://image.cnbcfm.com/api/v1/image/107395504-1712064652342-gettyimages-2118348126-PORT_OPERATIONS_NEWARK.jpeg?v=1712064690&w=1920&h=1080\",\"publishedAt\":\"2024-09-19T18:59:43Z\",\"content\":\"Port of New York/New Jersey executives tell CNBC they have begun preparations for a potential complete work stoppage by the International Longshoreman\\'s Association, the largest union in North Americ\\xe2\\x80\\xa6 [+9080 chars]\"},{\"source\":{\"id\":\"bloomberg\",\"name\":\"Bloomberg\"},\"author\":\"Daniela Sirtori\",\"title\":\"Starbucks New CEO on Return to Office: \\xe2\\x80\\x98We\\xe2\\x80\\x99re All Adults Here\\xe2\\x80\\x99 - Bloomberg\",\"description\":\"New Starbucks Corp. Chief Executive Brian Niccol thinks his employees should be wherever they need to be to get their jobs done. More often than not, he said, that place is the office.\",\"url\":\"https://www.bloomberg.com/news/articles/2024-09-19/starbucks-new-ceo-on-return-to-office-we-re-all-adults-here\",\"urlToImage\":\"https://assets.bwbx.io/images/users/iqjWHBFdfxIU/iB_cK6YVBiVQ/v0/1200x800.jpg\",\"publishedAt\":\"2024-09-19T18:56:53Z\",\"content\":\"New Starbucks Corp. Chief Executive Brian Niccol thinks his employees should be wherever they need to be to get their jobs done. More often than not, he said, that place is the office.\\\\r\\\\nIn Niccols fi\\xe2\\x80\\xa6 [+297 chars]\"}]}'"
      ]
     },
     "execution_count": 378,
     "metadata": {},
     "output_type": "execute_result"
    }
   ],
   "source": [
    "response.content"
   ]
  },
  {
   "cell_type": "code",
   "execution_count": 382,
   "id": "6d1e801c-f919-4d01-b69c-0c1166c41df5",
   "metadata": {},
   "outputs": [
    {
     "data": {
      "text/plain": [
       "{'status': 'ok',\n",
       " 'totalResults': 42,\n",
       " 'articles': [{'source': {'id': None, 'name': 'CNBC'},\n",
       "   'author': 'Anniek Bao',\n",
       "   'title': 'Bank of Japan keeps key interest rate steady as it treads cautiously on normalizing policy - CNBC',\n",
       "   'description': \"The decision came as the central bank seeks to wean its economy off the long-held ultra-easy monetary policy and curb the yen's slide against the U.S. dollar.\",\n",
       "   'url': 'https://www.cnbc.com/2024/09/20/bank-of-japan-keeps-benchmark-interest-rate-steady-as-it-treads-cautiously-on-normalizing-policy-.html',\n",
       "   'urlToImage': 'https://image.cnbcfm.com/api/v1/image/107193967-1676336822877-gettyimages-1240268939-AFP_32927KV.jpeg?v=1726787079&w=1920&h=1080',\n",
       "   'publishedAt': '2024-09-20T03:07:00Z',\n",
       "   'content': 'The Bank of Japan kept its benchmark interest rate steady at \"around 0.25%\" the highest rate since 2008 at the conclusion of a two-day meeting Friday.\\xa0\\r\\nWhile the decision is in line with Reuters pol… [+2816 chars]'},\n",
       "  {'source': {'id': None, 'name': 'The Seattle Times'},\n",
       "   'author': 'Dominic Gates',\n",
       "   'title': 'Hit by strike, Boeing flies in out-of-state janitors, applies furloughs broadly - The Seattle Times',\n",
       "   'description': 'A few of the incoming workers, who have relocated here for the duration of the strike, said they had arrived from Alabama, Mississippi and Texas.',\n",
       "   'url': 'https://www.seattletimes.com/business/boeing-aerospace/hit-by-strike-boeing-flies-in-out-of-state-janitors-applies-furloughs-broadly/',\n",
       "   'urlToImage': 'https://images.seattletimes.com/wp-content/uploads/2024/09/09192024_boeing-everett_183114.jpg?d=1200x630',\n",
       "   'publishedAt': '2024-09-20T02:32:06Z',\n",
       "   'content': 'With Boeing’s blue-collar workforce on strike, management has engaged an outside janitorial contractor that has flown more than 400 people from southern states to perform routine cleaning and mainten… [+6401 chars]'},\n",
       "  {'source': {'id': 'the-washington-post', 'name': 'The Washington Post'},\n",
       "   'author': 'Hannah Ziegler',\n",
       "   'title': 'Nike CEO John Donahoe to step down; will be replaced by Elliott Hill - The Washington Post',\n",
       "   'description': 'The shake-up comes amid slumping sales and aggressive competition from rivals.',\n",
       "   'url': 'https://www.washingtonpost.com/business/2024/09/19/nike-ceo-elliott-hill-john-donahoe/',\n",
       "   'urlToImage': 'https://www.washingtonpost.com/wp-apps/imrs.php?src=https://arc-anglerfish-washpost-prod-washpost.s3.amazonaws.com/public/VXN3XJ5MNKWV6SVFEFLRUCNAS4.JPG&w=1440',\n",
       "   'publishedAt': '2024-09-20T02:26:07Z',\n",
       "   'content': 'Nike chief executive John Donahoe will retire next month, the company announced Thursday marking the latest shake-up for the sneaker giant during a period of sluggish sales.\\r\\nDonahoes last day with N… [+2047 chars]'},\n",
       "  {'source': {'id': None, 'name': 'CNBC'},\n",
       "   'author': 'Anniek Bao',\n",
       "   'title': 'China unexpectedly leaves benchmark lending rates unchanged after Fed’s jumbo cut - CNBC',\n",
       "   'description': \"The People's Bank of China (PBOC) said it would keep the one-year loan prime rate (LPR) at 3.35%, as well as the five-year LPR at 3.85%.\",\n",
       "   'url': 'https://www.cnbc.com/2024/09/20/china-unexpectedly-leaves-benchmark-lending-rates-unchanged-after-feds-jumbo-cut.html',\n",
       "   'urlToImage': 'https://image.cnbcfm.com/api/v1/image/107387864-1710462735036-gettyimages-1352271307-syz05818-1.jpeg?v=1714398514&w=1920&h=1080',\n",
       "   'publishedAt': '2024-09-20T01:22:00Z',\n",
       "   'content': \"China on Friday kept its main benchmark lending rates unchanged at the monthly fixing.\\r\\nMarket watchers polled by Reuters had expected a trim as the Federal Reserve's 50 basis point rate cut had give… [+2236 chars]\"},\n",
       "  {'source': {'id': 'cnn', 'name': 'CNN'},\n",
       "   'author': 'Krystal Hur',\n",
       "   'title': 'Dow, S&P 500 close at record highs after Federal Reserve’s supersized rate cut - CNN',\n",
       "   'description': 'Stocks jumped Thursday as investors cheered the Federal Reserve’s eye-popping half-point interest rate cut.',\n",
       "   'url': 'https://www.cnn.com/2024/09/19/investing/stocks-fed-rate-cut/index.html',\n",
       "   'urlToImage': 'https://media.cnn.com/api/v1/images/stellar/prod/gettyimages-2172012022-copy.jpg?c=16x9&q=w_800,c_fill',\n",
       "   'publishedAt': '2024-09-20T01:08:17Z',\n",
       "   'content': 'Stocks jumped Thursday as investors cheered the Federal Reserves eye-popping half-point interest rate cut.\\r\\nThe Dow closed 522 points, or 1.3%, higher, reaching a new record after passing the 42,000 … [+2355 chars]'},\n",
       "  {'source': {'id': None, 'name': 'CNBC'},\n",
       "   'author': 'Julie Coleman',\n",
       "   'title': 'Jim Cramer reviews 10 stocks that perform well just after the start of a cutting cycle - CNBC',\n",
       "   'description': \"CNBC's Jim Cramer on Thursday reviewed stocks that have historically performed well just after the a cutting cycle starts and endorsed his favorites.\",\n",
       "   'url': 'https://www.cnbc.com/2024/09/19/jim-cramer-reviews-10-stocks-that-perform-well-after-rate-cuts-start.html',\n",
       "   'urlToImage': 'https://image.cnbcfm.com/api/v1/image/104602212-IMG_3653-jim-cramer.jpg?v=1692226226&w=1920&h=1080',\n",
       "   'publishedAt': '2024-09-19T22:47:06Z',\n",
       "   'content': \"CNBC's Jim Cramer on Thursday reviewed stocks that have historically performed well just after the Federal Reserve embarks on a cutting cycle and chose his favorites. Using data compiled by CNBC Pro,… [+3348 chars]\"},\n",
       "  {'source': {'id': None, 'name': 'New York Post'},\n",
       "   'author': 'Ariel Zilber',\n",
       "   'title': 'Trump Media stock sinks as former president can finally sell his shares - New York Post ',\n",
       "   'description': 'The six-month lockup period was put in place after Trump Media consummated its merger with a blank-check company.',\n",
       "   'url': 'https://nypost.com/2024/09/19/business/trump-media-stock-dips-just-before-lockup-period-expires/',\n",
       "   'urlToImage': 'https://nypost.com/wp-content/uploads/sites/2/2024/09/former-us-president-donald-trump-89999129.jpg?quality=75&strip=all&w=1024',\n",
       "   'publishedAt': '2024-09-19T22:26:00Z',\n",
       "   'content': 'Shares of Trump Media plunged to a new low Thursday — the day that former President Donald Trump and other major investors were finally allowed to sell their shares in the parent company of social me… [+1731 chars]'},\n",
       "  {'source': {'id': None, 'name': 'Space.com'},\n",
       "   'author': 'Mike Wall',\n",
       "   'title': 'SpaceX blasts proposed FAA fines in complaint letter to Congress - Space.com',\n",
       "   'description': '\"SpaceX forcefully rejects the FAA\\'s assertion that it violated any regulations.\"',\n",
       "   'url': 'https://www.space.com/spacex-letter-congress-contest-faa-fines',\n",
       "   'urlToImage': 'https://cdn.mos.cms.futurecdn.net/8FdKMmCstG8xM7hs7yAaLA-1200-80.jpg',\n",
       "   'publishedAt': '2024-09-19T22:00:55Z',\n",
       "   'content': 'SpaceX has taken its dispute with the U.S. Federal Aviation Administration (FAA) to Capitol Hill.\\r\\nOn Tuesday (Sept. 17), the FAA announced that it plans to fine SpaceX $630,000 for allegedly skirtin… [+4957 chars]'},\n",
       "  {'source': {'id': 'the-wall-street-journal',\n",
       "    'name': 'The Wall Street Journal'},\n",
       "   'author': 'Connor Hart',\n",
       "   'title': 'FedEx Cuts Full-Year Outlook After Posting Lower Profit, Revenue - The Wall Street Journal',\n",
       "   'description': 'Weaker-than-expected demand, particularly in the U.S. domestic package market, hurts results',\n",
       "   'url': 'https://www.wsj.com/business/earnings/fedex-cuts-full-year-outlook-after-posting-lower-profit-revenue-8d4322ac',\n",
       "   'urlToImage': 'https://images.wsj.net/im-92882879/social',\n",
       "   'publishedAt': '2024-09-19T21:46:00Z',\n",
       "   'content': None},\n",
       "  {'source': {'id': None, 'name': 'KTLA Los Angeles'},\n",
       "   'author': 'Iman Palm',\n",
       "   'title': 'California digital driver’s license and ID cards can now be added to Apple Wallet - KTLA Los Angeles',\n",
       "   'description': 'Apple Wallet support for California digital driver’s licenses and state ID cards is now available, the tech company announced Thursday. “Californians now have the option of adding their driver’s license or state ID to their iPhone or Apple Watch in Apple Wall…',\n",
       "   'url': 'https://ktla.com/news/california/california-digital-drivers-license-and-id-cards-can-now-be-added-to-apple-wallet/',\n",
       "   'urlToImage': 'https://ktla.com/wp-content/uploads/sites/4/2024/09/Apple-Wallet-drivers-licenses-California.jpg?w=1280',\n",
       "   'publishedAt': '2024-09-19T21:44:42Z',\n",
       "   'content': 'Apple Wallet support for California digital drivers licenses and state ID cards is now available, the tech company announced Thursday.\\r\\nCalifornians now have the option of adding their drivers licens… [+1081 chars]'},\n",
       "  {'source': {'id': None, 'name': 'CNBC'},\n",
       "   'author': 'Sarah Whitten',\n",
       "   'title': 'Disney to ditch Slack following July data breach - CNBC',\n",
       "   'description': \"The company's Slack server was hacked in July, leading to more than a terabyte of company data being leaked to the public.\",\n",
       "   'url': 'https://www.cnbc.com/2024/09/19/disney-to-ditch-slack-after-july-data-breach-.html',\n",
       "   'urlToImage': 'https://image.cnbcfm.com/api/v1/image/108016952-1722962214453-gettyimages-2155783215-mg_8935_wd19_05312024.jpeg?v=1726776515&w=1920&h=1080',\n",
       "   'publishedAt': '2024-09-19T20:53:23Z',\n",
       "   'content': 'The Walt Disney Company will no longer use Slack for in-house company communication months after a hack that involved more than a terabyte of company data being leaked to the public.\\r\\nThe company had… [+1307 chars]'},\n",
       "  {'source': {'id': None, 'name': 'Yahoo Entertainment'},\n",
       "   'author': 'WYATTE GRANTHAM-PHILIPS',\n",
       "   'title': '23andMe directors resign as the CEO of the genetic-testing company seeks to take it private - Yahoo Finance',\n",
       "   'description': \"All of 23andMe's independent directors resigned from its board this week, a rare move that marks the latest challenge for the genetic-testing company.  The...\",\n",
       "   'url': 'https://finance.yahoo.com/news/23andme-directors-resign-ceo-genetic-205019604.html/',\n",
       "   'urlToImage': 'https://s.yimg.com/cv/apiv2/social/images/yahoo_default_logo.png',\n",
       "   'publishedAt': '2024-09-19T20:50:19Z',\n",
       "   'content': \"NEW YORK (AP) All of 23andMe's independent directors resigned from its board this week, a rare move that marks the latest challenge for the genetic-testing company.\\r\\nThe resignations follow drawn-out… [+2826 chars]\"},\n",
       "  {'source': {'id': None, 'name': \"Investor's Business Daily\"},\n",
       "   'author': \"Investor's Business Daily\",\n",
       "   'title': \"Apple Stock Rises On Reassuring iPhone 16 Sales Comments From T-Mobile - Investor's Business Daily\",\n",
       "   'description': None,\n",
       "   'url': 'https://www.investors.com/news/technology/apple-stock-t-mobile-iphone-16-sales/',\n",
       "   'urlToImage': None,\n",
       "   'publishedAt': '2024-09-19T20:24:00Z',\n",
       "   'content': None},\n",
       "  {'source': {'id': None, 'name': '[Removed]'},\n",
       "   'author': None,\n",
       "   'title': '[Removed]',\n",
       "   'description': '[Removed]',\n",
       "   'url': 'https://removed.com',\n",
       "   'urlToImage': None,\n",
       "   'publishedAt': '2024-09-19T20:23:00Z',\n",
       "   'content': '[Removed]'},\n",
       "  {'source': {'id': 'politico', 'name': 'Politico'},\n",
       "   'author': 'POLITICO',\n",
       "   'title': 'Trump seizes on Fed rate cut to open new line of attack on economy - POLITICO',\n",
       "   'description': None,\n",
       "   'url': 'https://www.politico.com/news/2024/09/19/trump-attacks-fed-rate-cut-00180068',\n",
       "   'urlToImage': None,\n",
       "   'publishedAt': '2024-09-19T20:08:08Z',\n",
       "   'content': None},\n",
       "  {'source': {'id': None, 'name': 'Fox Business'},\n",
       "   'author': 'Aislinn Murphy',\n",
       "   'title': 'Uber to provide delivery for Olive Garden in new partnership - Fox Business',\n",
       "   'description': 'Darden Restaurants plans to start delivering Olive Garden food via Uber later this year, according to a Thursday announcement from the company.',\n",
       "   'url': 'https://www.foxbusiness.com/markets/uber-provide-delivery-olive-garden-new-partnership',\n",
       "   'urlToImage': 'https://a57.foxnews.com/static.foxbusiness.com/foxbusiness.com/content/uploads/2024/06/0/0/olive-garden-1.jpg?ve=1&tl=1',\n",
       "   'publishedAt': '2024-09-19T19:53:00Z',\n",
       "   'content': 'Darden Restaurants will start delivering Olive Garden food via Uber later this year.\\r\\nThe corporate parent of the Italian chain and other restaurant brands said Thursday that it will do that as part … [+3604 chars]'},\n",
       "  {'source': {'id': None, 'name': 'Yahoo Entertainment'},\n",
       "   'author': 'Claire Boston',\n",
       "   'title': 'Mortgage rates inch closer to 6% following Fed rate cut - Yahoo Finance',\n",
       "   'description': 'The average rate on a 30-year loan fell to 6.09% this week, according to Freddie Mac. Mortgage rates have been falling over the last few months in...',\n",
       "   'url': 'https://finance.yahoo.com/news/mortgage-rates-inch-closer-to-6-following-fed-rate-cut-160309788.html/',\n",
       "   'urlToImage': 'https://s.yimg.com/cv/apiv2/social/images/yahoo_default_logo.png',\n",
       "   'publishedAt': '2024-09-19T19:52:16Z',\n",
       "   'content': 'Average 30-year fixed mortgage rates fell again this week to 6.09%, though the move wasnt directly tied to the Federal Reserves rate cut on Wednesday.\\r\\nThe average rate dropped 0.11 percentage point … [+2491 chars]'},\n",
       "  {'source': {'id': 'politico', 'name': 'Politico'},\n",
       "   'author': 'POLITICO',\n",
       "   'title': 'Biden touts economic gains, acknowledges a long way to go - POLITICO',\n",
       "   'description': None,\n",
       "   'url': 'https://www.politico.com/news/2024/09/19/biden-economy-interest-rates-00180088',\n",
       "   'urlToImage': None,\n",
       "   'publishedAt': '2024-09-19T19:49:30Z',\n",
       "   'content': None},\n",
       "  {'source': {'id': None, 'name': 'CNBC'},\n",
       "   'author': 'Lori Ann LaRocco',\n",
       "   'title': 'Largest port on U.S. East Coast, New York/New Jersey, begins prepping for what could be first union strike since 1977 - CNBC',\n",
       "   'description': 'A deadline of Oct. 1 for a new deal between port workers and ownership is approaching, and after talks broke down during the summer, tensions are high.',\n",
       "   'url': 'https://www.cnbc.com/2024/09/19/largest-port-on-east-coast-begins-preparations-for-a-strike.html',\n",
       "   'urlToImage': 'https://image.cnbcfm.com/api/v1/image/107395504-1712064652342-gettyimages-2118348126-PORT_OPERATIONS_NEWARK.jpeg?v=1712064690&w=1920&h=1080',\n",
       "   'publishedAt': '2024-09-19T18:59:43Z',\n",
       "   'content': \"Port of New York/New Jersey executives tell CNBC they have begun preparations for a potential complete work stoppage by the International Longshoreman's Association, the largest union in North Americ… [+9080 chars]\"},\n",
       "  {'source': {'id': 'bloomberg', 'name': 'Bloomberg'},\n",
       "   'author': 'Daniela Sirtori',\n",
       "   'title': 'Starbucks New CEO on Return to Office: ‘We’re All Adults Here’ - Bloomberg',\n",
       "   'description': 'New Starbucks Corp. Chief Executive Brian Niccol thinks his employees should be wherever they need to be to get their jobs done. More often than not, he said, that place is the office.',\n",
       "   'url': 'https://www.bloomberg.com/news/articles/2024-09-19/starbucks-new-ceo-on-return-to-office-we-re-all-adults-here',\n",
       "   'urlToImage': 'https://assets.bwbx.io/images/users/iqjWHBFdfxIU/iB_cK6YVBiVQ/v0/1200x800.jpg',\n",
       "   'publishedAt': '2024-09-19T18:56:53Z',\n",
       "   'content': 'New Starbucks Corp. Chief Executive Brian Niccol thinks his employees should be wherever they need to be to get their jobs done. More often than not, he said, that place is the office.\\r\\nIn Niccols fi… [+297 chars]'}]}"
      ]
     },
     "execution_count": 382,
     "metadata": {},
     "output_type": "execute_result"
    }
   ],
   "source": [
    "response.json()"
   ]
  },
  {
   "cell_type": "code",
   "execution_count": 384,
   "id": "f3c1adbf-3cf2-4825-83ce-c270b9c3539d",
   "metadata": {},
   "outputs": [
    {
     "name": "stdout",
     "output_type": "stream",
     "text": [
      "<class 'str'>\n",
      "<class 'bytes'>\n",
      "<class 'dict'>\n"
     ]
    }
   ],
   "source": [
    "print(type(response.text))\n",
    "print(type(response.content))\n",
    "print(type(response.json()))"
   ]
  },
  {
   "cell_type": "code",
   "execution_count": 388,
   "id": "3e270c1a-867f-42ad-be3e-535abe45116a",
   "metadata": {},
   "outputs": [
    {
     "name": "stdout",
     "output_type": "stream",
     "text": [
      "Bank of Japan keeps key interest rate steady as it treads cautiously on normalizing policy - CNBC\n",
      "The decision came as the central bank seeks to wean its economy off the long-held ultra-easy monetary policy and curb the yen's slide against the U.S. dollar.\n",
      "https://www.cnbc.com/2024/09/20/bank-of-japan-keeps-benchmark-interest-rate-steady-as-it-treads-cautiously-on-normalizing-policy-.html\n",
      "\n",
      "Hit by strike, Boeing flies in out-of-state janitors, applies furloughs broadly - The Seattle Times\n",
      "A few of the incoming workers, who have relocated here for the duration of the strike, said they had arrived from Alabama, Mississippi and Texas.\n",
      "https://www.seattletimes.com/business/boeing-aerospace/hit-by-strike-boeing-flies-in-out-of-state-janitors-applies-furloughs-broadly/\n",
      "\n",
      "Nike CEO John Donahoe to step down; will be replaced by Elliott Hill - The Washington Post\n",
      "The shake-up comes amid slumping sales and aggressive competition from rivals.\n",
      "https://www.washingtonpost.com/business/2024/09/19/nike-ceo-elliott-hill-john-donahoe/\n",
      "\n",
      "China unexpectedly leaves benchmark lending rates unchanged after Fed’s jumbo cut - CNBC\n",
      "The People's Bank of China (PBOC) said it would keep the one-year loan prime rate (LPR) at 3.35%, as well as the five-year LPR at 3.85%.\n",
      "https://www.cnbc.com/2024/09/20/china-unexpectedly-leaves-benchmark-lending-rates-unchanged-after-feds-jumbo-cut.html\n",
      "\n",
      "Dow, S&P 500 close at record highs after Federal Reserve’s supersized rate cut - CNN\n",
      "Stocks jumped Thursday as investors cheered the Federal Reserve’s eye-popping half-point interest rate cut.\n",
      "https://www.cnn.com/2024/09/19/investing/stocks-fed-rate-cut/index.html\n",
      "\n",
      "\n"
     ]
    }
   ],
   "source": [
    "body=\"\"\n",
    "for article in response.json()['articles'][0:5]:\n",
    "    if article['title'] and article['description'] is not None:\n",
    "        body=body+article['title']+'\\n'+article['description']+'\\n'+article['url']+2*'\\n'\n",
    "print(body)"
   ]
  },
  {
   "cell_type": "raw",
   "id": "079b45ad-8f5b-4f68-9503-4130b72255f1",
   "metadata": {},
   "source": [
    "\"\"\"\n",
    "\n",
    "POST() METHOD\n",
    "The POST request method requests that a web server accepts the data enclosed in the body of the request message, most likely for storing it.\n",
    "It is often used when uploading a file or when submitting a completed web form.\n",
    "Use POST for create operation.\n",
    "\n",
    "requests.post(url, data={key: value}, json={key: value}, args)\n",
    "\n",
    "Advantages:\n",
    "*  more secure than GET because user-entered information is never visible in the URL query string or in the server logs.\n",
    "*  There is a much larger limit on the amount of data that can be passed and one can send text data as well as binary data (uploading a file) using POST. \n",
    "\n",
    "Disadvantages:\n",
    "*  Since the data sent by the POST method is not visible in the URL, so it is not possible to bookmark the page with specific query.\n",
    "*  POST requests are never cached\n",
    "*  POST requests do not remain in the browser history.\n",
    "\n",
    "\"\"\""
   ]
  },
  {
   "cell_type": "code",
   "execution_count": 480,
   "id": "b28501ba-dab6-4b2c-b144-847d0bbd3b1b",
   "metadata": {},
   "outputs": [
    {
     "name": "stdout",
     "output_type": "stream",
     "text": [
      "<Response [200]>\n"
     ]
    },
    {
     "data": {
      "text/plain": [
       "'{\\n  \"args\": {}, \\n  \"data\": \"\", \\n  \"files\": {}, \\n  \"form\": {\\n    \"key\": \"value\"\\n  }, \\n  \"headers\": {\\n    \"Accept\": \"*/*\", \\n    \"Accept-Encoding\": \"gzip, deflate, br, zstd\", \\n    \"Content-Length\": \"9\", \\n    \"Content-Type\": \"application/x-www-form-urlencoded\", \\n    \"Host\": \"httpbin.org\", \\n    \"User-Agent\": \"python-requests/2.32.2\", \\n    \"X-Amzn-Trace-Id\": \"Root=1-66ee6229-2389bf9404b922310cfc1fde\"\\n  }, \\n  \"json\": null, \\n  \"origin\": \"210.50.181.201\", \\n  \"url\": \"https://httpbin.org/post\"\\n}\\n'"
      ]
     },
     "execution_count": 480,
     "metadata": {},
     "output_type": "execute_result"
    }
   ],
   "source": [
    "import requests\n",
    "\n",
    "# Making a POST request\n",
    "r = requests.post('https://httpbin.org/post', data ={'key':'value'})\n",
    "\n",
    "# check status code for response received\n",
    "# success code - 200\n",
    "print(r)\n",
    "\n",
    "# print content of request\n",
    "r.text"
   ]
  },
  {
   "cell_type": "raw",
   "id": "904cd3aa-48f1-4991-ba48-a60c5c1fac87",
   "metadata": {},
   "source": [
    "\"\"\"\n",
    "\n",
    "DELETE() METHOD\n",
    "The DELETE method deletes the specified resource. As with a PUT request, you need to specify a particular resource for this operation.\n",
    "requests.delete(url, params={key: value}, args)\n",
    "\n",
    "A successful response SHOULD be \n",
    "200 (OK) if the response includes an entity describing the status, \n",
    "202 (Accepted) if the action has not yet been enacted, or \n",
    "204 (No Content) if the action has been enacted but the response does not include an entity\n",
    "\n",
    "The DELETE method requests that the origin server delete the resource identified by the Request-URI. This method MAY be overridden by human intervention (or other means) on the origin server. The client cannot be guaranteed that the operation has been carried out, even if the status code returned from the origin server indicates that the action has been completed successfully. However, the server SHOULD NOT indicate success unless, at the time the response is given, it intends to delete the resource or move it to an inaccessible location.\n",
    "\n",
    "\"\"\""
   ]
  },
  {
   "cell_type": "code",
   "execution_count": 482,
   "id": "7e88077b-1ebd-48c9-9a53-e82df62cb281",
   "metadata": {},
   "outputs": [
    {
     "name": "stdout",
     "output_type": "stream",
     "text": [
      "<Response [200]>\n"
     ]
    },
    {
     "data": {
      "text/plain": [
       "'{\\n  \"args\": {}, \\n  \"data\": \"\", \\n  \"files\": {}, \\n  \"form\": {\\n    \"key\": \"value\"\\n  }, \\n  \"headers\": {\\n    \"Accept\": \"*/*\", \\n    \"Accept-Encoding\": \"gzip, deflate, br, zstd\", \\n    \"Content-Length\": \"9\", \\n    \"Content-Type\": \"application/x-www-form-urlencoded\", \\n    \"Host\": \"httpbin.org\", \\n    \"User-Agent\": \"python-requests/2.32.2\", \\n    \"X-Amzn-Trace-Id\": \"Root=1-66ee62da-39dfc6e64ee0c1750441af81\"\\n  }, \\n  \"json\": null, \\n  \"origin\": \"210.50.181.201\", \\n  \"url\": \"https://httpbin.org/delete\"\\n}\\n'"
      ]
     },
     "execution_count": 482,
     "metadata": {},
     "output_type": "execute_result"
    }
   ],
   "source": [
    "import requests\n",
    "\n",
    "# Making a DELETE request\n",
    "r = requests.delete('https://httpbin.org/delete', data ={'key':'value'})\n",
    "\n",
    "# check status code for response received\n",
    "# success code - 200\n",
    "print(r)\n",
    "\n",
    "# print content of request\n",
    "r.text"
   ]
  },
  {
   "cell_type": "raw",
   "id": "bcea4f9c-1977-4dee-9133-a746e5185b48",
   "metadata": {},
   "source": [
    "\"\"\"\n",
    "\n",
    "PUT() METHOD\n",
    "The PUT method requests that the enclosed entity be stored under the supplied URI. \n",
    "If the URI refers to an already existing resource, it is modified and \n",
    "if the URI does not point to an existing resource, then the server can create the resource with that URI\n",
    "Use PUT for update operation.\n",
    "\n",
    "requests.put(url, params={key: value}, args)\n",
    "\n",
    "\"\"\""
   ]
  },
  {
   "cell_type": "code",
   "execution_count": 484,
   "id": "229b9bb7-5d59-4812-b33e-401e15ead76c",
   "metadata": {},
   "outputs": [
    {
     "name": "stdout",
     "output_type": "stream",
     "text": [
      "<Response [200]>\n"
     ]
    },
    {
     "data": {
      "text/plain": [
       "'{\\n  \"args\": {}, \\n  \"data\": \"\", \\n  \"files\": {}, \\n  \"form\": {\\n    \"key\": \"value\"\\n  }, \\n  \"headers\": {\\n    \"Accept\": \"*/*\", \\n    \"Accept-Encoding\": \"gzip, deflate, br, zstd\", \\n    \"Content-Length\": \"9\", \\n    \"Content-Type\": \"application/x-www-form-urlencoded\", \\n    \"Host\": \"httpbin.org\", \\n    \"User-Agent\": \"python-requests/2.32.2\", \\n    \"X-Amzn-Trace-Id\": \"Root=1-66ee638a-3b30dc2d137007010ad72363\"\\n  }, \\n  \"json\": null, \\n  \"origin\": \"210.50.181.201\", \\n  \"url\": \"https://httpbin.org/put\"\\n}\\n'"
      ]
     },
     "execution_count": 484,
     "metadata": {},
     "output_type": "execute_result"
    }
   ],
   "source": [
    "import requests\n",
    "\n",
    "# Making a PUT request\n",
    "r = requests.put('https://httpbin.org/put', data ={'key':'value'})\n",
    "\n",
    "# check status code for response received\n",
    "# success code - 200\n",
    "print(r)\n",
    "\n",
    "# print content of request\n",
    "r.text"
   ]
  },
  {
   "cell_type": "raw",
   "id": "67ddb6b3-1477-4bf4-b779-be15140bdc41",
   "metadata": {},
   "source": [
    "\"\"\"\n",
    "\n",
    "HEAD() METHOD\n",
    "HEAD method asks for a response identical to that of a GET request, but without the response body.\n",
    "This is useful for retrieving meta-information written in response headers, without having to transport the entire content.\n",
    "\n",
    "requests.head(url, params={key: value}, args)\n",
    "\n",
    "\"\"\""
   ]
  },
  {
   "cell_type": "code",
   "execution_count": 492,
   "id": "1564a39a-97ba-49e1-913e-6e46c684ac19",
   "metadata": {},
   "outputs": [
    {
     "name": "stdout",
     "output_type": "stream",
     "text": [
      "<Response [200]>\n"
     ]
    },
    {
     "data": {
      "text/plain": [
       "{'Date': 'Sat, 21 Sep 2024 06:34:06 GMT', 'Content-Type': 'text/html; charset=utf-8', 'Content-Length': '9593', 'Connection': 'close', 'Server': 'gunicorn/19.9.0', 'Access-Control-Allow-Origin': '*', 'Access-Control-Allow-Credentials': 'true'}"
      ]
     },
     "execution_count": 492,
     "metadata": {},
     "output_type": "execute_result"
    }
   ],
   "source": [
    "import requests\n",
    "\n",
    "# Making a HEAD request\n",
    "r = requests.head('https://httpbin.org/', data ={'key':'value'})\n",
    "\n",
    "# check status code for response received\n",
    "# success code - 200\n",
    "print(r)\n",
    "\n",
    "# print content of request\n",
    "r.headers"
   ]
  },
  {
   "cell_type": "raw",
   "id": "b448cab4-e96a-4142-a855-c5cb7f972618",
   "metadata": {},
   "source": [
    "\"\"\"\n",
    "\n",
    "PATCH() METHOD\n",
    "The PATCH request only needs to contain the changes to the resource, not the complete resource\n",
    "\n",
    "requests.patch(url, params={key: value}, args)\n",
    "\n",
    "PUT vs PATCH\n",
    "The main difference between the PUT and PATCH method is that the PUT method uses the request URI to supply a modified version of the requested \n",
    "resource which replaces the original version of the resource whereas the PATCH method supplies a set of instructions to modify the resource. \n",
    "If the PATCH document is larger than the size of the new version of the resource sent by the PUT method then the PUT method is preferred.\n",
    "\n",
    "\"\"\""
   ]
  },
  {
   "cell_type": "code",
   "execution_count": 494,
   "id": "fd93a9fd-d45e-4653-9a9f-0e2900f442e2",
   "metadata": {},
   "outputs": [
    {
     "name": "stdout",
     "output_type": "stream",
     "text": [
      "<Response [200]>\n"
     ]
    },
    {
     "data": {
      "text/plain": [
       "b'{\\n  \"args\": {}, \\n  \"data\": \"\", \\n  \"files\": {}, \\n  \"form\": {\\n    \"key\": \"value\"\\n  }, \\n  \"headers\": {\\n    \"Accept\": \"*/*\", \\n    \"Accept-Encoding\": \"gzip, deflate, br, zstd\", \\n    \"Content-Length\": \"9\", \\n    \"Content-Type\": \"application/x-www-form-urlencoded\", \\n    \"Host\": \"httpbin.org\", \\n    \"User-Agent\": \"python-requests/2.32.2\", \\n    \"X-Amzn-Trace-Id\": \"Root=1-66ee693b-63416e6c183dd710498ddf5a\"\\n  }, \\n  \"json\": null, \\n  \"origin\": \"210.50.181.201\", \\n  \"url\": \"https://httpbin.org/patch\"\\n}\\n'"
      ]
     },
     "execution_count": 494,
     "metadata": {},
     "output_type": "execute_result"
    }
   ],
   "source": [
    "import requests\n",
    "\n",
    "# Making a PATCH request\n",
    "r = requests.patch('https://httpbin.org/patch', data ={'key':'value'})\n",
    "\n",
    "# check status code for response received\n",
    "# success code - 200\n",
    "print(r)\n",
    "\n",
    "# print content of request\n",
    "r.content"
   ]
  },
  {
   "cell_type": "code",
   "execution_count": null,
   "id": "db9b2eb1-7393-47d3-9389-66b320155cb8",
   "metadata": {},
   "outputs": [],
   "source": []
  }
 ],
 "metadata": {
  "kernelspec": {
   "display_name": "Python 3 (ipykernel)",
   "language": "python",
   "name": "python3"
  },
  "language_info": {
   "codemirror_mode": {
    "name": "ipython",
    "version": 3
   },
   "file_extension": ".py",
   "mimetype": "text/x-python",
   "name": "python",
   "nbconvert_exporter": "python",
   "pygments_lexer": "ipython3",
   "version": "3.12.4"
  }
 },
 "nbformat": 4,
 "nbformat_minor": 5
}
