{
 "cells": [
  {
   "cell_type": "code",
   "execution_count": 22,
   "id": "94363b81-8be5-4017-9756-ffb312a65c32",
   "metadata": {},
   "outputs": [
    {
     "name": "stdout",
     "output_type": "stream",
     "text": [
      "Using Positive lookahead: geeks\n",
      "Using Negative Lookahead: geeks\n",
      "Without using lookahead: geeksf\n",
      "Using Positive lookbehind: forgeeks\n",
      "Using Negative Lookbehind: 123\n",
      "Without using lookbehind: s1\n"
     ]
    }
   ],
   "source": [
    "#### Lookahead and lookbehind portion is not part of the search string. Hence, it is termed as zero width assertion.\n",
    "#### you don’t want the output to return lookahead/ lookbehind portion present in search string but use it to match pattern\n",
    "#### Lookahead = whether the pattern is ahead i.e to the right of the parser’s current position\n",
    "#### Lookbehind =  whether the pattern is behind i.e to the left of the parser’s current position; should have fixed width pattern\n",
    "\n",
    "#### Positive lookahead: (?=<lookahead_regex>)\n",
    "#### Negative lookahead: (?!<lookahead_regex>)\n",
    "#### Positive lookbehind: (?<=<lookbehind_regex>)\n",
    "#### Negative lookbehind: (?<!<lookbehind_regex>)\n",
    "\n",
    "# import required module \n",
    "import re \n",
    "\n",
    "# using lookahead \n",
    "example1 = re.search(r'geeks(?=[a-z])',\"geeksforgeeks\") \n",
    "### specifies that what follows geeks must be a lowercase alphabetic character. In this case, it’s the character f\n",
    "print('Using Positive lookahead:', example1.group()) \n",
    "\n",
    "# negative lookahead \n",
    "example2 = re.search('geeks(?![a-z])','geeks123') \n",
    "###  the output is geeks because search string geeks here is not followed by lowercase letters.\n",
    "print('Using Negative Lookahead:', example2.group()) \n",
    "\n",
    "# without using lookahead \n",
    "example3 = re.search(r'geeks([a-z])',\"geeksforgeeks\")\n",
    "print('Without using lookahead:', example3.group()) \n",
    "\n",
    "# using Positive lookbehind\n",
    "example4 = re.search(r'(?<=geeks)\\w+','geeksforgeeks') \n",
    "### specifies that what precedes before any word character(‘\\w’) must be ‘geeks’ string. Output is the character ‘f’ before which ‘geeks’ string occurs\n",
    "print(\"Using Positive lookbehind:\",example4.group())\n",
    "\n",
    "# Using Negative Lookbehind \n",
    "example5 = re.search('(?<![0-9])123','geeks123') \n",
    "### Output is None because 123 is preceded by a character i.e 's' \n",
    "print(\"Using Negative Lookbehind:\",example5.group()) \n",
    "\n",
    "# Without using lookbehind \n",
    "example6 = re.search(r'([a-z])\\d','geeks12') \n",
    "print(\"Without using lookbehind:\",example6.group())"
   ]
  },
  {
   "cell_type": "code",
   "execution_count": null,
   "id": "29329790-3bfa-4172-9dd7-a45cf508d04c",
   "metadata": {},
   "outputs": [],
   "source": []
  }
 ],
 "metadata": {
  "kernelspec": {
   "display_name": "Python 3 (ipykernel)",
   "language": "python",
   "name": "python3"
  },
  "language_info": {
   "codemirror_mode": {
    "name": "ipython",
    "version": 3
   },
   "file_extension": ".py",
   "mimetype": "text/x-python",
   "name": "python",
   "nbconvert_exporter": "python",
   "pygments_lexer": "ipython3",
   "version": "3.12.4"
  }
 },
 "nbformat": 4,
 "nbformat_minor": 5
}
