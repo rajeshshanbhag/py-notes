{
 "cells": [
  {
   "cell_type": "code",
   "execution_count": 12,
   "metadata": {},
   "outputs": [
    {
     "data": {
      "text/plain": [
       "True"
      ]
     },
     "execution_count": 12,
     "metadata": {},
     "output_type": "execute_result"
    }
   ],
   "source": [
    "##1.Write a Python program to check that a string contains only a certain set of characters (in this case a-z, A-Z and 0-9)\n",
    "\n",
    "import re\n",
    "\n",
    "def myfunc(string):\n",
    "    pattern=re.compile(r'[a-z0-9]',re.I)\n",
    "    array=pattern.findall(string)\n",
    "    return bool(array)\n",
    "\n",
    "myfunc('ABCDEFabcdef12345@#0') \n",
    "#myfunc(\"*&%@#!}{\")"
   ]
  },
  {
   "cell_type": "code",
   "execution_count": 14,
   "metadata": {},
   "outputs": [
    {
     "name": "stdout",
     "output_type": "stream",
     "text": [
      "True\n",
      "True\n",
      "True\n",
      "False\n"
     ]
    }
   ],
   "source": [
    "##2.Write a Python program that matches a string that has an a followed by zero or more b's\n",
    "\n",
    "import re\n",
    "\n",
    "def myfunc(string):\n",
    "    pattern=re.compile(r'ab*',re.I)\n",
    "    array=pattern.findall(string)\n",
    "    return bool(array)\n",
    "\n",
    "print(myfunc(\"ac\"))\n",
    "print(myfunc(\"abc\"))\n",
    "print(myfunc(\"abbc\"))\n",
    "print(myfunc(\"nbbc\"))"
   ]
  },
  {
   "cell_type": "code",
   "execution_count": 16,
   "metadata": {},
   "outputs": [
    {
     "name": "stdout",
     "output_type": "stream",
     "text": [
      "False\n",
      "True\n",
      "True\n",
      "False\n"
     ]
    }
   ],
   "source": [
    "##3.Write a Python program that matches a string that has an a followed by one or more b's\n",
    "\n",
    "import re\n",
    "\n",
    "def myfunc(string):\n",
    "    pattern=re.compile(r'ab+',re.I)\n",
    "    array=pattern.findall(string)\n",
    "    return bool(array)\n",
    "\n",
    "print(myfunc(\"ac\"))\n",
    "print(myfunc(\"abc\"))\n",
    "print(myfunc(\"abbc\"))\n",
    "print(myfunc(\"nbbc\"))"
   ]
  },
  {
   "cell_type": "code",
   "execution_count": 18,
   "metadata": {},
   "outputs": [
    {
     "name": "stdout",
     "output_type": "stream",
     "text": [
      "True\n",
      "True\n",
      "True\n",
      "False\n"
     ]
    }
   ],
   "source": [
    "##4.Write a Python program that matches a string that has an a followed by zero or one 'b'\n",
    "\n",
    "import re\n",
    "\n",
    "def myfunc(string):\n",
    "    pattern=re.compile(r'ab?',re.I)\n",
    "    array=pattern.findall(string)\n",
    "    return bool(array)\n",
    "\n",
    "print(myfunc(\"ac\"))\n",
    "print(myfunc(\"abc\"))\n",
    "print(myfunc(\"abbc\"))\n",
    "print(myfunc(\"nbbc\"))"
   ]
  },
  {
   "cell_type": "code",
   "execution_count": 20,
   "metadata": {},
   "outputs": [
    {
     "name": "stdout",
     "output_type": "stream",
     "text": [
      "True\n",
      "True\n",
      "False\n",
      "False\n"
     ]
    }
   ],
   "source": [
    "##5.Write a Python program that matches a string that has an a followed by three 'b'.\n",
    "\n",
    "import re\n",
    "\n",
    "def myfunc(string):\n",
    "    pattern=re.compile(r'ab{3}',re.I)\n",
    "    array=pattern.findall(string)\n",
    "    return bool(array)\n",
    "\n",
    "print(myfunc(\"abbb\"))\n",
    "print(myfunc(\"aabbbbbbc\"))\n",
    "print(myfunc(\"abbc\"))\n",
    "print(myfunc(\"nbbc\"))"
   ]
  },
  {
   "cell_type": "code",
   "execution_count": 22,
   "metadata": {},
   "outputs": [
    {
     "name": "stdout",
     "output_type": "stream",
     "text": [
      "True\n",
      "True\n",
      "True\n",
      "False\n",
      "False\n"
     ]
    }
   ],
   "source": [
    "##6.Write a Python program that matches a string that has an a followed by two to three 'b'.\n",
    "\n",
    "import re\n",
    "\n",
    "def myfunc(string):\n",
    "    pattern=re.compile(r'ab{2,3}',re.I)\n",
    "    array=pattern.findall(string)\n",
    "    return bool(array)\n",
    "\n",
    "print(myfunc(\"abbb\"))\n",
    "print(myfunc(\"aabbbbbbc\"))\n",
    "print(myfunc(\"abbc\"))\n",
    "print(myfunc(\"nbbc\"))\n",
    "print(myfunc(\" ab\"))"
   ]
  },
  {
   "cell_type": "code",
   "execution_count": 32,
   "metadata": {},
   "outputs": [
    {
     "name": "stdout",
     "output_type": "stream",
     "text": [
      "False\n",
      "False\n",
      "False\n",
      "False\n",
      "False\n",
      "True\n",
      "False\n"
     ]
    }
   ],
   "source": [
    "##7.Write a Python program to find sequences of lowercase letters joined with a underscore\n",
    "\n",
    "import re\n",
    "\n",
    "def myfunc(string):\n",
    "    pattern=re.compile(r'^[a-z]+_[a-z]+')\n",
    "    array=pattern.findall(string)\n",
    "    return bool(array)\n",
    "    \n",
    "print(myfunc(\"abbb\"))\n",
    "print(myfunc(\"aabbbbbbc\"))\n",
    "print(myfunc(\"abbc\"))\n",
    "print(myfunc(\"nbbc\"))\n",
    "print(myfunc(\" ab\"))\n",
    "print(myfunc(\"aab_cbbbc\"))\n",
    "print(myfunc(\"Aaab_abbbc\"))"
   ]
  },
  {
   "cell_type": "code",
   "execution_count": 35,
   "metadata": {},
   "outputs": [
    {
     "name": "stdout",
     "output_type": "stream",
     "text": [
      "False\n",
      "False\n",
      "True\n",
      "True\n",
      "False\n",
      "False\n",
      "True\n"
     ]
    }
   ],
   "source": [
    "##8. Write a Python program to find sequences of one upper case letter followed by lower case letters\n",
    "\n",
    "import re\n",
    "\n",
    "def myfunc(string):\n",
    "    pattern=re.compile(r'[A-Z]+[a-z]+')\n",
    "    array=pattern.findall(string)\n",
    "    return bool(array)\n",
    "    \n",
    "print(myfunc(\"abbb\"))\n",
    "print(myfunc(\"aabbbbbbc\"))\n",
    "print(myfunc(\"aBbc\"))\n",
    "print(myfunc(\"Nbbc\"))\n",
    "print(myfunc(\" ab\"))\n",
    "print(myfunc(\"aab_cbbbc\"))\n",
    "print(myfunc(\"Aaab_abbbc\"))"
   ]
  },
  {
   "cell_type": "code",
   "execution_count": 34,
   "metadata": {},
   "outputs": [
    {
     "name": "stdout",
     "output_type": "stream",
     "text": [
      "True\n",
      "False\n",
      "False\n",
      "False\n",
      "False\n",
      "False\n",
      "False\n"
     ]
    }
   ],
   "source": [
    "##9. Write a Python program that matches a string that has an 'a' followed by anything, ending in 'b'\n",
    "\n",
    "import re\n",
    "\n",
    "def myfunc(string):\n",
    "    pattern=re.compile(r'a.+b$')\n",
    "    array=pattern.findall(string)\n",
    "    return bool(array)\n",
    "    \n",
    "print(myfunc(\"abbb\"))\n",
    "print(myfunc(\"aabbbbbbc\"))\n",
    "print(myfunc(\"aBbc\"))\n",
    "print(myfunc(\"Nbbc\"))\n",
    "print(myfunc(\" ab\"))\n",
    "print(myfunc(\"aab_cbbbc\"))\n",
    "print(myfunc(\"Aaab_abbbc\"))"
   ]
  },
  {
   "cell_type": "code",
   "execution_count": 40,
   "metadata": {},
   "outputs": [
    {
     "name": "stdout",
     "output_type": "stream",
     "text": [
      "True\n",
      "True\n",
      "True\n",
      "True\n",
      "False\n",
      "True\n",
      "True\n"
     ]
    }
   ],
   "source": [
    "##10. Write a Python program that matches a word at the beginning of a string\n",
    "\n",
    "import re\n",
    "\n",
    "def myfunc(string):\n",
    "    pattern=re.compile(r'^\\w+')\n",
    "    array=pattern.findall(string)\n",
    "    return bool(array)\n",
    "\n",
    "print(myfunc(\"abbb\"))\n",
    "print(myfunc(\"aabbbbbbc\"))\n",
    "print(myfunc(\"aBbc\"))\n",
    "print(myfunc(\"Nbbc\"))\n",
    "print(myfunc(\" ab\"))\n",
    "print(myfunc(\"aab_cbbbc\"))\n",
    "print(myfunc(\"Aaab_abbbc\"))"
   ]
  },
  {
   "cell_type": "code",
   "execution_count": 42,
   "metadata": {},
   "outputs": [
    {
     "name": "stdout",
     "output_type": "stream",
     "text": [
      "True\n",
      "True\n",
      "True\n",
      "False\n",
      "True\n",
      "True\n",
      "False\n"
     ]
    }
   ],
   "source": [
    "##11. Write a Python program that matches a word at end of string, with optional punctuation\n",
    "\n",
    "import re\n",
    "\n",
    "def myfunc(string):\n",
    "    pattern=re.compile(r'\\w\\S?$')\n",
    "    array=pattern.findall(string)\n",
    "    return bool(array)\n",
    "\n",
    "print(myfunc(\"abbb\"))\n",
    "print(myfunc(\"aabbbbbbc\"))\n",
    "print(myfunc(\"aBbc\"))\n",
    "print(myfunc(\"Nbbc \"))\n",
    "print(myfunc(\" ab\"))\n",
    "print(myfunc(\"aab_cbbbc.\"))\n",
    "print(myfunc(\"Aaab_abbbc. \"))"
   ]
  },
  {
   "cell_type": "code",
   "execution_count": 52,
   "metadata": {},
   "outputs": [
    {
     "name": "stdout",
     "output_type": "stream",
     "text": [
      "False\n",
      "False\n",
      "False\n",
      "False\n",
      "False\n",
      "True\n",
      "False\n"
     ]
    }
   ],
   "source": [
    "##12. Write a Python program that matches a word containing 'z'\n",
    "\n",
    "import re\n",
    "\n",
    "def myfunc(string):\n",
    "    pattern=re.compile(r'z+')\n",
    "    array=pattern.findall(string)\n",
    "    return bool(array)\n",
    "\n",
    "print(myfunc(\"abbb\"))\n",
    "print(myfunc(\"aabbbbbbc\"))\n",
    "print(myfunc(\"aBbc\"))\n",
    "print(myfunc(\"Nbbc \"))\n",
    "print(myfunc(\" ab\"))\n",
    "print(myfunc(\"aab_cbzbbc.\"))\n",
    "print(myfunc(\"Aaab_abbbc. \"))"
   ]
  },
  {
   "cell_type": "code",
   "execution_count": 54,
   "metadata": {},
   "outputs": [
    {
     "name": "stdout",
     "output_type": "stream",
     "text": [
      "False\n",
      "False\n",
      "False\n",
      "False\n",
      "False\n",
      "True\n",
      "False\n",
      "True\n",
      "False\n"
     ]
    }
   ],
   "source": [
    "##13. Write a Python program that matches a word containing 'z', not start or end of the word\n",
    "\n",
    "import re\n",
    "\n",
    "def myfunc(string):\n",
    "    pattern=re.compile(r'\\Bz+\\B')\n",
    "    array=pattern.findall(string)\n",
    "    return bool(array)\n",
    "\n",
    "print(myfunc(\"abbb\"))\n",
    "print(myfunc(\"aabbbbbbc\"))\n",
    "print(myfunc(\"aBbcz\"))\n",
    "print(myfunc(\"Nbbc \"))\n",
    "print(myfunc(\" ab\"))\n",
    "print(myfunc(\"aab_cbzbbc.\"))\n",
    "print(myfunc(\"Aaab_abbbc. \"))\n",
    "print(myfunc(\"The quick brown fox jumps over the lazy dog.\"))\n",
    "print(myfunc(\"Python Exercises.\"))"
   ]
  },
  {
   "cell_type": "code",
   "execution_count": 58,
   "metadata": {},
   "outputs": [
    {
     "name": "stdout",
     "output_type": "stream",
     "text": [
      "True\n",
      "True\n",
      "True\n",
      "False\n",
      "False\n",
      "False\n",
      "False\n",
      "False\n",
      "False\n"
     ]
    }
   ],
   "source": [
    "##14. Write a Python program to match a string that contains only upper and lowercase letters, numbers, and underscores\n",
    "\n",
    "import re\n",
    "\n",
    "def myfunc(string):\n",
    "    pattern=re.compile(r'^[a-zA-Z0-9_]*$')\n",
    "    array=pattern.findall(string)\n",
    "    return bool(array)\n",
    "    \n",
    "print(myfunc(\"abbb\"))\n",
    "print(myfunc(\"aabbbbbbc\"))\n",
    "print(myfunc(\"aBbcz\"))\n",
    "print(myfunc(\"Nbbc \"))\n",
    "print(myfunc(\" ab\"))\n",
    "print(myfunc(\"aab_cbzbbc.\"))\n",
    "print(myfunc(\"Aaab_abbbc. \"))\n",
    "print(myfunc(\"The quick brown fox jumps over the lazy dog.\"))\n",
    "print(myfunc(\"Python Exercises.\"))"
   ]
  },
  {
   "cell_type": "code",
   "execution_count": 56,
   "metadata": {},
   "outputs": [
    {
     "name": "stdout",
     "output_type": "stream",
     "text": [
      "False\n",
      "False\n",
      "False\n",
      "False\n",
      "False\n",
      "False\n",
      "False\n",
      "False\n",
      "False\n",
      "True\n"
     ]
    }
   ],
   "source": [
    "##15. Write a Python program where a string will start with a specific number\n",
    "\n",
    "import re\n",
    "\n",
    "def myfunc(string):\n",
    "    pattern=re.compile(r'^9')\n",
    "    array=pattern.findall(string)\n",
    "    return bool(array)\n",
    "\n",
    "print(myfunc(\"abbb\"))\n",
    "print(myfunc(\"aabbbbbbc\"))\n",
    "print(myfunc(\"aBbcz\"))\n",
    "print(myfunc(\"Nbbc \"))\n",
    "print(myfunc(\" ab\"))\n",
    "print(myfunc(\"aab_cbzbbc.\"))\n",
    "print(myfunc(\"Aaab_abbbc. \"))\n",
    "print(myfunc(\"The quick brown fox jumps over the lazy dog.\"))\n",
    "print(myfunc(\"Python Exercises.\"))\n",
    "print(myfunc(\"9 Python Exercises.\"))"
   ]
  },
  {
   "cell_type": "code",
   "execution_count": 210,
   "metadata": {},
   "outputs": [
    {
     "data": {
      "text/plain": [
       "'216.0.94.196'"
      ]
     },
     "execution_count": 210,
     "metadata": {},
     "output_type": "execute_result"
    }
   ],
   "source": [
    "##16. Write a Python program to remove leading zeros from an IP address\n",
    "\n",
    "import re\n",
    "\n",
    "def myfunc(string):\n",
    "    return re.sub(r'0+(\\d)',r'\\1',string)\n",
    "\n",
    "#myfunc(\"216.08.094.196\")\n",
    "myfunc(\"216.0.094.196\")"
   ]
  },
  {
   "cell_type": "code",
   "execution_count": 226,
   "metadata": {},
   "outputs": [
    {
     "name": "stdout",
     "output_type": "stream",
     "text": [
      "False\n",
      "True\n"
     ]
    }
   ],
   "source": [
    "##17. Write a Python program to check for any number at the end of a string\n",
    "\n",
    "import re\n",
    "\n",
    "def myfunc(string):\n",
    "    pattern=re.compile(r'[0-9]$')\n",
    "    array=pattern.findall(string)\n",
    "    return bool(array)\n",
    "\n",
    "print(myfunc('abcdef'))\n",
    "print(myfunc('abcdef6'))"
   ]
  },
  {
   "cell_type": "code",
   "execution_count": 228,
   "metadata": {},
   "outputs": [
    {
     "name": "stdout",
     "output_type": "stream",
     "text": [
      "1\n",
      "12\n",
      "13\n",
      "345\n",
      "None\n"
     ]
    }
   ],
   "source": [
    "##18. Write a Python program to search the numbers (0-9) of length between 1 to 3 in a given string\n",
    "\n",
    "import re\n",
    "\n",
    "def myfunc(string):\n",
    "    pattern=re.compile(r'[0-9]{1,3}')\n",
    "    array=pattern.finditer(string)\n",
    "    for n in array:\n",
    "        print(n.group())\n",
    "    \n",
    "print(myfunc('Exercises number 1, 12, 13, and 345 are important'))"
   ]
  },
  {
   "cell_type": "code",
   "execution_count": 230,
   "metadata": {},
   "outputs": [
    {
     "name": "stdout",
     "output_type": "stream",
     "text": [
      "['1', '12', '13', '345']\n"
     ]
    }
   ],
   "source": [
    "##18a. Write a Python program to search the numbers (0-9) of length between 1 to 3 in a given string\n",
    "\n",
    "import re\n",
    "\n",
    "def myfunc(string):\n",
    "    pattern=re.compile(r'[0-9]{1,3}')\n",
    "    array=pattern.findall(string)\n",
    "    return array\n",
    "\n",
    "print(myfunc('Exercises number 1, 12, 13, and 345 are important'))"
   ]
  },
  {
   "cell_type": "code",
   "execution_count": 116,
   "metadata": {},
   "outputs": [
    {
     "name": "stdout",
     "output_type": "stream",
     "text": [
      "matched\n",
      "matched\n",
      "not matched\n"
     ]
    }
   ],
   "source": [
    "##19. Write a Python program to search some literals strings in a string.\n",
    "##Sample text : 'The quick brown fox jumps over the lazy dog.'\n",
    "##Searched words : 'fox', 'dog', 'horse'\n",
    "\n",
    "import re\n",
    "\n",
    "sword=['fox','dog','horse']\n",
    "string='The quick brown fox jumps over the lazy dog.'\n",
    "\n",
    "for word in sword:\n",
    "    array=re.search(word,string)\n",
    "    if array:\n",
    "        print(\"matched\")\n",
    "    else:\n",
    "        print(\"not matched\")"
   ]
  },
  {
   "cell_type": "code",
   "execution_count": 232,
   "metadata": {},
   "outputs": [
    {
     "name": "stdout",
     "output_type": "stream",
     "text": [
      "start:  16\n",
      "end:  19\n"
     ]
    }
   ],
   "source": [
    "##20. Write a Python program to search a literals string in a string and also find the location within the original string where the pattern occurs\n",
    "##Sample text : 'The quick brown fox jumps over the lazy dog.'\n",
    "##Searched words : 'fox'\n",
    "\n",
    "import re\n",
    "\n",
    "def myfunc(string):\n",
    "    pattern=re.compile(r'fox')\n",
    "    array=pattern.search(string)\n",
    "    print(\"start: \",array.start())\n",
    "    print(\"end: \",array.end())\n",
    "\n",
    "myfunc('The quick brown fox jumps over the lazy dog.')"
   ]
  },
  {
   "cell_type": "code",
   "execution_count": 248,
   "metadata": {},
   "outputs": [
    {
     "name": "stdout",
     "output_type": "stream",
     "text": [
      "exercises 7 16\n",
      "exercises 22 31\n",
      "exercises 36 45\n"
     ]
    }
   ],
   "source": [
    "##21. Write a Python program to find the substrings within a string\n",
    "##Sample text :'Python exercises, PHP exercises, C# exercises'\n",
    "##Pattern :'exercises'\n",
    "\n",
    "import re\n",
    "\n",
    "##string='Python exercises, PHP exercises, C# exercises'\n",
    "\n",
    "def myfunc(string):\n",
    "    pattern=re.compile(r'exercises')\n",
    "    array=pattern.finditer(string)\n",
    "    for match in array:\n",
    "        print(match.group(),match.start(),match.end())\n",
    "    \n",
    "myfunc('Python exercises, PHP exercises, C# exercises')"
   ]
  },
  {
   "cell_type": "code",
   "execution_count": 252,
   "metadata": {},
   "outputs": [
    {
     "data": {
      "text/plain": [
       "'The_quick_brown_fox_jumps_over_the_lazy_dog.'"
      ]
     },
     "execution_count": 252,
     "metadata": {},
     "output_type": "execute_result"
    }
   ],
   "source": [
    "##23. Write a Python program to replace whitespaces with an underscore and vice versa\n",
    "\n",
    "import re\n",
    "\n",
    "def myfunc(string):\n",
    "    pattern=re.compile(r'\\s')\n",
    "    sub=\"_\"\n",
    "    array=pattern.sub(sub,string)\n",
    "    return array\n",
    "\n",
    "myfunc('The quick brown fox jumps over the lazy dog.')"
   ]
  },
  {
   "cell_type": "code",
   "execution_count": 254,
   "metadata": {},
   "outputs": [
    {
     "name": "stdout",
     "output_type": "stream",
     "text": [
      "[('2016', '09', '02')]\n"
     ]
    }
   ],
   "source": [
    "##24. Write a Python program to extract year, month and date from a an url\n",
    "\n",
    "import re\n",
    "\n",
    "def myfunc(string):\n",
    "    pattern=re.compile(r'/(\\d{4})/(\\d{1,2})/(\\d{2})/')\n",
    "    array=pattern.findall(string)\n",
    "    return array\n",
    "        \n",
    "print(myfunc(\"https://www.washingtonpost.com/news/football-insider/wp/2016/09/02/odell-beckhams-fame-rests-on-one-stupid-little-ball-josh-norman-tells-author/\"))"
   ]
  },
  {
   "cell_type": "code",
   "execution_count": 256,
   "metadata": {},
   "outputs": [
    {
     "data": {
      "text/plain": [
       "'29-01-2020'"
      ]
     },
     "execution_count": 256,
     "metadata": {},
     "output_type": "execute_result"
    }
   ],
   "source": [
    "##25. Write a Python program to convert a date of yyyy-mm-dd format to dd-mm-yyyy format\n",
    "\n",
    "import re\n",
    "\n",
    "def myfunc(string):\n",
    "    pattern=re.compile(r'(\\d{4})-(\\d{1,2})-(\\d{1,2})')\n",
    "    sub=\"\\\\3-\\\\2-\\\\1\"\n",
    "    array=pattern.sub(sub,string)\n",
    "    return array\n",
    "\n",
    "myfunc(\"2020-01-29\")"
   ]
  },
  {
   "cell_type": "code",
   "execution_count": 258,
   "metadata": {},
   "outputs": [
    {
     "data": {
      "text/plain": [
       "['Python', 'PHP']"
      ]
     },
     "execution_count": 258,
     "metadata": {},
     "output_type": "execute_result"
    }
   ],
   "source": [
    "##26. Write a Python program to match if two words from a list of words starting with letter 'P'\n",
    "\n",
    "import re\n",
    "\n",
    "def myfunc(string):\n",
    "    pattern=re.compile(r'P\\w+')\n",
    "    array=pattern.findall(string)\n",
    "    return array\n",
    "            \n",
    "myfunc('Python exercises, PHP exercises, C# exercises')"
   ]
  },
  {
   "cell_type": "code",
   "execution_count": 260,
   "metadata": {},
   "outputs": [
    {
     "name": "stdout",
     "output_type": "stream",
     "text": [
      "10\n",
      "20\n",
      "30\n"
     ]
    }
   ],
   "source": [
    "##27. Write a Python program to separate and print the numbers of a given string\n",
    "\n",
    "import re\n",
    "\n",
    "def myfunc(string):\n",
    "    pattern=re.compile(r'\\d+')\n",
    "    array=pattern.findall(string)\n",
    "    for n in array:\n",
    "        print(n)\n",
    "                    \n",
    "myfunc(\"Ten 10, Twenty 20, Thirty 30\")"
   ]
  },
  {
   "cell_type": "code",
   "execution_count": 262,
   "metadata": {},
   "outputs": [
    {
     "name": "stdout",
     "output_type": "stream",
     "text": [
      "['example', 'eates', 'an', 'ayList', 'apacity', 'elements', 'elements', 'are', 'en', 'added', 'ayList', 'and', 'ayList', 'ed', 'accordingly']\n"
     ]
    }
   ],
   "source": [
    "##28. Write a Python program to find all words starting with 'a' or 'e' in a given string\n",
    "\n",
    "import re\n",
    "\n",
    "def myfunc(string):\n",
    "    pattern=re.compile(r'[ae]\\w+')\n",
    "    array=pattern.findall(string)\n",
    "    print(array)\n",
    "\n",
    "myfunc(\"The following example creates an ArrayList with a capacity of 50 elements. Four elements are then added to the ArrayList and the ArrayList is trimmed accordingly.\")"
   ]
  },
  {
   "cell_type": "code",
   "execution_count": 288,
   "metadata": {},
   "outputs": [
    {
     "name": "stdout",
     "output_type": "stream",
     "text": [
      "The number is 50 and the start position is 62\n",
      "The number is 4 and the start position is 75\n"
     ]
    }
   ],
   "source": [
    "##29. Write a Python program to separate and print the numbers and their position of a given string\n",
    "\n",
    "import re\n",
    "\n",
    "def myfunc(string):\n",
    "    pattern=re.compile(r'\\d+')\n",
    "    array=pattern.finditer(string)\n",
    "    for match in array:\n",
    "        print(\"The number is\", match.group(), \"and the start position is\", match.start())\n",
    "    \n",
    "myfunc(\"The following example creates an ArrayList with a capacity of 50 elements. 4 elements are then added to the ArrayList and the ArrayList is trimmed accordingly.\")"
   ]
  },
  {
   "cell_type": "code",
   "execution_count": 290,
   "metadata": {},
   "outputs": [
    {
     "data": {
      "text/plain": [
       "'21 Ramkrishna Rd.'"
      ]
     },
     "execution_count": 290,
     "metadata": {},
     "output_type": "execute_result"
    }
   ],
   "source": [
    "##30. Write a Python program to abbreviate 'Road' as 'Rd.' in a given string\n",
    "\n",
    "import re\n",
    "\n",
    "def myfunc(string):\n",
    "    pattern=re.compile(r'Road')\n",
    "    array=pattern.sub('Rd.',string)\n",
    "    return array\n",
    "\n",
    "myfunc('21 Ramkrishna Road')"
   ]
  },
  {
   "cell_type": "code",
   "execution_count": 292,
   "metadata": {},
   "outputs": [
    {
     "data": {
      "text/plain": [
       "'Python:Exercises::PHP:exercises:'"
      ]
     },
     "execution_count": 292,
     "metadata": {},
     "output_type": "execute_result"
    }
   ],
   "source": [
    "##31. Write a Python program to replace all occurrences of space, comma, or dot with a colon\n",
    "\n",
    "import re\n",
    "\n",
    "def myfunc(string):\n",
    "    pattern=re.compile(r'[\\s.,]')\n",
    "    array=pattern.sub(':',string)\n",
    "    return array\n",
    "\n",
    "myfunc('Python Exercises, PHP exercises.')"
   ]
  },
  {
   "cell_type": "code",
   "execution_count": 294,
   "metadata": {},
   "outputs": [
    {
     "data": {
      "text/plain": [
       "'Python:Exercises: PHP exercises.'"
      ]
     },
     "execution_count": 294,
     "metadata": {},
     "output_type": "execute_result"
    }
   ],
   "source": [
    "##32. Write a Python program to replace maximum 2 occurrences of space, comma, or dot with a colon\n",
    "\n",
    "import re\n",
    "\n",
    "def myfunc(string):\n",
    "    pattern=re.compile(r'[\\s.,]')\n",
    "    array=pattern.sub(':',string,2)\n",
    "    return array\n",
    "\n",
    "myfunc('Python Exercises, PHP exercises.')"
   ]
  },
  {
   "cell_type": "code",
   "execution_count": 296,
   "metadata": {},
   "outputs": [
    {
     "data": {
      "text/plain": [
       "['quick', 'brown', 'jumps']"
      ]
     },
     "execution_count": 296,
     "metadata": {},
     "output_type": "execute_result"
    }
   ],
   "source": [
    "##33. Write a Python program to find all five characters long word in a string\n",
    "\n",
    "import re\n",
    "\n",
    "def myfunc(string):\n",
    "    pattern=re.compile(r'\\b\\w{5}\\b')\n",
    "    array=pattern.findall(string)\n",
    "    return array\n",
    "\n",
    "myfunc(\"The quick brown fox jumps over the lazy dog.\")"
   ]
  },
  {
   "cell_type": "code",
   "execution_count": 298,
   "metadata": {},
   "outputs": [
    {
     "data": {
      "text/plain": [
       "['The', 'quick', 'brown', 'fox', 'jumps', 'over', 'the', 'lazy', 'dog']"
      ]
     },
     "execution_count": 298,
     "metadata": {},
     "output_type": "execute_result"
    }
   ],
   "source": [
    "##34. Write a Python program to find all three, four, five characters long words in a string\n",
    "\n",
    "import re\n",
    "\n",
    "def myfunc(string):\n",
    "    pattern=re.compile(r'\\b\\w{3,5}\\b')\n",
    "    array=pattern.findall(string)\n",
    "    return array\n",
    "\n",
    "myfunc(\"The quick brown fox jumps over the lazy dog.\")"
   ]
  },
  {
   "cell_type": "code",
   "execution_count": 300,
   "metadata": {},
   "outputs": [
    {
     "data": {
      "text/plain": [
       "['quick', 'brown', 'jumps', 'over', 'lazy']"
      ]
     },
     "execution_count": 300,
     "metadata": {},
     "output_type": "execute_result"
    }
   ],
   "source": [
    "##35. Write a Python program to find all words which are at least 4 characters long in a string\n",
    "\n",
    "import re\n",
    "\n",
    "def myfunc(string):\n",
    "    pattern=re.compile(r'\\b\\w{4,}\\b')\n",
    "    array=pattern.findall(string)\n",
    "    return array\n",
    "\n",
    "myfunc(\"The quick brown fox jumps over the lazy dog.\")"
   ]
  },
  {
   "cell_type": "markdown",
   "metadata": {},
   "source": [
    "**36.Write a python program to convert camel case string to snake case string**"
   ]
  },
  {
   "cell_type": "code",
   "execution_count": 4,
   "metadata": {},
   "outputs": [
    {
     "data": {
      "text/plain": [
       "'python_exercises_by_example'"
      ]
     },
     "execution_count": 4,
     "metadata": {},
     "output_type": "execute_result"
    }
   ],
   "source": [
    "##36. Write a python program to convert camel case string to snake case string\n",
    "\n",
    "import re\n",
    "\n",
    "def myfunc(string):\n",
    "    pattern = re.compile(r'(.)(\\B[A-Z])')\n",
    "    sub='\\\\1_\\\\2'\n",
    "    array=pattern.sub(sub,string).lower()\n",
    "    return array\n",
    "\n",
    "myfunc(\"PythonExercisesByExample\")"
   ]
  },
  {
   "cell_type": "code",
   "execution_count": 50,
   "metadata": {},
   "outputs": [
    {
     "data": {
      "text/plain": [
       "'python_exercises_by_example'"
      ]
     },
     "execution_count": 50,
     "metadata": {},
     "output_type": "execute_result"
    }
   ],
   "source": [
    "##36. Write a python program to convert camel case string to snake case string\n",
    "\n",
    "import re\n",
    "\n",
    "def myfunc(string):\n",
    "    pattern = re.compile(r'(?<!^)(?=[A-Z])')\n",
    "    sub='_'\n",
    "    array=pattern.sub(sub,string).lower()\n",
    "    return array\n",
    "\n",
    "myfunc(\"PythonExercisesByExample\")"
   ]
  },
  {
   "cell_type": "markdown",
   "metadata": {},
   "source": [
    "**##37. Write a python program to convert snake case string to camel case string**"
   ]
  },
  {
   "cell_type": "code",
   "execution_count": 21,
   "metadata": {},
   "outputs": [
    {
     "data": {
      "text/plain": [
       "'pythonExercisesByExample'"
      ]
     },
     "execution_count": 21,
     "metadata": {},
     "output_type": "execute_result"
    }
   ],
   "source": [
    "##37. Write a python program to convert snake case string to camel case string\n",
    "\n",
    "import re\n",
    "\n",
    "def snake_to_camel_case(snake_case_string):\n",
    "   camel_case_string = re.sub(r'_([a-zA-Z])', lambda match: match.group(1).upper(), snake_case_string)\n",
    "   return camel_case_string\n",
    "\n",
    "# Input of snake case string\n",
    "snake_to_camel_case('python_exercises_by_example')"
   ]
  },
  {
   "cell_type": "markdown",
   "metadata": {},
   "source": [
    "**##37. Write a python program to convert snake case string to camel case string**"
   ]
  },
  {
   "cell_type": "code",
   "execution_count": 393,
   "metadata": {},
   "outputs": [
    {
     "data": {
      "text/plain": [
       "'PythonExercises'"
      ]
     },
     "execution_count": 393,
     "metadata": {},
     "output_type": "execute_result"
    }
   ],
   "source": [
    "##37. Write a python program to convert snake case string to camel case string\n",
    "\n",
    "import re\n",
    "\n",
    "def myfunc(string):\n",
    "        return ''.join(x.capitalize() or '_' for x in string.split('_'))\n",
    "\n",
    "myfunc(\"python_exercises\")"
   ]
  },
  {
   "cell_type": "code",
   "execution_count": 139,
   "metadata": {},
   "outputs": [
    {
     "data": {
      "text/plain": [
       "['Python', 'PHP', 'Java']"
      ]
     },
     "execution_count": 139,
     "metadata": {},
     "output_type": "execute_result"
    }
   ],
   "source": [
    "##38. Write a Python program to extract values between quotation marks of a string\n",
    "\n",
    "import re\n",
    "\n",
    "def myfunc(string):\n",
    "    pattern=re.compile(r'\"(.*?)\"')\n",
    "    array=pattern.findall(string)\n",
    "    return array\n",
    "\n",
    "myfunc('\"Python\", \"PHP\", \"Java\"')"
   ]
  },
  {
   "cell_type": "code",
   "execution_count": 137,
   "metadata": {},
   "outputs": [
    {
     "data": {
      "text/plain": [
       "'Python Exercises'"
      ]
     },
     "execution_count": 137,
     "metadata": {},
     "output_type": "execute_result"
    }
   ],
   "source": [
    "##39. Write a Python program to remove multiple spaces in a string\n",
    "\n",
    "import re\n",
    "\n",
    "def myfunc(string):\n",
    "    pattern=re.compile(r'\\s+')\n",
    "    sub=\" \"\n",
    "    array=pattern.sub(sub,string)\n",
    "    return array\n",
    "\n",
    "myfunc('Python     Exercises')"
   ]
  },
  {
   "cell_type": "code",
   "execution_count": 135,
   "metadata": {},
   "outputs": [
    {
     "data": {
      "text/plain": [
       "'PythonExercises'"
      ]
     },
     "execution_count": 135,
     "metadata": {},
     "output_type": "execute_result"
    }
   ],
   "source": [
    "##40. Write a Python program to remove all whitespaces from a string\n",
    "\n",
    "import re\n",
    "\n",
    "def myfunc(string):\n",
    "    pattern=re.compile(r'\\s')\n",
    "    sub=\"\"\n",
    "    array=pattern.sub(sub,string)\n",
    "    return array\n",
    "\n",
    "myfunc('Python     Exercises')"
   ]
  },
  {
   "cell_type": "code",
   "execution_count": 133,
   "metadata": {},
   "outputs": [
    {
     "data": {
      "text/plain": [
       "'PythonExercises12'"
      ]
     },
     "execution_count": 133,
     "metadata": {},
     "output_type": "execute_result"
    }
   ],
   "source": [
    "##41. Write a Python program to remove everything except alphanumeric characters from a string\n",
    "\n",
    "import re\n",
    "\n",
    "def myfunc(string):\n",
    "    pattern=re.compile(r'[^a-zA-Z0-9]')\n",
    "    sub=\"\"\n",
    "    array=pattern.sub(sub,string)\n",
    "    return array\n",
    "\n",
    "myfunc('**//Python Exercises// - 12. ')"
   ]
  },
  {
   "cell_type": "code",
   "execution_count": 131,
   "metadata": {},
   "outputs": [
    {
     "data": {
      "text/plain": [
       "['https://w3resource.com', 'http://github.com']"
      ]
     },
     "execution_count": 131,
     "metadata": {},
     "output_type": "execute_result"
    }
   ],
   "source": [
    "##42. Write a Python program to find urls in a string\n",
    "\n",
    "import re\n",
    "\n",
    "def myfunc(string):\n",
    "    pattern=re.compile(r'(https?://\\S+\\.\\w+\\b)')\n",
    "    array=pattern.findall(string)\n",
    "    return array\n",
    "\n",
    "myfunc('<p>Contents :</p><a href=\"https://w3resource.com\">Python Examples</a><a href=\"http://github.com\">Even More Examples</a>')"
   ]
  },
  {
   "cell_type": "code",
   "execution_count": 129,
   "metadata": {},
   "outputs": [
    {
     "data": {
      "text/plain": [
       "['Python', 'Tutorial', 'And', 'Exercises']"
      ]
     },
     "execution_count": 129,
     "metadata": {},
     "output_type": "execute_result"
    }
   ],
   "source": [
    "##43. Write a Python program to split a string at uppercase letters.\n",
    "\n",
    "import re\n",
    "\n",
    "def myfunc(string):\n",
    "    pattern=re.compile(r'[A-Z][^A-Z]*')\n",
    "    array=pattern.findall(string)\n",
    "    return array\n",
    "\n",
    "myfunc(\"PythonTutorialAndExercises\")\n",
    "\n",
    "## [RS] [^A-Z] means excluding capital words"
   ]
  },
  {
   "cell_type": "code",
   "execution_count": 127,
   "metadata": {},
   "outputs": [
    {
     "data": {
      "text/plain": [
       "'phpTutorialAndExercises'"
      ]
     },
     "execution_count": 127,
     "metadata": {},
     "output_type": "execute_result"
    }
   ],
   "source": [
    "##44. Write a Python program to do a case-insensitive string replacement\n",
    "\n",
    "import re\n",
    "\n",
    "def myfunc(string):\n",
    "    pattern=re.compile(r'python',re.I)\n",
    "    sub=\"php\"\n",
    "    array=pattern.sub(sub,string)\n",
    "    return array\n",
    "\n",
    "myfunc(\"PythonTutorialAndExercises\")"
   ]
  },
  {
   "cell_type": "markdown",
   "metadata": {},
   "source": [
    "**##45. Write a Python program to remove the ANSI escape sequences from a string**"
   ]
  },
  {
   "cell_type": "code",
   "execution_count": 81,
   "metadata": {},
   "outputs": [
    {
     "name": "stdout",
     "output_type": "stream",
     "text": [
      "\tgoogle.com 216.58.218.206\n"
     ]
    }
   ],
   "source": [
    "##45. Write a Python program to remove the ANSI escape sequences from a string\n",
    "##[RS] copied from Stackoverflow\n",
    "\n",
    "import re\n",
    "\n",
    "# 7-bit C1 ANSI sequences\n",
    "def myfunc(string):\n",
    "    pattern=re.compile(r'''\n",
    "        \\x1B                  # ESC\n",
    "        (?:                   # 7-bit C1 Fe (except CSI)\n",
    "            [@-Z\\\\-_]\n",
    "        |                     # or [ for CSI, followed by a control sequence\n",
    "            \\[\n",
    "            [0-?]*            # Parameter bytes\n",
    "            [ -/]*            # Intermediate bytes\n",
    "            [@-~]             # Final byte\n",
    "        )\n",
    "    ''', re.X)\n",
    "    array=pattern.sub('', string)\n",
    "    print(array)\n",
    "\n",
    "myfunc(\"\\t\\u001b[0;35mgoogle.com\\u001b[0m \\u001b[0;36m216.58.218.206\\u001b[0m\")"
   ]
  },
  {
   "cell_type": "code",
   "execution_count": 121,
   "metadata": {},
   "outputs": [
    {
     "data": {
      "text/plain": [
       "['Clearly']"
      ]
     },
     "execution_count": 121,
     "metadata": {},
     "output_type": "execute_result"
    }
   ],
   "source": [
    "##46. Write a Python program to find all adverbs and their positions in a given sentence\n",
    "\n",
    "import re\n",
    "\n",
    "def myfunc(string):\n",
    "    pattern=re.compile(r'\\w+ly')\n",
    "    array=pattern.findall(string)\n",
    "    return array\n",
    "\n",
    "myfunc(\"Clearly, he has no excuse for such behavior\")"
   ]
  },
  {
   "cell_type": "code",
   "execution_count": 119,
   "metadata": {},
   "outputs": [
    {
     "data": {
      "text/plain": [
       "['The quick brown', 'fox jumps', 'over the lazy dog']"
      ]
     },
     "execution_count": 119,
     "metadata": {},
     "output_type": "execute_result"
    }
   ],
   "source": [
    "##47. Write a Python program to split a string with multiple delimiters\n",
    "\n",
    "import re\n",
    "\n",
    "def myfunc(string):\n",
    "    pattern=re.compile(r'\\*|\\n|\\,|\\;')\n",
    "    array=pattern.split(string)\n",
    "    return array\n",
    "\n",
    "myfunc(\"The quick brown\\nfox jumps*over the lazy dog\")"
   ]
  },
  {
   "cell_type": "code",
   "execution_count": 117,
   "metadata": {},
   "outputs": [
    {
     "name": "stdout",
     "output_type": "stream",
     "text": [
      "True\n",
      "True\n",
      "False\n",
      "True\n",
      "False\n",
      "False\n",
      "True\n"
     ]
    }
   ],
   "source": [
    "##48. Write a Python program to check a decimal with a precision of 2.\n",
    "\n",
    "import re\n",
    "\n",
    "def myfunc(string):\n",
    "    pattern=re.compile(r'\\d+\\.\\d{1,2}$')\n",
    "    array=pattern.findall(string)\n",
    "    return bool(array)\n",
    "\n",
    "print(myfunc('123.11'))\n",
    "print(myfunc('123.1'))\n",
    "print(myfunc('123'))\n",
    "print(myfunc('0.21'))\n",
    "\n",
    "print(myfunc('123.1214'))\n",
    "print(myfunc('3.124587'))\n",
    "print(myfunc('666.86'))"
   ]
  },
  {
   "cell_type": "code",
   "execution_count": 115,
   "metadata": {},
   "outputs": [
    {
     "name": "stdout",
     "output_type": "stream",
     "text": [
      "quick brown jumps over lazy\n"
     ]
    }
   ],
   "source": [
    "##49. Write a Python program to remove words from a string of length between 1 and a given number\n",
    "\n",
    "import re\n",
    "\n",
    "def myfunc(string):\n",
    "    pattern=re.compile(r'\\b\\w{1,3}\\b')\n",
    "    sub=\"\"\n",
    "    array=pattern.sub(sub,string)\n",
    "    print(\" \".join(array.split()))\n",
    "\n",
    "myfunc(\"The quick brown fox jumps over the lazy dog\")"
   ]
  },
  {
   "cell_type": "code",
   "execution_count": 113,
   "metadata": {},
   "outputs": [
    {
     "name": "stdout",
     "output_type": "stream",
     "text": [
      "example .com\n",
      "w3resource\n",
      "github .com\n",
      "stackoverflow .com\n"
     ]
    }
   ],
   "source": [
    "##50. Write a Python program to remove the parenthesis area in a string. \n",
    "\n",
    "import re\n",
    "\n",
    "def myfunc(string):\n",
    "    pattern=re.compile(r'\\(|\\)')\n",
    "    sub=\"\"\n",
    "    for word in string:\n",
    "        array=pattern.sub(sub,word)\n",
    "        print(array)\n",
    "\n",
    "myfunc([\"example (.com)\", \"w3resource\", \"github (.com)\", \"stackoverflow (.com)\"])"
   ]
  },
  {
   "cell_type": "code",
   "execution_count": 111,
   "metadata": {},
   "outputs": [
    {
     "data": {
      "text/plain": [
       "'Python Exercises Practice Solution'"
      ]
     },
     "execution_count": 111,
     "metadata": {},
     "output_type": "execute_result"
    }
   ],
   "source": [
    "##51. Write a Python program to insert spaces between words starting with capital letters\n",
    "\n",
    "import re\n",
    "\n",
    "def myfunc(string):\n",
    "    pattern=re.compile(r'(\\w)([A-Z])')\n",
    "    sub=\"\\\\1 \\\\2\"\n",
    "    array=pattern.sub(sub,string)\n",
    "    return array\n",
    "\n",
    "myfunc(\"PythonExercisesPracticeSolution\")"
   ]
  },
  {
   "cell_type": "code",
   "execution_count": 143,
   "metadata": {},
   "outputs": [
    {
     "data": {
      "text/plain": [
       "'KDALOOOHLAJSI'"
      ]
     },
     "execution_count": 143,
     "metadata": {},
     "output_type": "execute_result"
    }
   ],
   "source": [
    "##53. Write a Python program to remove lowercase substrings from a given string\n",
    "\n",
    "import re\n",
    "\n",
    "def myfunc(string):\n",
    "    pattern=re.compile(r'[a-z]')\n",
    "    sub=\"\"\n",
    "    array=pattern.sub(sub,string)\n",
    "    return array\n",
    "\n",
    "myfunc('KDeoALOklOOHserfLoAJSIskdsf')"
   ]
  }
 ],
 "metadata": {
  "kernelspec": {
   "display_name": "Python 3 (ipykernel)",
   "language": "python",
   "name": "python3"
  },
  "language_info": {
   "codemirror_mode": {
    "name": "ipython",
    "version": 3
   },
   "file_extension": ".py",
   "mimetype": "text/x-python",
   "name": "python",
   "nbconvert_exporter": "python",
   "pygments_lexer": "ipython3",
   "version": "3.12.4"
  }
 },
 "nbformat": 4,
 "nbformat_minor": 4
}
