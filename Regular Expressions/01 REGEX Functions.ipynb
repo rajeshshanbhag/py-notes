{
 "cells": [
  {
   "cell_type": "markdown",
   "id": "1115f172-86a9-4748-ac49-dab614607c1b",
   "metadata": {},
   "source": [
    "# Regular Expression"
   ]
  },
  {
   "cell_type": "markdown",
   "id": "b66b2ca3-c321-4925-8717-4b232d730053",
   "metadata": {},
   "source": [
    "* Regular Expression (or REGEX) specifies a set of strings that matches it\n",
    "* The functions in this module let you check if a particular string matches a given regular expression"
   ]
  },
  {
   "cell_type": "markdown",
   "id": "e2a8f543-3629-49dd-b1e0-02092c842f44",
   "metadata": {},
   "source": [
    "### REGEX functions\n",
    "0. Literals\n",
    "1. re.compile()\n",
    "2. re.match()\n",
    "3. re.search()\n",
    "4. re.findall()\n",
    "5. re.finditer()\n",
    "6. re.fullmatch()\n",
    "7. re.split()\n",
    "8. re.sub()\n",
    "9. re.subn()\n",
    "10. re.escape()"
   ]
  },
  {
   "cell_type": "code",
   "execution_count": null,
   "id": "c35a0475-5e00-4b12-9197-5026a7c9250d",
   "metadata": {},
   "outputs": [],
   "source": [
    "##  Load example book"
   ]
  },
  {
   "cell_type": "code",
   "execution_count": 37,
   "id": "ca0500cf-d1a5-4c99-bc79-30f4febd9260",
   "metadata": {},
   "outputs": [],
   "source": [
    "enc='utf-8'\n",
    "with open(\"miracle_in_the_andes.txt\",\"r\",encoding=enc) as f:\n",
    "    book=f.read()\n",
    "    #print(book)"
   ]
  },
  {
   "cell_type": "markdown",
   "id": "4a563a7e-a9be-48e2-b41b-2495cc51b130",
   "metadata": {},
   "source": [
    "### 0) REGEX LITERALS\n",
    "+  Match the actual character"
   ]
  },
  {
   "cell_type": "code",
   "execution_count": 40,
   "id": "3c78a9db-652f-473b-b9f2-6ed10a7b1e4c",
   "metadata": {},
   "outputs": [
    {
     "data": {
      "text/plain": [
       "['Chapter',\n",
       " 'Chapter',\n",
       " 'Chapter',\n",
       " 'Chapter',\n",
       " 'Chapter',\n",
       " 'Chapter',\n",
       " 'Chapter',\n",
       " 'Chapter',\n",
       " 'Chapter',\n",
       " 'Chapter',\n",
       " 'chapter',\n",
       " 'Chapter']"
      ]
     },
     "execution_count": 40,
     "metadata": {},
     "output_type": "execute_result"
    }
   ],
   "source": [
    "import re\n",
    "\n",
    "def myfunc(string):\n",
    "    pattern=re.compile(r'chapter',re.I)\n",
    "    array=pattern.findall(string)\n",
    "    return array\n",
    "\n",
    "myfunc(book)"
   ]
  },
  {
   "cell_type": "markdown",
   "id": "aa97571b-8a3b-4482-849a-58b85bb2b665",
   "metadata": {},
   "source": [
    "### 1)  re.compile()\n",
    "\n",
    "re.findall(pattern, string, flags=0)\n",
    "+  save the regular expression output in a variable, it can be used several times in a single program\n",
    "+  As good practice, I always compile my pattern even if it is one-time use"
   ]
  },
  {
   "cell_type": "code",
   "execution_count": 43,
   "id": "c15b0b80-7ea1-491b-af8d-e8cc8f043842",
   "metadata": {},
   "outputs": [
    {
     "name": "stdout",
     "output_type": "stream",
     "text": [
      "<re.Match object; span=(0, 9), match='Chapter 1'>\n",
      "Match found\n"
     ]
    }
   ],
   "source": [
    "import re\n",
    "\n",
    "def myfunc(string):\n",
    "    pattern=re.compile(r'chapter\\s\\w+',re.I)\n",
    "    array=pattern.match(string)\n",
    "    print(array)\n",
    "    if array:\n",
    "        print(\"Match found\")\n",
    "    else:\n",
    "        print(\"Match not found\")\n",
    "\n",
    "myfunc(book)"
   ]
  },
  {
   "cell_type": "markdown",
   "id": "135125b3-e98f-4b28-a505-f38ed818ad8a",
   "metadata": {},
   "source": [
    "### 2)  re.match()\n",
    "\n",
    "re.match(pattern, string, flags=0)              \n",
    "+  if zero or more characters at the beginning of string match the regular expression pattern, **return a corresponding Match.**\n",
    "+  return None if the string does not match the pattern; note that this is different from a zero-length match.\n",
    "+  in multiline mode, match beginning of string not beginning of each line\n",
    "+  to locate anywhere in string, use re.search() instead\n",
    "+  anchored at start of '^pattern'\n",
    "+  the match objects start() method returns the starting position of pattern in the string, and end() returns the endpoint."
   ]
  },
  {
   "cell_type": "code",
   "execution_count": 46,
   "id": "8bd7346f-70d8-43e5-a44a-e3d7f89683ad",
   "metadata": {},
   "outputs": [
    {
     "name": "stdout",
     "output_type": "stream",
     "text": [
      "<re.Match object; span=(0, 9), match='Chapter 1'>\n",
      "Match found\n"
     ]
    }
   ],
   "source": [
    "import re\n",
    "#print(book)\n",
    "def myfunc(string):\n",
    "    #pattern=re.compile(r'before',re.I)                                               # match is case-sensitive\n",
    "    pattern=re.compile(r'chapter\\s\\w+',re.I)\n",
    "    array=pattern.match(string)\n",
    "    print(array)\n",
    "    if array:\n",
    "        print(\"Match found\")\n",
    "    else:\n",
    "        print(\"Match not found\")\n",
    "\n",
    "myfunc(book)"
   ]
  },
  {
   "cell_type": "markdown",
   "id": "32540f0b-97ba-458d-aec8-e2129860f1ae",
   "metadata": {},
   "source": [
    "### 3)  re.search()\n",
    "\n",
    "re.search(pattern, string, flags=0)\n",
    "+  scan through string looking for the first location where this regular expression produces a match, and **return a corresponding Match.**\n",
    "+  return None if no position in the string matches the pattern\n",
    "+  not anchored at 'pattern'\n",
    "+  the match objects start() method returns the starting position of pattern in the string, and end() returns the endpoint."
   ]
  },
  {
   "cell_type": "code",
   "execution_count": 49,
   "id": "cca080f0-597a-45d2-90d8-4395396c585c",
   "metadata": {},
   "outputs": [
    {
     "name": "stdout",
     "output_type": "stream",
     "text": [
      "<re.Match object; span=(0, 9), match='Chapter 1'>\n",
      "Match found\n"
     ]
    }
   ],
   "source": [
    "import re\n",
    "\n",
    "def myfunc(string):\n",
    "    # pattern=re.compile(r'\\s+before\\s+',re.I)                                             # match is case-sensitive\n",
    "    # pattern=re.compile(r'before',re.I)\n",
    "    pattern=re.compile(r'chapter\\s\\w+',re.I)\n",
    "    array=pattern.search(string)\n",
    "    print(array)\n",
    "    if array:\n",
    "        print(\"Match found\")\n",
    "    else:\n",
    "        print(\"Match not found\")\n",
    "\n",
    "myfunc(book)"
   ]
  },
  {
   "cell_type": "markdown",
   "id": "3da4eae4-5d0c-4fd1-9b78-3177d5e3a263",
   "metadata": {},
   "source": [
    "### 4)  re.findall()\n",
    "\n",
    "re.findall(pattern, string, flags=0)\n",
    "+  return all the non-overlapping matches of a pattern in the string\n",
    "+  and it **returns these matches as a list of strings or tuple**\n",
    "+  if multiple groups are present, return a list of tuples of strings matching the groups\n",
    "+  non-capturing groups do not affect the form of the result"
   ]
  },
  {
   "cell_type": "code",
   "execution_count": 52,
   "id": "678116aa-9c53-448c-ab2e-88b342c24835",
   "metadata": {},
   "outputs": [
    {
     "data": {
      "text/plain": [
       "['Chapter 1',\n",
       " 'Chapter 2',\n",
       " 'Chapter 3',\n",
       " 'Chapter 4',\n",
       " 'Chapter 5',\n",
       " 'Chapter 6',\n",
       " 'Chapter 7',\n",
       " 'Chapter 8',\n",
       " 'Chapter 9',\n",
       " 'Chapter 10']"
      ]
     },
     "execution_count": 52,
     "metadata": {},
     "output_type": "execute_result"
    }
   ],
   "source": [
    "import re\n",
    "\n",
    "def myfunc(string):\n",
    "    # pattern=re.compile(r'\\s+before\\s+',re.I)                                             # match is case-sensitive\n",
    "    # pattern=re.compile(r'before',re.I)\n",
    "    pattern=re.compile(r'chapter\\s\\w+',re.I)\n",
    "    array=pattern.findall(string)\n",
    "    return array\n",
    "\n",
    "myfunc(book)"
   ]
  },
  {
   "cell_type": "markdown",
   "id": "e78f91c0-c190-4440-bce9-9f2c64645991",
   "metadata": {},
   "source": [
    "### 5) re.finditer()\n",
    "\n",
    "re.finditer(pattern, string, flags=0)\n",
    "+  works exactly the same as the re.findall() method except **return an iterator yielding Match objects** over all non-overlapping matches\n",
    "+  the string is scanned left-to-right, and matches are returned in the order found\n",
    "+  empty matches are included in the result"
   ]
  },
  {
   "cell_type": "code",
   "execution_count": 55,
   "id": "db4a78dc-ebbc-4b79-9014-f3dd1c303475",
   "metadata": {},
   "outputs": [
    {
     "name": "stdout",
     "output_type": "stream",
     "text": [
      "Chapter 1\n",
      "Chapter 2\n",
      "Chapter 3\n",
      "Chapter 4\n",
      "Chapter 5\n",
      "Chapter 6\n",
      "Chapter 7\n",
      "Chapter 8\n",
      "Chapter 9\n",
      "Chapter 10\n"
     ]
    }
   ],
   "source": [
    "import re\n",
    "\n",
    "def myfunc(string):\n",
    "    # pattern=re.compile(r'\\s+before\\s+',re.I)                                             # match is case-sensitive\n",
    "    # pattern=re.compile(r'before',re.I)\n",
    "    pattern=re.compile(r'chapter\\s\\w+',re.I)\n",
    "    array=pattern.finditer(string)\n",
    "    for match in array:\n",
    "        print(match.group())\n",
    "\n",
    "myfunc(book)"
   ]
  },
  {
   "cell_type": "markdown",
   "id": "8ac8ade8-1651-464c-a5e7-c22402c1387a",
   "metadata": {},
   "source": [
    "### 6) re.fullmatch()\n",
    "\n",
    "re.fullmatch(pattern, string, flags=0)\n",
    "+  If the whole string matches the regular expression pattern, **return a corresponding Match.**\n",
    "+  Return None if the string does not match the pattern  \n",
    "+  anchored at start and end of '^pattern$'"
   ]
  },
  {
   "cell_type": "code",
   "execution_count": 98,
   "id": "53fda913-2c39-47f6-a0b3-42c0d7e7c6d7",
   "metadata": {},
   "outputs": [
    {
     "name": "stdout",
     "output_type": "stream",
     "text": [
      "before Chapter ends\n"
     ]
    }
   ],
   "source": [
    "import re\n",
    "\n",
    "def myfunc(string):\n",
    "    # pattern=re.compile(r'\\s+before\\s+',re.I)                                             # match is case-sensitive\n",
    "    # pattern=re.compile(r'before',re.I)\n",
    "    pattern=re.compile(r'\\w+\\schapter\\s\\w+',re.I)\n",
    "    array=pattern.fullmatch(string)\n",
    "    print(array.group())\n",
    "\n",
    "myfunc('before Chapter ends')"
   ]
  },
  {
   "cell_type": "markdown",
   "id": "0aea235f-58a9-43bd-98a6-6cffd55026cc",
   "metadata": {},
   "source": [
    "### 7) re.split()\n",
    "\n",
    "re.split(pattern, string, maxsplit=0, flags=0)\n",
    "+  split the string at occurances of pattern\n",
    "+  If capturing parentheses are used in pattern, then the text of all groups in the pattern are also returned as part of the resulting list.\n"
   ]
  },
  {
   "cell_type": "code",
   "execution_count": 67,
   "id": "4820c8b8-632b-4fe4-8b9a-b31d25f7f2b5",
   "metadata": {},
   "outputs": [
    {
     "name": "stdout",
     "output_type": "stream",
     "text": [
      "['Words', 'words', 'words', '']\n",
      "['Words', 'words, words.']\n",
      "['Words', ', ', 'words', ', ', 'words', '.', '']\n",
      "['On ', '12', 'th Jan ', '2016', ', at ', '11', ':', '02', ' AM']\n",
      "['On', ' ', '12th', ' ', 'Jan', ' ', '2016', ', ', 'at', ' ', '11', ':', '02', ' ', 'AM']\n",
      "['', '', 'W', 'o', 'r', 'd', 's', '', 'w', 'o', 'r', 'd', 's', '', 'w', 'o', 'r', 'd', 's', '', '']\n",
      "['', '...', '', '', 'W', '', 'o', '', 'r', '', 'd', '', 's', ', ', '', '', 'w', '', 'o', '', 'r', '', 'd', '', 's', ', ', '', '', 'w', '', 'o', '', 'r', '', 'd', '', 's', '.', '', '', '']\n"
     ]
    }
   ],
   "source": [
    "import re\n",
    "\n",
    "print(re.split(r'\\W+','Words, words, words.'))\n",
    "print(re.split(r'\\W+','Words, words, words.',1))\n",
    "print(re.split(r'(\\W+)','Words, words, words.'))\n",
    "print(re.split(r'(\\d+)','On 12th Jan 2016, at 11:02 AM'))\n",
    "print(re.split(r'(\\W+)','On 12th Jan 2016, at 11:02 AM'))\n",
    "print(re.split(r'\\W*','...Words, words, words.'))\n",
    "print(re.split(r'(\\W*)','...Words, words, words.'))"
   ]
  },
  {
   "cell_type": "markdown",
   "id": "a296917c-7f96-426c-8e9e-79423a3aa864",
   "metadata": {},
   "source": [
    "### 8)  re.sub()\n",
    "\n",
    "re.sub(pattern, repl, string, count=0, flags=0)\n",
    "+  return the string obtained by replacing the leftmost non-overlapping occurrences of pattern in string by the replacement repl\n",
    "+  count is the maximum number of pattern occurrences to be replaced; count must be a non-negative integer.\n",
    "+  Uses:\\\n",
    "Remove unnecessary characters\\\n",
    "Convert the case of characters in a string\\\n",
    "Standardize formats to prepare data for analysis\\\n",
    "Correct spelling errors\\\n",
    "Replace specific words with synonyms\\\n",
    "Check for valid patterns\\\n",
    "Clean input to ensure data integrity and prevent errors"
   ]
  },
  {
   "cell_type": "code",
   "execution_count": 70,
   "id": "be7fb4fc-95c9-48b6-a079-b67104a5d251",
   "metadata": {},
   "outputs": [
    {
     "name": "stdout",
     "output_type": "stream",
     "text": [
      "2124567890\n"
     ]
    }
   ],
   "source": [
    "# reformat string\n",
    "import re\n",
    "\n",
    "def myfunc(string):\n",
    "    pattern=r'\\D+'                                                     # match is case-sensitive\n",
    "    array=re.sub(pattern,'',string)\n",
    "    print(array)\n",
    "\n",
    "myfunc(\"(212)-456-7890\")"
   ]
  },
  {
   "cell_type": "code",
   "execution_count": 72,
   "id": "bf9638a1-153e-4925-b150-76c6405ac47c",
   "metadata": {},
   "outputs": [
    {
     "name": "stdout",
     "output_type": "stream",
     "text": [
      "Jessa_knows_testing_and_machine_learning\n"
     ]
    }
   ],
   "source": [
    "# replace whitespace\n",
    "import re\n",
    "\n",
    "string=\"Jessa knows testing and machine learning\"\n",
    "pattern=r'\\s'\n",
    "array=re.sub(pattern,\"_\",string)\n",
    "print(array)"
   ]
  },
  {
   "cell_type": "code",
   "execution_count": 74,
   "id": "493f35fd-9d73-4f2f-a45f-a01d9abaf5c2",
   "metadata": {},
   "outputs": [
    {
     "name": "stdout",
     "output_type": "stream",
     "text": [
      "Jessa Knows Testing And Machine Learning\n"
     ]
    }
   ],
   "source": [
    "# remove trailing and leading whitespace\n",
    "import re\n",
    "\n",
    "string=\"   Jessa Knows Testing And Machine Learning   \\t\\n\"\n",
    "pattern=r'^\\s+|\\s+$'\n",
    "array=re.sub(pattern,\"\",string)\n",
    "print(array)"
   ]
  },
  {
   "cell_type": "markdown",
   "id": "cc80edef-f3c1-48c0-96f2-761c7df604b6",
   "metadata": {},
   "source": [
    "### 9) re.subn()\n",
    "\n",
    "re.subn(pattern, repl, string, count=0, flags=0)\n",
    "\n",
    "+  Perform the same operation as sub(), but return a tuple (new_string, number_of_subs_made)"
   ]
  },
  {
   "cell_type": "code",
   "execution_count": 77,
   "id": "c2ca58a4-9144-479a-bde7-ef56b6920eee",
   "metadata": {},
   "outputs": [
    {
     "name": "stdout",
     "output_type": "stream",
     "text": [
      "('2124567890', 3)\n"
     ]
    }
   ],
   "source": [
    "# reformat string\n",
    "import re\n",
    "\n",
    "def myfunc(string):\n",
    "    pattern=r'\\D+'                                                     # match is case-sensitive\n",
    "    array=re.subn(pattern,'',string)\n",
    "    print(array)\n",
    "\n",
    "myfunc(\"(212)-456-7890\")"
   ]
  },
  {
   "cell_type": "code",
   "execution_count": 79,
   "id": "30e8d8f6-4a91-47b4-b9a4-033615c10836",
   "metadata": {},
   "outputs": [
    {
     "name": "stdout",
     "output_type": "stream",
     "text": [
      "('Jessa_knows_testing_and_machine_learning', 5)\n"
     ]
    }
   ],
   "source": [
    "# replace whitespace\n",
    "import re\n",
    "\n",
    "string=\"Jessa knows testing and machine learning\"\n",
    "pattern=r'\\s'\n",
    "array=re.subn(pattern,\"_\",string)\n",
    "print(array)"
   ]
  },
  {
   "cell_type": "code",
   "execution_count": 81,
   "id": "863d08da-0f36-4119-b960-55f538b04e29",
   "metadata": {},
   "outputs": [
    {
     "name": "stdout",
     "output_type": "stream",
     "text": [
      "('Jessa Knows Testing And Machine Learning', 2)\n"
     ]
    }
   ],
   "source": [
    "# remove trailing and leading whitespace\n",
    "import re\n",
    "\n",
    "string=\"   Jessa Knows Testing And Machine Learning   \\t\\n\"\n",
    "pattern=r'^\\s+|\\s+$'\n",
    "array=re.subn(pattern,\"\",string)\n",
    "print(array)"
   ]
  },
  {
   "cell_type": "markdown",
   "id": "885a11a4-1d46-4da2-9afa-3fa6036d409e",
   "metadata": {},
   "source": [
    "### 10)    re.escape()\n",
    "\n",
    "re.escape(pattern)\n",
    "+  Escape special characters in pattern.\n",
    "+  This is useful when we need to match a string that contains special characters such as punctuation or regex operators, which would otherwise be interpreted as part of the regular expression syntax."
   ]
  },
  {
   "cell_type": "code",
   "execution_count": 84,
   "id": "2333a201-e298-49a3-b3cc-c25a095a7f64",
   "metadata": {},
   "outputs": [
    {
     "name": "stdout",
     "output_type": "stream",
     "text": [
      "https://www\\.github\\.com\n"
     ]
    }
   ],
   "source": [
    "import re\n",
    "\n",
    "text='https://www.github.com'\n",
    "print(re.escape(text))"
   ]
  }
 ],
 "metadata": {
  "kernelspec": {
   "display_name": "Python 3 (ipykernel)",
   "language": "python",
   "name": "python3"
  },
  "language_info": {
   "codemirror_mode": {
    "name": "ipython",
    "version": 3
   },
   "file_extension": ".py",
   "mimetype": "text/x-python",
   "name": "python",
   "nbconvert_exporter": "python",
   "pygments_lexer": "ipython3",
   "version": "3.12.7"
  }
 },
 "nbformat": 4,
 "nbformat_minor": 5
}
