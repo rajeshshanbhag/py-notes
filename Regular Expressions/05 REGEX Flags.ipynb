{
 "cells": [
  {
   "cell_type": "markdown",
   "id": "0e8c2a5d-dbc1-48f5-bde6-e7b12f853761",
   "metadata": {},
   "source": [
    "# REGEX COMPILATION FLAGS"
   ]
  },
  {
   "cell_type": "markdown",
   "id": "bdb2e2e9-62f3-43f4-81b8-9f2255d2ed97",
   "metadata": {},
   "source": [
    "###  Flags (also called modifiers) can change the behaviour of RE. Flags can be used to influence:\n",
    "+   case sensitivity\n",
    "1)  re.IGNORECASE or re.I\n",
    "+  character set\n",
    "2)  re.ASCII or re.A\n",
    "3)  re.UNICODE or re.U\n",
    "4)  re.LOCALE\n",
    "+  change metacharacter behaviour\n",
    "5)  re.MULTILINE or re.M\n",
    "6)  re.DOTALL or re.S\n",
    "+  make REGEX pattern readable\n",
    "7)  re.VERBOSE or re.X\n",
    "+  debug REGEX expression\n",
    "8)  re.DEBUG\n",
    "+  multiple flags\n",
    "+  inline flags"
   ]
  },
  {
   "cell_type": "code",
   "execution_count": 61,
   "id": "a28ba309-b21b-4de9-b446-c74f5b271ce3",
   "metadata": {},
   "outputs": [],
   "source": [
    "enc='utf-8'\n",
    "with open(\"miracle_in_the_andes.txt\",\"r\",encoding=enc) as f:\n",
    "    book=f.read()\n",
    "    #print(book)"
   ]
  },
  {
   "cell_type": "markdown",
   "id": "a0a7edf4-0bf9-409e-837d-d0366bc6f0aa",
   "metadata": {},
   "source": [
    "###  Case Sensitivity\n",
    "\n",
    "1) re.IGNORECASE or re.I\n",
    "+  Perform case-insensitive matching\n",
    "+  Full Unicode matching works unless the ASCII flag is used"
   ]
  },
  {
   "cell_type": "code",
   "execution_count": 66,
   "id": "802d6736-4dc0-4edc-8891-c095c3b74a09",
   "metadata": {},
   "outputs": [
    {
     "data": {
      "text/plain": [
       "['chapter']"
      ]
     },
     "execution_count": 66,
     "metadata": {},
     "output_type": "execute_result"
    }
   ],
   "source": [
    "#### Find characters without re.I\n",
    "\n",
    "import re\n",
    "\n",
    "def myfunc(string):\n",
    "    pattern=r'chapter'\n",
    "    array=re.findall(pattern,string)\n",
    "    return array\n",
    "\n",
    "myfunc(book)"
   ]
  },
  {
   "cell_type": "code",
   "execution_count": 68,
   "id": "fe1148c5-cc21-45a5-9548-73a36f7db83e",
   "metadata": {},
   "outputs": [
    {
     "data": {
      "text/plain": [
       "['Chapter',\n",
       " 'Chapter',\n",
       " 'Chapter',\n",
       " 'Chapter',\n",
       " 'Chapter',\n",
       " 'Chapter',\n",
       " 'Chapter',\n",
       " 'Chapter',\n",
       " 'Chapter',\n",
       " 'Chapter',\n",
       " 'chapter',\n",
       " 'Chapter']"
      ]
     },
     "execution_count": 68,
     "metadata": {},
     "output_type": "execute_result"
    }
   ],
   "source": [
    "#### Find characters with re.I\n",
    "\n",
    "import re\n",
    "\n",
    "def myfunc(string):\n",
    "    pattern=r'chapter'\n",
    "    array=re.findall(pattern,string,re.I)\n",
    "    return array\n",
    "\n",
    "myfunc(book)"
   ]
  },
  {
   "cell_type": "markdown",
   "id": "4427d012-552d-4db4-82f6-d5eb94c11b1b",
   "metadata": {},
   "source": [
    "###  Character set\n",
    "\n",
    "2)  re.ASCII or re.A\n",
    "3)  re.UNICODE or re.U              # this is default so superfluous\n",
    "4)  re.LOCALE or re.L              # outdated and not reliable\n",
    "\n",
    "+  Make \\w, \\W, \\b, \\B, \\d, \\D, \\s and \\S perform ASCII-only matching instead of full Unicode matching.\n",
    ">\\d = [0-9] - and no longer matches Hindi, Bengali, etc. digits  \n",
    ">\\D = [^0-9] - and matches any characters other than ASCII digits  \n",
    ">\\w = [A-Za-z0-9_] - and it only matches ASCII words now, Wiktor is matched with \\w+, but Виктор does not  \n",
    ">\\W = [^A-Za-z0-9_] - it matches any char but ASCII letters/digits/_ (i.e. it matches 你好吗, Виктор, etc.)  \n",
    ">\\s = [ \\t\\n\\r\\f\\v] - matches a regular space, tab, linefeed, carriage return, form feed and a vertical tab  \n",
    ">\\S = [^ \\t\\n\\r\\f\\v] - matches any char other than a space, tab, linefeed, carriage return, form feed and a vertical tab, \n",
    "so it matches all Unicode letters, digits and punctuation and Unicode (non-ASCII) whitespace.\n",
    "+  This is only meaningful for Unicode (str) patterns, and is ignored for bytes patterns.\n",
    "\n",
    "https://realpython.com/python-encodings-guide/  \n",
    "https://docs.python.org/3/howto/unicode.html#python-s-unicode-support"
   ]
  },
  {
   "cell_type": "code",
   "execution_count": 74,
   "id": "ec255098-111d-497f-9b6b-46e7663afa68",
   "metadata": {},
   "outputs": [
    {
     "data": {
      "text/plain": [
       "['la', 'cigüeña', 'es', 'bonita']"
      ]
     },
     "execution_count": 74,
     "metadata": {},
     "output_type": "execute_result"
    }
   ],
   "source": [
    "####   Non-English words without ASCII flag\n",
    "\n",
    "import re\n",
    "\n",
    "text = \"la cigüeña es bonita\" # the stork is pretty\n",
    "\n",
    "def myfunc(string):\n",
    "    pattern=re.compile(r'\\w+')\n",
    "    array=pattern.findall(string)\n",
    "    return array\n",
    "\n",
    "myfunc(text)"
   ]
  },
  {
   "cell_type": "code",
   "execution_count": 76,
   "id": "6f022cff-22ff-4fd7-b255-d8de3912a5b1",
   "metadata": {},
   "outputs": [
    {
     "data": {
      "text/plain": [
       "['la', 'cig', 'e', 'a', 'es', 'bonita']"
      ]
     },
     "execution_count": 76,
     "metadata": {},
     "output_type": "execute_result"
    }
   ],
   "source": [
    "####   Non-English words with ASCII flag\n",
    "\n",
    "import re\n",
    "\n",
    "text = \"la cigüeña es bonita\" # the stork is pretty\n",
    "\n",
    "def myfunc(string):\n",
    "    pattern=re.compile(r'\\w+',re.A)\n",
    "    array=pattern.findall(string)\n",
    "    return array\n",
    "\n",
    "myfunc(text)"
   ]
  },
  {
   "cell_type": "code",
   "execution_count": 78,
   "id": "b859b953-3b24-4ce1-be43-195f64756a7d",
   "metadata": {},
   "outputs": [
    {
     "data": {
      "text/plain": [
       "['१४६']"
      ]
     },
     "execution_count": 78,
     "metadata": {},
     "output_type": "execute_result"
    }
   ],
   "source": [
    "####   UNICODE digits without ASCII flag\n",
    "\n",
    "import re\n",
    "\n",
    "text = '\\u0967\\u096a\\u096c'\n",
    "\n",
    "def myfunc(string):\n",
    "    pattern=re.compile(r'\\d+')\n",
    "    array=pattern.findall(string)\n",
    "    return array\n",
    "\n",
    "myfunc(text)"
   ]
  },
  {
   "cell_type": "code",
   "execution_count": 80,
   "id": "b5c99b74-100e-4366-8508-88a61205a700",
   "metadata": {},
   "outputs": [
    {
     "data": {
      "text/plain": [
       "[]"
      ]
     },
     "execution_count": 80,
     "metadata": {},
     "output_type": "execute_result"
    }
   ],
   "source": [
    "####   UNICODE digits with ASCII flag\n",
    "\n",
    "import re\n",
    "\n",
    "text = '\\u0967\\u096a\\u096c'\n",
    "\n",
    "def myfunc(string):\n",
    "    pattern=re.compile(r'\\d+',re.A)\n",
    "    array=pattern.findall(string)\n",
    "    return array\n",
    "\n",
    "myfunc(text)"
   ]
  },
  {
   "cell_type": "markdown",
   "id": "ec438b7f-18c3-4940-810e-81d97a86a9b0",
   "metadata": {},
   "source": [
    "### Changing metacharacter behaviour\n",
    "\n",
    "5) re.MULTILINE or re.M\n",
    "+  Causes start-of-string and end-of-string anchors to match at embedded newlines\n",
    "+  only modifies the ^ and $ anchors in this way. It doesn’t have any effect on the \\A and \\Z anchors\n",
    "\n",
    "6) re.DOTALL or re.S\n",
    "+  Make the '.' special character match any character at all, including a newline; without this flag, '.' will match anything except a newline."
   ]
  },
  {
   "cell_type": "code",
   "execution_count": 83,
   "id": "7d3ac2c9-90d9-4ade-9df5-dbfd14962c98",
   "metadata": {},
   "outputs": [
    {
     "data": {
      "text/plain": [
       "['IT']"
      ]
     },
     "execution_count": 83,
     "metadata": {},
     "output_type": "execute_result"
    }
   ],
   "source": [
    "####   MULTILINE without flag\n",
    "\n",
    "import re\n",
    "\n",
    "text = 'IT WAS FRIDAY, the thirteenth of October.\\nWe joked about that—flying over the Andes on such an unlucky day,'\n",
    "\n",
    "def myfunc(string):\n",
    "    pattern=re.compile(r'^\\w{2}')\n",
    "    array=pattern.findall(string)\n",
    "    return array\n",
    "\n",
    "myfunc(text)"
   ]
  },
  {
   "cell_type": "code",
   "execution_count": 85,
   "id": "bccb6e20-3643-49c9-8174-47b7e4db7591",
   "metadata": {},
   "outputs": [
    {
     "data": {
      "text/plain": [
       "['IT', 'We']"
      ]
     },
     "execution_count": 85,
     "metadata": {},
     "output_type": "execute_result"
    }
   ],
   "source": [
    "####   MULTILINE with flag\n",
    "\n",
    "import re\n",
    "\n",
    "text = 'IT WAS FRIDAY, the thirteenth of October.\\nWe joked about that—flying over the Andes on such an unlucky day,'\n",
    "\n",
    "def myfunc(string):\n",
    "    pattern=re.compile(r'^\\w{2}',re.M)\n",
    "    array=pattern.findall(string)\n",
    "    return array\n",
    "\n",
    "myfunc(text)"
   ]
  },
  {
   "cell_type": "code",
   "execution_count": 2,
   "id": "02737855-8b7f-4a8b-89fc-b56eaecf6b31",
   "metadata": {},
   "outputs": [
    {
     "data": {
      "text/plain": [
       "'IT WAS FRIDAY, the thirteenth of October.\\nWe joked about that—flying over it was on such an unlucky day,'"
      ]
     },
     "execution_count": 2,
     "metadata": {},
     "output_type": "execute_result"
    }
   ],
   "source": [
    "####   DOTALL without flag\n",
    "\n",
    "import re\n",
    "\n",
    "text = 'IT WAS FRIDAY, the thirteenth of October.\\nWe joked about that—flying over the Andes on such an unlucky day,'\n",
    "\n",
    "def myfunc(string):\n",
    "    pattern=re.compile(r'the.*Andes')\n",
    "    array=pattern.sub(\"it was\",string)\n",
    "    return array\n",
    "\n",
    "myfunc(text)"
   ]
  },
  {
   "cell_type": "code",
   "execution_count": 105,
   "id": "1347fc94-657f-4e9f-8cf6-a5b1468a900b",
   "metadata": {},
   "outputs": [
    {
     "data": {
      "text/plain": [
       "'IT WAS FRIDAY, it was on such an unlucky day,'"
      ]
     },
     "execution_count": 105,
     "metadata": {},
     "output_type": "execute_result"
    }
   ],
   "source": [
    "####   DOTALL with flag\n",
    "\n",
    "import re\n",
    "\n",
    "text = 'IT WAS FRIDAY, the thirteenth of October.\\nWe joked about that—flying over the Andes on such an unlucky day,'\n",
    "\n",
    "def myfunc(string):\n",
    "    pattern=re.compile(r'the.*Andes',re.S)\n",
    "    array=pattern.sub(\"it was\",string)\n",
    "    return array\n",
    "\n",
    "myfunc(text)"
   ]
  },
  {
   "cell_type": "markdown",
   "id": "adf2e71d-a5e9-4edb-a03b-8a610303ba4d",
   "metadata": {},
   "source": [
    "###  Make REGEX pattern readable\n",
    "\n",
    "7) re.VERBOSE or re.X\n",
    "+  write regular expressions that are more readable by allowing you to visually separate logical sections of the pattern and add comments. "
   ]
  },
  {
   "cell_type": "code",
   "execution_count": 107,
   "id": "93645cb5-8872-4540-8f17-4e1a693051a4",
   "metadata": {},
   "outputs": [
    {
     "name": "stdout",
     "output_type": "stream",
     "text": [
      "[('Python', '3')]\n"
     ]
    }
   ],
   "source": [
    "import re\n",
    "\n",
    "s = 'Python 3'\n",
    "\n",
    "pattern = r'''^(\\w+) # match one or more characters at the beginning of the string\n",
    "               \\s*   # match zero or more spaces\n",
    "              (\\d+)$ # match one or more digits at the end of the string'''\n",
    "\n",
    "l = re.findall(pattern, s, re.VERBOSE)\n",
    "print(l)"
   ]
  },
  {
   "cell_type": "markdown",
   "id": "08826813-1ddf-4a25-bd97-137407729624",
   "metadata": {},
   "source": [
    "### Debug REGEX expression\n",
    "\n",
    "8) re.DEBUG\n",
    "+  Display debug information about compiled expression"
   ]
  },
  {
   "cell_type": "code",
   "execution_count": 119,
   "id": "e9030700-d1df-495e-90fb-eb04a1da5f60",
   "metadata": {},
   "outputs": [
    {
     "name": "stdout",
     "output_type": "stream",
     "text": [
      "AT AT_BEGINNING\n",
      "SUBPATTERN 1 0 0\n",
      "  MAX_REPEAT 1 MAXREPEAT\n",
      "    IN\n",
      "      CATEGORY CATEGORY_WORD\n",
      "MAX_REPEAT 0 MAXREPEAT\n",
      "  IN\n",
      "    CATEGORY CATEGORY_SPACE\n",
      "SUBPATTERN 2 0 0\n",
      "  MAX_REPEAT 1 MAXREPEAT\n",
      "    IN\n",
      "      CATEGORY CATEGORY_DIGIT\n",
      "AT AT_END\n",
      "\n",
      " 0. INFO 4 0b0 2 MAXREPEAT (to 5)\n",
      " 5: AT BEGINNING\n",
      " 7. MARK 0\n",
      " 9. REPEAT_ONE 9 1 MAXREPEAT (to 19)\n",
      "13.   IN 4 (to 18)\n",
      "15.     CATEGORY UNI_WORD\n",
      "17.     FAILURE\n",
      "18:   SUCCESS\n",
      "19: MARK 1\n",
      "21. REPEAT_ONE 9 0 MAXREPEAT (to 31)\n",
      "25.   IN 4 (to 30)\n",
      "27.     CATEGORY UNI_SPACE\n",
      "29.     FAILURE\n",
      "30:   SUCCESS\n",
      "31: MARK 2\n",
      "33. REPEAT_ONE 9 1 MAXREPEAT (to 43)\n",
      "37.   IN 4 (to 42)\n",
      "39.     CATEGORY UNI_DIGIT\n",
      "41.     FAILURE\n",
      "42:   SUCCESS\n",
      "43: MARK 3\n",
      "45. AT END\n",
      "47. SUCCESS\n",
      "[('Python', '3')]\n"
     ]
    }
   ],
   "source": [
    "import re\n",
    "\n",
    "s = 'Python 3'\n",
    "\n",
    "pattern = r'^(\\w+)\\s*(\\d+)$'\n",
    "\n",
    "l = re.findall(pattern, s, re.DEBUG)\n",
    "print(l)"
   ]
  },
  {
   "cell_type": "code",
   "execution_count": null,
   "id": "e5e7374c-96a6-4262-a2da-b25496851423",
   "metadata": {},
   "outputs": [],
   "source": [
    "### Multiple flags\n",
    "\n",
    "+  use | or + operator to add multiple flags"
   ]
  },
  {
   "cell_type": "code",
   "execution_count": null,
   "id": "ca35d5f0-7186-473f-8fdf-3740738fafb9",
   "metadata": {},
   "outputs": [],
   "source": [
    "### Inline flags\n",
    "\n",
    "+  (+#comment)                 another way to add comments, not a flag\n",
    "+  (?flags:pattern)            Inline flags only for this pat (?aiLmsx), overrides flags argument where flags is re.I, re.S, etc except re.L\n",
    "+  (?-flags:pattern)           negates flags for this pattern\n",
    "+  (?flags-flags:pattern)      apply and negate particular flags only for this pat\n",
    "+  (?flags)                    apply flags for whole RE, can be used only at start of RE; anchors if any, should be specified after (?flags)"
   ]
  }
 ],
 "metadata": {
  "kernelspec": {
   "display_name": "Python 3 (ipykernel)",
   "language": "python",
   "name": "python3"
  },
  "language_info": {
   "codemirror_mode": {
    "name": "ipython",
    "version": 3
   },
   "file_extension": ".py",
   "mimetype": "text/x-python",
   "name": "python",
   "nbconvert_exporter": "python",
   "pygments_lexer": "ipython3",
   "version": "3.12.4"
  }
 },
 "nbformat": 4,
 "nbformat_minor": 5
}
