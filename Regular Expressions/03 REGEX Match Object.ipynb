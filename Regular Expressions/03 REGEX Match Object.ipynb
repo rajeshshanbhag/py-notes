{
 "cells": [
  {
   "cell_type": "markdown",
   "id": "2bf75672-41ad-4687-838a-ee52d2f63f99",
   "metadata": {},
   "source": [
    "# REGEX Match Object"
   ]
  },
  {
   "cell_type": "markdown",
   "id": "a2dfbf83-ed49-4f0d-bc51-12008842d256",
   "metadata": {},
   "source": [
    "+ match() and search() return match objects when a string matches a regular expression pattern.\n",
    "+ You can extract the matched string and its position using methods provided by the match object."
   ]
  },
  {
   "cell_type": "code",
   "execution_count": 34,
   "id": "5dbe8a8e-e8e7-458f-82f8-08695f9ef482",
   "metadata": {},
   "outputs": [],
   "source": [
    "enc='utf-8'\n",
    "with open(\"miracle_in_the_andes.txt\",\"r\",encoding=enc) as f:\n",
    "    book=f.read()\n",
    "    #print(book)"
   ]
  },
  {
   "cell_type": "markdown",
   "id": "dc8a8b67-e74d-4944-b694-499033a6be88",
   "metadata": {},
   "source": [
    "### methods in match object"
   ]
  },
  {
   "cell_type": "code",
   "execution_count": 37,
   "id": "2a77d7a5-3b56-4864-a824-5a80f54eb5ab",
   "metadata": {},
   "outputs": [
    {
     "name": "stdout",
     "output_type": "stream",
     "text": [
      "Span:  (0, 9)\n",
      "Start:  0\n",
      "End:  9\n",
      "Match found1:  Chapter 1\n"
     ]
    }
   ],
   "source": [
    "import re\n",
    "\n",
    "def myfunc(string):\n",
    "    pattern=re.compile(r'chapter\\s\\w+',re.I)\n",
    "    array=pattern.search(string)\n",
    "    if array:\n",
    "        print(\"Span: \",array.span())\n",
    "        print(\"Start: \",array.start())\n",
    "        print(\"End: \",array.end())\n",
    "        print(\"Match found1: \",array.group())   \n",
    "    else:\n",
    "        print(\"Match not found\")\n",
    "\n",
    "myfunc(book)"
   ]
  },
  {
   "cell_type": "code",
   "execution_count": 39,
   "id": "8ddf6207-2ccf-4092-959d-4135ec9e3b1f",
   "metadata": {},
   "outputs": [
    {
     "name": "stdout",
     "output_type": "stream",
     "text": [
      "Malcolm\n",
      "Reynolds\n",
      "Malcolm\n",
      "Reynolds\n",
      "Malcolm\n",
      "Reynolds\n",
      "{'first_name': 'Malcolm', 'last_name': 'Reynolds'}\n"
     ]
    }
   ],
   "source": [
    "m = re.match(r\"(?P<first_name>\\w+) (?P<last_name>\\w+)\", \"Malcolm Reynolds\")\n",
    "print(m.group('first_name'))\n",
    "print(m.group('last_name'))\n",
    "print(m.group(1))\n",
    "print(m.group(2))\n",
    "print(m[1])\n",
    "print(m[2])\n",
    "print(m.groupdict())"
   ]
  }
 ],
 "metadata": {
  "kernelspec": {
   "display_name": "Python 3 (ipykernel)",
   "language": "python",
   "name": "python3"
  },
  "language_info": {
   "codemirror_mode": {
    "name": "ipython",
    "version": 3
   },
   "file_extension": ".py",
   "mimetype": "text/x-python",
   "name": "python",
   "nbconvert_exporter": "python",
   "pygments_lexer": "ipython3",
   "version": "3.12.4"
  }
 },
 "nbformat": 4,
 "nbformat_minor": 5
}
