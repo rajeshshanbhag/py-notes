{
 "cells": [
  {
   "cell_type": "markdown",
   "id": "b7a46448-5875-493c-8df1-732bf6d6ad0b",
   "metadata": {},
   "source": [
    "<h3 style=\"color:blue\" align=\"left\">Lambda</h3>"
   ]
  },
  {
   "cell_type": "markdown",
   "id": "f3efa8da-4aa6-4c2a-8340-ee16024baacf",
   "metadata": {},
   "source": [
    "#### Lambda is a function which has no name when defining it (anonymous).\n",
    "#### Use for short-term temporary functions"
   ]
  },
  {
   "cell_type": "markdown",
   "id": "11fab3cf-e3d4-4ef8-883f-520081c0c805",
   "metadata": {},
   "source": [
    "#### Syntax = Lambda argument(s): expression"
   ]
  },
  {
   "cell_type": "code",
   "execution_count": 2,
   "id": "99335978-81a7-4a8a-a918-41f3a6b806d5",
   "metadata": {},
   "outputs": [
    {
     "data": {
      "text/plain": [
       "<function __main__.<lambda>(a, b)>"
      ]
     },
     "execution_count": 2,
     "metadata": {},
     "output_type": "execute_result"
    }
   ],
   "source": [
    "##  Standard Function\n",
    "def func(a,b):\n",
    "    result=a+b\n",
    "    return result\n",
    "\n",
    "\n",
    "##  Lambda function\n",
    "lambda a,b:a+b"
   ]
  },
  {
   "cell_type": "markdown",
   "id": "97947cc7-9e50-44d3-a10f-570daef69a0f",
   "metadata": {},
   "source": [
    "#### Lambda using variable\n",
    "#### variable = Lambda argument(s): expression"
   ]
  },
  {
   "cell_type": "code",
   "execution_count": 4,
   "id": "81845800-2fde-40b5-82ea-2cffb07c636c",
   "metadata": {},
   "outputs": [
    {
     "name": "stdout",
     "output_type": "stream",
     "text": [
      "7\n"
     ]
    }
   ],
   "source": [
    "add=lambda x,y:x+y\n",
    "result=add(3,4)\n",
    "print(result)"
   ]
  },
  {
   "cell_type": "markdown",
   "id": "074f3057-76d4-4e8b-b4b3-df2ecf99abe7",
   "metadata": {},
   "source": [
    "#### map() function applies to each element in the list"
   ]
  },
  {
   "cell_type": "code",
   "execution_count": 14,
   "id": "e5f465b1-6a48-4338-8af4-f5ad06c28951",
   "metadata": {},
   "outputs": [
    {
     "name": "stdout",
     "output_type": "stream",
     "text": [
      "[1, 4, 9, 16, 25]\n"
     ]
    }
   ],
   "source": [
    "my_list=[1,2,3,4,5]\n",
    "result=list(map(lambda x:x**2, my_list))\n",
    "print(result)"
   ]
  },
  {
   "cell_type": "markdown",
   "id": "cf83ab62-0ecb-4a47-8588-0c75721cc778",
   "metadata": {},
   "source": [
    "#### filter() function creates a list of elements for which function is true"
   ]
  },
  {
   "cell_type": "code",
   "execution_count": 15,
   "id": "25a2fff8-567f-49db-987f-9c0f54ff843f",
   "metadata": {},
   "outputs": [
    {
     "name": "stdout",
     "output_type": "stream",
     "text": [
      "[2, 4]\n"
     ]
    }
   ],
   "source": [
    "#my_list=[1,2,3,4,5,6,7,8,9,10]\n",
    "result=list(filter(lambda x:x%2==0, my_list))\n",
    "print(result)"
   ]
  },
  {
   "cell_type": "markdown",
   "id": "c738f20f-6060-46f9-89a8-dbf3b7590684",
   "metadata": {},
   "source": [
    "#### reduce() function applies given function to the element of an iterable in a cumulative way, and returns a single value"
   ]
  },
  {
   "cell_type": "code",
   "execution_count": 16,
   "id": "5c199675-deca-403e-b25f-3182f802754b",
   "metadata": {},
   "outputs": [
    {
     "name": "stdout",
     "output_type": "stream",
     "text": [
      "120\n"
     ]
    }
   ],
   "source": [
    "from functools import reduce\n",
    "#my_list=[1,2,3,4,5]\n",
    "result=reduce(lambda x,y:x*y, my_list)\n",
    "print(result)"
   ]
  },
  {
   "cell_type": "markdown",
   "id": "0b4f3109-93f1-4c5e-9447-33c348d7d0df",
   "metadata": {},
   "source": [
    "#### lambda in dictionary"
   ]
  },
  {
   "cell_type": "code",
   "execution_count": 19,
   "id": "d2fe09b5-06a9-4d35-a6bc-3075e916c1fd",
   "metadata": {},
   "outputs": [
    {
     "name": "stdout",
     "output_type": "stream",
     "text": [
      "17\n",
      "-3\n"
     ]
    }
   ],
   "source": [
    "func={'sum':lambda x,y:x+y, 'subtract': lambda x,y:x-y}\n",
    "print(func['sum'](7,10))\n",
    "print(func['subtract'](7,10))"
   ]
  },
  {
   "cell_type": "markdown",
   "id": "b61b4902-eaab-4295-bda3-b9cf5bc06401",
   "metadata": {},
   "source": [
    "#### Lambda inside a standard function"
   ]
  },
  {
   "cell_type": "code",
   "execution_count": 21,
   "id": "f782165e-313a-4b42-9298-848622dc806f",
   "metadata": {},
   "outputs": [
    {
     "name": "stdout",
     "output_type": "stream",
     "text": [
      "22\n",
      "33\n"
     ]
    }
   ],
   "source": [
    "def myfunc(n):\n",
    "  return lambda a : a * n\n",
    "\n",
    "mydoubler=myfunc(2)\n",
    "mytripler=myfunc(3)\n",
    "\n",
    "print(mydoubler(11))\n",
    "print(mytripler(11))"
   ]
  },
  {
   "cell_type": "markdown",
   "id": "62272191-fc42-422f-88d7-8fbeebdc8589",
   "metadata": {},
   "source": [
    "#### Lambda with list comprehension"
   ]
  },
  {
   "cell_type": "code",
   "execution_count": 28,
   "id": "0fe98e88-137c-4d7f-8922-a1cdf588fd8b",
   "metadata": {},
   "outputs": [
    {
     "name": "stdout",
     "output_type": "stream",
     "text": [
      "10\n",
      "20\n",
      "30\n",
      "40\n"
     ]
    }
   ],
   "source": [
    "li = [lambda arg=x: arg*10 for x in range(1,5)]\n",
    "for i in li:\n",
    "    print(i())"
   ]
  },
  {
   "cell_type": "markdown",
   "id": "6b43ddab-3c5b-47aa-81ba-ac3f307eb07b",
   "metadata": {},
   "source": [
    "#### Lambda with if-else"
   ]
  },
  {
   "cell_type": "code",
   "execution_count": 30,
   "id": "d4856d87-30e9-4239-8ceb-1cbccca6cd96",
   "metadata": {},
   "outputs": [
    {
     "name": "stdout",
     "output_type": "stream",
     "text": [
      "Even\n",
      "Odd\n"
     ]
    }
   ],
   "source": [
    "check = lambda x: \"Even\" if x % 2 == 0 else \"Odd\"\n",
    "\n",
    "print(check(4))  \n",
    "print(check(7))"
   ]
  },
  {
   "cell_type": "markdown",
   "id": "39384353-ea93-4e56-be3b-e1157020ef31",
   "metadata": {},
   "source": [
    "#### Lambda with multiple statements"
   ]
  },
  {
   "cell_type": "code",
   "execution_count": 31,
   "id": "35fd79cb-ab91-4885-897d-37e24c37f954",
   "metadata": {},
   "outputs": [
    {
     "name": "stdout",
     "output_type": "stream",
     "text": [
      "(7, 12)\n"
     ]
    }
   ],
   "source": [
    "calc = lambda x, y: (x + y, x * y)\n",
    "\n",
    "res = calc(3, 4)\n",
    "print(res)"
   ]
  },
  {
   "cell_type": "markdown",
   "id": "bd29a193-a5d7-4404-bcaf-f12212a28efd",
   "metadata": {},
   "source": [
    "#### Lambda with sorted()"
   ]
  },
  {
   "cell_type": "code",
   "execution_count": 32,
   "id": "85cef5d0-2f10-4368-ad1f-eb7c22d7b21b",
   "metadata": {},
   "outputs": [
    {
     "name": "stdout",
     "output_type": "stream",
     "text": [
      "[(1, 'apple'), (3, 'banana'), (2, 'orange')]\n"
     ]
    }
   ],
   "source": [
    "data = [(1, 'apple'), (3, 'banana'), (2, 'orange')]\n",
    "sorted_data = sorted(data, key=lambda x: x[1])\n",
    "print(sorted_data)  # Output: [(1, 'apple'), (3, 'banana'), (2, 'orange')]"
   ]
  }
 ],
 "metadata": {
  "kernelspec": {
   "display_name": "Python 3 (ipykernel)",
   "language": "python",
   "name": "python3"
  },
  "language_info": {
   "codemirror_mode": {
    "name": "ipython",
    "version": 3
   },
   "file_extension": ".py",
   "mimetype": "text/x-python",
   "name": "python",
   "nbconvert_exporter": "python",
   "pygments_lexer": "ipython3",
   "version": "3.12.7"
  }
 },
 "nbformat": 4,
 "nbformat_minor": 5
}
