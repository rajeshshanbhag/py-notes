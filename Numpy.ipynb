{
 "cells": [
  {
   "cell_type": "code",
   "execution_count": 3,
   "id": "913c890a-8a15-422d-9d77-12dd4be7a8e8",
   "metadata": {},
   "outputs": [],
   "source": [
    "import numpy as np"
   ]
  },
  {
   "cell_type": "code",
   "execution_count": 64,
   "id": "1eb9bb0b-cb26-4d2f-8f9a-dc5443457e37",
   "metadata": {},
   "outputs": [
    {
     "name": "stdout",
     "output_type": "stream",
     "text": [
      "a-type:  <class 'numpy.ndarray'>\n",
      "a-shape: (3,)\n",
      "a-index: 1 2 3\n",
      "a-changed list: [5 2 3]\n",
      "b-shape: (2, 3)\n",
      "b-reshape: [[1 2]\n",
      " [3 4]\n",
      " [5 6]]\n",
      "b-index: 1 2 4\n",
      "b-ravel: [1 2 3 4 5 6]\n",
      "b: [[1 2 3]\n",
      " [4 5 6]]\n"
     ]
    }
   ],
   "source": [
    "\"\"\"\n",
    "ACCESS / CHANGE ARRAY\n",
    "\"\"\"\n",
    "a = np.array([1, 2, 3])             # Create a rank 1 array\n",
    "print(\"a-type: \",type(a))             # Prints \"<class 'numpy.ndarray'>\"\n",
    "print(\"a-shape:\",a.shape)            # Prints (rows, columns)\n",
    "print(\"a-index:\",a[0], a[1], a[2])   # Prints \"1 2 3\" = indexing\n",
    "a[0] = 5                            # Change an element of the array\n",
    "print(\"a-changed list:\", a)           # Prints \"[5, 2, 3]\"\n",
    "\n",
    "b = np.array([[1,2,3],[4,5,6]])     # Create a rank 2 array\n",
    "print(\"b-shape:\",b.shape)          # Prints \"(2, 3)\"\n",
    "c=b.reshape(3,2)\n",
    "print(\"b-reshape:\",c)\n",
    "print(\"b-index:\",b[0, 0], b[0, 1], b[1, 0])    # Prints \"1 2 4\"\n",
    "d=b.ravel()\n",
    "print(\"b-ravel:\",d)\n",
    "print(\"b:\",b)                         # original array remains"
   ]
  },
  {
   "cell_type": "code",
   "execution_count": 58,
   "id": "ffe4cba3-7bbc-480a-8fcf-b8a696454309",
   "metadata": {},
   "outputs": [
    {
     "name": "stdout",
     "output_type": "stream",
     "text": [
      "a: [[0. 0.]\n",
      " [0. 0.]]\n",
      "b: [[1. 1.]\n",
      " [1. 1.]\n",
      " [1. 1.]]\n",
      "f: [[0.0000e+000 0.0000e+000 0.0000e+000]\n",
      " [0.0000e+000 0.0000e+000 1.1067e-320]\n",
      " [0.0000e+000 0.0000e+000 0.0000e+000]]\n",
      "c: [[7 7]\n",
      " [7 7]]\n",
      "d: [[1. 0. 0. 0.]\n",
      " [0. 1. 0. 0.]\n",
      " [0. 0. 1. 0.]\n",
      " [0. 0. 0. 1.]\n",
      " [0. 0. 0. 0.]]\n",
      "e: [[0.0969174  0.20984773]\n",
      " [0.26472344 0.54608212]]\n",
      "g: [2.  2.2 2.4 2.6 2.8 3.  3.2 3.4 3.6 3.8]\n",
      "h: [1.         1.44444444 1.88888889 2.33333333 2.77777778 3.22222222\n",
      " 3.66666667 4.11111111 4.55555556 5.        ]\n"
     ]
    }
   ],
   "source": [
    "\"\"\"\n",
    "CREATE ARRAYS\n",
    "\"\"\"\n",
    "a = np.zeros((2,2))   # Create an array of all zeros, floating type hence decimal\n",
    "print(\"a:\",a)\n",
    "\n",
    "b = np.ones((3,2))    # Create an array of all ones\n",
    "print(\"b:\",b)\n",
    "\n",
    "f = np.empty((3,3))    # Create an array of random values\n",
    "print(\"f:\",f)              \n",
    "\n",
    "c = np.full((2,2), 7)  # Create a constant array\n",
    "print(\"c:\",c)\n",
    "\n",
    "d = np.eye(5,4)         # Create a 2x2 identity matrix; an identity matrix is a square matrix with ones on the diagonal and zeros elsewhere\n",
    "print(\"d:\",d)\n",
    "\n",
    "e = np.random.random((2,2))  # Create an array filled with random values\n",
    "print(\"e:\",e)\n",
    "\n",
    "# Converting from a list\n",
    "my_list1 = [1,2,3,4]\n",
    "my_array1 = np.array(my_list1)\n",
    "my_array1\n",
    "\n",
    "#create list\n",
    "g=np.arange(2,4,0.2)                        # arange(start,stop,step)\n",
    "print(\"g:\",g)\n",
    "\n",
    "# linear spaced array\n",
    "h=np.linspace(1,5,10)\n",
    "print(\"h:\",h)"
   ]
  },
  {
   "cell_type": "code",
   "execution_count": 40,
   "id": "15f2fc94-07de-4484-af1e-2ec0ce082f5c",
   "metadata": {},
   "outputs": [
    {
     "name": "stdout",
     "output_type": "stream",
     "text": [
      "[[ 1  2  3  4]\n",
      " [11 22 33 44]]\n",
      "(2, 4)\n",
      "int32\n"
     ]
    }
   ],
   "source": [
    "\"\"\"\n",
    "Multi Dimensional Array\n",
    "\"\"\"\n",
    "my_list2 = [11,22,33,44]\n",
    "my_lists = [my_list1,my_list2]\n",
    "my_array2 = np.array(my_lists)\n",
    "my_array2\n",
    "\n",
    "print(my_array2)\n",
    "print(my_array2.shape)\n",
    "print(my_array2.dtype)"
   ]
  },
  {
   "cell_type": "code",
   "execution_count": 48,
   "id": "5c28b5be-d6c3-44b4-b6d6-490ab5822c80",
   "metadata": {},
   "outputs": [
    {
     "name": "stdout",
     "output_type": "stream",
     "text": [
      "python list took:  157.39130973815918\n",
      "numpy took:  15.162467956542969\n"
     ]
    }
   ],
   "source": [
    "\"\"\"\n",
    "NUMPY LIST VS PYTHON LIST\n",
    "Numpy takes less memory and is faster\n",
    "\"\"\"\n",
    "import numpy as np\n",
    "import time\n",
    "import sys\n",
    "SIZE = 1000000\n",
    "l1 = range(SIZE)\n",
    "l2 = range(SIZE)\n",
    "a1=np.arange(SIZE)\n",
    "a2=np.arange(SIZE)\n",
    "\n",
    "# python list\n",
    "start = time.time()\n",
    "result = [(x+y) for x,y in zip(l1,l2)]\n",
    "print(\"python list took: \",(time.time()-start)*1000)\n",
    "# numpy array\n",
    "start= time.time()\n",
    "result = a1 + a2\n",
    "print(\"numpy took: \", (time.time()-start)*1000)"
   ]
  },
  {
   "cell_type": "code",
   "execution_count": 57,
   "id": "3fc90b5c-e9cb-433a-b879-502b016f616f",
   "metadata": {},
   "outputs": [
    {
     "name": "stdout",
     "output_type": "stream",
     "text": [
      "2\n",
      "4\n",
      "8\n",
      "8\n",
      "(2, 4)\n"
     ]
    }
   ],
   "source": [
    "a=np.array([[1,2,3,5],[4,5,6,8]])\n",
    "print(a.ndim)\n",
    "print(a.itemsize)                                  # integer has 8byte size\n",
    "a=np.array([[1,2,3,5],[4,5,6,8]],dtype=np.float64)\n",
    "print(a.itemsize)                                  # float has 8byte size\n",
    "\n",
    "print(a.size)                                      # number of elements\n",
    "print(a.shape)                                    # number of rows, columns"
   ]
  },
  {
   "cell_type": "code",
   "execution_count": 74,
   "id": "ea4a5548-7ed6-4858-a226-f9b73dc467cf",
   "metadata": {},
   "outputs": [
    {
     "name": "stdout",
     "output_type": "stream",
     "text": [
      "[[ 3  6  9]\n",
      " [12 15 18]\n",
      " [21 24 27]]\n",
      "[[ 2  4  6]\n",
      " [ 8 10 12]\n",
      " [14 16 18]]\n",
      "[[  9  36  81]\n",
      " [144 225 324]\n",
      " [441 576 729]]\n",
      "[[  6  24  54]\n",
      " [ 96 150 216]\n",
      " [294 384 486]]\n",
      "[[1 2 3]\n",
      " [4 5 6]\n",
      " [7 8 9]]\n",
      "[[0.33333333 0.16666667 0.11111111]\n",
      " [0.08333333 0.06666667 0.05555556]\n",
      " [0.04761905 0.04166667 0.03703704]]\n",
      "[[1.5 1.5 1.5]\n",
      " [1.5 1.5 1.5]\n",
      " [1.5 1.5 1.5]]\n",
      "[[   27   216   729]\n",
      " [ 1728  3375  5832]\n",
      " [ 9261 13824 19683]]\n",
      "a = [[ 3  6  9]\n",
      " [12 15 18]\n",
      " [21 24 27]]\n",
      "sum of axis 0 in a = [36 45 54]\n"
     ]
    }
   ],
   "source": [
    "\"\"\"\n",
    "SCALARS\n",
    "\"\"\"\n",
    "a=np.arange(3,30,3).reshape(3,3)\n",
    "print(a)\n",
    "\n",
    "b=np.arange(2,20,2).reshape(3,3)\n",
    "print(b)\n",
    "\n",
    "## multiply\n",
    "print(a*a)\n",
    "print(a*b)\n",
    "## Subtract\n",
    "print(a-b)\n",
    "## division\n",
    "print(1/a)\n",
    "print(a/b)\n",
    "## Exponential\n",
    "print(a**3)\n",
    "\n",
    "# Sum\n",
    "print(\"a =\",a)\n",
    "print(\"sum of axis 0 in a =\",a.sum(axis=0))                # Axis 0 is column, axis 1 is row"
   ]
  },
  {
   "cell_type": "code",
   "execution_count": 77,
   "id": "cb2e300f-5bfa-4a12-85ab-e35c64fbb177",
   "metadata": {},
   "outputs": [
    {
     "name": "stdout",
     "output_type": "stream",
     "text": [
      "1 [[2 3]\n",
      " [6 7]]\n",
      "2 4\n",
      "3 [[77  3]\n",
      " [ 6  7]]\n",
      "4 77\n",
      "[5 6 7 8] (4,)\n",
      "[[5 6 7 8]] (1, 4)\n",
      "[77  6 10] (3,)\n",
      "[[77]\n",
      " [ 6]\n",
      " [10]] (3, 1)\n",
      "[[ 1 77  3  4]\n",
      " [ 5  6  7  8]\n",
      " [ 9 10 11 12]]\n",
      "[[ 1 77  3  4]\n",
      " [ 5  6  7  8]\n",
      " [ 9 10 11 12]]\n",
      "a [[ 1 77  3  4]\n",
      " [ 5  6  7  8]\n",
      " [ 9 10 11 12]]\n",
      "[[77  3]\n",
      " [ 6  7]]\n",
      "[[ 1 77  3  4]\n",
      " [ 5  6  7  8]\n",
      " [ 9 10 11 12]]\n"
     ]
    }
   ],
   "source": [
    "\"\"\"\n",
    "INDEXING/ SLICING\n",
    "\"\"\"\n",
    "a = np.array([[1,2,3,4], [5,6,7,8], [9,10,11,12]])\n",
    "b = a[:2, 1:3]\n",
    "print(\"1\",b)\n",
    "print(\"2\",a[0, 3])\n",
    "b[0, 0] = 77                        # b[0, 0] is the same piece of data as a[0, 1]\n",
    "print(\"3\",b)\n",
    "print(\"4\",a[0, 1])\n",
    "\n",
    "row_r1 = a[1, :]\n",
    "row_r2 = a[1:2, :]\n",
    "print(row_r1, row_r1.shape)\n",
    "print(row_r2, row_r2.shape)\n",
    "\n",
    "col_r1 = a[:, 1]\n",
    "col_r2 = a[:, 1:2]\n",
    "print(col_r1, col_r1.shape)\n",
    "print(col_r2, col_r2.shape)\n",
    "\n",
    "print(a)\n",
    "\n",
    "c=a.copy()\n",
    "print(c)"
   ]
  },
  {
   "cell_type": "code",
   "execution_count": 98,
   "id": "2f525dbd-b9e7-4798-8c7e-ca14ec17756c",
   "metadata": {},
   "outputs": [
    {
     "name": "stdout",
     "output_type": "stream",
     "text": [
      "a [[0 1]\n",
      " [2 3]\n",
      " [4 5]]\n",
      "b [[ 6  7]\n",
      " [ 8  9]\n",
      " [10 11]]\n",
      "c [[12 13]\n",
      " [14 15]\n",
      " [16 17]]\n",
      "vstack [[ 0  1]\n",
      " [ 2  3]\n",
      " [ 4  5]\n",
      " [ 6  7]\n",
      " [ 8  9]\n",
      " [10 11]\n",
      " [12 13]\n",
      " [14 15]\n",
      " [16 17]]\n",
      "d [[ 0  1  6  7 12 13]\n",
      " [ 2  3  8  9 14 15]\n",
      " [ 4  5 10 11 16 17]]\n",
      "e [array([[ 0,  1,  6],\n",
      "       [ 2,  3,  8],\n",
      "       [ 4,  5, 10]]), array([[ 7, 12, 13],\n",
      "       [ 9, 14, 15],\n",
      "       [11, 16, 17]])]\n",
      "f [array([[ 0,  1,  6,  7, 12, 13]]), array([[ 2,  3,  8,  9, 14, 15]]), array([[ 4,  5, 10, 11, 16, 17]])]\n"
     ]
    }
   ],
   "source": [
    "a=np.arange(0,6).reshape(3,2)\n",
    "b=np.arange(6,12).reshape(3,2)\n",
    "c=np.arange(12,18).reshape(3,2)\n",
    "\n",
    "print('a',a)\n",
    "print('b',b)\n",
    "print('c',c)\n",
    "\n",
    "print('vstack',np.vstack((a,b,c)))\n",
    "\n",
    "d=np.hstack((a,b,c))\n",
    "print('d',d)\n",
    "\n",
    "e=np.hsplit(d,2)\n",
    "print('e',e)\n",
    "\n",
    "f=np.vsplit(d,3)\n",
    "print('f',f)"
   ]
  },
  {
   "cell_type": "code",
   "execution_count": 113,
   "id": "ffd6e828-2a16-4c7b-af69-9ef4c5480db0",
   "metadata": {},
   "outputs": [
    {
     "name": "stdout",
     "output_type": "stream",
     "text": [
      "[[ 0  1  2  3]\n",
      " [ 4  5  6  7]\n",
      " [ 8  9 10 11]]\n",
      "[[False False False False]\n",
      " [False False  True  True]\n",
      " [ True  True  True  True]] bool\n",
      "[ 6  7  8  9 10 11]\n",
      "[[   0    1    2    3]\n",
      " [   4    5 -100 -100]\n",
      " [-100 -100 -100 -100]]\n"
     ]
    }
   ],
   "source": [
    "\"\"\"\n",
    "INDEXING WITH BOOLEAN ARRAYS\n",
    "\"\"\"\n",
    "a=np.arange(12).reshape(3,4)\n",
    "print(a)\n",
    "\n",
    "b=a>5\n",
    "print(b,b.dtype)\n",
    "\n",
    "print(a[b])\n",
    "\n",
    "a[b]=-100\n",
    "print(a)"
   ]
  },
  {
   "cell_type": "code",
   "execution_count": 123,
   "id": "88e73aa5-9168-4ddf-a8a4-472e22cd16d3",
   "metadata": {},
   "outputs": [
    {
     "name": "stdout",
     "output_type": "stream",
     "text": [
      "0\n",
      "1\n",
      "2\n",
      "3\n",
      "4\n",
      "5\n",
      "6\n",
      "7\n",
      "8\n",
      "9\n",
      "10\n",
      "11\n",
      "0\n",
      "1\n",
      "2\n",
      "3\n",
      "4\n",
      "5\n",
      "6\n",
      "7\n",
      "8\n",
      "9\n",
      "10\n",
      "11\n",
      "0\n",
      "1\n",
      "2\n",
      "3\n",
      "4\n",
      "5\n",
      "6\n",
      "7\n",
      "8\n",
      "9\n",
      "10\n",
      "11\n",
      "0\n",
      "4\n",
      "8\n",
      "1\n",
      "5\n",
      "9\n",
      "2\n",
      "6\n",
      "10\n",
      "3\n",
      "7\n",
      "11\n",
      "[0 4 8]\n",
      "[1 5 9]\n",
      "[ 2  6 10]\n",
      "[ 3  7 11]\n",
      "x,y 0 3\n",
      "x,y 1 3\n",
      "x,y 2 3\n",
      "x,y 3 3\n",
      "x,y 4 7\n",
      "x,y 5 7\n",
      "x,y 6 7\n",
      "x,y 7 7\n",
      "x,y 8 11\n",
      "x,y 9 11\n",
      "x,y 10 11\n",
      "x,y 11 11\n"
     ]
    }
   ],
   "source": [
    "\"\"\"\n",
    "ITERATE THRU ARRAY\n",
    "\"\"\"\n",
    "a = np.arange(12).reshape(3,4)\n",
    "for row in a:\n",
    "    for cell in row:\n",
    "        print(cell)\n",
    "\n",
    "for cell in a.flatten():\n",
    "    print(cell)\n",
    "\n",
    "for x in np.nditer(a, order='C'):                        # READ ROW BY ROW\n",
    "    print(x)\n",
    "\n",
    "for x in np.nditer(a, order='F'):                        # READ column BY column\n",
    "    print(x)\n",
    "\n",
    "for x in np.nditer(a, flags=['external_loop'],order='F'):\n",
    "    print(x)\n",
    "\n",
    "b = np.arange(3, 15, 4).reshape(3,1)\n",
    "for x, y in np.nditer([a,b]):\n",
    "    print ('x,y',x,y)"
   ]
  },
  {
   "cell_type": "code",
   "execution_count": 89,
   "id": "60d370d0-bccf-44d4-a7c1-756b3b798cd1",
   "metadata": {},
   "outputs": [
    {
     "name": "stdout",
     "output_type": "stream",
     "text": [
      "[1 4 5]\n",
      "[1 4 5]\n",
      "[2 2]\n",
      "[2 2]\n"
     ]
    }
   ],
   "source": [
    "\"\"\"\n",
    "INTEGER ARRAY INDEXING\n",
    "\"\"\"\n",
    "a = np.array([[1,2], [3, 4], [5, 6]])\n",
    "\n",
    "# An example of integer array indexing.\n",
    "# The returned array will have shape (3,) and\n",
    "print(a[[0, 1, 2], [0, 1, 0]])  # Prints \"[1 4 5]\"\n",
    "\n",
    "# The above example of integer array indexing is equivalent to this:\n",
    "print(np.array([a[0, 0], a[1, 1], a[2, 0]]))  # Prints \"[1 4 5]\"\n",
    "\n",
    "# When using integer array indexing, you can reuse the same\n",
    "# element from the source array:\n",
    "print(a[[0, 0], [1, 1]])  # Prints \"[2 2]\"\n",
    "\n",
    "# Equivalent to the previous integer array indexing example\n",
    "print(np.array([a[0, 1], a[0, 1]]))  # Prints \"[2 2]\""
   ]
  },
  {
   "cell_type": "code",
   "execution_count": 12,
   "id": "dc2622ba-256f-48ac-b1d6-92b834749327",
   "metadata": {},
   "outputs": [
    {
     "name": "stdout",
     "output_type": "stream",
     "text": [
      "[[ 0  1  2  3  4]\n",
      " [ 5  6  7  8  9]\n",
      " [10 11 12 13 14]\n",
      " [15 16 17 18 19]]\n",
      "(4, 5)\n",
      "[[ 0  5 10 15]\n",
      " [ 1  6 11 16]\n",
      " [ 2  7 12 17]\n",
      " [ 3  8 13 18]\n",
      " [ 4  9 14 19]]\n",
      "(5, 4)\n"
     ]
    },
    {
     "data": {
      "text/plain": [
       "array([[  30,   80,  130,  180],\n",
       "       [  80,  255,  430,  605],\n",
       "       [ 130,  430,  730, 1030],\n",
       "       [ 180,  605, 1030, 1455]])"
      ]
     },
     "execution_count": 12,
     "metadata": {},
     "output_type": "execute_result"
    }
   ],
   "source": [
    "\"\"\"\n",
    "ARRAY TRANSPOSE\n",
    "\"\"\"\n",
    "a = np.arange(20).reshape(4,5)\n",
    "print(a)\n",
    "print(a.shape)\n",
    "\n",
    "b=a.T\n",
    "print(b)\n",
    "print(b.shape)\n",
    "\n",
    "np.dot(a,b)\n",
    "#=+A1*$A$7+B1*$A$8+C1*$A$9+D1*$A$10+E1*$A$11\t=+A1*$B$7+B1*$B$8+C1*$B$9+D1*$B$10+E1*$B$11\t=+A1*$C$7+B1*$C$8+C1*$C$9+D1*$C$10+E1*$C$11\t=+A1*$D$7+B1*$D$8+C1*$D$9+D1*$D$10+E1*$D$11\n",
    "#=+A2*$A$7+B2*$A$8+C2*$A$9+D2*$A$10+E2*$A$11\t=+A2*$B$7+B2*$B$8+C2*$B$9+D2*$B$10+E2*$B$11\t=+A2*$C$7+B2*$C$8+C2*$C$9+D2*$C$10+E2*$C$11\t=+A2*$D$7+B2*$D$8+C2*$D$9+D2*$D$10+E2*$D$11\n",
    "#=+A3*$A$7+B3*$A$8+C3*$A$9+D3*$A$10+E3*$A$11\t=+A3*$B$7+B3*$B$8+C3*$B$9+D3*$B$10+E3*$B$11\t=+A3*$C$7+B3*$C$8+C3*$C$9+D3*$C$10+E3*$C$11\t=+A3*$D$7+B3*$D$8+C3*$D$9+D3*$D$10+E3*$D$11\n",
    "#=+A4*$A$7+B4*$A$8+C4*$A$9+D4*$A$10+E4*$A$11\t=+A4*$B$7+B4*$B$8+C4*$B$9+D4*$B$10+E4*$B$11\t=+A4*$C$7+B4*$C$8+C4*$C$9+D4*$C$10+E4*$C$11\t=+A4*$D$7+B4*$D$8+C4*$D$9+D4*$D$10+E4*$D$11\n"
   ]
  },
  {
   "cell_type": "code",
   "execution_count": 14,
   "id": "945958f7-ec87-4bb6-b9a2-2be096d94288",
   "metadata": {},
   "outputs": [
    {
     "name": "stdout",
     "output_type": "stream",
     "text": [
      "[[[ 0  1]\n",
      "  [ 2  3]]\n",
      "\n",
      " [[ 4  5]\n",
      "  [ 6  7]]\n",
      "\n",
      " [[ 8  9]\n",
      "  [10 11]]\n",
      "\n",
      " [[12 13]\n",
      "  [14 15]]\n",
      "\n",
      " [[16 17]\n",
      "  [18 19]]]\n",
      "[[[ 0  4  8 12 16]\n",
      "  [ 2  6 10 14 18]]\n",
      "\n",
      " [[ 1  5  9 13 17]\n",
      "  [ 3  7 11 15 19]]]\n"
     ]
    }
   ],
   "source": [
    "\"\"\"\n",
    "3D ARRAY\n",
    "\"\"\"\n",
    "\n",
    "a=np.arange(20).reshape(5,2,2)\n",
    "print(a)\n",
    "\n",
    "print(a.T)"
   ]
  },
  {
   "cell_type": "code",
   "execution_count": 20,
   "id": "f49347a6-59cc-4ea4-91d3-e7fde942ac62",
   "metadata": {},
   "outputs": [
    {
     "name": "stdout",
     "output_type": "stream",
     "text": [
      "[[[ 0  1]\n",
      "  [ 2  3]]\n",
      "\n",
      " [[ 4  5]\n",
      "  [ 6  7]]\n",
      "\n",
      " [[ 8  9]\n",
      "  [10 11]]\n",
      "\n",
      " [[12 13]\n",
      "  [14 15]]\n",
      "\n",
      " [[16 17]\n",
      "  [18 19]]]\n",
      "[[[ 0  1]\n",
      "  [ 4  5]\n",
      "  [ 8  9]\n",
      "  [12 13]\n",
      "  [16 17]]\n",
      "\n",
      " [[ 2  3]\n",
      "  [ 6  7]\n",
      "  [10 11]\n",
      "  [14 15]\n",
      "  [18 19]]]\n",
      "[[[ 0  2]\n",
      "  [ 1  3]]\n",
      "\n",
      " [[ 4  6]\n",
      "  [ 5  7]]\n",
      "\n",
      " [[ 8 10]\n",
      "  [ 9 11]]\n",
      "\n",
      " [[12 14]\n",
      "  [13 15]]\n",
      "\n",
      " [[16 18]\n",
      "  [17 19]]]\n"
     ]
    }
   ],
   "source": [
    "\"\"\"\n",
    "SWAP AXIS\n",
    "\"\"\"\n",
    "#a=np.array([[1,2,3]])\n",
    "print(a)\n",
    "print(a.swapaxes(0,1))\n",
    "print(a.swapaxes(1,2))"
   ]
  },
  {
   "cell_type": "code",
   "execution_count": 75,
   "id": "a4eeacb6-948d-446a-8375-268a9a54770c",
   "metadata": {},
   "outputs": [
    {
     "name": "stdout",
     "output_type": "stream",
     "text": [
      "[0.         1.         1.41421356 1.73205081 2.         2.23606798\n",
      " 2.44948974 2.64575131 2.82842712 3.        ]\n",
      "[1.00000000e+00 2.71828183e+00 7.38905610e+00 2.00855369e+01\n",
      " 5.45981500e+01 1.48413159e+02 4.03428793e+02 1.09663316e+03\n",
      " 2.98095799e+03 8.10308393e+03]\n",
      "2.8722813232690143\n"
     ]
    }
   ],
   "source": [
    "\"\"\"\n",
    "ARRAY FUNCTIONS\n",
    "\"\"\"\n",
    "a=np.arange(10)\n",
    "\n",
    "b=np.sqrt(a)\n",
    "c=np.exp(a)\n",
    "d=np.std(a)\n",
    "print(b)\n",
    "print(c)\n",
    "print(d)"
   ]
  },
  {
   "cell_type": "code",
   "execution_count": 69,
   "id": "a29e18a9-c042-40a5-a0ed-7057ea57cc97",
   "metadata": {},
   "outputs": [
    {
     "name": "stdout",
     "output_type": "stream",
     "text": [
      "[1.00000000e+00 3.71828183e+00 8.80326966e+00 2.18175877e+01\n",
      " 5.65981500e+01 1.50649227e+02 4.05878283e+02 1.09927891e+03\n",
      " 2.98378641e+03 8.10608393e+03]\n",
      "[1.00000000e+00 2.71828183e+00 7.38905610e+00 2.00855369e+01\n",
      " 5.45981500e+01 1.48413159e+02 4.03428793e+02 1.09663316e+03\n",
      " 2.98095799e+03 8.10308393e+03]\n"
     ]
    }
   ],
   "source": [
    "print(np.add(b,c))\n",
    "print(np.maximum(b,c))"
   ]
  },
  {
   "cell_type": "code",
   "execution_count": 47,
   "id": "d8c8812c-5251-434c-8e18-a8198dfac72b",
   "metadata": {},
   "outputs": [
    {
     "name": "stdout",
     "output_type": "stream",
     "text": [
      "a [0 1 2 3 4]\n",
      "b [0 1 2 3 4 5 6]\n",
      "saved array [0 1 2 3 4]\n",
      "zipped array [0 1 2 3 4]\n",
      "txt file [0. 1. 2. 3. 4. 5. 6.]\n"
     ]
    }
   ],
   "source": [
    "\"\"\"\n",
    "SAVE AS NPY FILE\n",
    "\"\"\"\n",
    "a=np.arange(5)\n",
    "print('a',a)\n",
    "b=np.arange(7)\n",
    "print('b',b)\n",
    "np.save('myarray',a)\n",
    "arr1=np.load('myarray.npy')\n",
    "print(\"saved array\",arr1)\n",
    "\n",
    "np.savez('myarray1.npz',x=a,y=b)           # save as zip file\n",
    "arr2=np.load('myarray1.npz')\n",
    "print('zipped array',arr2['x'])\n",
    "\n",
    "np.savetxt('myarraytxt.txt',b,delimiter=\",\")\n",
    "arr3=np.loadtxt('myarraytxt.txt',delimiter=',')\n",
    "print('txt file',arr3)"
   ]
  },
  {
   "cell_type": "code",
   "execution_count": null,
   "id": "c4494601-a229-40b6-8df1-fb96280f0831",
   "metadata": {},
   "outputs": [],
   "source": []
  },
  {
   "cell_type": "code",
   "execution_count": null,
   "id": "2f93dda1-2259-444e-861e-0c4bc4b47b5a",
   "metadata": {},
   "outputs": [],
   "source": []
  }
 ],
 "metadata": {
  "kernelspec": {
   "display_name": "Python 3 (ipykernel)",
   "language": "python",
   "name": "python3"
  },
  "language_info": {
   "codemirror_mode": {
    "name": "ipython",
    "version": 3
   },
   "file_extension": ".py",
   "mimetype": "text/x-python",
   "name": "python",
   "nbconvert_exporter": "python",
   "pygments_lexer": "ipython3",
   "version": "3.12.7"
  }
 },
 "nbformat": 4,
 "nbformat_minor": 5
}
