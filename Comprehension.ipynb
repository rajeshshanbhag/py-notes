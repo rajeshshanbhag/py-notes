{
 "cells": [
  {
   "cell_type": "code",
   "execution_count": 1,
   "id": "960541a5-13e0-4b3e-bf91-f8c5190093ac",
   "metadata": {},
   "outputs": [
    {
     "name": "stdout",
     "output_type": "stream",
     "text": [
      "{0: '0', 1: '1', 2: '10', 3: '11', 4: '100'}\n",
      "[-1, 1, -2, -3, -5, 0, 7]\n",
      "{1, 4, 9}\n"
     ]
    }
   ],
   "source": [
    "# Dictionary Comprehension\n",
    "integer = [0, 1, 2, 3, 4]\n",
    "binary = [\"0\", \"1\", \"10\", \"11\", \"100\"]\n",
    "\n",
    "z = zip(integer, binary)\n",
    "binary_dict = {integer: binary for integer, binary in z}\n",
    "\n",
    "print(binary_dict)\n",
    "\n",
    "# List Comprehension\n",
    "integer = [1, -1, 2, 3, 5, 0, -7]\n",
    "additive_inverse = [-1*i for i in integer]\n",
    "print(additive_inverse)\n",
    "\n",
    "# Set Comprehension\n",
    "integer = [1, -1, 2, -2, 3, -3]\n",
    "sq_set = {i*i for i in integer}\n",
    "print(sq_set)"
   ]
  },
  {
   "cell_type": "code",
   "execution_count": null,
   "id": "cd4b7dc5-4baf-4120-97f3-512cd4985b57",
   "metadata": {},
   "outputs": [],
   "source": []
  }
 ],
 "metadata": {
  "kernelspec": {
   "display_name": "Python 3 (ipykernel)",
   "language": "python",
   "name": "python3"
  },
  "language_info": {
   "codemirror_mode": {
    "name": "ipython",
    "version": 3
   },
   "file_extension": ".py",
   "mimetype": "text/x-python",
   "name": "python",
   "nbconvert_exporter": "python",
   "pygments_lexer": "ipython3",
   "version": "3.12.7"
  }
 },
 "nbformat": 4,
 "nbformat_minor": 5
}
