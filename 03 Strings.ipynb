{
 "cells": [
  {
   "cell_type": "code",
   "execution_count": 4,
   "id": "ff1de305",
   "metadata": {},
   "outputs": [
    {
     "name": "stdout",
     "output_type": "stream",
     "text": [
      "Hello World\n",
      "hello world\n",
      "11\n",
      "\n",
      "doesn't\n",
      "doesn't\n"
     ]
    }
   ],
   "source": [
    "## In single quotes or double quotes\n",
    "\n",
    "print (\"Hello World\")\n",
    "print ('hello world')\n",
    "print (len('hello world'))\n",
    "print (\"\")\n",
    "print (\"doesn't\")\n",
    "print ('doesn\\'t')"
   ]
  },
  {
   "cell_type": "code",
   "execution_count": 56,
   "id": "dd68e299",
   "metadata": {},
   "outputs": [
    {
     "name": "stdout",
     "output_type": "stream",
     "text": [
      "c:\n",
      "ewyork\n",
      "c:\n",
      "ewyork\n",
      "c:\\newyork\n"
     ]
    }
   ],
   "source": [
    "## Use raw strings\n",
    "\n",
    "print ('c:\\newyork')           #treats \\n as new line character\n",
    "print (\"c:\\newyork\")\n",
    "print (r'c:\\newyork')"
   ]
  },
  {
   "cell_type": "code",
   "execution_count": 21,
   "id": "1abae0f9",
   "metadata": {},
   "outputs": [
    {
     "name": "stdout",
     "output_type": "stream",
     "text": [
      "newyork\n",
      "newnewnewnew\n"
     ]
    }
   ],
   "source": [
    "## Operations + *\n",
    "\n",
    "print (\"new\" + \"york\")\n",
    "print (\"new\" * 4)"
   ]
  },
  {
   "cell_type": "code",
   "execution_count": 2,
   "id": "25b6718b",
   "metadata": {},
   "outputs": [
    {
     "name": "stdout",
     "output_type": "stream",
     "text": [
      "1- N\n",
      "2- r\n",
      "3- k\n",
      "4- Y\n",
      "5- ewYork\n",
      "6- New\n",
      "7- NewYor\n",
      "8- wYork\n",
      "8a- wYork\n",
      "9- wYo\n",
      "10- Nwok\n",
      "11- kroYweN\n",
      "12- eo\n",
      "13- \n"
     ]
    }
   ],
   "source": [
    "## Assignment & Indexing and Slicing\n",
    "## string[start : end : step]\n",
    "\n",
    "word='NewYork'                       # assign string\n",
    "print ('1-',word[0])\n",
    "print ('2-',word[5])\n",
    "print ('3-',word[-1])\n",
    "print ('4-',word[-4])\n",
    "print ('5-',word[1:])\n",
    "print ('6-',word[:3])\n",
    "print ('7-',word[:-1])\n",
    "print ('8-',word[2::])              # [start:stop (but not including):step(optional)]\n",
    "print ('8a-',word[2:])\n",
    "print ('9-',word[2:5:])\n",
    "print ('10-',word[::2])              # extract everything in steps of 2\n",
    "print ('11-',word[::-1])             # print string backwards\n",
    "print ('12-',word[1:5:3])\n",
    "print ('13-',word[:0])"
   ]
  },
  {
   "cell_type": "code",
   "execution_count": 2,
   "id": "f963f52f",
   "metadata": {},
   "outputs": [
    {
     "name": "stdout",
     "output_type": "stream",
     "text": [
      "This is Python text\n"
     ]
    }
   ],
   "source": [
    "## Embed text in python\n",
    "\n",
    "print ('''\\\n",
    "This is Python text\\\n",
    "''')"
   ]
  },
  {
   "cell_type": "code",
   "execution_count": 3,
   "id": "9953fa73",
   "metadata": {},
   "outputs": [
    {
     "ename": "TypeError",
     "evalue": "'str' object does not support item assignment",
     "output_type": "error",
     "traceback": [
      "\u001b[1;31m---------------------------------------------------------------------------\u001b[0m",
      "\u001b[1;31mTypeError\u001b[0m                                 Traceback (most recent call last)",
      "Cell \u001b[1;32mIn[3], line 5\u001b[0m\n\u001b[0;32m      1\u001b[0m \u001b[38;5;66;03m## Strings are immutable, cannot be changed\u001b[39;00m\n\u001b[0;32m      3\u001b[0m word \u001b[38;5;241m=\u001b[39m \u001b[38;5;124m\"\u001b[39m\u001b[38;5;124mHello World\u001b[39m\u001b[38;5;124m\"\u001b[39m\n\u001b[1;32m----> 5\u001b[0m word[\u001b[38;5;241m0\u001b[39m] \u001b[38;5;241m=\u001b[39m \u001b[38;5;124m'\u001b[39m\u001b[38;5;124md\u001b[39m\u001b[38;5;124m'\u001b[39m\n\u001b[0;32m      6\u001b[0m \u001b[38;5;28mprint\u001b[39m (word)\n",
      "\u001b[1;31mTypeError\u001b[0m: 'str' object does not support item assignment"
     ]
    }
   ],
   "source": [
    "## Strings are immutable, cannot be changed\n",
    "\n",
    "word = \"Hello World\"\n",
    "\n",
    "word[0] = 'd'\n",
    "print (word)                  # string cannot be changed"
   ]
  },
  {
   "cell_type": "code",
   "execution_count": 4,
   "id": "70f7fc4f",
   "metadata": {},
   "outputs": [
    {
     "name": "stdout",
     "output_type": "stream",
     "text": [
      "1  NEW YORK\n",
      "2  new york\n",
      "3  ['New', 'york']\n",
      "4  ['New y', 'rk']\n",
      "5  New york\n",
      "6  New York\n",
      "7  New York\n",
      "8  True\n",
      "9  4\n",
      "10 True\n",
      "11 True\n",
      "12 True\n",
      "11 False\n"
     ]
    }
   ],
   "source": [
    "## METHODS\n",
    "\n",
    "word = \"New york\"\n",
    "wordp = \" New York \"\n",
    "worda = \"Newyork\"\n",
    "wordd=\"1234\"\n",
    "\n",
    "print (\"1 \",word.upper())\n",
    "print (\"2 \",word.lower())\n",
    "print (\"3 \",word.split())                 # split at whitespace\n",
    "print (\"4 \",word.split('o'))\n",
    "print (\"5 \",word.capitalize())            # first word of sentence capital\n",
    "print (\"6 \",word.title())                 # every word capital\n",
    "print (\"7 \",wordp.strip())                 #strips extra spaces\n",
    "print (\"8 \",word.endswith(\"rk\"))\n",
    "print (\"9 \",word.find(\"y\"))\n",
    "print (\"10\",worda.isalpha())\n",
    "print (\"11\",wordd.isdigit())\n",
    "print (\"12\",wordd.isnumeric())\n",
    "print (\"11\",word.isalnum())                     # Returns True if all characters in the string are alphanumeric"
   ]
  },
  {
   "cell_type": "code",
   "execution_count": 5,
   "id": "fb964a00-56cc-4764-9bb0-c520ae4e9a34",
   "metadata": {},
   "outputs": [
    {
     "name": "stdout",
     "output_type": "stream",
     "text": [
      "New York is cold and \tcloudy and the temperature is 75.74\n",
      "New York is cold and '\\tcloudy' and the temperature is 75\n",
      "              13.787\n"
     ]
    }
   ],
   "source": [
    "##### PRINT FORMATTING\n",
    "\n",
    "## (1) %s %r %d - s is string, r is string representation, d is integers\n",
    "\n",
    "x=\"cold\"\n",
    "y=\"\\tcloudy\"\n",
    "z=75.74\n",
    "print (\"New York is %s and %s and the temperature is %s\" %(x,y,z))\n",
    "print (\"New York is %s and %r and the temperature is %d\" %(x,y,z))\n",
    "\n",
    "# %(a.b)f floating point number - a=min number of char padded with whitespace; b=decimals\n",
    "n=13.7865\n",
    "print ('%20.3f' %n)"
   ]
  },
  {
   "cell_type": "code",
   "execution_count": 18,
   "id": "a2ba5fbc",
   "metadata": {},
   "outputs": [
    {
     "name": "stdout",
     "output_type": "stream",
     "text": [
      "NewYork is cold\n",
      "1\n",
      "String     | Number    \n",
      "NewYork    |         30\n",
      "2\n",
      "String     |     Number\n",
      "NewYork    |         30\n",
      "3\n",
      "####String | ####Number\n",
      "NewYork    | ########30\n"
     ]
    }
   ],
   "source": [
    "## PRINT FORMATTING\n",
    "\n",
    "## (2) .format method\n",
    "\n",
    "print ('{1} is {0}'.format('cold','NewYork'))\n",
    "\n",
    "# alignment (default: string=left-align, numbers=right-align)\n",
    "\n",
    "print ('1')\n",
    "print('{0:10} | {1:10}'.format('String', 'Number'))\n",
    "print('{0:10} | {1:10}'.format('NewYork', 30))\n",
    "\n",
    "# alignment operators <left ^centre >right\n",
    "print ('2')\n",
    "print('{0:10} | {1:>10}'.format('String', 'Number'))\n",
    "print('{0:10} | {1:10}'.format('NewYork', 30))\n",
    "\n",
    "# alignment padding\n",
    "print ('3')\n",
    "print('{0:#>10} | {1:#>10}'.format('String', 'Number'))\n",
    "print('{0:<10} | {1:#>10}'.format('NewYork', 30))"
   ]
  },
  {
   "cell_type": "code",
   "execution_count": 17,
   "id": "ac23310a",
   "metadata": {},
   "outputs": [
    {
     "name": "stdout",
     "output_type": "stream",
     "text": [
      "NewYork is cold\n"
     ]
    }
   ],
   "source": [
    "## PRINT FORMATTING\n",
    "\n",
    "# (3)   f-string\n",
    "city=\"NewYork\"\n",
    "weather=\"cold\"\n",
    "\n",
    "print (f'{city} is {weather}')"
   ]
  },
  {
   "cell_type": "code",
   "execution_count": 6,
   "id": "13e24589-f8d2-4256-b463-3fa99d196544",
   "metadata": {},
   "outputs": [
    {
     "name": "stdout",
     "output_type": "stream",
     "text": [
      "13223\n"
     ]
    }
   ],
   "source": [
    "#27. Write a Python program that concatenates all elements in a list into a string and returns it.\n",
    "def conc(lst):\n",
    "    str1=\"\"\n",
    "    for i in lst:\n",
    "        str1+=str(i)\n",
    "    return str1\n",
    "\n",
    "print(conc([1,32,23]))"
   ]
  },
  {
   "cell_type": "code",
   "execution_count": null,
   "id": "d28296a9-c66f-4068-b821-5ceab4998d03",
   "metadata": {},
   "outputs": [],
   "source": []
  }
 ],
 "metadata": {
  "kernelspec": {
   "display_name": "Python 3 (ipykernel)",
   "language": "python",
   "name": "python3"
  },
  "language_info": {
   "codemirror_mode": {
    "name": "ipython",
    "version": 3
   },
   "file_extension": ".py",
   "mimetype": "text/x-python",
   "name": "python",
   "nbconvert_exporter": "python",
   "pygments_lexer": "ipython3",
   "version": "3.12.7"
  }
 },
 "nbformat": 4,
 "nbformat_minor": 5
}
