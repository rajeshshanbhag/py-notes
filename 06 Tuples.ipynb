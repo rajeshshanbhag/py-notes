{
 "cells": [
  {
   "cell_type": "code",
   "execution_count": null,
   "id": "0d74dcb3",
   "metadata": {},
   "outputs": [],
   "source": [
    "## TUPLES"
   ]
  },
  {
   "cell_type": "code",
   "execution_count": null,
   "id": "ec1d0328",
   "metadata": {},
   "outputs": [],
   "source": [
    "## Tuples are immutable. Should be used for lists with data integrity e.g calendars\n",
    "## Tuples are ordered, unchanged and allow duplicate values"
   ]
  },
  {
   "cell_type": "code",
   "execution_count": 32,
   "id": "d18cb010-e522-4a9b-99a2-e64980d8e97e",
   "metadata": {},
   "outputs": [
    {
     "name": "stdout",
     "output_type": "stream",
     "text": [
      "(1, 2, 3, 'apple', True, True)\n",
      "6\n",
      "2\n",
      "6\n",
      "apple\n",
      "True\n",
      "(3, 'apple')\n",
      "('apple', True)\n",
      "yes\n",
      "<class 'tuple'>\n",
      "<class 'str'>\n"
     ]
    }
   ],
   "source": [
    "## CREATE TUPLES\n",
    "\n",
    "my_tuple=(1,2,3,\"apple\",True,True)\n",
    "print (my_tuple)\n",
    "print (len(my_tuple))\n",
    "print (my_tuple[1])\n",
    "\n",
    "my_tuple1=tuple((1,2,3))\n",
    "print(sum(my_tuple1))\n",
    "\n",
    "print(my_tuple[3])\n",
    "print(my_tuple[-1])\n",
    "print(my_tuple[2:4])\n",
    "print(my_tuple[-3:-1])\n",
    "\n",
    "if \"apple\" in my_tuple:\n",
    "    print(\"yes\")\n",
    "\n",
    "#To create a tuple with only one item, you have to add a comma after the item, otherwise Python will not recognize it as a tuple.\n",
    "your_tuple=(\"apple\",)\n",
    "print(type(your_tuple))\n",
    "your_tuple=(\"apple\")\n",
    "print(type(your_tuple))\n"
   ]
  },
  {
   "cell_type": "code",
   "execution_count": 38,
   "id": "619a9b4b",
   "metadata": {},
   "outputs": [
    {
     "name": "stdout",
     "output_type": "stream",
     "text": [
      "2\n",
      "1\n",
      "('apple', 'kiwi', 'cherry')\n",
      "('apple', 'banana', 'cherry', 'orange')\n"
     ]
    },
    {
     "ename": "NameError",
     "evalue": "name 'thistuple' is not defined",
     "output_type": "error",
     "traceback": [
      "\u001b[1;31m---------------------------------------------------------------------------\u001b[0m",
      "\u001b[1;31mNameError\u001b[0m                                 Traceback (most recent call last)",
      "Cell \u001b[1;32mIn[38], line 20\u001b[0m\n\u001b[0;32m     17\u001b[0m \u001b[38;5;28mprint\u001b[39m(thistuple)\n\u001b[0;32m     19\u001b[0m \u001b[38;5;28;01mdel\u001b[39;00m thistuple\n\u001b[1;32m---> 20\u001b[0m \u001b[38;5;28mprint\u001b[39m(thistuple)\n",
      "\u001b[1;31mNameError\u001b[0m: name 'thistuple' is not defined"
     ]
    }
   ],
   "source": [
    "## METHODS\n",
    "\n",
    "print (my_tuple.index(3))\n",
    "print (my_tuple.count(3))\n",
    "\n",
    "# Change / append / remove tuple values. Change tuple to list, update, convert to tuple\n",
    "x = (\"apple\", \"banana\", \"cherry\")\n",
    "y = list(x)\n",
    "y[1] = \"kiwi\"\n",
    "x = tuple(y)\n",
    "print(x)\n",
    "\n",
    "#  Add tuple to tuple\n",
    "thistuple = (\"apple\", \"banana\", \"cherry\")\n",
    "y = (\"orange\",)\n",
    "thistuple += y\n",
    "print(thistuple)\n",
    "\n",
    "del thistuple\n",
    "print(thistuple)"
   ]
  },
  {
   "cell_type": "code",
   "execution_count": 82,
   "id": "e4d7e34c-d632-426a-b585-8fce032807fb",
   "metadata": {},
   "outputs": [
    {
     "name": "stdout",
     "output_type": "stream",
     "text": [
      "1 2\n",
      "1 2\n",
      "2 1\n",
      "1 [2, 3] 4\n",
      "1 2 [3, 4]\n",
      "[1, 2] 3 4\n",
      "ducks 2\n",
      "lamps 3\n",
      "chairs 0\n"
     ]
    }
   ],
   "source": [
    "## TUPLE UNPACKING\n",
    "#1  Take a two-item tuple (1,2) and unpack that tuple it into two variables (x,y)\n",
    "a=(1,2)\n",
    "print(a[0],a[1])             # we could use index\n",
    "\n",
    "(x,y)=a                      # OR we could unpack a tuple using variable\n",
    "print(x,y)\n",
    "\n",
    "#  Swap value of tuple\n",
    "y,x=x,y\n",
    "print(x,y)\n",
    "\n",
    "#  If the number of variables is less than the number of contents inside our Tuple,\n",
    "#  we can add a * to the variable name and the values will be assigned to the variable as a list\n",
    "#  While using this method, add the * operator to a single variable only\n",
    "a=(1,2,3,4)\n",
    "(x,*y,z)=a\n",
    "print(x,y,z)\n",
    "(x,y,*z)=a\n",
    "print(x,y,z)\n",
    "(*x,y,z)=a\n",
    "print(x,y,z)\n",
    "\n"
   ]
  },
  {
   "cell_type": "code",
   "execution_count": 13,
   "id": "dc1d2826-10d0-4e76-9c1a-dbee68f694f7",
   "metadata": {},
   "outputs": [
    {
     "data": {
      "text/plain": [
       "[(0, 'New York'), (1, 'Chicago'), (2, 'Seattle')]"
      ]
     },
     "execution_count": 13,
     "metadata": {},
     "output_type": "execute_result"
    }
   ],
   "source": [
    "my_list=[\"New York\", \"Chicago\", \"Seattle\"]\n",
    "list(enumerate(my_list))"
   ]
  }
 ],
 "metadata": {
  "kernelspec": {
   "display_name": "Python 3 (ipykernel)",
   "language": "python",
   "name": "python3"
  },
  "language_info": {
   "codemirror_mode": {
    "name": "ipython",
    "version": 3
   },
   "file_extension": ".py",
   "mimetype": "text/x-python",
   "name": "python",
   "nbconvert_exporter": "python",
   "pygments_lexer": "ipython3",
   "version": "3.12.7"
  }
 },
 "nbformat": 4,
 "nbformat_minor": 5
}
