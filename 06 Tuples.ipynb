{
 "cells": [
  {
   "cell_type": "markdown",
   "id": "f4c0fcc3-9973-45db-adf9-663113347dc4",
   "metadata": {},
   "source": [
    "<h3 align=\"left\" style=\"color:blue\">Tuples</h3>"
   ]
  },
  {
   "cell_type": "markdown",
   "id": "7ee60970-c9e0-4b9f-93f1-9736d7ab4ac2",
   "metadata": {},
   "source": [
    "##### Tuples are immutable. Should be used for lists with data integrity e.g calendars\n",
    "##### Tuples are ordered, unchanged and allow duplicate values"
   ]
  },
  {
   "cell_type": "markdown",
   "id": "73ae3646-4bfa-4291-9fde-e8aa0fbcae43",
   "metadata": {},
   "source": [
    "#### Create tuples"
   ]
  },
  {
   "cell_type": "code",
   "execution_count": 8,
   "id": "d18cb010-e522-4a9b-99a2-e64980d8e97e",
   "metadata": {},
   "outputs": [
    {
     "name": "stdout",
     "output_type": "stream",
     "text": [
      "<class 'tuple'>\n",
      "1- 6\n",
      "<class 'tuple'>\n",
      "<class 'str'>\n"
     ]
    }
   ],
   "source": [
    "my_tuple=(1,2,3,\"apple\",True,True)\n",
    "print(type(my_tuple))\n",
    "\n",
    "my_tuple1=tuple((1,2,3))\n",
    "print('1-',sum(my_tuple1))\n",
    "\n",
    "#To create a tuple with only one item, you have to add a comma after the item, otherwise Python will not recognize it as a tuple.\n",
    "your_tuple=(\"apple\",)\n",
    "print(type(your_tuple))\n",
    "your_tuple=(\"apple\")\n",
    "print(type(your_tuple))\n"
   ]
  },
  {
   "cell_type": "markdown",
   "id": "e8e6e142-fcf7-464a-a3c3-3842296ecda7",
   "metadata": {},
   "source": [
    "#### Methods"
   ]
  },
  {
   "cell_type": "code",
   "execution_count": 16,
   "id": "619a9b4b",
   "metadata": {},
   "outputs": [
    {
     "name": "stdout",
     "output_type": "stream",
     "text": [
      "1- (1, 2, 3, 'apple', True, True)\n",
      "2- 6\n",
      "3- 2\n",
      "4- True\n",
      "5- (3, 'apple')\n",
      "6- ('apple', True)\n",
      "7- 2\n",
      "8- 3\n",
      "9- yes\n",
      "x- ('apple', 'kiwi', 'cherry')\n",
      "thistuple- ('apple', 'banana', 'cherry', 'orange')\n"
     ]
    },
    {
     "ename": "NameError",
     "evalue": "name 'thistuple' is not defined",
     "output_type": "error",
     "traceback": [
      "\u001b[1;31m---------------------------------------------------------------------------\u001b[0m",
      "\u001b[1;31mNameError\u001b[0m                                 Traceback (most recent call last)",
      "Cell \u001b[1;32mIn[16], line 29\u001b[0m\n\u001b[0;32m     26\u001b[0m \u001b[38;5;28mprint\u001b[39m(\u001b[38;5;124m'\u001b[39m\u001b[38;5;124mthistuple-\u001b[39m\u001b[38;5;124m'\u001b[39m,thistuple)\n\u001b[0;32m     28\u001b[0m \u001b[38;5;28;01mdel\u001b[39;00m thistuple\n\u001b[1;32m---> 29\u001b[0m \u001b[38;5;28mprint\u001b[39m(\u001b[38;5;124m'\u001b[39m\u001b[38;5;124mthistuple-\u001b[39m\u001b[38;5;124m'\u001b[39m,thistuple)\n",
      "\u001b[1;31mNameError\u001b[0m: name 'thistuple' is not defined"
     ]
    }
   ],
   "source": [
    "my_tuple=(1,2,3,\"apple\",True,True)\n",
    "\n",
    "print('1-',my_tuple)\n",
    "print('2-',len(my_tuple))\n",
    "print('3-',my_tuple[1])\n",
    "print('4-',my_tuple[-1])\n",
    "print('5-',my_tuple[2:4])\n",
    "print('6-',my_tuple[-3:-1])\n",
    "print ('7-',my_tuple.index(3))\n",
    "print ('8-',my_tuple.count(1))\n",
    "\n",
    "if \"apple\" in my_tuple:\n",
    "    print('9-',\"yes\")\n",
    "\n",
    "# Change / append / remove tuple values. Change tuple to list, update, convert to tuple\n",
    "x = (\"apple\", \"banana\", \"cherry\")\n",
    "y = list(x)\n",
    "y[1] = \"kiwi\"\n",
    "x = tuple(y)\n",
    "print('x-',x)\n",
    "\n",
    "#  Add tuple to tuple\n",
    "thistuple = (\"apple\", \"banana\", \"cherry\")\n",
    "y = (\"orange\",)\n",
    "thistuple += y\n",
    "print('thistuple-',thistuple)\n",
    "\n",
    "del thistuple\n",
    "print('thistuple-',thistuple)"
   ]
  },
  {
   "cell_type": "markdown",
   "id": "ac06cf8a-29c7-4a8c-9c40-056876d06ad7",
   "metadata": {},
   "source": [
    "#### Tuple unpacking"
   ]
  },
  {
   "cell_type": "code",
   "execution_count": 29,
   "id": "e4d7e34c-d632-426a-b585-8fce032807fb",
   "metadata": {},
   "outputs": [
    {
     "name": "stdout",
     "output_type": "stream",
     "text": [
      "index- 1 2\n",
      "unpack- 1 2\n",
      "swap tuple- 2 1\n",
      "1 [2, 3] 4\n",
      "1 2 [3, 4]\n",
      "[1, 2] 3 4\n",
      "1 2 [] 3 4\n"
     ]
    }
   ],
   "source": [
    "#1  Take a two-item tuple (1,2) and unpack that tuple it into two variables (x,y)\n",
    "a=(1,2)\n",
    "print('index-',a[0],a[1])             # we could use index\n",
    "\n",
    "(x,y)=a                      # OR we could unpack a tuple using variable\n",
    "print('unpack-',x,y)\n",
    "\n",
    "#  Swap value of tuple\n",
    "y,x=x,y\n",
    "print('swap tuple-',x,y)\n",
    "\n",
    "#  If the number of variables is less than the number of contents inside our Tuple,\n",
    "#  we can add a * to the variable name and the values will be assigned to the variable as a list\n",
    "#  While using this method, add the * operator to a single variable only\n",
    "a=(1,2,3,4)\n",
    "(x,*y,z)=a\n",
    "print(x,y,z)\n",
    "\n",
    "(x,y,*z)=a\n",
    "print(x,y,z)\n",
    "\n",
    "(*x,y,z)=a\n",
    "print(x,y,z)\n",
    "\n",
    "(x,y,*z,p,q)=a\n",
    "print(x,y,z,p,q)"
   ]
  },
  {
   "cell_type": "code",
   "execution_count": 13,
   "id": "dc1d2826-10d0-4e76-9c1a-dbee68f694f7",
   "metadata": {},
   "outputs": [
    {
     "data": {
      "text/plain": [
       "[(0, 'New York'), (1, 'Chicago'), (2, 'Seattle')]"
      ]
     },
     "execution_count": 13,
     "metadata": {},
     "output_type": "execute_result"
    }
   ],
   "source": [
    "my_list=[\"New York\", \"Chicago\", \"Seattle\"]\n",
    "list(enumerate(my_list))"
   ]
  }
 ],
 "metadata": {
  "kernelspec": {
   "display_name": "Python 3 (ipykernel)",
   "language": "python",
   "name": "python3"
  },
  "language_info": {
   "codemirror_mode": {
    "name": "ipython",
    "version": 3
   },
   "file_extension": ".py",
   "mimetype": "text/x-python",
   "name": "python",
   "nbconvert_exporter": "python",
   "pygments_lexer": "ipython3",
   "version": "3.12.7"
  }
 },
 "nbformat": 4,
 "nbformat_minor": 5
}
