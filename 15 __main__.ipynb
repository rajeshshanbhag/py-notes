{
 "cells": [
  {
   "cell_type": "markdown",
   "id": "2aa087c1-017d-4ffb-a813-4b7d856daa98",
   "metadata": {},
   "source": [
    "<h3 style=\"color:blue\" align=\"left\">__main__</h3>"
   ]
  },
  {
   "cell_type": "markdown",
   "id": "9080ac08-ae83-4a6a-8a89-b95a553ed57e",
   "metadata": {},
   "source": [
    "#### Entry point in python code \"if __name__ == \"__main__\":\""
   ]
  },
  {
   "cell_type": "markdown",
   "id": "6f0378ad-cd86-4cb3-82d5-6dc4aae8854d",
   "metadata": {},
   "source": [
    "#### File name area.py"
   ]
  },
  {
   "cell_type": "code",
   "execution_count": 1,
   "id": "9ef397ef-5e27-4ebf-99f1-476982cdc939",
   "metadata": {},
   "outputs": [
    {
     "name": "stdout",
     "output_type": "stream",
     "text": [
      "value of __name__ :  __main__\n",
      "Area: 25.0\n"
     ]
    }
   ],
   "source": [
    "def calculate_triangle_area(base, height):\n",
    "    print(\"value of __name__ : \", __name__)\n",
    "    return (base*height)/2\n",
    "\n",
    "\n",
    "if __name__ == \"__main__\":\n",
    "    print(\"Area:\", calculate_triangle_area(10, 5))"
   ]
  },
  {
   "cell_type": "markdown",
   "id": "8b165a65-4a0a-4ac7-86fc-cc76ee72f04a",
   "metadata": {},
   "source": [
    "#### File name caller.py"
   ]
  },
  {
   "cell_type": "code",
   "execution_count": 2,
   "id": "26a43298-0639-412a-8436-12ece0219aee",
   "metadata": {},
   "outputs": [
    {
     "ename": "ModuleNotFoundError",
     "evalue": "No module named 'area'",
     "output_type": "error",
     "traceback": [
      "\u001b[1;31m---------------------------------------------------------------------------\u001b[0m",
      "\u001b[1;31mModuleNotFoundError\u001b[0m                       Traceback (most recent call last)",
      "Cell \u001b[1;32mIn[2], line 1\u001b[0m\n\u001b[1;32m----> 1\u001b[0m \u001b[38;5;28;01mimport\u001b[39;00m \u001b[38;5;21;01marea\u001b[39;00m\n\u001b[0;32m      3\u001b[0m \u001b[38;5;28mprint\u001b[39m(\u001b[38;5;124m\"\u001b[39m\u001b[38;5;124mInside caller.py\u001b[39m\u001b[38;5;124m\"\u001b[39m)\n\u001b[0;32m      4\u001b[0m \u001b[38;5;28mprint\u001b[39m(area\u001b[38;5;241m.\u001b[39mcalculate_triangle_area(\u001b[38;5;241m10\u001b[39m,\u001b[38;5;241m30\u001b[39m))\n",
      "\u001b[1;31mModuleNotFoundError\u001b[0m: No module named 'area'"
     ]
    }
   ],
   "source": [
    "import area\n",
    "\n",
    "print(\"Inside caller.py\")\n",
    "print(area.calculate_triangle_area(10,30))"
   ]
  }
 ],
 "metadata": {
  "kernelspec": {
   "display_name": "Python 3 (ipykernel)",
   "language": "python",
   "name": "python3"
  },
  "language_info": {
   "codemirror_mode": {
    "name": "ipython",
    "version": 3
   },
   "file_extension": ".py",
   "mimetype": "text/x-python",
   "name": "python",
   "nbconvert_exporter": "python",
   "pygments_lexer": "ipython3",
   "version": "3.12.7"
  }
 },
 "nbformat": 4,
 "nbformat_minor": 5
}
