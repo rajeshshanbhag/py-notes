{
 "cells": [
  {
   "cell_type": "code",
   "execution_count": null,
   "metadata": {},
   "outputs": [],
   "source": [
    "## DICTIONARIES"
   ]
  },
  {
   "cell_type": "code",
   "execution_count": 2,
   "metadata": {},
   "outputs": [
    {
     "name": "stdout",
     "output_type": "stream",
     "text": [
      "{}\n",
      "['Sydney', 'Brisbane', 'Melbourne']\n",
      "{'USA': ['NewYork', 'Houston', 'Denver', 'Chicago'], 'India': ['Delhi', 'Mumbai', 'Chennai'], 'Australia': ['Sydney', 'Brisbane', 'Melbourne'], 'NewZealand': ['Auckland', 'Wellington']}\n"
     ]
    }
   ],
   "source": [
    "## CREATE new dictionary\n",
    "## my_dict = {'key1':'value1','key2':'value2'}\n",
    "\n",
    "d=dict()\n",
    "print(d)\n",
    "\n",
    "my_cities = {'USA':['NewYork', 'Houston', 'Denver', 'Chicago'], 'India':['Delhi', 'Mumbai', 'Chennai'], 'Australia':['Sydney', 'Brisbane', 'Melbourne']}\n",
    "print(my_cities['Australia'])\n",
    "\n",
    "my_cities['NewZealand'] = ['Auckland','Wellington']\n",
    "print (my_cities)"
   ]
  },
  {
   "cell_type": "code",
   "execution_count": 3,
   "metadata": {},
   "outputs": [
    {
     "data": {
      "text/plain": [
       "'valueX'"
      ]
     },
     "execution_count": 3,
     "metadata": {},
     "output_type": "execute_result"
    }
   ],
   "source": [
    "## NESTING DICTIONARIES\n",
    "\n",
    "d = {'key1':{'nestkey':{'subnestkey':'valueX'}}}\n",
    "d['key1']['nestkey']['subnestkey']"
   ]
  },
  {
   "cell_type": "code",
   "execution_count": 5,
   "metadata": {},
   "outputs": [
    {
     "name": "stdout",
     "output_type": "stream",
     "text": [
      "dict_keys(['USA', 'India', 'Australia', 'NewZealand'])\n",
      "dict_values([['NewYork', 'Houston', 'Denver', 'Chicago'], ['Delhi', 'Mumbai', 'Chennai'], ['Sydney', 'Brisbane', 'Melbourne'], ['Auckland', 'Wellington']])\n",
      "dict_items([('USA', ['NewYork', 'Houston', 'Denver', 'Chicago']), ('India', ['Delhi', 'Mumbai', 'Chennai']), ('Australia', ['Sydney', 'Brisbane', 'Melbourne']), ('NewZealand', ['Auckland', 'Wellington'])])\n"
     ]
    }
   ],
   "source": [
    "## METHODS\n",
    "\n",
    "print (my_cities.keys())\n",
    "print (my_cities.values())\n",
    "print (my_cities.items())"
   ]
  },
  {
   "cell_type": "code",
   "execution_count": 4,
   "metadata": {},
   "outputs": [
    {
     "name": "stdout",
     "output_type": "stream",
     "text": [
      "{'w': 1, '3': 1, 'r': 2, 'e': 2, 's': 1, 'o': 1, 'u': 1, 'c': 1}\n"
     ]
    }
   ],
   "source": [
    "\"\"\"\n",
    "CREATE new dictionary from string\n",
    "\"\"\"\n",
    "\n",
    "from collections import Counter\n",
    "x=\"w3resource\"\n",
    "print(dict(Counter(x)))"
   ]
  },
  {
   "cell_type": "code",
   "execution_count": 6,
   "metadata": {},
   "outputs": [
    {
     "name": "stdout",
     "output_type": "stream",
     "text": [
      "{'key1': (0, 1, 2), 'key2': (0, 1, 2), 'key3': (0, 1, 2)}\n",
      "{'key1': 0, 'key2': 0, 'key3': 0}\n"
     ]
    }
   ],
   "source": [
    "\"\"\"\n",
    "FROMKEYS\n",
    "\"\"\"\n",
    "\n",
    "x = ('key1', 'key2', 'key3')\n",
    "y = (0,1,2)\n",
    "z = 0\n",
    "\n",
    "thisdict = dict.fromkeys(x, y)\n",
    "thatdict = dict.fromkeys(x, z)\n",
    "\n",
    "print(thisdict)\n",
    "print(thatdict)"
   ]
  },
  {
   "cell_type": "code",
   "execution_count": 12,
   "metadata": {},
   "outputs": [
    {
     "name": "stdout",
     "output_type": "stream",
     "text": [
      "{1: 1, 2: 4, 3: 9, 4: 16, 5: 25, 6: 36, 7: 49, 8: 64, 9: 81, 10: 100}\n"
     ]
    }
   ],
   "source": [
    "\"\"\"\n",
    "Create new Dictionary where value = square of key\n",
    "\"\"\"\n",
    "\n",
    "n=10\n",
    "m={i:i*i for i in range(1,n+1)}\n",
    "print(m)"
   ]
  },
  {
   "cell_type": "code",
   "execution_count": 28,
   "metadata": {},
   "outputs": [
    {
     "name": "stdout",
     "output_type": "stream",
     "text": [
      "add {1: 2, 3: 4, 4: 3, 2: 1, 0: 0, 21: 22}\n",
      "remove {1: 2, 3: 4, 4: 3, 2: 1, 0: 0}\n",
      "pop {1: 2, 3: 4, 4: 3, 2: 1}\n",
      "del {1: 2, 3: 4, 4: 3}\n",
      "change {1: 2, 3: 4, 4: 19}\n",
      "11\n",
      "default {1: 2, 3: 4, 4: 19, 8: 11}\n",
      "update {1: 2, 3: 4, 4: 19, 8: 11, 31: 33}\n",
      "clear {}\n"
     ]
    },
    {
     "ename": "NameError",
     "evalue": "name 'd' is not defined",
     "output_type": "error",
     "traceback": [
      "\u001b[1;31m---------------------------------------------------------------------------\u001b[0m",
      "\u001b[1;31mNameError\u001b[0m                                 Traceback (most recent call last)",
      "Cell \u001b[1;32mIn[28], line 41\u001b[0m\n\u001b[0;32m     38\u001b[0m \u001b[38;5;28mprint\u001b[39m(\u001b[38;5;124m\"\u001b[39m\u001b[38;5;124mclear\u001b[39m\u001b[38;5;124m\"\u001b[39m,d)\n\u001b[0;32m     40\u001b[0m \u001b[38;5;28;01mdel\u001b[39;00m d\n\u001b[1;32m---> 41\u001b[0m \u001b[38;5;28mprint\u001b[39m(\u001b[38;5;124m\"\u001b[39m\u001b[38;5;124mdel\u001b[39m\u001b[38;5;124m\"\u001b[39m,d)\n",
      "\u001b[1;31mNameError\u001b[0m: name 'd' is not defined"
     ]
    }
   ],
   "source": [
    "\"\"\"\n",
    "MODIFY Dictionary\n",
    "\"\"\"\n",
    "\n",
    "d = {1: 2, 3: 4, 4: 3, 2: 1, 0: 0}\n",
    "\n",
    "#ADD===========\n",
    "d[21]=22\n",
    "print(\"add\",d)\n",
    "\n",
    "#REMOVE========\n",
    "d.pop(21)\n",
    "print(\"remove\",d)\n",
    "\n",
    "#REMOVE last added item\n",
    "d.popitem()\n",
    "print(\"pop\",d)\n",
    "\n",
    "del d[2]\n",
    "print(\"del\",d)\n",
    "\n",
    "#Change\n",
    "d[4]=19\n",
    "print(\"change\",d)\n",
    "\n",
    "#set default if key does not exist\n",
    "print(d.setdefault(8,11))\n",
    "\n",
    "#set default adds the k,v combination\n",
    "print(\"default\",d)\n",
    "\n",
    "#Insert item\n",
    "d.update({31:33})\n",
    "print(\"update\",d)\n",
    "\n",
    "#CLEAR or EMPTY\n",
    "d.clear()\n",
    "print(\"clear\",d)\n",
    "\n",
    "del d\n",
    "print(\"del\",d)"
   ]
  },
  {
   "cell_type": "code",
   "execution_count": 30,
   "metadata": {},
   "outputs": [
    {
     "name": "stdout",
     "output_type": "stream",
     "text": [
      "3\n",
      "3\n"
     ]
    }
   ],
   "source": [
    "\"\"\"\n",
    "ACCESS item in Dictionary\n",
    "\"\"\"\n",
    "\n",
    "d = {1: 2, 3: 4, 4: 3, 2: 1, 0: 0}\n",
    "print(d[4])\n",
    "\n",
    "print(d.get(4))"
   ]
  },
  {
   "cell_type": "code",
   "execution_count": 32,
   "metadata": {},
   "outputs": [
    {
     "name": "stdout",
     "output_type": "stream",
     "text": [
      "{1: 2, 3: 4, 4: 3, 2: 1, 0: 0}\n",
      "{1: 2, 3: 4, 4: 3, 2: 1, 0: 0}\n"
     ]
    }
   ],
   "source": [
    "\"\"\"\n",
    "COPY a Dictionary\n",
    "\"\"\"\n",
    "\n",
    "e=d\n",
    "print(e)\n",
    "\n",
    "# ALTERNATIVE\n",
    "\n",
    "f=dict(d)\n",
    "print(f)"
   ]
  },
  {
   "cell_type": "code",
   "execution_count": 38,
   "metadata": {},
   "outputs": [
    {
     "name": "stdout",
     "output_type": "stream",
     "text": [
      "{1: 2, 3: 4, 4: 3, 2: 1, 0: 0}\n",
      "values 2\n",
      "values 4\n",
      "values 3\n",
      "values 1\n",
      "values 0\n",
      "values1: 2\n",
      "values1: 4\n",
      "values1: 3\n",
      "values1: 1\n",
      "values1: 0\n",
      "keys 1\n",
      "keys 3\n",
      "keys 4\n",
      "keys 2\n",
      "keys 0\n",
      "keys1 1\n",
      "keys1 3\n",
      "keys1 4\n",
      "keys1 2\n",
      "keys1 0\n",
      "1 : 2\n",
      "3 : 4\n",
      "4 : 3\n",
      "2 : 1\n",
      "0 : 0\n"
     ]
    }
   ],
   "source": [
    "\"\"\"\n",
    "LOOP through a dictionary\n",
    "\"\"\"\n",
    "#values\n",
    "print(d)\n",
    "\n",
    "for x in d:\n",
    "    print(\"values\",d[x])\n",
    "\n",
    "#values\n",
    "for x in d.values():\n",
    "    print(\"values1:\",x)\n",
    "\n",
    "    \n",
    "#keys\n",
    "for x in d:\n",
    "    print(\"keys\",x)\n",
    "    \n",
    "for x in d.keys():\n",
    "    print(\"keys1\",x)\n",
    "\n",
    "#items\n",
    "for k,v in d.items():\n",
    "    print(k,\":\",v)\n"
   ]
  },
  {
   "cell_type": "code",
   "execution_count": 46,
   "metadata": {},
   "outputs": [
    {
     "name": "stdout",
     "output_type": "stream",
     "text": [
      "does not exist\n"
     ]
    }
   ],
   "source": [
    "\"\"\"\n",
    "Check if key exists\n",
    "\"\"\"\n",
    "\n",
    "n=5\n",
    "if n in d:\n",
    "    print(\"exists\")\n",
    "else:\n",
    "    print(\"does not exist\")"
   ]
  },
  {
   "cell_type": "code",
   "execution_count": 48,
   "metadata": {},
   "outputs": [
    {
     "name": "stdout",
     "output_type": "stream",
     "text": [
      "5\n"
     ]
    }
   ],
   "source": [
    "\"\"\"\n",
    "Length of Dictionary\n",
    "\"\"\"\n",
    "print(len(d))"
   ]
  },
  {
   "cell_type": "code",
   "execution_count": 120,
   "metadata": {},
   "outputs": [
    {
     "name": "stdout",
     "output_type": "stream",
     "text": [
      "{'x': {1: 2, 3: 4}, 'y': {4: 3, 2: 1}, 'z': {0: 0, 21: 22}}\n"
     ]
    }
   ],
   "source": [
    "\"\"\"\n",
    "NESTED Dictionary\n",
    "\"\"\"\n",
    "\n",
    "#Create\n",
    "\n",
    "x={1: 2, 3: 4}\n",
    "y={4: 3, 2: 1}\n",
    "z={0:0, 21:22}\n",
    "xyz={\"x\":x,\"y\":y,\"z\":z}\n",
    "print(xyz)"
   ]
  },
  {
   "cell_type": "code",
   "execution_count": 52,
   "metadata": {},
   "outputs": [
    {
     "name": "stdout",
     "output_type": "stream",
     "text": [
      "{1: 10, 2: 20, 3: 30, 4: 40, 5: 50, 6: 60}\n",
      "{1: 10, 2: 20, 3: 30, 4: 40, 5: 50, 6: 60}\n",
      "Counter({6: 60, 5: 50, 4: 40, 3: 30, 2: 20, 1: 10})\n"
     ]
    }
   ],
   "source": [
    "\"\"\"\n",
    "CONCATENATE dictionaries\n",
    "\n",
    "\"\"\"\n",
    "d=dict()\n",
    "dic1={1:10, 2:20}\n",
    "dic2={3:30, 4:40}\n",
    "dic3={5:50, 6:60}\n",
    "for i in (dic1, dic2, dic3):\n",
    "    d.update(i)\n",
    "print(d)\n",
    "\n",
    "#ALTERNATE>>\n",
    "d1={**dic1,**dic2,**dic3}\n",
    "print(d1)\n",
    "\n",
    "# ALTERNATE\n",
    "from collections import Counter\n",
    "d2=Counter(dic1)+Counter(dic2)+Counter(dic3)\n",
    "print(d2)"
   ]
  },
  {
   "cell_type": "code",
   "execution_count": 58,
   "metadata": {},
   "outputs": [
    {
     "name": "stdout",
     "output_type": "stream",
     "text": [
      "{0: 0, 2: 1, 1: 2, 4: 3, 3: 4}\n",
      "[(0, 0), (2, 1), (1, 2), (4, 3), (3, 4)]\n",
      "{0: 0, 2: 1, 1: 2, 4: 3, 3: 4}\n",
      "{0: 0, 2: 1, 1: 2, 4: 3, 3: 4}\n",
      "{3: 4, 4: 3, 1: 2, 2: 1, 0: 0}\n",
      "{0: 0, 1: 2, 2: 1, 3: 4, 4: 3}\n",
      "{4: 3, 3: 4, 2: 1, 1: 2, 0: 0}\n"
     ]
    }
   ],
   "source": [
    "\"\"\"\n",
    "SORT dictionary by value in ascending order\n",
    "\n",
    "\"\"\"\n",
    "\n",
    "x = {1: 2, 3: 4, 4: 3, 2: 1, 0: 0}\n",
    "print({k:v for k,v in sorted(x.items(), key=lambda item: item[1])})\n",
    "\n",
    "y = {1: 2, 3: 4, 4: 3, 2: 1, 0: 0}\n",
    "print(sorted(x.items(), key=lambda item: item[1]))\n",
    "\n",
    "import operator\n",
    "d = {1: 2, 3: 4, 4: 3, 2: 1, 0: 0}\n",
    "sorted_d=dict(sorted(d.items(), key=operator.itemgetter(1)))\n",
    "print(sorted_d)\n",
    "\n",
    "b = {1: 2, 3: 4, 4: 3, 2: 1, 0: 0}\n",
    "print(dict(sorted(b.items(), key=lambda item: item[1])))\n",
    "\n",
    "\n",
    "\"\"\"\n",
    "SORT dictionary by value in descending order\n",
    "\n",
    "\"\"\"\n",
    "b = {1: 2, 3: 4, 4: 3, 2: 1, 0: 0}\n",
    "print(dict(sorted(b.items(), key=lambda item: item[1], reverse=True)))\n",
    "\n",
    "\n",
    "\"\"\"\n",
    "SORT dictionary by key in ascending order\n",
    "\n",
    "\"\"\"\n",
    "\n",
    "b = {1: 2, 3: 4, 4: 3, 2: 1, 0: 0}\n",
    "print(dict(sorted(b.items())))\n",
    "\n",
    "\n",
    "\"\"\"\n",
    "SORT dictionary by key in descending order\n",
    "\n",
    "\"\"\"\n",
    "\n",
    "b = {1: 2, 3: 4, 4: 3, 2: 1, 0: 0}\n",
    "print(dict(sorted(b.items(), reverse=True)))"
   ]
  },
  {
   "cell_type": "code",
   "execution_count": 3,
   "metadata": {},
   "outputs": [
    {
     "name": "stdout",
     "output_type": "stream",
     "text": [
      "10\n"
     ]
    }
   ],
   "source": [
    "\"\"\"\n",
    "SUM values in Dictionary\n",
    "\n",
    "\"\"\"\n",
    "\n",
    "d = {1: 2, 3: 4, 4: 3, 2: 1, 0: 0}\n",
    "print(sum(d))"
   ]
  },
  {
   "cell_type": "code",
   "execution_count": 24,
   "metadata": {},
   "outputs": [
    {
     "name": "stdout",
     "output_type": "stream",
     "text": [
      "480\n"
     ]
    }
   ],
   "source": [
    "\"\"\"\n",
    "MULTIPLY values in Dictionary\n",
    "\n",
    "\"\"\"\n",
    "\n",
    "d = {1: 2, 3: 4, 4: 3, 2: 1, 0: 20}\n",
    "x=1\n",
    "for i in d.values():\n",
    "    x=x*i\n",
    "print(x)"
   ]
  },
  {
   "cell_type": "code",
   "execution_count": 25,
   "metadata": {},
   "outputs": [
    {
     "name": "stdout",
     "output_type": "stream",
     "text": [
      "{'red': '#FF0000', 'green': '#008000', 'blue': '#0000FF'}\n"
     ]
    }
   ],
   "source": [
    "\"\"\"\n",
    "MAP two lists into Dictionary - ZIP\n",
    "\n",
    "\"\"\"\n",
    "\n",
    "keys = ['red', 'green', 'blue']\n",
    "values = ['#FF0000','#008000', '#0000FF']\n",
    "\n",
    "d1 = {k: v for k, v in zip(keys, values)}\n",
    "print(d1)"
   ]
  },
  {
   "cell_type": "code",
   "execution_count": 45,
   "metadata": {},
   "outputs": [
    {
     "name": "stdout",
     "output_type": "stream",
     "text": [
      "4 0\n"
     ]
    }
   ],
   "source": [
    "\"\"\"\n",
    "maximum and minimum value in a dictionary.\n",
    "\n",
    "\"\"\"\n",
    "\n",
    "d = {1: 2, 3: 4, 4: 3, 2: 1, 0: 0}\n",
    "print(max(d.keys()),min(d.keys()))"
   ]
  },
  {
   "cell_type": "code",
   "execution_count": 26,
   "metadata": {},
   "outputs": [
    {
     "data": {
      "text/plain": [
       "'\\n\\nREMOVE DUPLICATES from dictionary\\n\\n'"
      ]
     },
     "execution_count": 26,
     "metadata": {},
     "output_type": "execute_result"
    }
   ],
   "source": [
    "\"\"\"\n",
    "\n",
    "REMOVE DUPLICATES from dictionary\n",
    "\n",
    "\"\"\"\n",
    "\n"
   ]
  },
  {
   "cell_type": "code",
   "execution_count": 32,
   "metadata": {},
   "outputs": [
    {
     "name": "stdout",
     "output_type": "stream",
     "text": [
      "empty\n"
     ]
    }
   ],
   "source": [
    "\"\"\"\n",
    "Check if dictionary is EMPTY\n",
    "\n",
    "\"\"\"\n",
    "\n",
    "d={}\n",
    "if not d:\n",
    "    print(\"empty\")"
   ]
  },
  {
   "cell_type": "code",
   "execution_count": 44,
   "metadata": {},
   "outputs": [
    {
     "name": "stdout",
     "output_type": "stream",
     "text": [
      "[0, 166, 168, 167]\n"
     ]
    }
   ],
   "source": [
    "\"\"\"\n",
    "List all unique values in dictionary\n",
    "\"\"\"\n",
    "\n",
    "foobar = {320: 167, 316: 0, 319: 167, 401: 167, 319: 168, 380: 167, 265: 166}\n",
    "print(list(set(foobar.values())))"
   ]
  },
  {
   "cell_type": "code",
   "execution_count": 45,
   "metadata": {},
   "outputs": [
    {
     "data": {
      "text/plain": [
       "'\\nDictionary in table format\\n\\n'"
      ]
     },
     "execution_count": 45,
     "metadata": {},
     "output_type": "execute_result"
    }
   ],
   "source": [
    "\"\"\"\n",
    "Dictionary in table format\n",
    "\n",
    "\"\"\""
   ]
  },
  {
   "cell_type": "code",
   "execution_count": 14,
   "metadata": {},
   "outputs": [
    {
     "name": "stdout",
     "output_type": "stream",
     "text": [
      "55\n",
      "45.5\n"
     ]
    }
   ],
   "source": [
    "\"\"\"\n",
    "\n",
    "Top 3 items in dictionary\n",
    "\n",
    "\"\"\"\n",
    "\n",
    "import operator\n",
    "d = {1:45.50, 2:35, 3: 41.30, 4:55, 5: 24}\n",
    "m=dict(sorted(d.items(), key=operator.itemgetter(1),reverse=True)[:2])\n",
    "for x in m.values():\n",
    "    print(x)"
   ]
  },
  {
   "cell_type": "code",
   "execution_count": 19,
   "metadata": {},
   "outputs": [
    {
     "name": "stdout",
     "output_type": "stream",
     "text": [
      "6 (1, 10)\n",
      "7 (2, 20)\n",
      "8 (3, 30)\n",
      "9 (4, 40)\n",
      "10 (5, 50)\n",
      "11 (6, 60)\n"
     ]
    }
   ],
   "source": [
    "\"\"\"\n",
    "ENUMERATE: An enumerator built-in-function adds a counter of iterable numbers\n",
    "enumerate(iterable, start)\n",
    "\n",
    "\"\"\"\n",
    "\n",
    "d={1: 10, 2: 20, 3: 30, 4: 40, 5: 50, 6: 60}\n",
    "for k,v in enumerate(d.items(),6):\n",
    "    print(k,v)"
   ]
  },
  {
   "cell_type": "code",
   "execution_count": 19,
   "metadata": {},
   "outputs": [
    {
     "name": "stdout",
     "output_type": "stream",
     "text": [
      "{('key1', 1)}\n"
     ]
    }
   ],
   "source": [
    "\"\"\"\n",
    "MATCH key values in two dictionaries\n",
    "\n",
    "\"\"\"\n",
    "\n",
    "a={'key1': 1, 'key2': 3, 'key3': 2}\n",
    "b={'key1': 1, 'key2': 2}\n",
    "\n",
    "c=set(a.items()).intersection(set(b.items()))\n",
    "print(c)"
   ]
  },
  {
   "cell_type": "code",
   "execution_count": null,
   "metadata": {},
   "outputs": [],
   "source": []
  }
 ],
 "metadata": {
  "kernelspec": {
   "display_name": "Python 3 (ipykernel)",
   "language": "python",
   "name": "python3"
  },
  "language_info": {
   "codemirror_mode": {
    "name": "ipython",
    "version": 3
   },
   "file_extension": ".py",
   "mimetype": "text/x-python",
   "name": "python",
   "nbconvert_exporter": "python",
   "pygments_lexer": "ipython3",
   "version": "3.12.7"
  }
 },
 "nbformat": 4,
 "nbformat_minor": 4
}
