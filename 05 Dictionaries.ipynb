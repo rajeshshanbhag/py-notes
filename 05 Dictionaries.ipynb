{
 "cells": [
  {
   "cell_type": "markdown",
   "metadata": {},
   "source": [
    "<h3 align=\"left\" style=\"color:blue\">Dictionaries</h3>"
   ]
  },
  {
   "cell_type": "markdown",
   "metadata": {},
   "source": [
    "#### Create new dictionary"
   ]
  },
  {
   "cell_type": "markdown",
   "metadata": {},
   "source": [
    "##### my_dict = {'key1':'value1','key2':'value2'}"
   ]
  },
  {
   "cell_type": "code",
   "execution_count": 9,
   "metadata": {},
   "outputs": [
    {
     "name": "stdout",
     "output_type": "stream",
     "text": [
      "{}\n"
     ]
    },
    {
     "ename": "NameError",
     "evalue": "name 'my_cities' is not defined",
     "output_type": "error",
     "traceback": [
      "\u001b[1;31m---------------------------------------------------------------------------\u001b[0m",
      "\u001b[1;31mNameError\u001b[0m                                 Traceback (most recent call last)",
      "Cell \u001b[1;32mIn[9], line 5\u001b[0m\n\u001b[0;32m      2\u001b[0m \u001b[38;5;28mprint\u001b[39m(d)\n\u001b[0;32m      4\u001b[0m d\u001b[38;5;241m=\u001b[39m{\u001b[38;5;124m'\u001b[39m\u001b[38;5;124mUSA\u001b[39m\u001b[38;5;124m'\u001b[39m:[\u001b[38;5;124m'\u001b[39m\u001b[38;5;124mNewYork\u001b[39m\u001b[38;5;124m'\u001b[39m, \u001b[38;5;124m'\u001b[39m\u001b[38;5;124mHouston\u001b[39m\u001b[38;5;124m'\u001b[39m, \u001b[38;5;124m'\u001b[39m\u001b[38;5;124mDenver\u001b[39m\u001b[38;5;124m'\u001b[39m, \u001b[38;5;124m'\u001b[39m\u001b[38;5;124mChicago\u001b[39m\u001b[38;5;124m'\u001b[39m], \u001b[38;5;124m'\u001b[39m\u001b[38;5;124mIndia\u001b[39m\u001b[38;5;124m'\u001b[39m:[\u001b[38;5;124m'\u001b[39m\u001b[38;5;124mDelhi\u001b[39m\u001b[38;5;124m'\u001b[39m, \u001b[38;5;124m'\u001b[39m\u001b[38;5;124mMumbai\u001b[39m\u001b[38;5;124m'\u001b[39m, \u001b[38;5;124m'\u001b[39m\u001b[38;5;124mChennai\u001b[39m\u001b[38;5;124m'\u001b[39m], \u001b[38;5;124m'\u001b[39m\u001b[38;5;124mAustralia\u001b[39m\u001b[38;5;124m'\u001b[39m:[\u001b[38;5;124m'\u001b[39m\u001b[38;5;124mSydney\u001b[39m\u001b[38;5;124m'\u001b[39m, \u001b[38;5;124m'\u001b[39m\u001b[38;5;124mBrisbane\u001b[39m\u001b[38;5;124m'\u001b[39m, \u001b[38;5;124m'\u001b[39m\u001b[38;5;124mMelbourne\u001b[39m\u001b[38;5;124m'\u001b[39m]}\n\u001b[1;32m----> 5\u001b[0m \u001b[38;5;28mprint\u001b[39m(\u001b[38;5;124m'\u001b[39m\u001b[38;5;124m1-\u001b[39m\u001b[38;5;124m'\u001b[39m,my_cities[\u001b[38;5;124m'\u001b[39m\u001b[38;5;124mAustralia\u001b[39m\u001b[38;5;124m'\u001b[39m])\n\u001b[0;32m      7\u001b[0m \u001b[38;5;28mprint\u001b[39m(\u001b[38;5;124m'\u001b[39m\u001b[38;5;124m2-\u001b[39m\u001b[38;5;124m'\u001b[39m,my_cities\u001b[38;5;241m.\u001b[39mkeys())\n\u001b[0;32m      8\u001b[0m \u001b[38;5;28mprint\u001b[39m(\u001b[38;5;124m'\u001b[39m\u001b[38;5;124m3-\u001b[39m\u001b[38;5;124m'\u001b[39m,my_cities\u001b[38;5;241m.\u001b[39mvalues())\n",
      "\u001b[1;31mNameError\u001b[0m: name 'my_cities' is not defined"
     ]
    }
   ],
   "source": [
    "d=dict()\n",
    "print(d)\n",
    "\n",
    "d={'USA':['NewYork', 'Houston', 'Denver', 'Chicago'], 'India':['Delhi', 'Mumbai', 'Chennai'], 'Australia':['Sydney', 'Brisbane', 'Melbourne']}\n",
    "print('1-',my_cities['Australia'])\n",
    "\n",
    "print('2-',my_cities.keys())\n",
    "print('3-',my_cities.values())\n",
    "print('4-',my_cities.items())\n",
    "\n",
    "## CREATE new dictionary from string\n",
    "\n",
    "from collections import Counter\n",
    "x=\"PythonDictionary\"\n",
    "print(dict(Counter(x)))\n",
    "\n",
    "## Create new Dictionary where value = square of key\n",
    "\n",
    "n=10\n",
    "m={i:i*i for i in range(1,n+1)}\n",
    "print(m)\n",
    "\n",
    "## COPY a Dictionary\n",
    "\n",
    "e=d\n",
    "print('copied-',e)\n",
    "\n",
    "# ALTERNATIVE\n",
    "\n",
    "f=dict(d)\n",
    "print('copied-',f)"
   ]
  },
  {
   "cell_type": "markdown",
   "metadata": {},
   "source": [
    "#### Methods"
   ]
  },
  {
   "cell_type": "code",
   "execution_count": 10,
   "metadata": {},
   "outputs": [
    {
     "name": "stdout",
     "output_type": "stream",
     "text": [
      "add- {'USA': ['NewYork', 'Houston', 'Denver', 'Chicago'], 'India': ['Delhi', 'Mumbai', 'Chennai'], 'Australia': ['Sydney', 'Brisbane', 'Melbourne'], 'NewZealand': ['Auckland', 'Wellington']}\n",
      "remove- {'USA': ['NewYork', 'Houston', 'Denver', 'Chicago'], 'Australia': ['Sydney', 'Brisbane', 'Melbourne'], 'NewZealand': ['Auckland', 'Wellington']}\n",
      "access- ['NewYork', 'Houston', 'Denver', 'Chicago']\n",
      "access- ['Sydney', 'Brisbane', 'Melbourne']\n",
      "remove last item- {'USA': ['NewYork', 'Houston', 'Denver', 'Chicago'], 'Australia': ['Sydney', 'Brisbane', 'Melbourne']}\n",
      "del USA- {'Australia': ['Sydney', 'Brisbane', 'Melbourne']}\n",
      "change- {'Australia': ['Sydney', 'Brisbane', 'Melbourne'], 'USA': ['NewYork', 'Houston', 'Denver', 'Chicago']}\n",
      "NA\n",
      "default- {'Australia': ['Sydney', 'Brisbane', 'Melbourne'], 'USA': ['NewYork', 'Houston', 'Denver', 'Chicago'], 'India': 'NA'}\n",
      "insert- {'Australia': ['Sydney', 'Brisbane', 'Melbourne'], 'USA': ['NewYork', 'Chicago'], 'India': 'NA'}\n",
      "clear- {}\n"
     ]
    }
   ],
   "source": [
    "d={'USA':['NewYork', 'Houston', 'Denver', 'Chicago'], 'India':['Delhi', 'Mumbai', 'Chennai'], 'Australia':['Sydney', 'Brisbane', 'Melbourne']}\n",
    "\n",
    "#ADD===========\n",
    "d['NewZealand'] = ['Auckland','Wellington']\n",
    "print ('add-',d)\n",
    "\n",
    "#REMOVE========\n",
    "d.pop('India')\n",
    "print(\"remove-\",d)\n",
    "\n",
    "# ACCESS==========\n",
    "print('access-',d['USA'])\n",
    "print('access-',d.get('Australia'))\n",
    "\n",
    "#REMOVE last added item\n",
    "d.popitem()\n",
    "print(\"remove last item-\",d)\n",
    "\n",
    "del d['USA']\n",
    "print(\"del USA-\",d)\n",
    "\n",
    "#Change\n",
    "d['USA']=['NewYork', 'Houston', 'Denver', 'Chicago']\n",
    "print(\"change-\",d)\n",
    "\n",
    "#set default if key does not exist\n",
    "print(d.setdefault('India','NA'))\n",
    "\n",
    "#set default adds the k,v combination\n",
    "print(\"default-\",d)\n",
    "\n",
    "#Insert item\n",
    "d.update([('USA',['NewYork','Chicago'])])\n",
    "print(\"insert-\",d)\n",
    "\n",
    "#CLEAR or EMPTY\n",
    "d.clear()\n",
    "print(\"clear-\",d)\n",
    "\n",
    "del d\n",
    "print(\"del-\",d)"
   ]
  },
  {
   "cell_type": "markdown",
   "metadata": {},
   "source": [
    "#### fromkeys()"
   ]
  },
  {
   "cell_type": "code",
   "execution_count": 11,
   "metadata": {},
   "outputs": [
    {
     "name": "stdout",
     "output_type": "stream",
     "text": [
      "{'key1': (0, 1, 2), 'key2': (0, 1, 2), 'key3': (0, 1, 2)}\n",
      "{'key1': 0, 'key2': 0, 'key3': 0}\n"
     ]
    }
   ],
   "source": [
    "x = ('key1', 'key2', 'key3')\n",
    "y = (0,1,2)\n",
    "z = 0\n",
    "\n",
    "thisdict = dict.fromkeys(x, y)\n",
    "thatdict = dict.fromkeys(x, z)\n",
    "\n",
    "print(thisdict)\n",
    "print(thatdict)"
   ]
  },
  {
   "cell_type": "markdown",
   "metadata": {},
   "source": [
    "#### LOOP through a dictionary"
   ]
  },
  {
   "cell_type": "code",
   "execution_count": 30,
   "metadata": {},
   "outputs": [
    {
     "name": "stdout",
     "output_type": "stream",
     "text": [
      "d- {'Australia': ['Sydney', 'Brisbane', 'Melbourne'], 'USA': ['NewYork', 'Chicago'], 'India': 'NA'}\n",
      "values ['Sydney', 'Brisbane', 'Melbourne']\n",
      "values ['NewYork', 'Chicago']\n",
      "values NA\n",
      "values1: ['Sydney', 'Brisbane', 'Melbourne']\n",
      "values1: ['NewYork', 'Chicago']\n",
      "values1: NA\n",
      "keys Australia\n",
      "keys USA\n",
      "keys India\n",
      "keys1 Australia\n",
      "keys1 USA\n",
      "keys1 India\n",
      "Australia : ['Sydney', 'Brisbane', 'Melbourne']\n",
      "USA : ['NewYork', 'Chicago']\n",
      "India : NA\n"
     ]
    }
   ],
   "source": [
    "#values\n",
    "d={'Australia': ['Sydney', 'Brisbane', 'Melbourne'], 'USA': ['NewYork', 'Chicago'], 'India': 'NA'}\n",
    "print('d-',d)\n",
    "\n",
    "for x in d:\n",
    "    print(\"values\",d[x])\n",
    "\n",
    "#values\n",
    "for x in d.values():\n",
    "    print(\"values1:\",x)\n",
    "\n",
    "    \n",
    "#keys\n",
    "for x in d:\n",
    "    print(\"keys\",x)\n",
    "    \n",
    "for x in d.keys():\n",
    "    print(\"keys1\",x)\n",
    "\n",
    "#items\n",
    "for k,v in d.items():\n",
    "    print(k,\":\",v)\n"
   ]
  },
  {
   "cell_type": "markdown",
   "metadata": {},
   "source": [
    "#### Check if key exists"
   ]
  },
  {
   "cell_type": "code",
   "execution_count": 15,
   "metadata": {},
   "outputs": [
    {
     "name": "stdout",
     "output_type": "stream",
     "text": [
      "does not exist\n"
     ]
    }
   ],
   "source": [
    "n='France'\n",
    "if n in d:\n",
    "    print(\"exists\")\n",
    "else:\n",
    "    print(\"does not exist\")"
   ]
  },
  {
   "cell_type": "markdown",
   "metadata": {},
   "source": [
    "#### Max, min, sum, len, multiply value in a dictionary"
   ]
  },
  {
   "cell_type": "code",
   "execution_count": 29,
   "metadata": {},
   "outputs": [
    {
     "name": "stdout",
     "output_type": "stream",
     "text": [
      "4 0\n",
      "sum 100\n",
      "max 40\n",
      "min 0\n",
      "multiply 0\n"
     ]
    }
   ],
   "source": [
    "d = {1: 20, 3: 40, 4: 30, 2: 10, 0: 0}\n",
    "print(max(d.keys()),min(d.keys()))\n",
    "\n",
    "print('sum',sum(d.values()))\n",
    "print('max',max(d.values()))\n",
    "print('min',min(d.values()))\n",
    "\n",
    "x=1\n",
    "for i in d.values():\n",
    "    x=x*i\n",
    "print('multiply',x)"
   ]
  },
  {
   "cell_type": "markdown",
   "metadata": {},
   "source": [
    "#### Nesting Dictionary"
   ]
  },
  {
   "cell_type": "markdown",
   "metadata": {},
   "source": [
    "##### d = {'key1':{'nestkey':{'subnestkey':'valueX'}}}\n",
    "##### d['key1']['nestkey']['subnestkey']"
   ]
  },
  {
   "cell_type": "code",
   "execution_count": 31,
   "metadata": {},
   "outputs": [
    {
     "name": "stdout",
     "output_type": "stream",
     "text": [
      "{'x': {1: 2, 3: 4}, 'y': {4: 3, 2: 1}, 'z': {0: 0, 21: 22}}\n"
     ]
    }
   ],
   "source": [
    "x={1: 2, 3: 4}\n",
    "y={4: 3, 2: 1}\n",
    "z={0:0, 21:22}\n",
    "xyz={\"x\":x,\"y\":y,\"z\":z}\n",
    "print(xyz)"
   ]
  },
  {
   "cell_type": "markdown",
   "metadata": {},
   "source": [
    "#### Concatenate Dictionaries"
   ]
  },
  {
   "cell_type": "code",
   "execution_count": 52,
   "metadata": {},
   "outputs": [
    {
     "name": "stdout",
     "output_type": "stream",
     "text": [
      "{1: 10, 2: 20, 3: 30, 4: 40, 5: 50, 6: 60}\n",
      "{1: 10, 2: 20, 3: 30, 4: 40, 5: 50, 6: 60}\n",
      "Counter({6: 60, 5: 50, 4: 40, 3: 30, 2: 20, 1: 10})\n"
     ]
    }
   ],
   "source": [
    "d=dict()\n",
    "\n",
    "dic1={1:10, 2:20}\n",
    "dic2={3:30, 4:40}\n",
    "dic3={5:50, 6:60}\n",
    "\n",
    "for i in (dic1, dic2, dic3):\n",
    "    d.update(i)\n",
    "print(d)\n",
    "\n",
    "#ALTERNATE>>\n",
    "d1={**dic1,**dic2,**dic3}\n",
    "print(d1)\n",
    "\n",
    "# ALTERNATE\n",
    "from collections import Counter\n",
    "d2=Counter(dic1)+Counter(dic2)+Counter(dic3)\n",
    "print(d2)"
   ]
  },
  {
   "cell_type": "markdown",
   "metadata": {},
   "source": [
    "#### Sorting dictionaries"
   ]
  },
  {
   "cell_type": "code",
   "execution_count": 50,
   "metadata": {},
   "outputs": [
    {
     "name": "stdout",
     "output_type": "stream",
     "text": [
      "value, asc {2: 10, 1: 20, 4: 30, 3: 40, 0: 50}\n",
      "value, asc [(2, 10), (1, 20), (4, 30), (3, 40), (0, 50)]\n",
      "value, asc {2: 10, 1: 20, 4: 30, 3: 40, 0: 50}\n",
      "value, asc {2: 10, 1: 20, 4: 30, 3: 40, 0: 50}\n",
      "value, desc {0: 50, 3: 40, 4: 30, 1: 20, 2: 10}\n",
      "key, asc {0: 50, 1: 20, 2: 10, 3: 40, 4: 30}\n",
      "key, desc {4: 30, 3: 40, 2: 10, 1: 20, 0: 50}\n",
      "top 3 values 50\n",
      "top 3 values 40\n",
      "top 3 values 30\n",
      "6 (1, 20)\n",
      "7 (3, 40)\n",
      "8 (4, 30)\n",
      "9 (2, 10)\n",
      "10 (0, 50)\n"
     ]
    }
   ],
   "source": [
    "#### Sort by value\n",
    "d = {1: 20, 3: 40, 4: 30, 2: 10, 0: 50}\n",
    "print(\"value, asc\",{k:v for k,v in sorted(d.items(), key=lambda item: item[1])})\n",
    "\n",
    "print(\"value, asc\",sorted(d.items(), key=lambda item: item[1]))\n",
    "\n",
    "import operator\n",
    "sorted_d=dict(sorted(d.items(), key=operator.itemgetter(1)))\n",
    "print(\"value, asc\",sorted_d)\n",
    "\n",
    "print(\"value, asc\",dict(sorted(d.items(), key=lambda item: item[1])))\n",
    "\n",
    "print(\"value, desc\",dict(sorted(d.items(), key=lambda item: item[1], reverse=True)))\n",
    "\n",
    "#### Sort by key\n",
    "print(\"key, asc\",dict(sorted(d.items())))\n",
    "\n",
    "print(\"key, desc\",dict(sorted(d.items(), reverse=True)))\n",
    "\n",
    "#### Top 3 values in dictionary\n",
    "import operator\n",
    "m=dict(sorted(d.items(), key=operator.itemgetter(1),reverse=True)[:3])\n",
    "for x in m.values():\n",
    "    print(\"top 3 values\",x)\n",
    "\n",
    "#### Enumerate\n",
    "for k,v in enumerate(d.items(),6):\n",
    "    print(k,v)"
   ]
  },
  {
   "cell_type": "markdown",
   "metadata": {},
   "source": [
    "#### Map dictionaries using zip"
   ]
  },
  {
   "cell_type": "code",
   "execution_count": 25,
   "metadata": {},
   "outputs": [
    {
     "name": "stdout",
     "output_type": "stream",
     "text": [
      "{'red': '#FF0000', 'green': '#008000', 'blue': '#0000FF'}\n"
     ]
    }
   ],
   "source": [
    "keys = ['red', 'green', 'blue']\n",
    "values = ['#FF0000','#008000', '#0000FF']\n",
    "\n",
    "d1 = {k: v for k, v in zip(keys, values)}\n",
    "print(d1)"
   ]
  },
  {
   "cell_type": "markdown",
   "metadata": {},
   "source": [
    "#### Check if dictionary is EMPTY"
   ]
  },
  {
   "cell_type": "code",
   "execution_count": 44,
   "metadata": {},
   "outputs": [
    {
     "name": "stdout",
     "output_type": "stream",
     "text": [
      "empty\n"
     ]
    }
   ],
   "source": [
    "d={}\n",
    "if not d:\n",
    "    print(\"empty\")"
   ]
  },
  {
   "cell_type": "markdown",
   "metadata": {},
   "source": [
    "#### List all unique values in dictionary"
   ]
  },
  {
   "cell_type": "code",
   "execution_count": 45,
   "metadata": {},
   "outputs": [
    {
     "name": "stdout",
     "output_type": "stream",
     "text": [
      "[0, 166, 168, 167]\n"
     ]
    }
   ],
   "source": [
    "foobar = {320: 167, 316: 0, 319: 167, 401: 167, 319: 168, 380: 167, 265: 166}\n",
    "print(list(set(foobar.values())))"
   ]
  },
  {
   "cell_type": "markdown",
   "metadata": {},
   "source": [
    "#### Match key values in two dictionaries"
   ]
  },
  {
   "cell_type": "code",
   "execution_count": 51,
   "metadata": {},
   "outputs": [
    {
     "name": "stdout",
     "output_type": "stream",
     "text": [
      "{('key1', 1)}\n"
     ]
    }
   ],
   "source": [
    "a={'key1': 1, 'key2': 3, 'key3': 2}\n",
    "b={'key1': 1, 'key2': 2}\n",
    "\n",
    "c=set(a.items()).intersection(set(b.items()))\n",
    "print(c)"
   ]
  }
 ],
 "metadata": {
  "kernelspec": {
   "display_name": "Python 3 (ipykernel)",
   "language": "python",
   "name": "python3"
  },
  "language_info": {
   "codemirror_mode": {
    "name": "ipython",
    "version": 3
   },
   "file_extension": ".py",
   "mimetype": "text/x-python",
   "name": "python",
   "nbconvert_exporter": "python",
   "pygments_lexer": "ipython3",
   "version": "3.12.7"
  }
 },
 "nbformat": 4,
 "nbformat_minor": 4
}
