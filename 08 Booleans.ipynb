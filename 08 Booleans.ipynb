{
 "cells": [
  {
   "cell_type": "markdown",
   "id": "d3cc245c-6110-4474-8956-73ac589e8b07",
   "metadata": {},
   "source": [
    "<h3 style=\"color:blue\" align=\"left\">Booleans</h3>"
   ]
  },
  {
   "cell_type": "code",
   "execution_count": 3,
   "id": "90a1634c",
   "metadata": {},
   "outputs": [
    {
     "name": "stdout",
     "output_type": "stream",
     "text": [
      "False\n",
      "True\n"
     ]
    }
   ],
   "source": [
    "print (1 > 2)\n",
    "print (1 < 2)"
   ]
  }
 ],
 "metadata": {
  "kernelspec": {
   "display_name": "Python 3 (ipykernel)",
   "language": "python",
   "name": "python3"
  },
  "language_info": {
   "codemirror_mode": {
    "name": "ipython",
    "version": 3
   },
   "file_extension": ".py",
   "mimetype": "text/x-python",
   "name": "python",
   "nbconvert_exporter": "python",
   "pygments_lexer": "ipython3",
   "version": "3.12.7"
  }
 },
 "nbformat": 4,
 "nbformat_minor": 5
}
