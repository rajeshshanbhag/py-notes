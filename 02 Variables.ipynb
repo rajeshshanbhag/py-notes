{
 "cells": [
  {
   "cell_type": "markdown",
   "id": "d7f82008-933a-4c6c-ae35-8a889810b79a",
   "metadata": {},
   "source": [
    "<h3 align=\"left\" style=\"color:blue\">Variables</h3>"
   ]
  },
  {
   "cell_type": "code",
   "execution_count": null,
   "id": "f1f18f36-7e60-4061-bf31-d53307a18e48",
   "metadata": {},
   "outputs": [],
   "source": [
    "a=5\n",
    "\n",
    "print(\"a is:\",a)\n",
    "print(\"a+a is:\",a+a)\n",
    "\n",
    "a=a+a+a\n",
    "print (a)"
   ]
  },
  {
   "cell_type": "markdown",
   "id": "4c69b900-564c-4ba1-aae4-048989e94a7c",
   "metadata": {},
   "source": [
    "#### 1. Names can not start with a number.\n",
    "#### 2. There can be no spaces in the name, use _ instead.\n",
    "#### 3. Can't use any of these symbols :'\",<>/?|\\()!@#$%^&*~-+\n",
    "#### 4. It's considered best practice (PEP8) that names are lowercase.\n",
    "#### 5. Avoid using the characters 'l' (lowercase letter el), 'O' (uppercase letter oh), or 'I' (uppercase letter eye) as single character variable names.\n",
    "#### 6. Avoid using words that have special meaning in Python like \"list\" and \"str\""
   ]
  },
  {
   "cell_type": "code",
   "execution_count": null,
   "id": "ac67c304-31a8-45c4-b494-c0f1b2551ae4",
   "metadata": {},
   "outputs": [],
   "source": []
  }
 ],
 "metadata": {
  "kernelspec": {
   "display_name": "Python 3 (ipykernel)",
   "language": "python",
   "name": "python3"
  },
  "language_info": {
   "codemirror_mode": {
    "name": "ipython",
    "version": 3
   },
   "file_extension": ".py",
   "mimetype": "text/x-python",
   "name": "python",
   "nbconvert_exporter": "python",
   "pygments_lexer": "ipython3",
   "version": "3.12.7"
  }
 },
 "nbformat": 4,
 "nbformat_minor": 5
}
