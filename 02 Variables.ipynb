{
 "cells": [
  {
   "cell_type": "markdown",
   "id": "9da74f24-7888-4905-8174-4c1a5bf72c44",
   "metadata": {},
   "source": [
    "<h2 align=\"left\" style=\"color:blue\">Variables</h2>"
   ]
  },
  {
   "cell_type": "code",
   "execution_count": null,
   "id": "f1f18f36-7e60-4061-bf31-d53307a18e48",
   "metadata": {},
   "outputs": [],
   "source": [
    "a=5\n",
    "\n",
    "print(\"a is:\",a)\n",
    "print(\"a+a is:\",a+a)\n",
    "\n",
    "a=a+a+a\n",
    "print (a)"
   ]
  },
  {
   "cell_type": "markdown",
   "id": "73bacc58-00b3-4175-ae26-880990393c9f",
   "metadata": {},
   "source": [
    "### 1. Names can not start with a number.\n",
    "### 2. There can be no spaces in the name, use _ instead.\n",
    "### 3. Can't use any of these symbols :'\",<>/?|\\()!@#$%^&*~-+\n",
    "### 4. It's considered best practice (PEP8) that names are lowercase.\n",
    "### 5. Avoid using the characters 'l' (lowercase letter el), 'O' (uppercase letter oh), or 'I' (uppercase letter eye) as single character variable names.\n",
    "### 6. Avoid using words that have special meaning in Python like \"list\" and \"str\""
   ]
  }
 ],
 "metadata": {
  "kernelspec": {
   "display_name": "Python 3 (ipykernel)",
   "language": "python",
   "name": "python3"
  },
  "language_info": {
   "codemirror_mode": {
    "name": "ipython",
    "version": 3
   },
   "file_extension": ".py",
   "mimetype": "text/x-python",
   "name": "python",
   "nbconvert_exporter": "python",
   "pygments_lexer": "ipython3",
   "version": "3.12.7"
  }
 },
 "nbformat": 4,
 "nbformat_minor": 5
}
