{
 "cells": [
  {
   "cell_type": "code",
   "execution_count": null,
   "id": "826b9f3b-62cb-487f-83f6-af140f4627fd",
   "metadata": {},
   "outputs": [],
   "source": [
    "import argparse\n",
    "\n",
    "if __name__ == \"__main__\":\n",
    "    parser = argparse.ArgumentParser()\n",
    "    parser.add_argument(\"--number1\", help=\"first number\")\n",
    "    parser.add_argument(\"--number2\", help=\"second number\")\n",
    "    parser.add_argument(\"--operation\", help=\"operation\", \\\n",
    "                        choices=[\"add\",\"subtract\",\"multiply\"])\n",
    "\n",
    "    args = parser.parse_args()\n",
    "\n",
    "    print(args.number1)\n",
    "    print(args.number2)\n",
    "    print(args.operation)\n",
    "\n",
    "    n1=int(args.number1)\n",
    "    n2=int(args.number2)\n",
    "    result = None\n",
    "    if args.operation == \"add\":\n",
    "        result=n1+n2\n",
    "    elif args.operation == \"subtract\":\n",
    "        result=n1-n2\n",
    "    elif args.operation == \"multiply\":\n",
    "        result=n1*n2\n",
    "\n",
    "\n",
    "    print(\"Result:\",result)"
   ]
  }
 ],
 "metadata": {
  "kernelspec": {
   "display_name": "Python 3 (ipykernel)",
   "language": "python",
   "name": "python3"
  },
  "language_info": {
   "codemirror_mode": {
    "name": "ipython",
    "version": 3
   },
   "file_extension": ".py",
   "mimetype": "text/x-python",
   "name": "python",
   "nbconvert_exporter": "python",
   "pygments_lexer": "ipython3",
   "version": "3.12.7"
  }
 },
 "nbformat": 4,
 "nbformat_minor": 5
}
