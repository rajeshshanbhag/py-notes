{
 "cells": [
  {
   "cell_type": "markdown",
   "id": "672e2281-99d4-425d-86b1-8256d1da1773",
   "metadata": {},
   "source": [
    "<h3 style=\"color:blue\" align=\"left\">Exception Handling</h3>"
   ]
  },
  {
   "cell_type": "code",
   "execution_count": 9,
   "id": "0824ad84-cd85-4300-8a7d-c41104711abe",
   "metadata": {},
   "outputs": [
    {
     "name": "stdin",
     "output_type": "stream",
     "text": [
      "Enter number1:  5\n",
      "Enter number2:  a\n"
     ]
    },
    {
     "name": "stdout",
     "output_type": "stream",
     "text": [
      "exception ValueError\n",
      "Division is:  None\n"
     ]
    }
   ],
   "source": [
    "x=input(\"Enter number1: \")\n",
    "y=input(\"Enter number2: \")\n",
    "\n",
    "try:\n",
    "    z = int(x) / int(y)\n",
    "except ZeroDivisionError as e:\n",
    "    print('Division by zero exception')\n",
    "    z = None\n",
    "except TypeError as e:\n",
    "    print('Type error exception')\n",
    "    z = None\n",
    "#except ValueError as e:\n",
    "#    print('Value error exception')\n",
    "#    z = None\n",
    "except Exception as e:\n",
    "    print('exception',type(e).__name__)\n",
    "    z = None\n",
    "print(\"Division is: \", z)"
   ]
  },
  {
   "cell_type": "markdown",
   "id": "f9d73b8d-11a2-48fc-a3f8-3f6bf99a243c",
   "metadata": {},
   "source": [
    "#### Use 'finally'"
   ]
  },
  {
   "cell_type": "code",
   "execution_count": null,
   "id": "4266fbbc-9745-4cf5-92e4-50ec594c5834",
   "metadata": {},
   "outputs": [],
   "source": [
    "try:\n",
    "    file = open(\"example.txt\", \"r\")\n",
    "    content = file.read()\n",
    "    print(content)\n",
    "except FileNotFoundError:\n",
    "    print(\"Error: The file was not found.\")\n",
    "finally:\n",
    "    file.close()\n",
    "    print(\"File closed.\")"
   ]
  },
  {
   "cell_type": "markdown",
   "id": "77bfaebe-4c53-4c65-bddc-36dfc14ebd55",
   "metadata": {},
   "source": [
    "#### Raise Exception"
   ]
  },
  {
   "cell_type": "code",
   "execution_count": null,
   "id": "0653d93f-8fde-4e60-ad8a-1c527ffa8f62",
   "metadata": {},
   "outputs": [],
   "source": [
    "class InsufficientFunds(Exception):\n",
    "    pass\n",
    "\n",
    "balance = 0\n",
    "\n",
    "def deposit(amount):\n",
    "    global balance\n",
    "    if amount <= 0:\n",
    "        raise ValueError(\"Amount must be positive\")\n",
    "    balance += amount\n",
    "\n",
    "def withdraw(amount):\n",
    "    global balance\n",
    "    if amount>balance:\n",
    "        raise InsufficientFunds(f\"Not enough funds. Current balance {balance}\")\n",
    "    balance -= amount\n",
    "\n",
    "deposit(10)\n",
    "deposit(7)\n",
    "withdraw(50)\n",
    "print(balance)\n"
   ]
  }
 ],
 "metadata": {
  "kernelspec": {
   "display_name": "Python 3 (ipykernel)",
   "language": "python",
   "name": "python3"
  },
  "language_info": {
   "codemirror_mode": {
    "name": "ipython",
    "version": 3
   },
   "file_extension": ".py",
   "mimetype": "text/x-python",
   "name": "python",
   "nbconvert_exporter": "python",
   "pygments_lexer": "ipython3",
   "version": "3.12.7"
  }
 },
 "nbformat": 4,
 "nbformat_minor": 5
}
