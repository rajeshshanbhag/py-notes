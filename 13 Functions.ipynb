{
 "cells": [
  {
   "cell_type": "markdown",
   "id": "2abd7ef7-853e-4bd1-b540-1426486a796b",
   "metadata": {},
   "source": [
    "<h3 style=\"color:blue\" align=\"left\">Functions</h3>"
   ]
  },
  {
   "cell_type": "code",
   "execution_count": 8,
   "id": "27893b54-35d3-42df-9cd3-7868f8293bcb",
   "metadata": {},
   "outputs": [
    {
     "name": "stdout",
     "output_type": "stream",
     "text": [
      "2198.0\n",
      "549.5\n",
      "769.3000000000001\n"
     ]
    }
   ],
   "source": [
    "def cylinder_volume(radius,height):                        \n",
    "    volume=3.14*(radius**2)*height\n",
    "    return volume\n",
    "\n",
    "print(cylinder_volume(10,7))\n",
    "print(cylinder_volume(5,7))                                # positional arguments\n",
    "print(cylinder_volume(height=5,radius=7))                  # keyword arguments"
   ]
  },
  {
   "cell_type": "code",
   "execution_count": 9,
   "id": "137f48ca-38e4-4aae-b0bc-89ac33a2b4e1",
   "metadata": {},
   "outputs": [
    {
     "name": "stdout",
     "output_type": "stream",
     "text": [
      "2198.0\n"
     ]
    }
   ],
   "source": [
    "def cylinder_volume(radius,height=7):                      # default argument\n",
    "    volume=3.14*(radius**2)*height\n",
    "    return volume\n",
    "\n",
    "print(cylinder_volume(10))"
   ]
  },
  {
   "cell_type": "markdown",
   "id": "c00bdba0-67e6-4e23-ae10-ddcf1582dab2",
   "metadata": {},
   "source": [
    "#### *args argument"
   ]
  },
  {
   "cell_type": "code",
   "execution_count": 3,
   "id": "1d88adb1-5876-4d62-8520-8d3d5fdc2f9d",
   "metadata": {},
   "outputs": [
    {
     "name": "stdout",
     "output_type": "stream",
     "text": [
      "10\n",
      "28\n"
     ]
    }
   ],
   "source": [
    "def sum_all(*args):                                          # variable number of arguments\n",
    "    total =0\n",
    "    for n in args:\n",
    "        total+=n\n",
    "    return total\n",
    "\n",
    "print(sum_all(1,2,3,4))\n",
    "print(sum_all(1,2,3,4,5,6,7))"
   ]
  },
  {
   "cell_type": "markdown",
   "id": "1daed842-7b0a-4dfc-942c-0b165808886b",
   "metadata": {},
   "source": [
    "#### **kwargs argument"
   ]
  },
  {
   "cell_type": "code",
   "execution_count": 1,
   "id": "f79bfa30-2a84-4ae0-9751-ad15a176ceb8",
   "metadata": {},
   "outputs": [
    {
     "name": "stdout",
     "output_type": "stream",
     "text": [
      "Ticker:  AAPL\n",
      "CEO:  Tim Cook\n",
      "Revenue: 200 billion\n"
     ]
    }
   ],
   "source": [
    "def company_info(**kwargs):\n",
    "    if 'ticker' in kwargs:\n",
    "        print(\"Ticker: \", kwargs['ticker'])\n",
    "    if 'ceo' in kwargs:\n",
    "        print(\"CEO: \", kwargs['ceo'])\n",
    "    if 'revenue' in kwargs:\n",
    "        print(\"Revenue:\", kwargs['revenue'])\n",
    "\n",
    "company_info(ticker='AAPL', ceo=\"Tim Cook\", revenue=\"200 billion\")"
   ]
  },
  {
   "cell_type": "code",
   "execution_count": 3,
   "id": "23e62863-9eb0-4b2b-bee6-2435fd383f5a",
   "metadata": {},
   "outputs": [
    {
     "name": "stdout",
     "output_type": "stream",
     "text": [
      "ticker AAPL\n",
      "ceo Tim Cook\n",
      "revenue 200 billion\n",
      "pe 20\n",
      "pb 10.2\n"
     ]
    }
   ],
   "source": [
    "def company_info(**kwargs):\n",
    "    for key in kwargs:\n",
    "        print(key,kwargs[key])\n",
    "\n",
    "company_info(ticker='AAPL', ceo=\"Tim Cook\", revenue=\"200 billion\",pe=20,pb=10.2)"
   ]
  }
 ],
 "metadata": {
  "kernelspec": {
   "display_name": "Python 3 (ipykernel)",
   "language": "python",
   "name": "python3"
  },
  "language_info": {
   "codemirror_mode": {
    "name": "ipython",
    "version": 3
   },
   "file_extension": ".py",
   "mimetype": "text/x-python",
   "name": "python",
   "nbconvert_exporter": "python",
   "pygments_lexer": "ipython3",
   "version": "3.12.7"
  }
 },
 "nbformat": 4,
 "nbformat_minor": 5
}
