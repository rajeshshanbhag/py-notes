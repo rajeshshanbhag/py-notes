{
 "cells": [
  {
   "cell_type": "code",
   "execution_count": null,
   "id": "70133860-1160-4503-ba11-670b61d3e1e9",
   "metadata": {},
   "outputs": [],
   "source": [
    "##   https://www.geeksforgeeks.org/differences-and-applications-of-list-tuple-set-and-dictionary-in-python/"
   ]
  },
  {
   "cell_type": "code",
   "execution_count": 1,
   "id": "b8eda035-8e23-4ab5-bfb6-55d0895bee92",
   "metadata": {},
   "outputs": [
    {
     "data": {
      "text/plain": [
       "'\\nPython Lists\\n'"
      ]
     },
     "execution_count": 1,
     "metadata": {},
     "output_type": "execute_result"
    }
   ],
   "source": [
    "\"\"\"\n",
    "PYTHON LISTS\n",
    "\n",
    "1. Data Storage and Manipulation\n",
    "Application: Python lists are used to store and manipulate collections of data, whether homogeneous (e.g., all integers) or heterogeneous (e.g., a mix of integers, strings, and other types).\n",
    "Example: A list can store a series of sensor readings, user inputs, or any other sequential data that can be modified, updated, or analyzed.\n",
    "\n",
    "2. Implementing Stacks and Queues\n",
    "Application: Lists are commonly used to implement stacks (LIFO: Last-In, First-Out) and queues (FIFO: First-In, First-Out) due to their ability to add and remove elements from the end or beginning.\n",
    "Example: Using append() to push onto a stack and pop() to remove the top element.\n",
    "\n",
    "3. Iteration and Data Processing\n",
    "Application: Lists are ideal for storing data that needs to be iterated over and processed, such as reading data from files, performing computations, or generating reports.\n",
    "Example: Iterating through a list of numbers to calculate their sum.\n",
    "\n",
    "4. Dynamic Arrays\n",
    "Application: Lists in Python are dynamic arrays, meaning they can grow and shrink in size. This is useful in applications where the size of the dataset isn’t known in advance and needs to be adjusted dynamically.\n",
    "Example: Collecting user inputs or dynamically generating a list of results based on computations.\n",
    "\n",
    "5. Storing and Processing Strings\n",
    "Application: Lists are often used to store and manipulate strings, especially when dealing with text processing tasks such as tokenization, filtering, or transforming data.\n",
    "Example: Splitting a sentence into words and performing operations on each word.\n",
    "\n",
    "\"\"\""
   ]
  },
  {
   "cell_type": "code",
   "execution_count": null,
   "id": "f78fedad-753c-4f03-9b2d-e0f8a4630caf",
   "metadata": {},
   "outputs": [],
   "source": [
    "\"\"\"\n",
    "PYTHON TUPLES\n",
    "\n",
    "1. Immutable Data Storage\n",
    "Purpose: Tuples are immutable, meaning once created, they cannot be modified. This makes them ideal for storing data that should not change throughout the program, such as configuration settings, constants, or fixed data points.\n",
    "Example: Storing the coordinates of a point (x, y) in a 2D space.\n",
    "\n",
    "2. Dictionary Keys\n",
    "Purpose: Because tuples are immutable, they can be used as keys in a dictionary. This is not possible with lists, as they are mutable and hence unhashable.\n",
    "Example: Using tuples to represent composite keys in a dictionary.\n",
    "locations = {\n",
    "    (\"Paris\", \"France\"): \"Eiffel Tower\",\n",
    "    (\"New York\", \"USA\"): \"Statue of Liberty\"\n",
    "}\n",
    "\n",
    "3. Storing Heterogeneous Data\n",
    "Purpose: Tuples can hold elements of different data types. This makes them useful for grouping together heterogeneous data that logically belongs together.\n",
    "Example: Storing a person’s name, age, and email in a single tuple.\n",
    "\n",
    "\"\"\""
   ]
  },
  {
   "cell_type": "code",
   "execution_count": null,
   "id": "f3df0cf4-e9b3-4fac-9612-c52b4cd580c2",
   "metadata": {},
   "outputs": [],
   "source": [
    "\"\"\"\n",
    "PYTHON SETS\n",
    "\n",
    "1. Removing Duplicates from a Set\n",
    "Application: When you need to eliminate duplicate elements from a list, converting the list to a set is a quick and efficient way to do so.\n",
    "\n",
    "2. Set Operations (Union, Intersection, Difference)\n",
    "Application: Sets are ideal for performing mathematical operations like union, intersection, and difference, which are useful in fields like data analysis, database management, and computational biology.\n",
    "\n",
    "3. Membership Testing\n",
    "Application: Checking for the existence of an element in a collection is very efficient with sets due to their underlying hash table implementation. This makes sets a good choice for membership testing in scenarios like checking if an item is in a list of prohibited items.\n",
    "\n",
    "4. Finding Common Elements\n",
    "Application: Sets are highly efficient for finding common elements between two or more collections. This is useful in scenarios like finding common interests, mutual friends, or common values between datasets.\n",
    "\n",
    "5. Handling Data in Multi-Set Scenarios\n",
    "Application: Sets are useful when dealing with multiple data sources where you need to ensure the uniqueness of the combined dataset or identify overlaps between different data sources.\n",
    "\"\"\""
   ]
  },
  {
   "cell_type": "code",
   "execution_count": null,
   "id": "64294545-6f19-4b7a-8e3a-5882a917555a",
   "metadata": {},
   "outputs": [],
   "source": [
    "\"\"\"\n",
    "PYTHON DICTIONARY\n",
    "\n",
    "1. Database Record Representation\n",
    "Application: Dictionaries are often used to represent database records where each key-value pair corresponds to a column and its associated value. This makes it easy to access and manipulate data based on field names.\n",
    "record = {\n",
    "    'id': 1,\n",
    "    'name': 'John Doe',\n",
    "    'email': 'john.doe@example.com',\n",
    "    'age': 30\n",
    "}\n",
    "\n",
    "2. Counting Frequency of Elements\n",
    "Application: Dictionaries can be used to count the frequency of elements in a list, string, or any iterable. The element itself serves as the key, and its frequency is the value.\n",
    "\n",
    "elements = ['apple', 'banana', 'apple', 'orange', 'banana', 'apple']\n",
    "frequency = {}\n",
    "for item in elements:\n",
    "    frequency[item] = frequency.get(item, 0) + 1\n",
    "# Output: {'apple': 3, 'banana': 2, 'orange': 1}\n",
    "\n",
    "3. Fast Lookup Tables\n",
    "Application: Dictionaries provide O(1) average time complexity for lookups, making them ideal for creating fast lookup tables. This can be used in applications like caching, memoization, or mapping operations.\n",
    "\n",
    "4. Storing and Accessing JSON Data\n",
    "Application: JSON data, which is commonly used for APIs and web services, maps directly to Python dictionaries. This allows for easy storage, access, and manipulation of JSON data.\n",
    "\n",
    "5. Grouping Data by Keys\n",
    "Application: Dictionaries can be used to group data by certain keys, which is particularly useful in data analysis and aggregation tasks.\n",
    "\n",
    "\"\"\""
   ]
  },
  {
   "cell_type": "code",
   "execution_count": null,
   "id": "ed7f5534-05c8-47ce-8a70-5293ebb091be",
   "metadata": {},
   "outputs": [],
   "source": [
    "\"\"\"\n",
    "LISTS:\n",
    "\n",
    "Syntax: []\n",
    "Ordered: Yes (Maintains the insertion order)\n",
    "Mutable: Yes (Elements can be changed)\n",
    "Duplicates: Yes (Allows duplicate elements)\n",
    "Example: [1, 2, 3, 4]\n",
    "\n",
    "TUPLES:\n",
    "\n",
    "Syntax: ()\n",
    "Ordered: Yes (Maintains the insertion order)\n",
    "Mutable: No (Elements cannot be changed once assigned)\n",
    "Duplicates: Yes (Allows duplicate elements)\n",
    "Example: (1, 2, 3, 4)\n",
    "\n",
    "SETS:\n",
    "\n",
    "Syntax: {} or set()\n",
    "Ordered: No (No guarantee of order in Python versions before 3.7)\n",
    "Mutable: Yes (Elements can be added or removed)\n",
    "Duplicates: No (Does not allow duplicate elements)\n",
    "Example: {1, 2, 3, 4}\n",
    "\n",
    "DICTIONARIES:\n",
    "\n",
    "Syntax: {key: value}\n",
    "Ordered: Yes (Maintains the insertion order starting from Python 3.7)\n",
    "Mutable: Yes (Keys and values can be changed)\n",
    "Duplicates: No (Keys must be unique, but values can be duplicated)\n",
    "Example: {'a': 1, 'b': 2, 'c': 3}\n",
    "\"\"\""
   ]
  },
  {
   "cell_type": "code",
   "execution_count": null,
   "id": "3f5a6d50-9e25-4af7-a4ef-f79bb3639fb1",
   "metadata": {},
   "outputs": [],
   "source": [
    "\"\"\"\n",
    "Use a List When:\n",
    "\n",
    "You need a collection of items that may need to be modified (e.g., adding, removing, or changing items).\n",
    "The collection is likely to change during the program’s execution.\n",
    "You need to perform operations that require mutability.\n",
    "\n",
    "Use a Tuple When:\n",
    "\n",
    "You need an immutable collection of items (e.g., representing fixed records or configurations).\n",
    "The collection should not be changed after its creation, which can help prevent accidental modification.\n",
    "You want to use the collection as a dictionary key or in sets, where immutability is required.\n",
    "\"\"\""
   ]
  }
 ],
 "metadata": {
  "kernelspec": {
   "display_name": "Python 3 (ipykernel)",
   "language": "python",
   "name": "python3"
  },
  "language_info": {
   "codemirror_mode": {
    "name": "ipython",
    "version": 3
   },
   "file_extension": ".py",
   "mimetype": "text/x-python",
   "name": "python",
   "nbconvert_exporter": "python",
   "pygments_lexer": "ipython3",
   "version": "3.12.4"
  }
 },
 "nbformat": 4,
 "nbformat_minor": 5
}
