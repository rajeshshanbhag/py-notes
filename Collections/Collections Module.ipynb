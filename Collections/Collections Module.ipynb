{
 "cells": [
  {
   "cell_type": "code",
   "execution_count": null,
   "metadata": {},
   "outputs": [],
   "source": [
    "# Collections Module"
   ]
  },
  {
   "cell_type": "code",
   "execution_count": null,
   "metadata": {},
   "outputs": [],
   "source": [
    "# Counter() sub-class"
   ]
  },
  {
   "cell_type": "code",
   "execution_count": 2,
   "metadata": {},
   "outputs": [
    {
     "data": {
      "text/plain": [
       "Counter({1: 3, 2: 2, 3: 2, 4: 1, 6: 1, 7: 1, 8: 1})"
      ]
     },
     "execution_count": 2,
     "metadata": {},
     "output_type": "execute_result"
    }
   ],
   "source": [
    "from collections import Counter\n",
    "list = [1,2,3,4,1,2,6,7,3,8,1]\n",
    "Counter(list)"
   ]
  },
  {
   "cell_type": "code",
   "execution_count": 17,
   "metadata": {},
   "outputs": [
    {
     "name": "stdout",
     "output_type": "stream",
     "text": [
      "Counter({1: 3, 2: 2, 3: 2, 4: 1, 6: 1, 7: 1, 8: 1})\n",
      "0\n",
      "3\n"
     ]
    }
   ],
   "source": [
    "from collections import Counter\n",
    "n = [1,2,3,4,1,2,6,7,3,8,1]\n",
    "cnt=Counter(n)\n",
    "print(cnt)\n",
    "\n",
    "print(cnt[5])\n",
    "print(cnt[1])"
   ]
  },
  {
   "cell_type": "raw",
   "metadata": {},
   "source": [
    "# cnt is the object of Counter class which is a subclass of dict. so it has all the methods of dict class."
   ]
  },
  {
   "cell_type": "code",
   "execution_count": null,
   "metadata": {},
   "outputs": [],
   "source": [
    "# Elements() function"
   ]
  },
  {
   "cell_type": "code",
   "execution_count": 34,
   "metadata": {},
   "outputs": [
    {
     "name": "stdout",
     "output_type": "stream",
     "text": [
      "g g o o o l e . c m \n",
      "1 1 1 2 2 3 3 \n",
      "1 1 1 2 2 3 3 4 6 7 8 \n",
      "a b b c c c \n"
     ]
    }
   ],
   "source": [
    "m=Counter(\"google.com\")\n",
    "n=Counter({1: 3, 2: 2, 3: 2})\n",
    "p=Counter([1,2,3,4,1,2,6,7,3,8,1])\n",
    "q=Counter(a=1,b=2,c=3)\n",
    "\n",
    "for i in m.elements():\n",
    "    print(i,end=\" \")\n",
    "print()\n",
    "\n",
    "for i in n.elements():\n",
    "    print(i,end=\" \")\n",
    "print()\n",
    "\n",
    "for i in p.elements():\n",
    "    print(i,end=\" \")\n",
    "print()\n",
    "\n",
    "for i in q.elements():\n",
    "    print(i,end=\" \")\n",
    "print()"
   ]
  },
  {
   "cell_type": "code",
   "execution_count": 47,
   "metadata": {},
   "outputs": [
    {
     "name": "stdout",
     "output_type": "stream",
     "text": [
      "[(1, 3), (2, 2), (3, 2)]\n",
      "Counter({1: 2, 3: 2, 2: 1})\n"
     ]
    }
   ],
   "source": [
    "## Most Common\n",
    "\n",
    "n=Counter({1: 3, 2: 2, 3: 2})\n",
    "cnt = Counter(n)\n",
    "\n",
    "print(cnt.most_common())\n",
    "\n",
    "## Subtract\n",
    "\n",
    "rem=Counter({1:1,2:1})\n",
    "n.subtract(rem)\n",
    "print(n)"
   ]
  },
  {
   "cell_type": "code",
   "execution_count": 3,
   "metadata": {},
   "outputs": [
    {
     "name": "stdout",
     "output_type": "stream",
     "text": [
      "{'the': 58, 'to': 27, 'and': 24, 'of': 22, 'it': 13, 'that': 12, 'war': 12, 'all': 10, 'for': 9, 'in': 9, 'which': 9, 'be': 8, 'with': 8, 'this': 7, 'a': 7, 'is': 6, 'by': 6, 'god': 6, 'we': 6, 'was': 5, 'as': 5, 'but': 5, 'his': 5, 'shall': 5, 'than': 4, 'years': 4, 'union': 4, 'both': 4, 'let': 4, 'not': 4, 'do': 4, 's': 4, 'at': 3, 'an': 3, 'on': 3, 'nation': 3, 'were': 3, 'from': 3, 'one': 3, 'would': 3, 'other': 3, 'interest': 3, 'right': 3, 'neither': 3, 'has': 3, 'may': 3, 'us': 3, 'woe': 3, 'offenses': 3, 'must': 3, 'those': 3, 'there': 2, 'less': 2, 'occasion': 2, 'address': 2, 'now': 2, 'four': 2, 'public': 2, 'have': 2, 'been': 2, 'every': 2, 'still': 2, 'could': 2, 'hope': 2, 'no': 2, 'ago': 2, 'while': 2, 'altogether': 2, 'without': 2, 'seeking': 2, 'rather': 2, 'came': 2, 'slaves': 2, 'cause': 2, 'even': 2, 'or': 2, 'conflict': 2, 'cease': 2, 'should': 2, 'each': 2, 'same': 2, 'pray': 2, 'any': 2, 'men': 2, 'just': 2, 'answered': 2, 'needs': 2, 'come': 2, 'whom': 2, 'offense': 2, 'if': 2, 'he': 2, 'wills': 2, 'gives': 2, 'him': 2, 'until': 2, 'drawn': 2, 'said': 2, 'are': 2, 'fellow': 1, 'countrymen': 1, 'second': 1, 'appearing': 1, 'take': 1, 'oath': 1, 'presidential': 1, 'office': 1, 'extended': 1, 'first': 1, 'then': 1, 'statement': 1, 'somewhat': 1, 'detail': 1, 'course': 1, 'pursued': 1, 'seemed': 1, 'fitting': 1, 'proper': 1, 'expiration': 1, 'during': 1, 'declarations': 1, 'constantly': 1, 'called': 1, 'forth': 1, 'point': 1, 'phase': 1, 'great': 1, 'contest': 1, 'absorbs': 1, 'attention': 1, 'engrosses': 1, 'energies': 1, 'little': 1, 'new': 1, 'presented': 1, 'progress': 1, 'our': 1, 'arms': 1, 'upon': 1, 'else': 1, 'chiefly': 1, 'depends': 1, 'well': 1, 'known': 1, 'myself': 1, 'i': 1, 'trust': 1, 'reasonably': 1, 'satisfactory': 1, 'encouraging': 1, 'high': 1, 'future': 1, 'prediction': 1, 'regard': 1, 'ventured': 1, 'corresponding': 1, 'thoughts': 1, 'anxiously': 1, 'directed': 1, 'impending': 1, 'civil': 1, 'dreaded': 1, 'sought': 1, 'avert': 1, 'inaugural': 1, 'being': 1, 'delivered': 1, 'place': 1, 'devoted': 1, 'saving': 1, 'insurgent': 1, 'agents': 1, 'city': 1, 'destroy': 1, 'dissolve': 1, 'divide': 1, 'effects': 1, 'negotiation': 1, 'parties': 1, 'deprecated': 1, 'them': 1, 'make': 1, 'survive': 1, 'accept': 1, 'perish': 1, 'eighth': 1, 'whole': 1, 'population': 1, 'colored': 1, 'distributed': 1, 'generally': 1, 'over': 1, 'localized': 1, 'southern': 1, 'part': 1, 'these': 1, 'constituted': 1, 'peculiar': 1, 'powerful': 1, 'knew': 1, 'somehow': 1, 'strengthen': 1, 'perpetuate': 1, 'extend': 1, 'object': 1, 'insurgents': 1, 'rend': 1, 'government': 1, 'claimed': 1, 'more': 1, 'restrict': 1, 'territorial': 1, 'enlargement': 1, 'party': 1, 'expected': 1, 'magnitude': 1, 'duration': 1, 'already': 1, 'attained': 1, 'anticipated': 1, 'might': 1, 'before': 1, 'itself': 1, 'looked': 1, 'easier': 1, 'triumph': 1, 'result': 1, 'fundamental': 1, 'astounding': 1, 'read': 1, 'bible': 1, 'invokes': 1, 'aid': 1, 'against': 1, 'seem': 1, 'strange': 1, 'dare': 1, 'ask': 1, 'assistance': 1, 'wringing': 1, 'their': 1, 'bread': 1, 'sweat': 1, 'faces': 1, 'judge': 1, 'judged': 1, 'prayers': 1, 'fully': 1, 'almighty': 1, 'own': 1, 'purposes': 1, 'unto': 1, 'world': 1, 'because': 1, 'man': 1, 'cometh': 1, 'suppose': 1, 'american': 1, 'slavery': 1, 'providence': 1, 'having': 1, 'continued': 1, 'through': 1, 'appointed': 1, 'time': 1, 'remove': 1, 'north': 1, 'south': 1, 'terrible': 1, 'due': 1, 'discern': 1, 'therein': 1, 'departure': 1, 'divine': 1, 'attributes': 1, 'believers': 1, 'living': 1, 'always': 1, 'ascribe': 1, 'fondly': 1, 'fervently': 1, 'mighty': 1, 'scourge': 1, 'speedily': 1, 'pass': 1, 'away': 1, 'yet': 1, 'continue': 1, 'wealth': 1, 'piled': 1, 'bondsman': 1, 'two': 1, 'hundred': 1, 'fifty': 1, 'unrequited': 1, 'toil': 1, 'sunk': 1, 'drop': 1, 'blood': 1, 'lash': 1, 'paid': 1, 'another': 1, 'sword': 1, 'three': 1, 'thousand': 1, 'so': 1, 'judgments': 1, 'lord': 1, 'true': 1, 'righteous': 1, 'malice': 1, 'toward': 1, 'none': 1, 'charity': 1, 'firmness': 1, 'see': 1, 'strive': 1, 'finish': 1, 'work': 1, 'bind': 1, 'up': 1, 'wounds': 1, 'care': 1, 'who': 1, 'borne': 1, 'battle': 1, 'widow': 1, 'orphan': 1, 'achieve': 1, 'cherish': 1, 'lasting': 1, 'peace': 1, 'among': 1, 'ourselves': 1, 'nations': 1}\n"
     ]
    }
   ],
   "source": [
    "enc='utf-8'\n",
    "with open(\"Lincoln Second Inaugural.txt\",\"r\",encoding=enc) as f:\n",
    "    book=f.read()\n",
    "    #print(book)\n",
    "\n",
    "from collections import Counter\n",
    "import re\n",
    "\n",
    "def myfunc(string):\n",
    "    pattern=re.compile(r'\\b\\w+\\b',re.I)\n",
    "    array=pattern.findall(string.lower())\n",
    "    return array\n",
    "\n",
    "p=dict(Counter(myfunc(book)))\n",
    "print(dict(sorted(p.items(), key=lambda item: item[1], reverse=True)))"
   ]
  },
  {
   "cell_type": "code",
   "execution_count": null,
   "metadata": {},
   "outputs": [],
   "source": []
  }
 ],
 "metadata": {
  "kernelspec": {
   "display_name": "Python 3 (ipykernel)",
   "language": "python",
   "name": "python3"
  },
  "language_info": {
   "codemirror_mode": {
    "name": "ipython",
    "version": 3
   },
   "file_extension": ".py",
   "mimetype": "text/x-python",
   "name": "python",
   "nbconvert_exporter": "python",
   "pygments_lexer": "ipython3",
   "version": "3.12.4"
  }
 },
 "nbformat": 4,
 "nbformat_minor": 4
}
