{
 "cells": [
  {
   "cell_type": "code",
   "execution_count": 6,
   "metadata": {},
   "outputs": [
    {
     "name": "stdout",
     "output_type": "stream",
     "text": [
      "31\n",
      "make a guess: 60\n"
     ]
    },
    {
     "ename": "TypeError",
     "evalue": "'<' not supported between instances of 'str' and 'int'",
     "output_type": "error",
     "traceback": [
      "\u001b[1;31m---------------------------------------------------------------------------\u001b[0m",
      "\u001b[1;31mTypeError\u001b[0m                                 Traceback (most recent call last)",
      "\u001b[1;32m<ipython-input-6-a58a3e994a5b>\u001b[0m in \u001b[0;36m<module>\u001b[1;34m\u001b[0m\n\u001b[0;32m      9\u001b[0m     \u001b[0mguess_count\u001b[0m\u001b[1;33m+\u001b[0m\u001b[1;36m1\u001b[0m\u001b[1;33m\u001b[0m\u001b[1;33m\u001b[0m\u001b[0m\n\u001b[0;32m     10\u001b[0m     \u001b[1;32mif\u001b[0m \u001b[0mguess_count\u001b[0m\u001b[1;33m<\u001b[0m\u001b[1;36m2\u001b[0m\u001b[1;33m:\u001b[0m\u001b[1;33m\u001b[0m\u001b[1;33m\u001b[0m\u001b[0m\n\u001b[1;32m---> 11\u001b[1;33m         \u001b[1;32mif\u001b[0m \u001b[0mguess\u001b[0m\u001b[1;33m<\u001b[0m\u001b[1;36m0\u001b[0m \u001b[1;32mor\u001b[0m \u001b[0mguess\u001b[0m\u001b[1;33m>\u001b[0m\u001b[1;36m100\u001b[0m\u001b[1;33m:\u001b[0m\u001b[1;33m\u001b[0m\u001b[1;33m\u001b[0m\u001b[0m\n\u001b[0m\u001b[0;32m     12\u001b[0m             \u001b[0mprint\u001b[0m\u001b[1;33m(\u001b[0m\u001b[1;34m\"dead\"\u001b[0m\u001b[1;33m)\u001b[0m\u001b[1;33m\u001b[0m\u001b[1;33m\u001b[0m\u001b[0m\n\u001b[0;32m     13\u001b[0m             \u001b[1;32mbreak\u001b[0m\u001b[1;33m\u001b[0m\u001b[1;33m\u001b[0m\u001b[0m\n",
      "\u001b[1;31mTypeError\u001b[0m: '<' not supported between instances of 'str' and 'int'"
     ]
    }
   ],
   "source": [
    "import random\n",
    "num=random.randint(1,100)\n",
    "print(num)\n",
    "guess_count=0\n",
    "\n",
    "guess=str(input(\"make a guess: \"))\n",
    "\n",
    "while guess!=num:\n",
    "    guess_count+1\n",
    "    if guess_count<2:\n",
    "        if guess<0 or guess>100:\n",
    "            print(\"dead\")        \n",
    "            break\n",
    "        elif abs(guess-num)<=10:\n",
    "            print(\"warm\")\n",
    "        elif abs(guess-num)>10:\n",
    "            print(\"cold\")\n",
    "        else:\n",
    "            break\n",
    "    else:\n",
    "        guess_count>=2\n",
    "        if 0<guess>100:\n",
    "            print(\"dead\")        \n",
    "            break\n",
    "        elif abs(guess-num)<=10:\n",
    "            print(\"warm\")\n",
    "        elif abs(guess-num)>10:\n",
    "            print(\"cold\")\n",
    "        else:\n",
    "            break\n",
    "        break      \n",
    "    \n",
    "    \n"
   ]
  },
  {
   "cell_type": "code",
   "execution_count": 2,
   "metadata": {},
   "outputs": [
    {
     "name": "stdout",
     "output_type": "stream",
     "text": [
      "\"Python's awsome\"\n"
     ]
    }
   ],
   "source": [
    "import re\n",
    "\n",
    "s = '\"Python\\'s awsome\". She said'\n",
    "pattern = r'([\\'\"])(.*?)\\1'\n",
    "\n",
    "match = re.search(pattern, s)\n",
    "print(match.group())"
   ]
  },
  {
   "cell_type": "code",
   "execution_count": 32,
   "metadata": {},
   "outputs": [
    {
     "data": {
      "text/plain": [
       "'apple _123_ banana'"
      ]
     },
     "execution_count": 32,
     "metadata": {},
     "output_type": "execute_result"
    }
   ],
   "source": [
    "# remove square brackets that surround digit characters\n",
    "# note that use of raw strings for the replacement string\n",
    "\n",
    "re.sub(r'(\\_)?_', r'\\1', '_apple_ __123__ _banana_')\n",
    "#'52 apples [and] 31 mangoes'\n",
    "\n",
    "\n",
    "\n"
   ]
  },
  {
   "cell_type": "code",
   "execution_count": 54,
   "metadata": {},
   "outputs": [
    {
     "name": "stdout",
     "output_type": "stream",
     "text": [
      "I wish you a happy birthday\n"
     ]
    }
   ],
   "source": [
    "import re\n",
    "\n",
    "def myfunc(string):\n",
    "    patterns=r'(\\w+)\\s?\\1'\n",
    "    array=re.sub(patterns,r'\\1',string)\n",
    "    print(array)\n",
    "\n",
    "myfunc(\"I wish you a happy happy birthday\")"
   ]
  },
  {
   "cell_type": "code",
   "execution_count": null,
   "metadata": {},
   "outputs": [],
   "source": [
    "\n",
    "\"\"\"\n",
    "# replace __ with _ and delete _ if it is alone\n",
    "re.sub(r'(_)?_', r'\\1', '_apple_ __123__ _banana_')\n",
    "#'apple _123_ banana'\n",
    "\n",
    "# swap words that are separated by a comma\n",
    "re.sub(r'(\\w+),(\\w+)', r'\\2,\\1', 'good,bad 42,24')\n",
    "#'bad,good 24,42'\n",
    "\"\"\""
   ]
  },
  {
   "cell_type": "code",
   "execution_count": 16,
   "metadata": {},
   "outputs": [
    {
     "name": "stdout",
     "output_type": "stream",
     "text": [
      "John is cat was Mittens\n"
     ]
    },
    {
     "name": "stderr",
     "output_type": "stream",
     "text": [
      "<>:3: SyntaxWarning: invalid escape sequence '\\w'\n",
      "<>:3: SyntaxWarning: invalid escape sequence '\\w'\n",
      "C:\\Users\\rajes\\AppData\\Local\\Temp\\ipykernel_26964\\3924643189.py:3: SyntaxWarning: invalid escape sequence '\\w'\n",
      "  patterns = '(\\w+) has a (\\w+) named (\\w+)'\n"
     ]
    }
   ],
   "source": [
    "import re\n",
    "def text_match(text):\n",
    "        patterns = '(\\w+) has a (\\w+) named (\\w+)'\n",
    "        sub=r'\\1 is \\2 was \\3'\n",
    "        array=re.sub(patterns,sub,text)\n",
    "        return array\n",
    "    \n",
    "print(text_match(\"John has a cat named Mittens\"))"
   ]
  },
  {
   "cell_type": "code",
   "execution_count": 27,
   "metadata": {},
   "outputs": [
    {
     "name": "stdout",
     "output_type": "stream",
     "text": [
      "Found a match!\n",
      "Found a match!\n",
      "Found a match!\n"
     ]
    }
   ],
   "source": [
    "# Solution\n",
    "def text_match(text):\n",
    "        patterns = 'ab*c?'\n",
    "        if re.search(patterns,  text):\n",
    "                return 'Found a match!'\n",
    "        else:\n",
    "                return('Not matched!')\n",
    "\n",
    "print(text_match(\"ac\"))\n",
    "print(text_match(\"abc\"))\n",
    "print(text_match(\"abbc\"))"
   ]
  },
  {
   "cell_type": "code",
   "execution_count": 71,
   "metadata": {},
   "outputs": [
    {
     "name": "stdout",
     "output_type": "stream",
     "text": [
      "False\n",
      "False\n",
      "False\n",
      "False\n",
      "False\n",
      "False\n",
      "True\n",
      "False\n"
     ]
    }
   ],
   "source": [
    "import re\n",
    "\n",
    "def myfunc(string):\n",
    "    patterns=r'ab*c?d+'\n",
    "    array=re.findall(patterns,string)\n",
    "    return bool(array)\n",
    "\n",
    "print(myfunc(\"ac\"))\n",
    "print(myfunc(\"abc\"))\n",
    "print(myfunc(\"abbc\"))\n",
    "print(myfunc(\"nbbc\"))\n",
    "print(myfunc(\"nbbac\"))\n",
    "print(myfunc(\"nbbaced\"))\n",
    "print(myfunc(\"nbbacdx\"))\n",
    "print(myfunc(\"nbba\"))"
   ]
  },
  {
   "cell_type": "code",
   "execution_count": 47,
   "metadata": {},
   "outputs": [
    {
     "ename": "SyntaxError",
     "evalue": "invalid syntax (2152620489.py, line 3)",
     "output_type": "error",
     "traceback": [
      "\u001b[1;36m  Cell \u001b[1;32mIn[47], line 3\u001b[1;36m\u001b[0m\n\u001b[1;33m    * 0 or more\u001b[0m\n\u001b[1;37m        ^\u001b[0m\n\u001b[1;31mSyntaxError\u001b[0m\u001b[1;31m:\u001b[0m invalid syntax\n"
     ]
    }
   ],
   "source": [
    "? 0 or 1\n",
    "+ 1 or more\n",
    "* 0 or more"
   ]
  },
  {
   "cell_type": "code",
   "execution_count": 127,
   "metadata": {},
   "outputs": [
    {
     "name": "stdout",
     "output_type": "stream",
     "text": [
      "False\n",
      "False\n",
      "False\n",
      "False\n",
      "False\n",
      "False\n",
      "False\n",
      "False\n",
      "False\n"
     ]
    }
   ],
   "source": [
    "import re\n",
    "\n",
    "def myfunc(string):\n",
    "    patterns=r'^abcde'\n",
    "    array=re.findall(patterns,string)\n",
    "    return bool(array)\n",
    "\n",
    "print(myfunc(\"abde\"))\n",
    "print(myfunc(\"abcd\"))\n",
    "print(myfunc(\"axbbcddpc\"))\n",
    "print(myfunc(\"axbcddpc\"))\n",
    "print(myfunc(\"nbbc\"))\n",
    "print(myfunc(\"nbdbaxpc\"))\n",
    "print(myfunc(\"nbbacedp\"))\n",
    "print(myfunc(\"nbbacdx\"))\n",
    "print(myfunc(\"nbbax\"))"
   ]
  },
  {
   "cell_type": "code",
   "execution_count": 139,
   "metadata": {},
   "outputs": [
    {
     "name": "stdout",
     "output_type": "stream",
     "text": [
      "exercises\n",
      "exercises\n",
      "exercises\n",
      "None\n"
     ]
    }
   ],
   "source": [
    "##21. Write a Python program to find the substrings within a string\n",
    "##Sample text :'Python exercises, PHP exercises, C# exercises'\n",
    "##Pattern :'exercises'\n",
    "\n",
    "import re\n",
    "\n",
    "##string='Python exercises, PHP exercises, C# exercises'\n",
    "\n",
    "def myfunc(string):\n",
    "    patterns=r'exercises'\n",
    "    array=re.findall(patterns,string)\n",
    "    for i in array:\n",
    "        print(i)\n",
    "    \n",
    "print(myfunc('Python exercises, PHP exercises, C#, exercises'))"
   ]
  },
  {
   "cell_type": "code",
   "execution_count": 143,
   "metadata": {},
   "outputs": [
    {
     "name": "stdout",
     "output_type": "stream",
     "text": [
      "['T', ' ', 'q', 'u', ' ', 'r', 'o', 'w', 'n', ' ', 'o', 'x', ' ', 'u', 'p', 's', ' ', 'o', 'v', 'r', ' ', 't', ' ', 'z', 'y', ' ', 'o']\n"
     ]
    }
   ],
   "source": [
    "import re\n",
    "\n",
    "string = \"The quick brown fox jumps over the lazy dog\"\n",
    "pattern = \"[^a-m]\"\n",
    "result = re.findall(pattern, string)\n",
    "\n",
    "print(result) "
   ]
  },
  {
   "cell_type": "code",
   "execution_count": 17,
   "metadata": {},
   "outputs": [
    {
     "name": "stdout",
     "output_type": "stream",
     "text": [
      "No match!!\n",
      "search --> searchObj.group() :  are\n"
     ]
    }
   ],
   "source": [
    "import re\n",
    "line = \"Cats are smarter than dogs\";\n",
    "matchObj = re.match( r'are', line, re.I)\n",
    "if matchObj:\n",
    "   print (\"match --> matchObj.group() : \", matchObj.group())\n",
    "else:\n",
    "   print (\"No match!!\")\n",
    "searchObj = re.search( r'are', line, re.M|re.I)\n",
    "if searchObj:\n",
    "   print (\"search --> searchObj.group() : \", searchObj.group())\n",
    "else:\n",
    "   print (\"Nothing found!!\")"
   ]
  },
  {
   "cell_type": "code",
   "execution_count": 21,
   "metadata": {},
   "outputs": [
    {
     "name": "stdout",
     "output_type": "stream",
     "text": [
      "<callable_iterator object at 0x000001DE370AB580>\n"
     ]
    }
   ],
   "source": [
    "import re\n",
    "string=\"Simple is better than complex. Complex is better than complicated.\"\n",
    "pattern=re.compile(r'is')\n",
    "iterator = pattern.finditer(string)\n",
    "print (iterator)"
   ]
  },
  {
   "cell_type": "code",
   "execution_count": 57,
   "metadata": {},
   "outputs": [
    {
     "data": {
      "text/plain": [
       "'Python:Exercises::PHP:exercises:'"
      ]
     },
     "execution_count": 57,
     "metadata": {},
     "output_type": "execute_result"
    }
   ],
   "source": [
    "##28. Write a Python program to find all words starting with 'a' or 'e' in a given string\n",
    "import re\n",
    "\n",
    "def myfunc(string):\n",
    "    patterns=r'(\\.)|(,)|\\s'\n",
    "    array=re.sub(patterns,':',string)\n",
    "    return array\n",
    "\n",
    "myfunc('Python Exercises, PHP exercises.')"
   ]
  },
  {
   "cell_type": "code",
   "execution_count": 52,
   "metadata": {},
   "outputs": [
    {
     "data": {
      "text/plain": [
       "['he', 'uick', 'rown', 'ox', 'umps', 'ver', 'he', 'azy', 'og']"
      ]
     },
     "execution_count": 52,
     "metadata": {},
     "output_type": "execute_result"
    }
   ],
   "source": [
    "##34. Write a Python program to find all three, four, five characters long words in a string\n",
    "\n",
    "import re\n",
    "\n",
    "def myfunc(string):\n",
    "    patterns=r'\\B\\w+\\B'\n",
    "    array=re.findall(patterns,string)\n",
    "    return array\n",
    "\n",
    "myfunc(\"The quick brown fox jumps over the lazy dog.\")"
   ]
  },
  {
   "cell_type": "code",
   "execution_count": 62,
   "metadata": {},
   "outputs": [
    {
     "data": {
      "text/plain": [
       "['quick', 'brown', 'jumps', 'over', 'lazy']"
      ]
     },
     "execution_count": 62,
     "metadata": {},
     "output_type": "execute_result"
    }
   ],
   "source": [
    "##35. Write a Python program to find all words which are at least 4 characters long in a string\n",
    "\n",
    "import re\n",
    "\n",
    "def myfunc(string):\n",
    "    patterns=r'\\b\\w{4,}\\b'\n",
    "    array=re.findall(patterns,string)\n",
    "    return array\n",
    "\n",
    "myfunc(\"The quick brown fox jumps over the lazy dog.\")"
   ]
  },
  {
   "cell_type": "code",
   "execution_count": null,
   "metadata": {},
   "outputs": [],
   "source": []
  }
 ],
 "metadata": {
  "kernelspec": {
   "display_name": "Python 3 (ipykernel)",
   "language": "python",
   "name": "python3"
  },
  "language_info": {
   "codemirror_mode": {
    "name": "ipython",
    "version": 3
   },
   "file_extension": ".py",
   "mimetype": "text/x-python",
   "name": "python",
   "nbconvert_exporter": "python",
   "pygments_lexer": "ipython3",
   "version": "3.12.4"
  }
 },
 "nbformat": 4,
 "nbformat_minor": 4
}
