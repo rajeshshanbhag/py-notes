{
 "cells": [
  {
   "cell_type": "code",
   "execution_count": 55,
   "id": "6cd4871b-1068-45b2-a281-80984c7bce24",
   "metadata": {},
   "outputs": [
    {
     "name": "stdout",
     "output_type": "stream",
     "text": [
      "{'the': 19, 'of': 14, 'and': 7, 'in': 7, 'to': 5, 'United': 4, 'States': 4, 'Declaration': 4, 'by': 4, 'a': 4, 'that': 4, 'it': 3, 'his': 3, 'be': 3, 'are': 3, 'as': 3, 'for': 2, 'independence': 2, 'certain': 2, 'rights,': 2, 'served': 2, 'its': 2, 'the\\nDeclaration': 2, 'Abraham': 2, 'has': 2, 'these': 2, 'should': 2, 'other': 2, 'during': 2, 'Independence\\nFrom': 1, 'Wikipedia,': 1, 'free': 1, 'encyclopedia\\n...': 1, '(omitting': 1, 'rest': 1, 'brevity)': 1, '...': 1, '\\n...': 1, 'much': 1, 'scholarly': 1, 'inquiry.\\nThe': 1, 'justified': 1, 'listing': 1, 'colonial': 1, 'grievances': 1, 'against\\nKing': 1, 'George': 1, 'III,': 1, 'asserting': 1, 'natural': 1, 'legal': 1, 'including': 1, 'right': 1, 'revolution.\\nHaving': 1, 'original': 1, 'purpose': 1, 'announcing': 1, 'independence,': 1, 'references': 1, 'text': 1, 'were': 1, 'few': 1, 'following': 1, 'years.': 1, 'Lincoln': 1, 'made': 1, 'centerpiece': 1, 'rhetoric\\n(as': 1, 'Gettysburg': 1, 'Address': 1, '1863)': 1, 'policies.': 1, 'Since': 1, 'then,': 1, 'become': 1, 'well-known': 1, 'statement\\non': 1, 'human': 1, 'particularly': 1, 'second': 1, 'sentence:\\n\\nWe': 1, 'hold': 1, 'truths': 1, 'self-evident,': 1, 'all': 1, 'men': 1, 'created': 1, 'equal,': 1, 'they': 1, 'endowed': 1, 'their\\nCreator': 1, 'with': 1, 'unalienable': 1, 'Rights,': 1, 'among': 1, 'Life,': 1, 'Liberty': 1, 'pursuit': 1, 'Happiness.\\n\\nThis': 1, 'been': 1, 'called': 1, '\"one': 1, 'best-known': 1, 'sentences': 1, 'English': 1, 'language\",': 1, 'containing': 1, '\"the': 1, 'most': 1, 'potent\\nand': 1, 'consequential': 1, 'words': 1, 'American': 1, 'history\".': 1, 'The': 1, 'passage': 1, 'came': 1, 'represent': 1, 'moral': 1, 'standard': 1, 'which\\nthe': 1, 'strive.': 1, 'This': 1, 'view': 1, 'was': 1, 'notably': 1, 'promoted': 1, 'Lincoln,': 1, 'who': 1, 'considered': 1, 'foundation': 1, 'political': 1, 'philosophy': 1, 'argued': 1, 'is': 1, 'statement': 1, 'principles\\nthrough': 1, 'which': 1, 'Constitution': 1, 'interpreted.\\n\\nThe': 1, 'U.S.': 1, 'Independence': 1, 'inspired': 1, 'many': 1, 'similar': 1, 'documents': 1, 'countries,': 1, 'first\\nbeing': 1, '1789': 1, 'Flanders': 1, 'issued': 1, 'Brabant': 1, 'Revolution': 1, 'Austrian': 1, 'Netherlands\\n(modern-day': 1, 'Belgium).': 1, 'It': 1, 'also': 1, 'primary': 1, 'model': 1, 'numerous': 1, 'declarations': 1, 'across\\nEurope': 1, 'Latin': 1, 'America,': 1, 'well': 1, 'Africa': 1, '(Liberia)': 1, 'Oceania': 1, '(New': 1, 'Zealand)': 1, 'first': 1, 'half': 1, 'the\\n19th': 1, 'century.': 1}\n"
     ]
    }
   ],
   "source": [
    "from collections import Counter\n",
    "#help(\"collections\")\n",
    "para='''United States Declaration of Independence\n",
    "From Wikipedia, the free encyclopedia\n",
    "... (omitting the rest for brevity) ... \n",
    "... much scholarly inquiry.\n",
    "The Declaration justified the independence of the United States by listing colonial grievances against\n",
    "King George III, and by asserting certain natural and legal rights, including a right of revolution.\n",
    "Having served its original purpose in announcing independence, references to the text of the\n",
    "Declaration were few in the following years. Abraham Lincoln made it the centerpiece of his rhetoric\n",
    "(as in the Gettysburg Address of 1863) and his policies. Since then, it has become a well-known statement\n",
    "on human rights, particularly its second sentence:\n",
    "\n",
    "We hold these truths to be self-evident, that all men are created equal, that they are endowed by their\n",
    "Creator with certain unalienable Rights, that among these are Life, Liberty and the pursuit of Happiness.\n",
    "\n",
    "This has been called \"one of the best-known sentences in the English language\", containing \"the most potent\n",
    "and consequential words in American history\". The passage came to represent a moral standard to which\n",
    "the United States should strive. This view was notably promoted by Abraham Lincoln, who considered the\n",
    "Declaration to be the foundation of his political philosophy and argued that it is a statement of principles\n",
    "through which the United States Constitution should be interpreted.\n",
    "\n",
    "The U.S. Declaration of Independence inspired many other similar documents in other countries, the first\n",
    "being the 1789 Declaration of Flanders issued during the Brabant Revolution in the Austrian Netherlands\n",
    "(modern-day Belgium). It also served as the primary model for numerous declarations of independence across\n",
    "Europe and Latin America, as well as Africa (Liberia) and Oceania (New Zealand) during the first half of the\n",
    "19th century.'''\n",
    "\n",
    "p=dict(Counter(para.split(\" \")))\n",
    "print(dict(sorted(p.items(), key=lambda item: item[1], reverse=True)))"
   ]
  },
  {
   "cell_type": "code",
   "execution_count": 48,
   "id": "65e2e4fc-d2bc-498e-8c82-d46b492bb2f8",
   "metadata": {},
   "outputs": [
    {
     "name": "stdout",
     "output_type": "stream",
     "text": [
      "{' ': 93, 'e': 63, 'n': 45, 'a': 42, 't': 36, 'i': 35, 'r': 29, 'o': 29, 'h': 25, 'm': 17, 'y': 17, 'd': 15, 'l': 15, 'f': 14, 'c': 13, 's': 12, 'u': 11, 'G': 9, ',': 7, 'b': 6, '9': 5, 'D': 4, 'p': 4, 'T': 4, 'g': 4, '.': 4, 'w': 4, 'U': 3, '1': 3, '\\n': 2, '3': 2, 'O': 2, '0': 2, 'F': 1, 'W': 1, 'k': 1, '(': 1, ':': 1, 'E': 1, ')': 1, 'I': 1, 'v': 1, '-': 1}\n"
     ]
    }
   ],
   "source": [
    "from collections import Counter\n",
    "\n",
    "with open('abc.txt','r') as file:\n",
    "    p=dict(Counter(file.read()))\n",
    "print(dict(sorted(p.items(), key=lambda item: item[1], reverse=True)))"
   ]
  },
  {
   "cell_type": "code",
   "execution_count": 52,
   "id": "8a71ed10-017a-4599-b835-d36942f8d0a8",
   "metadata": {},
   "outputs": [
    {
     "name": "stdout",
     "output_type": "stream",
     "text": [
      "1\n"
     ]
    },
    {
     "ename": "TypeError",
     "evalue": "'int' object is not subscriptable",
     "output_type": "error",
     "traceback": [
      "\u001b[1;31m---------------------------------------------------------------------------\u001b[0m",
      "\u001b[1;31mTypeError\u001b[0m                                 Traceback (most recent call last)",
      "Cell \u001b[1;32mIn[52], line 5\u001b[0m\n\u001b[0;32m      3\u001b[0m \u001b[38;5;28;01mfor\u001b[39;00m i \u001b[38;5;129;01min\u001b[39;00m l:\n\u001b[0;32m      4\u001b[0m     \u001b[38;5;28mprint\u001b[39m(i)\n\u001b[1;32m----> 5\u001b[0m     a,b,c\u001b[38;5;241m=\u001b[39mi,i[\u001b[38;5;241m1\u001b[39m],i[\u001b[38;5;241m2\u001b[39m]\n\u001b[0;32m      6\u001b[0m     \u001b[38;5;28mprint\u001b[39m(a,b,c)\n",
      "\u001b[1;31mTypeError\u001b[0m: 'int' object is not subscriptable"
     ]
    }
   ],
   "source": [
    "l=[1,2,3]\n",
    "\n",
    "for i in l:\n",
    "    print(i)\n",
    "    \n",
    "    print(a,b,c)"
   ]
  },
  {
   "cell_type": "code",
   "execution_count": 68,
   "id": "b1caf2ab-46a8-4e31-a57c-26218c8bd105",
   "metadata": {},
   "outputs": [
    {
     "name": "stdout",
     "output_type": "stream",
     "text": [
      "Original Collection:  [1, 2, 3]\n",
      "n 1\n"
     ]
    },
    {
     "name": "stdin",
     "output_type": "stream",
     "text": [
      "  \n"
     ]
    },
    {
     "name": "stdout",
     "output_type": "stream",
     "text": [
      "perm []\n"
     ]
    },
    {
     "name": "stdin",
     "output_type": "stream",
     "text": [
      "  \n"
     ]
    },
    {
     "name": "stdout",
     "output_type": "stream",
     "text": [
      "i 0\n"
     ]
    },
    {
     "name": "stdin",
     "output_type": "stream",
     "text": [
      "  \n"
     ]
    },
    {
     "name": "stdout",
     "output_type": "stream",
     "text": [
      "new [[1]]\n"
     ]
    },
    {
     "name": "stdin",
     "output_type": "stream",
     "text": [
      "  \n"
     ]
    },
    {
     "name": "stdout",
     "output_type": "stream",
     "text": [
      "[[1]]\n"
     ]
    },
    {
     "name": "stdin",
     "output_type": "stream",
     "text": [
      "  \n"
     ]
    },
    {
     "name": "stdout",
     "output_type": "stream",
     "text": [
      "n 2\n"
     ]
    },
    {
     "name": "stdin",
     "output_type": "stream",
     "text": [
      "  \n"
     ]
    },
    {
     "name": "stdout",
     "output_type": "stream",
     "text": [
      "perm [1]\n"
     ]
    },
    {
     "name": "stdin",
     "output_type": "stream",
     "text": [
      "  \n"
     ]
    },
    {
     "name": "stdout",
     "output_type": "stream",
     "text": [
      "i 0\n"
     ]
    },
    {
     "name": "stdin",
     "output_type": "stream",
     "text": [
      "  \n"
     ]
    },
    {
     "name": "stdout",
     "output_type": "stream",
     "text": [
      "new [[2, 1]]\n"
     ]
    },
    {
     "name": "stdin",
     "output_type": "stream",
     "text": [
      "  \n"
     ]
    },
    {
     "name": "stdout",
     "output_type": "stream",
     "text": [
      "i 1\n"
     ]
    },
    {
     "name": "stdin",
     "output_type": "stream",
     "text": [
      "  \n"
     ]
    },
    {
     "name": "stdout",
     "output_type": "stream",
     "text": [
      "new [[2, 1], [1, 2]]\n"
     ]
    },
    {
     "name": "stdin",
     "output_type": "stream",
     "text": [
      "  \n"
     ]
    },
    {
     "name": "stdout",
     "output_type": "stream",
     "text": [
      "[[2, 1], [1, 2]]\n"
     ]
    },
    {
     "ename": "KeyboardInterrupt",
     "evalue": "Interrupted by user",
     "output_type": "error",
     "traceback": [
      "\u001b[1;31m---------------------------------------------------------------------------\u001b[0m",
      "\u001b[1;31mKeyboardInterrupt\u001b[0m                         Traceback (most recent call last)",
      "Cell \u001b[1;32mIn[68], line 24\u001b[0m\n\u001b[0;32m     22\u001b[0m \u001b[38;5;66;03m# Print the original collection and the collection of distinct numbers.\u001b[39;00m\n\u001b[0;32m     23\u001b[0m \u001b[38;5;28mprint\u001b[39m(\u001b[38;5;124m\"\u001b[39m\u001b[38;5;124mOriginal Collection: \u001b[39m\u001b[38;5;124m\"\u001b[39m, my_nums)\n\u001b[1;32m---> 24\u001b[0m \u001b[38;5;28mprint\u001b[39m(\u001b[38;5;124m\"\u001b[39m\u001b[38;5;124mCollection of distinct numbers:\u001b[39m\u001b[38;5;130;01m\\n\u001b[39;00m\u001b[38;5;124m\"\u001b[39m, permute(my_nums))\n",
      "Cell \u001b[1;32mIn[68], line 18\u001b[0m, in \u001b[0;36mpermute\u001b[1;34m(nums)\u001b[0m\n\u001b[0;32m     16\u001b[0m     result_perms \u001b[38;5;241m=\u001b[39m new_perms\n\u001b[0;32m     17\u001b[0m     \u001b[38;5;28mprint\u001b[39m(result_perms)\n\u001b[1;32m---> 18\u001b[0m     \u001b[38;5;28minput\u001b[39m(\u001b[38;5;124m\"\u001b[39m\u001b[38;5;124m \u001b[39m\u001b[38;5;124m\"\u001b[39m)\n\u001b[0;32m     19\u001b[0m \u001b[38;5;28;01mreturn\u001b[39;00m result_perms\n",
      "File \u001b[1;32m~\\anaconda3\\Lib\\site-packages\\ipykernel\\kernelbase.py:1262\u001b[0m, in \u001b[0;36mKernel.raw_input\u001b[1;34m(self, prompt)\u001b[0m\n\u001b[0;32m   1260\u001b[0m     msg \u001b[38;5;241m=\u001b[39m \u001b[38;5;124m\"\u001b[39m\u001b[38;5;124mraw_input was called, but this frontend does not support input requests.\u001b[39m\u001b[38;5;124m\"\u001b[39m\n\u001b[0;32m   1261\u001b[0m     \u001b[38;5;28;01mraise\u001b[39;00m StdinNotImplementedError(msg)\n\u001b[1;32m-> 1262\u001b[0m \u001b[38;5;28;01mreturn\u001b[39;00m \u001b[38;5;28mself\u001b[39m\u001b[38;5;241m.\u001b[39m_input_request(\n\u001b[0;32m   1263\u001b[0m     \u001b[38;5;28mstr\u001b[39m(prompt),\n\u001b[0;32m   1264\u001b[0m     \u001b[38;5;28mself\u001b[39m\u001b[38;5;241m.\u001b[39m_parent_ident[\u001b[38;5;124m\"\u001b[39m\u001b[38;5;124mshell\u001b[39m\u001b[38;5;124m\"\u001b[39m],\n\u001b[0;32m   1265\u001b[0m     \u001b[38;5;28mself\u001b[39m\u001b[38;5;241m.\u001b[39mget_parent(\u001b[38;5;124m\"\u001b[39m\u001b[38;5;124mshell\u001b[39m\u001b[38;5;124m\"\u001b[39m),\n\u001b[0;32m   1266\u001b[0m     password\u001b[38;5;241m=\u001b[39m\u001b[38;5;28;01mFalse\u001b[39;00m,\n\u001b[0;32m   1267\u001b[0m )\n",
      "File \u001b[1;32m~\\anaconda3\\Lib\\site-packages\\ipykernel\\kernelbase.py:1305\u001b[0m, in \u001b[0;36mKernel._input_request\u001b[1;34m(self, prompt, ident, parent, password)\u001b[0m\n\u001b[0;32m   1302\u001b[0m \u001b[38;5;28;01mexcept\u001b[39;00m \u001b[38;5;167;01mKeyboardInterrupt\u001b[39;00m:\n\u001b[0;32m   1303\u001b[0m     \u001b[38;5;66;03m# re-raise KeyboardInterrupt, to truncate traceback\u001b[39;00m\n\u001b[0;32m   1304\u001b[0m     msg \u001b[38;5;241m=\u001b[39m \u001b[38;5;124m\"\u001b[39m\u001b[38;5;124mInterrupted by user\u001b[39m\u001b[38;5;124m\"\u001b[39m\n\u001b[1;32m-> 1305\u001b[0m     \u001b[38;5;28;01mraise\u001b[39;00m \u001b[38;5;167;01mKeyboardInterrupt\u001b[39;00m(msg) \u001b[38;5;28;01mfrom\u001b[39;00m \u001b[38;5;28;01mNone\u001b[39;00m\n\u001b[0;32m   1306\u001b[0m \u001b[38;5;28;01mexcept\u001b[39;00m \u001b[38;5;167;01mException\u001b[39;00m:\n\u001b[0;32m   1307\u001b[0m     \u001b[38;5;28mself\u001b[39m\u001b[38;5;241m.\u001b[39mlog\u001b[38;5;241m.\u001b[39mwarning(\u001b[38;5;124m\"\u001b[39m\u001b[38;5;124mInvalid Message:\u001b[39m\u001b[38;5;124m\"\u001b[39m, exc_info\u001b[38;5;241m=\u001b[39m\u001b[38;5;28;01mTrue\u001b[39;00m)\n",
      "\u001b[1;31mKeyboardInterrupt\u001b[0m: Interrupted by user"
     ]
    }
   ],
   "source": [
    "def permute(nums):\n",
    "    result_perms = [[]]\n",
    "    for n in nums:\n",
    "        print(\"n\",n)\n",
    "        input(\" \")\n",
    "        new_perms = []\n",
    "        for perm in result_perms:\n",
    "            print(\"perm\",perm)\n",
    "            input(\" \")\n",
    "            for i in range(len(perm)+1):\n",
    "                print(\"i\",i)\n",
    "                input(\" \")\n",
    "                new_perms.append(perm[:i] + [n] + perm[i:])\n",
    "                print(\"new\",new_perms)\n",
    "                input(\" \")\n",
    "        result_perms = new_perms\n",
    "        print(result_perms)\n",
    "        input(\" \")\n",
    "    return result_perms\n",
    "\n",
    "my_nums = [1, 2, 3]\n",
    "# Print the original collection and the collection of distinct numbers.\n",
    "print(\"Original Collection: \", my_nums)\n",
    "print(\"Collection of distinct numbers:\\n\", permute(my_nums))"
   ]
  },
  {
   "cell_type": "code",
   "execution_count": 138,
   "id": "42b46859-5c3b-4b05-b00c-eb31ab4ed171",
   "metadata": {},
   "outputs": [
    {
     "name": "stdout",
     "output_type": "stream",
     "text": [
      "['dg', 'dh', 'di', 'eg', 'eh', 'ei', 'fg', 'fh', 'fi']\n"
     ]
    }
   ],
   "source": [
    "d = {\n",
    "\"1\": \"abc\",\n",
    "\"2\": \"def\",\n",
    "\"3\": \"ghi\",\n",
    "\"4\": \"jkl\",\n",
    "\"5\": \"mno\",\n",
    "\"6\": \"pqrs\",\n",
    "\"7\": \"tuv\",\n",
    "\"8\": \"wxy\",\n",
    "\"9\": \"z\"\n",
    "}\n",
    "\n",
    "h=[]\n",
    "\n",
    "for i in d[\"2\"]:\n",
    "    for j in d[\"3\"]:\n",
    "        h.append(i+j)\n",
    "print(h)"
   ]
  },
  {
   "cell_type": "code",
   "execution_count": null,
   "id": "77322843-d800-457b-a4d3-f16123ae0896",
   "metadata": {},
   "outputs": [],
   "source": []
  }
 ],
 "metadata": {
  "kernelspec": {
   "display_name": "Python 3 (ipykernel)",
   "language": "python",
   "name": "python3"
  },
  "language_info": {
   "codemirror_mode": {
    "name": "ipython",
    "version": 3
   },
   "file_extension": ".py",
   "mimetype": "text/x-python",
   "name": "python",
   "nbconvert_exporter": "python",
   "pygments_lexer": "ipython3",
   "version": "3.12.4"
  }
 },
 "nbformat": 4,
 "nbformat_minor": 5
}
