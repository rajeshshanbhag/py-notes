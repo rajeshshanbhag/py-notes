{
 "cells": [
  {
   "cell_type": "code",
   "execution_count": 1,
   "id": "e5d4d9ab-7ff8-4637-adfc-e7f26fed9c7e",
   "metadata": {},
   "outputs": [
    {
     "name": "stdin",
     "output_type": "stream",
     "text": [
      "Enter a ToDo: eee\n"
     ]
    },
    {
     "name": "stdout",
     "output_type": "stream",
     "text": [
      "Enter a ToDo: eee\n"
     ]
    }
   ],
   "source": [
    "prompt = \"Enter a ToDo:\"\n",
    "user_text=input(prompt)\n",
    "print (\"Enter a ToDo:\",user_text)"
   ]
  },
  {
   "cell_type": "code",
   "execution_count": 5,
   "id": "9785d353-8102-4adc-993a-4dbafbfba3cc",
   "metadata": {},
   "outputs": [
    {
     "name": "stdout",
     "output_type": "stream",
     "text": [
      "['raj', 'rajesh', 'rajeshsha', 'rajeshs']\n"
     ]
    }
   ],
   "source": [
    "todos=[\"raj\", \"rajesh\", \"rajeshsha\", \"rajeshs\"]\n",
    "print(todos)"
   ]
  },
  {
   "cell_type": "code",
   "execution_count": 8,
   "id": "9bfa9755-765f-4798-8c2b-edb24423442b",
   "metadata": {},
   "outputs": [
    {
     "data": {
      "text/plain": [
       "'c'"
      ]
     },
     "execution_count": 8,
     "metadata": {},
     "output_type": "execute_result"
    }
   ],
   "source": [
    "filename=\"a.b.c\"\n",
    "filename[4]"
   ]
  },
  {
   "cell_type": "code",
   "execution_count": 10,
   "id": "fac8fbd6-5990-4f84-8b26-40332588101e",
   "metadata": {},
   "outputs": [
    {
     "name": "stdin",
     "output_type": "stream",
     "text": [
      "Input dollar amount:  10\n"
     ]
    },
    {
     "name": "stdout",
     "output_type": "stream",
     "text": [
      "Amount in Euros= 20.0\n"
     ]
    }
   ],
   "source": [
    "rate = 2\n",
    "prompt=input(\"Input dollar amount: \")\n",
    "print(\"Amount in Euros=\",float(prompt)*rate)"
   ]
  },
  {
   "cell_type": "code",
   "execution_count": 18,
   "id": "c102f700-2cf2-404d-b977-0985897d5529",
   "metadata": {},
   "outputs": [
    {
     "name": "stdin",
     "output_type": "stream",
     "text": [
      "Enter rank number:  2\n"
     ]
    },
    {
     "name": "stdout",
     "output_type": "stream",
     "text": [
      "Sen\n"
     ]
    }
   ],
   "source": [
    "ranking = ['John', 'Sen', 'Lisa']\n",
    "rank=int(input(\"Enter rank number: \"))-1\n",
    "print(ranking[rank])"
   ]
  },
  {
   "cell_type": "code",
   "execution_count": 32,
   "id": "afffea6f-e824-4165-b0c7-a0c5149d6c24",
   "metadata": {},
   "outputs": [
    {
     "name": "stdin",
     "output_type": "stream",
     "text": [
      "Enter a name:  Sen\n"
     ]
    },
    {
     "name": "stdout",
     "output_type": "stream",
     "text": [
      "2\n"
     ]
    }
   ],
   "source": [
    "ranking = ['John', 'Sen', 'Lisa']\n",
    "name=input(\"Enter a name: \")\n",
    "print(ranking.index(name)+1)"
   ]
  },
  {
   "cell_type": "code",
   "execution_count": 34,
   "id": "82184fbd-44a6-4bfa-acf4-74dbf012477b",
   "metadata": {},
   "outputs": [
    {
     "name": "stdout",
     "output_type": "stream",
     "text": [
      "mood 10.0 5\n"
     ]
    }
   ],
   "source": [
    "mood=\"mood\"\n",
    "strength=float(10)\n",
    "rank=int(5)\n",
    "print(mood,strength,rank)"
   ]
  },
  {
   "cell_type": "code",
   "execution_count": null,
   "id": "ae50ce21-9bab-4591-a32f-0aed7f4faa53",
   "metadata": {},
   "outputs": [
    {
     "name": "stdin",
     "output_type": "stream",
     "text": [
      "add or show or edit or display or complete or exit: edit\n"
     ]
    },
    {
     "name": "stdout",
     "output_type": "stream",
     "text": [
      "['one\\n', 'two\\n', 'three\\n']\n"
     ]
    },
    {
     "name": "stdin",
     "output_type": "stream",
     "text": [
      "Number of todo to edit:  2\n"
     ]
    },
    {
     "name": "stdout",
     "output_type": "stream",
     "text": [
      "two\n",
      "\n"
     ]
    },
    {
     "name": "stdin",
     "output_type": "stream",
     "text": [
      "Enter new todo:  five\n"
     ]
    },
    {
     "name": "stdout",
     "output_type": "stream",
     "text": [
      "['one\\n', 'five', 'three\\n']\n"
     ]
    }
   ],
   "source": [
    "while True:\n",
    "    user_action = input(\"add or show or edit or display or complete or exit:\")\n",
    "    user_action=user_action.strip()\n",
    "\n",
    "    match user_action:\n",
    "        case \"add\":\n",
    "            todo = input(\"Enter a todo: \")+\"\\n\"\n",
    "\n",
    "            with open(\"todos.txt\",\"r\") as f:\n",
    "                f.readlines()                                   # no need to close file\n",
    "            \n",
    "            with open(\"todos.txt\",\"a\") as f:\n",
    "                f.write(todo)                                   # no need to close file\n",
    "    \n",
    "        case \"show\" | \"display\":\n",
    "            with open(\"todos.txt\",\"r\") as f:\n",
    "                h=f.readlines()                                   # no need to close file\n",
    "                print(h)\n",
    "                \n",
    "            for index,item in enumerate(h):\n",
    "                item=item.strip(\"\\n\")\n",
    "                row=f\"{index+1}-{item}\"\n",
    "                print(row)\n",
    "                \n",
    "        case \"exit\":\n",
    "            break\n",
    "            \n",
    "        case \"edit\":\n",
    "            with open(\"todos.txt\",\"r\") as f:\n",
    "                g=f.readlines()                                   # no need to close file\n",
    "                print(g)\n",
    "\n",
    "            x=int(input(\"Number of todo to edit: \")) - 1\n",
    "            y=input(\"Enter new todo: \")\n",
    "            g[x]=y\n",
    "\n",
    "        case \"complete\":\n",
    "            x=int(input(\"Number of todo to complete: \"))\n",
    "            todo2.pop(x-1)\n",
    "            \n",
    "        case _:\n",
    "            print(\"try again\")"
   ]
  },
  {
   "cell_type": "code",
   "execution_count": 1,
   "id": "57920a34-158d-422d-858c-299a9da9b25e",
   "metadata": {},
   "outputs": [
    {
     "name": "stdout",
     "output_type": "stream",
     "text": [
      "['ben', 'john', 'sen']\n"
     ]
    }
   ],
   "source": [
    "waiting=[\"sen\",\"ben\",\"john\"]\n",
    "waiting.sort()\n",
    "print(waiting)"
   ]
  },
  {
   "cell_type": "code",
   "execution_count": 22,
   "id": "f3c4fd0f-4d1d-453c-922b-92235941d0ea",
   "metadata": {},
   "outputs": [
    {
     "name": "stdin",
     "output_type": "stream",
     "text": [
      "Enter the index of the IP you want:  1\n"
     ]
    },
    {
     "name": "stdout",
     "output_type": "stream",
     "text": [
      "You chose 100.122.133.111\n"
     ]
    }
   ],
   "source": [
    "ips = ['100.122.133.105', '100.122.133.111']\n",
    "x=int(input(\"Enter the index of the IP you want: \"))\n",
    "print(f\"You chose {ips[x]}\")"
   ]
  },
  {
   "cell_type": "code",
   "execution_count": 14,
   "id": "75a6534b-d4da-4c79-9d87-5bce35fcc1dd",
   "metadata": {},
   "outputs": [
    {
     "name": "stdin",
     "output_type": "stream",
     "text": [
      "Enter a new member:  rajesh\n"
     ]
    }
   ],
   "source": [
    "f=open(\"../../members.txt\",\"a\")\n",
    "x=input(\"Enter a new member: \")\n",
    "f.write(x)\n",
    "f.close()"
   ]
  },
  {
   "cell_type": "code",
   "execution_count": 14,
   "id": "166c6bf2-7066-4f96-aa45-900021005182",
   "metadata": {},
   "outputs": [
    {
     "name": "stdin",
     "output_type": "stream",
     "text": [
      "Enter a todo:  add\n"
     ]
    },
    {
     "name": "stdout",
     "output_type": "stream",
     "text": [
      "This file is for testing purposes.\n",
      "Good Luck!\n"
     ]
    },
    {
     "name": "stdin",
     "output_type": "stream",
     "text": [
      " \n"
     ]
    },
    {
     "ename": "AttributeError",
     "evalue": "'str' object has no attribute 'append'",
     "output_type": "error",
     "traceback": [
      "\u001b[1;31m---------------------------------------------------------------------------\u001b[0m",
      "\u001b[1;31mAttributeError\u001b[0m                            Traceback (most recent call last)",
      "Cell \u001b[1;32mIn[14], line 8\u001b[0m\n\u001b[0;32m      5\u001b[0m x\u001b[38;5;241m=\u001b[39m\u001b[38;5;28minput\u001b[39m(\u001b[38;5;124m\"\u001b[39m\u001b[38;5;124m\"\u001b[39m)\n\u001b[0;32m      6\u001b[0m f\u001b[38;5;241m.\u001b[39mclose()\n\u001b[1;32m----> 8\u001b[0m h\u001b[38;5;241m.\u001b[39mappend(todo)\n",
      "\u001b[1;31mAttributeError\u001b[0m: 'str' object has no attribute 'append'"
     ]
    }
   ],
   "source": [
    "todo = input(\"Enter a todo: \")+\"\\n\"\n",
    "f=open(\"todos.txt\",\"r\")\n",
    "h=f.read()\n",
    "print(h)\n",
    "x=input(\"\")\n",
    "f.close()\n",
    "            \n",
    "h.append(todo)"
   ]
  },
  {
   "cell_type": "code",
   "execution_count": 25,
   "id": "95d41eeb-8f5c-4841-855a-cb53f711a5d5",
   "metadata": {},
   "outputs": [
    {
     "name": "stdout",
     "output_type": "stream",
     "text": [
      "['1-one.txt', '2-two.txt', '3-three.txt']\n"
     ]
    }
   ],
   "source": [
    "filenames=[\"1.one\",\"2.two\",\"3.three\"]\n",
    "\n",
    "#for index,item in enumerate(filenames):\n",
    "    #print(item)\n",
    "    #f=item.replace(\".\",\"-\")+\".txt\"\n",
    "    #print(f)\n",
    "filenames=[f.replace(\".\",\"-\")+\".txt\" for f in filenames]\n",
    "\n",
    "print(filenames)\n",
    "\n",
    "\n"
   ]
  },
  {
   "cell_type": "code",
   "execution_count": 33,
   "id": "55fc236f-eb64-4aba-be64-42971c76bb3f",
   "metadata": {},
   "outputs": [
    {
     "name": "stdout",
     "output_type": "stream",
     "text": [
      "['John Smith', 'Jay Santi', 'Eva Kuki']\n"
     ]
    }
   ],
   "source": [
    "names = [\"john smith\", \"jay santi\", \"eva kuki\"]\n",
    "names1=[f.title() for f in names]\n",
    "print(names1)"
   ]
  },
  {
   "cell_type": "code",
   "execution_count": 41,
   "id": "7aa7acd5-f084-48df-93a4-dd19df9d2821",
   "metadata": {},
   "outputs": [
    {
     "name": "stdout",
     "output_type": "stream",
     "text": [
      "9\n",
      "11\n",
      "11\n",
      "[9, 11, 11]\n"
     ]
    }
   ],
   "source": [
    "usernames = [\"john 1990\", \"alberta1970\", \"magnola2000\"]\n",
    "for u in usernames:\n",
    "    print(len(u))\n",
    "\n",
    "length=[len(u) for u in usernames]\n",
    "print(length)    \n",
    "\n",
    "    \n",
    "#print(len(u) for u in usernames)"
   ]
  },
  {
   "cell_type": "code",
   "execution_count": 45,
   "id": "2d2b1fdc-e7a5-4d7d-8e15-a178e649213d",
   "metadata": {},
   "outputs": [
    {
     "ename": "SyntaxError",
     "evalue": "invalid syntax (139945511.py, line 2)",
     "output_type": "error",
     "traceback": [
      "\u001b[1;36m  Cell \u001b[1;32mIn[45], line 2\u001b[1;36m\u001b[0m\n\u001b[1;33m    x=int(n) for n in user_entries\u001b[0m\n\u001b[1;37m             ^\u001b[0m\n\u001b[1;31mSyntaxError\u001b[0m\u001b[1;31m:\u001b[0m invalid syntax\n"
     ]
    }
   ],
   "source": [
    "user_entries = ['10', '19.1', '20']\n",
    "x=int(n) for n in user_entries\n",
    "print(x)"
   ]
  },
  {
   "cell_type": "code",
   "execution_count": 8,
   "id": "314eaa5f-2765-4fdb-b172-c4c1aad96150",
   "metadata": {},
   "outputs": [
    {
     "ename": "TypeError",
     "evalue": "'NoneType' object is not subscriptable",
     "output_type": "error",
     "traceback": [
      "\u001b[1;31m---------------------------------------------------------------------------\u001b[0m",
      "\u001b[1;31mTypeError\u001b[0m                                 Traceback (most recent call last)",
      "Cell \u001b[1;32mIn[8], line 7\u001b[0m\n\u001b[0;32m      3\u001b[0m     g\u001b[38;5;241m=\u001b[39mgrades\u001b[38;5;241m.\u001b[39msort()[\u001b[38;5;241m-\u001b[39m\u001b[38;5;241m1\u001b[39m]\n\u001b[0;32m      4\u001b[0m     \u001b[38;5;28;01mreturn\u001b[39;00m g1\n\u001b[1;32m----> 7\u001b[0m grades\u001b[38;5;241m=\u001b[39mget_max()\n\u001b[0;32m      8\u001b[0m \u001b[38;5;28mprint\u001b[39m(grades)\n",
      "Cell \u001b[1;32mIn[8], line 3\u001b[0m, in \u001b[0;36mget_max\u001b[1;34m()\u001b[0m\n\u001b[0;32m      1\u001b[0m \u001b[38;5;28;01mdef\u001b[39;00m \u001b[38;5;21mget_max\u001b[39m():\n\u001b[0;32m      2\u001b[0m     grades \u001b[38;5;241m=\u001b[39m [\u001b[38;5;241m9.6\u001b[39m, \u001b[38;5;241m9.2\u001b[39m, \u001b[38;5;241m9.7\u001b[39m]\n\u001b[1;32m----> 3\u001b[0m     g\u001b[38;5;241m=\u001b[39mgrades\u001b[38;5;241m.\u001b[39msort()[\u001b[38;5;241m-\u001b[39m\u001b[38;5;241m1\u001b[39m]\n\u001b[0;32m      4\u001b[0m     \u001b[38;5;28;01mreturn\u001b[39;00m g1\n",
      "\u001b[1;31mTypeError\u001b[0m: 'NoneType' object is not subscriptable"
     ]
    }
   ],
   "source": [
    "def get_max():\n",
    "    grades = [9.6, 9.2, 9.7]\n",
    "    g=grades.sort()[-1]\n",
    "    return g1\n",
    "    \n",
    "\n",
    "grades=get_max()\n",
    "print(grades)"
   ]
  },
  {
   "cell_type": "code",
   "execution_count": 26,
   "id": "ab83075f-2f99-49c7-86fe-b25ca433e2ed",
   "metadata": {},
   "outputs": [
    {
     "ename": "TypeError",
     "evalue": "'tuple' object is not callable",
     "output_type": "error",
     "traceback": [
      "\u001b[1;31m---------------------------------------------------------------------------\u001b[0m",
      "\u001b[1;31mTypeError\u001b[0m                                 Traceback (most recent call last)",
      "Cell \u001b[1;32mIn[26], line 8\u001b[0m\n\u001b[0;32m      5\u001b[0m     \u001b[38;5;28;01mreturn\u001b[39;00m max_local\n\u001b[0;32m      6\u001b[0m \u001b[38;5;66;03m#    return min_local\u001b[39;00m\n\u001b[1;32m----> 8\u001b[0m \u001b[38;5;28mmax\u001b[39m\u001b[38;5;241m=\u001b[39mget_max()\n\u001b[0;32m      9\u001b[0m \u001b[38;5;28mprint\u001b[39m(\u001b[38;5;28mmax\u001b[39m)\n",
      "Cell \u001b[1;32mIn[26], line 3\u001b[0m, in \u001b[0;36mget_max\u001b[1;34m()\u001b[0m\n\u001b[0;32m      1\u001b[0m \u001b[38;5;28;01mdef\u001b[39;00m \u001b[38;5;21mget_max\u001b[39m():\n\u001b[0;32m      2\u001b[0m     grades \u001b[38;5;241m=\u001b[39m [\u001b[38;5;241m9.6\u001b[39m, \u001b[38;5;241m9.2\u001b[39m, \u001b[38;5;241m9.7\u001b[39m]\n\u001b[1;32m----> 3\u001b[0m     max_local\u001b[38;5;241m=\u001b[39m\u001b[38;5;28mmax\u001b[39m(grades)\n\u001b[0;32m      4\u001b[0m     \u001b[38;5;66;03m#min_local=min(grades)\u001b[39;00m\n\u001b[0;32m      5\u001b[0m     \u001b[38;5;28;01mreturn\u001b[39;00m max_local\n",
      "\u001b[1;31mTypeError\u001b[0m: 'tuple' object is not callable"
     ]
    }
   ],
   "source": [
    "def get_max():\n",
    "    grades = [9.6, 9.2, 9.7]\n",
    "    max_local=max(grades)\n",
    "    #min_local=min(grades)\n",
    "    return max_local\n",
    "#    return min_local\n",
    "    \n",
    "max=get_max()\n",
    "print(max)"
   ]
  },
  {
   "cell_type": "code",
   "execution_count": 2,
   "id": "b30315b7-8814-4558-bd87-f48ec347f116",
   "metadata": {},
   "outputs": [
    {
     "name": "stdin",
     "output_type": "stream",
     "text": [
      "Enter feet and inches:  5 12\n"
     ]
    },
    {
     "name": "stdout",
     "output_type": "stream",
     "text": [
      "5.0 feet and 12.0 is equal to 1.8288\n",
      "Kid can use the slide.\n"
     ]
    }
   ],
   "source": [
    "feet_inches = input(\"Enter feet and inches: \")\n",
    "\n",
    "\n",
    "def parse(feet_inches):\n",
    "    parts = feet_inches.split(\" \")\n",
    "    feet = float(parts[0])\n",
    "    inches = float(parts[1])\n",
    "    return {\"feet\": feet, \"inches\": inches}\n",
    "\n",
    "\n",
    "def convert(feet, inches):\n",
    "    meters = feet * 0.3048 + inches * 0.0254\n",
    "    return meters\n",
    "\n",
    "\n",
    "parsed = parse(feet_inches)\n",
    "\n",
    "result = convert(parsed['feet'], parsed['inches'])\n",
    "\n",
    "print(f\"{parsed['feet']} feet and {parsed['inches']} is equal to {result}\")\n",
    "\n",
    "if result < 1:\n",
    "    print(\"Kid is too small.\")\n",
    "else:\n",
    "    print(\"Kid can use the slide.\")"
   ]
  },
  {
   "cell_type": "code",
   "execution_count": 12,
   "id": "bb17cea3-178d-4679-a1be-e5d1e3e2ba7a",
   "metadata": {},
   "outputs": [
    {
     "data": {
      "text/plain": [
       "'Solid'"
      ]
     },
     "execution_count": 12,
     "metadata": {},
     "output_type": "execute_result"
    }
   ],
   "source": [
    "def water_state(temperature):\n",
    "    if temperature <=0:\n",
    "        return \"Solid\"\n",
    "    elif temperature>0 and temperature<100:\n",
    "        return \"Liquid\"\n",
    "    else:\n",
    "        return \"Gas\"\n",
    "\n",
    "water_state(-99)"
   ]
  },
  {
   "cell_type": "code",
   "execution_count": 2,
   "id": "59bb9a5e-7c45-4984-8ec0-ca65268813e0",
   "metadata": {},
   "outputs": [
    {
     "ename": "ModuleNotFoundError",
     "evalue": "No module named 'FreeSimpleGUI'",
     "output_type": "error",
     "traceback": [
      "\u001b[1;31m---------------------------------------------------------------------------\u001b[0m",
      "\u001b[1;31mModuleNotFoundError\u001b[0m                       Traceback (most recent call last)",
      "Cell \u001b[1;32mIn[2], line 1\u001b[0m\n\u001b[1;32m----> 1\u001b[0m \u001b[38;5;28;01mimport\u001b[39;00m \u001b[38;5;21;01mFreeSimpleGUI\u001b[39;00m\n",
      "\u001b[1;31mModuleNotFoundError\u001b[0m: No module named 'FreeSimpleGUI'"
     ]
    }
   ],
   "source": [
    "import FreeSimpleGUI"
   ]
  },
  {
   "cell_type": "code",
   "execution_count": 4,
   "id": "95cfdfdf-efb2-4d96-8a92-473ace86c494",
   "metadata": {},
   "outputs": [
    {
     "name": "stdout",
     "output_type": "stream",
     "text": [
      "Collecting FreeSimpleGUI\n",
      "  Downloading FreeSimpleGUI-5.1.1-py3-none-any.whl.metadata (976 bytes)\n",
      "Downloading FreeSimpleGUI-5.1.1-py3-none-any.whl (720 kB)\n",
      "   ---------------------------------------- 0.0/720.0 kB ? eta -:--:--\n",
      "    --------------------------------------- 10.2/720.0 kB ? eta -:--:--\n",
      "   - ------------------------------------- 30.7/720.0 kB 330.3 kB/s eta 0:00:03\n",
      "   ------- -------------------------------- 143.4/720.0 kB 1.1 MB/s eta 0:00:01\n",
      "   ---------------------------------------  716.8/720.0 kB 4.5 MB/s eta 0:00:01\n",
      "   ---------------------------------------- 720.0/720.0 kB 3.8 MB/s eta 0:00:00\n",
      "Installing collected packages: FreeSimpleGUI\n",
      "Successfully installed FreeSimpleGUI-5.1.1\n",
      "Note: you may need to restart the kernel to use updated packages.\n"
     ]
    }
   ],
   "source": [
    "pip install FreeSimpleGUI"
   ]
  },
  {
   "cell_type": "code",
   "execution_count": 6,
   "id": "e0f849d0-b9c3-46e5-aa4c-4fb9e474917a",
   "metadata": {},
   "outputs": [],
   "source": [
    "import FreeSimpleGUI"
   ]
  },
  {
   "cell_type": "code",
   "execution_count": null,
   "id": "f8c0c23d-7e42-4ef0-b2a1-b01f5d0898d9",
   "metadata": {},
   "outputs": [],
   "source": []
  }
 ],
 "metadata": {
  "kernelspec": {
   "display_name": "Python 3 (ipykernel)",
   "language": "python",
   "name": "python3"
  },
  "language_info": {
   "codemirror_mode": {
    "name": "ipython",
    "version": 3
   },
   "file_extension": ".py",
   "mimetype": "text/x-python",
   "name": "python",
   "nbconvert_exporter": "python",
   "pygments_lexer": "ipython3",
   "version": "3.12.4"
  }
 },
 "nbformat": 4,
 "nbformat_minor": 5
}
