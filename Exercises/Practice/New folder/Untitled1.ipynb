{
 "cells": [
  {
   "cell_type": "code",
   "execution_count": 11,
   "id": "db11f6a4-fd99-4e88-ab32-8c405f03fef8",
   "metadata": {},
   "outputs": [
    {
     "name": "stdin",
     "output_type": "stream",
     "text": [
      "name:  rajesh shanbhag\n"
     ]
    },
    {
     "name": "stdout",
     "output_type": "stream",
     "text": [
      "[]\n"
     ]
    }
   ],
   "source": [
    "#x=[]\n",
    "x=input(\"name: \")\n",
    "print(x[1:2])x=1,2,3\n",
    "\n",
    "\n"
   ]
  },
  {
   "cell_type": "code",
   "execution_count": 25,
   "id": "e36abedd-1d58-4d9c-b515-c9e58573ae68",
   "metadata": {},
   "outputs": [
    {
     "name": "stdout",
     "output_type": "stream",
     "text": [
      "['rajesh']\n"
     ]
    }
   ],
   "source": [
    "x=\"rajesh\"\n",
    "y=x.split(\" \")\n",
    "print(y)"
   ]
  },
  {
   "cell_type": "code",
   "execution_count": 29,
   "id": "f80cf01c-13ff-4b40-87ce-d5c909fb448b",
   "metadata": {},
   "outputs": [
    {
     "name": "stdout",
     "output_type": "stream",
     "text": [
      "[]\n",
      "['A', 'B', 'C', 'D']\n"
     ]
    }
   ],
   "source": [
    "def Convert(string):\n",
    "    list1 = []\n",
    "    print(list1)\n",
    "    list1[:0] = string\n",
    "    return list1\n",
    "\n",
    "\n",
    "# Driver code\n",
    "str1 = \"ABCD\"\n",
    "print(Convert(str1))\n"
   ]
  },
  {
   "cell_type": "code",
   "execution_count": 37,
   "id": "379566e2-ae08-49bb-999a-d007041a6a9c",
   "metadata": {},
   "outputs": [
    {
     "name": "stdin",
     "output_type": "stream",
     "text": [
      "Input some comma-separated numbers:  1,2,3\n"
     ]
    },
    {
     "ename": "AttributeError",
     "evalue": "type object 'list' has no attribute 'strip'",
     "output_type": "error",
     "traceback": [
      "\u001b[1;31m---------------------------------------------------------------------------\u001b[0m",
      "\u001b[1;31mAttributeError\u001b[0m                            Traceback (most recent call last)",
      "Cell \u001b[1;32mIn[37], line 5\u001b[0m\n\u001b[0;32m      2\u001b[0m values \u001b[38;5;241m=\u001b[39m \u001b[38;5;28minput\u001b[39m(\u001b[38;5;124m\"\u001b[39m\u001b[38;5;124mInput some comma-separated numbers: \u001b[39m\u001b[38;5;124m\"\u001b[39m)\n\u001b[0;32m      4\u001b[0m \u001b[38;5;66;03m# Split the 'values' string into a list using commas as separators and store it in the 'list' variable\u001b[39;00m\n\u001b[1;32m----> 5\u001b[0m list1 \u001b[38;5;241m=\u001b[39m \u001b[38;5;28mlist\u001b[39m\u001b[38;5;241m.\u001b[39mstrip(values)\n\u001b[0;32m      7\u001b[0m \u001b[38;5;28mprint\u001b[39m(\u001b[38;5;124m'\u001b[39m\u001b[38;5;124mList : \u001b[39m\u001b[38;5;124m'\u001b[39m, list1)\n",
      "\u001b[1;31mAttributeError\u001b[0m: type object 'list' has no attribute 'strip'"
     ]
    }
   ],
   "source": [
    "# Prompt the user to input a sequence of comma-separated numbers and store it in the 'values' variable\n",
    "values = input(\"Input some comma-separated numbers: \")\n",
    "\n",
    "# Split the 'values' string into a list using commas as separators and store it in the 'list' variable\n",
    "list1 = list(values)\n",
    "\n",
    "print('List : ', list1)\n"
   ]
  },
  {
   "cell_type": "code",
   "execution_count": null,
   "id": "4a4a1afb-ee07-470e-b03c-8692f034b6d8",
   "metadata": {},
   "outputs": [],
   "source": []
  }
 ],
 "metadata": {
  "kernelspec": {
   "display_name": "Python 3 (ipykernel)",
   "language": "python",
   "name": "python3"
  },
  "language_info": {
   "codemirror_mode": {
    "name": "ipython",
    "version": 3
   },
   "file_extension": ".py",
   "mimetype": "text/x-python",
   "name": "python",
   "nbconvert_exporter": "python",
   "pygments_lexer": "ipython3",
   "version": "3.12.4"
  }
 },
 "nbformat": 4,
 "nbformat_minor": 5
}
