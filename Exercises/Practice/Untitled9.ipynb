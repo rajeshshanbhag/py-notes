{
 "cells": [
  {
   "cell_type": "code",
   "execution_count": 35,
   "id": "97fa5a1d-03e1-4de2-a90c-7b2909e22af0",
   "metadata": {},
   "outputs": [
    {
     "name": "stdout",
     "output_type": "stream",
     "text": [
      "a\n",
      "w\n"
     ]
    },
    {
     "ename": "AttributeError",
     "evalue": "'NoneType' object has no attribute 'group'",
     "output_type": "error",
     "traceback": [
      "\u001b[1;31m---------------------------------------------------------------------------\u001b[0m",
      "\u001b[1;31mAttributeError\u001b[0m                            Traceback (most recent call last)",
      "Cell \u001b[1;32mIn[35], line 9\u001b[0m\n\u001b[0;32m      6\u001b[0m         array\u001b[38;5;241m=\u001b[39mpattern\u001b[38;5;241m.\u001b[39msearch(i)\n\u001b[0;32m      7\u001b[0m         \u001b[38;5;28mprint\u001b[39m(array\u001b[38;5;241m.\u001b[39mgroup())\n\u001b[1;32m----> 9\u001b[0m myfunc([\u001b[38;5;124m'\u001b[39m\u001b[38;5;124mgoal\u001b[39m\u001b[38;5;124m'\u001b[39m, \u001b[38;5;124m'\u001b[39m\u001b[38;5;124mnew\u001b[39m\u001b[38;5;124m'\u001b[39m, \u001b[38;5;124m'\u001b[39m\u001b[38;5;124muser\u001b[39m\u001b[38;5;124m'\u001b[39m, \u001b[38;5;124m'\u001b[39m\u001b[38;5;124msit\u001b[39m\u001b[38;5;124m'\u001b[39m, \u001b[38;5;124m'\u001b[39m\u001b[38;5;124meat\u001b[39m\u001b[38;5;124m'\u001b[39m, \u001b[38;5;124m'\u001b[39m\u001b[38;5;124mdinner\u001b[39m\u001b[38;5;124m'\u001b[39m])\n",
      "Cell \u001b[1;32mIn[35], line 7\u001b[0m, in \u001b[0;36mmyfunc\u001b[1;34m(string)\u001b[0m\n\u001b[0;32m      5\u001b[0m \u001b[38;5;28;01mfor\u001b[39;00m i \u001b[38;5;129;01min\u001b[39;00m string:\n\u001b[0;32m      6\u001b[0m     array\u001b[38;5;241m=\u001b[39mpattern\u001b[38;5;241m.\u001b[39msearch(i)\n\u001b[1;32m----> 7\u001b[0m     \u001b[38;5;28mprint\u001b[39m(array\u001b[38;5;241m.\u001b[39mgroup())\n",
      "\u001b[1;31mAttributeError\u001b[0m: 'NoneType' object has no attribute 'group'"
     ]
    }
   ],
   "source": [
    "import re\n",
    "\n",
    "def myfunc(string):\n",
    "    pattern=re.compile(r'[aw]',re.I)\n",
    "    for i in string:\n",
    "        array=pattern.search(i)\n",
    "        print(array.group())\n",
    "\n",
    "myfunc(['goal', 'new', 'user', 'sit', 'eat', 'dinner'])"
   ]
  },
  {
   "cell_type": "code",
   "execution_count": 45,
   "id": "2ed0e053-bd51-4c72-8555-f178b9871103",
   "metadata": {},
   "outputs": [
    {
     "data": {
      "text/plain": [
       "['subtle', 'sets', 'site']"
      ]
     },
     "execution_count": 45,
     "metadata": {},
     "output_type": "execute_result"
    }
   ],
   "source": [
    ">>> words = ['sequoia', 'subtle', 'exhibit', 'a set', 'sets', 'tests', 'site']\n",
    "\n",
    ">>> [w for w in words if re.search(r'^s.*[et]', w)]\n",
    "['subtle', 'sets', 'site']"
   ]
  },
  {
   "cell_type": "code",
   "execution_count": 47,
   "id": "a7d3657a-722a-4225-b87e-0b645450e797",
   "metadata": {},
   "outputs": [
    {
     "data": {
      "text/plain": [
       "'sequoia [subtle] exhibit asset [sets2] tests [si_te]'"
      ]
     },
     "execution_count": 47,
     "metadata": {},
     "output_type": "execute_result"
    }
   ],
   "source": [
    "ip = 'sequoia subtle exhibit asset sets2 tests si_te'\n",
    "\n",
    "re.sub(r'^s\\w*[et]\\w*', r'[\\g<0>]', ip)\n",
    "#'sequoia [subtle] exhibit asset [sets2] tests [si_te]'"
   ]
  },
  {
   "cell_type": "code",
   "execution_count": null,
   "id": "96da7f78-d2b4-4c35-8bc6-f758211dde85",
   "metadata": {},
   "outputs": [],
   "source": []
  }
 ],
 "metadata": {
  "kernelspec": {
   "display_name": "Python 3 (ipykernel)",
   "language": "python",
   "name": "python3"
  },
  "language_info": {
   "codemirror_mode": {
    "name": "ipython",
    "version": 3
   },
   "file_extension": ".py",
   "mimetype": "text/x-python",
   "name": "python",
   "nbconvert_exporter": "python",
   "pygments_lexer": "ipython3",
   "version": "3.12.4"
  }
 },
 "nbformat": 4,
 "nbformat_minor": 5
}
