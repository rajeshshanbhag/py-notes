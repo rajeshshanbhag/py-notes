{
 "cells": [
  {
   "cell_type": "code",
   "execution_count": 1,
   "metadata": {},
   "outputs": [
    {
     "name": "stdout",
     "output_type": "stream",
     "text": [
      "Python version\n",
      "3.9.12 (main, Apr  4 2022, 05:22:27) [MSC v.1916 64 bit (AMD64)]\n",
      "Version info.\n",
      "sys.version_info(major=3, minor=9, micro=12, releaselevel='final', serial=0)\n"
     ]
    }
   ],
   "source": [
    "import sys\n",
    "print(\"Python version\")\n",
    "print (sys.version)\n",
    "print(\"Version info.\")\n",
    "print (sys.version_info)\n"
   ]
  },
  {
   "cell_type": "code",
   "execution_count": 18,
   "metadata": {},
   "outputs": [
    {
     "name": "stdout",
     "output_type": "stream",
     "text": [
      "radius: 1.1\n",
      "the areas is: 3.799\n"
     ]
    }
   ],
   "source": [
    "radius=float(input(\"radius: \"))\n",
    "area=3.14*radius**2\n",
    "print(\"the areas is:\",str('%2.3f'%area))"
   ]
  },
  {
   "cell_type": "code",
   "execution_count": 20,
   "metadata": {},
   "outputs": [
    {
     "name": "stdout",
     "output_type": "stream",
     "text": [
      "radius: 1.1\n",
      "the areas is: 3.799\n"
     ]
    }
   ],
   "source": [
    "print(\"the areas is:\",str('%2.3f'%(3.14*float(input(\"radius: \"))**2)))"
   ]
  },
  {
   "cell_type": "code",
   "execution_count": 25,
   "metadata": {},
   "outputs": [
    {
     "name": "stdout",
     "output_type": "stream",
     "text": [
      "first+last name: raj shan\n",
      "n a h s   j a r\n"
     ]
    }
   ],
   "source": [
    "name=str(input(\"first+last name: \"))\n",
    "print(\" \".join(name[::-1]))"
   ]
  },
  {
   "cell_type": "code",
   "execution_count": 42,
   "metadata": {},
   "outputs": [
    {
     "name": "stdout",
     "output_type": "stream",
     "text": [
      "filename: rrr.java\n"
     ]
    },
    {
     "data": {
      "text/plain": [
       "'java'"
      ]
     },
     "execution_count": 42,
     "metadata": {},
     "output_type": "execute_result"
    }
   ],
   "source": [
    "x=input(\"filename: \")\n",
    "x.split(\".\")[-1]"
   ]
  },
  {
   "cell_type": "code",
   "execution_count": 45,
   "metadata": {},
   "outputs": [
    {
     "name": "stdout",
     "output_type": "stream",
     "text": [
      "Red Black\n"
     ]
    }
   ],
   "source": [
    "color_list = [\"Red\",\"Green\",\"White\" ,\"Black\"]\n",
    "print(color_list[0],color_list[-1])"
   ]
  },
  {
   "cell_type": "code",
   "execution_count": 56,
   "metadata": {},
   "outputs": [
    {
     "name": "stdout",
     "output_type": "stream",
     "text": [
      "The examination will start from : 11/12/2014\n"
     ]
    }
   ],
   "source": [
    "exam = (11, 12, 2014)\n",
    "print(f\"The examination will start from : {exam[0]}/{exam[1]}/{exam[2]}\")"
   ]
  },
  {
   "cell_type": "code",
   "execution_count": 61,
   "metadata": {},
   "outputs": [
    {
     "name": "stdout",
     "output_type": "stream",
     "text": [
      "n: 5\n",
      "25\n",
      "625\n"
     ]
    }
   ],
   "source": [
    "n=int(input(\"n: \"))\n",
    "for i in range (1,3):\n",
    "    n=n*n\n",
    "    print(n)"
   ]
  },
  {
   "cell_type": "code",
   "execution_count": 62,
   "metadata": {},
   "outputs": [
    {
     "name": "stdout",
     "output_type": "stream",
     "text": [
      "n: 5\n",
      "<generator object <genexpr> at 0x00000241DD21DBA0>\n"
     ]
    }
   ],
   "source": [
    "n=int(input(\"n: \"))\n",
    "print(n*n for i in range(1,3))"
   ]
  },
  {
   "cell_type": "code",
   "execution_count": 68,
   "metadata": {},
   "outputs": [
    {
     "name": "stdout",
     "output_type": "stream",
     "text": [
      "n: 5\n",
      "615\n"
     ]
    }
   ],
   "source": [
    "n=str(input(\"n: \"))\n",
    "print(int(n)+int(n+n)+int(n+n+n))"
   ]
  },
  {
   "cell_type": "code",
   "execution_count": 71,
   "metadata": {},
   "outputs": [
    {
     "name": "stdout",
     "output_type": "stream",
     "text": [
      "x: 20\n",
      "6\n"
     ]
    }
   ],
   "source": [
    "num=int(input(\"x: \"))\n",
    "if num>17:\n",
    "    print(abs(17-num)*2)\n",
    "else:\n",
    "    print(abs(17-num))"
   ]
  },
  {
   "cell_type": "code",
   "execution_count": 72,
   "metadata": {},
   "outputs": [
    {
     "name": "stdout",
     "output_type": "stream",
     "text": [
      "10\n",
      "3\n"
     ]
    }
   ],
   "source": [
    "def difference(n):\n",
    "    if n <= 17:\n",
    "        return 17 - n\n",
    "    else:\n",
    "        return (n - 17) * 2 \n",
    "\n",
    "print(difference(22))\n",
    "print(difference(14))\n"
   ]
  },
  {
   "cell_type": "code",
   "execution_count": null,
   "metadata": {},
   "outputs": [],
   "source": [
    "if x in range(900,1100):\n",
    "    print(\"true\")\n",
    "    \n",
    "elif x in range(1900,2100):\n",
    "    print(\"true\")\n",
    "    \n",
    "else:\n",
    "    print(\"False\")"
   ]
  },
  {
   "cell_type": "code",
   "execution_count": 3,
   "metadata": {},
   "outputs": [
    {
     "name": "stdout",
     "output_type": "stream",
     "text": [
      "Enter a number: 555\n",
      "False\n"
     ]
    }
   ],
   "source": [
    "n=int(input(\"Enter a number: \"))\n",
    "\n",
    "def my_func(n):\n",
    "    return((abs(1000-n)<=100) or (abs(1000-n)<=100))\n",
    "print(my_func(n))"
   ]
  },
  {
   "cell_type": "code",
   "execution_count": 34,
   "metadata": {},
   "outputs": [
    {
     "name": "stdout",
     "output_type": "stream",
     "text": [
      "Input 3 numbers: 3,3,3\n",
      "3 3 3\n",
      "27\n"
     ]
    }
   ],
   "source": [
    "x=input(\"Input 3 numbers: \").split(\",\")\n",
    "a=int(x[0])\n",
    "b=int(x[1])\n",
    "c=int(x[2])\n",
    "print(a,b,c)\n",
    "\n",
    "def my_func(a,b,c):\n",
    "    if a==b==c:\n",
    "        return((a+b+c)*3)\n",
    "    else:\n",
    "        return(a+b+c)\n",
    "    \n",
    "print(my_func(a,b,c))"
   ]
  },
  {
   "cell_type": "code",
   "execution_count": 45,
   "metadata": {},
   "outputs": [
    {
     "name": "stdout",
     "output_type": "stream",
     "text": [
      "Enter a text: this is\n",
      "TH\n",
      "Ifthis is\n"
     ]
    }
   ],
   "source": [
    "x=input(\"Enter a text: \")\n",
    "\n",
    "if x[0:2].upper()==\"IF\":\n",
    "    print(x)\n",
    "else:\n",
    "    print(\"If \"+x)"
   ]
  },
  {
   "cell_type": "code",
   "execution_count": 46,
   "metadata": {},
   "outputs": [
    {
     "name": "stdout",
     "output_type": "stream",
     "text": [
      "thisthisthis\n"
     ]
    }
   ],
   "source": [
    "def my_func(str,n):\n",
    "    return str*n\n",
    "\n",
    "print(my_func(\"this\",3))"
   ]
  },
  {
   "cell_type": "code",
   "execution_count": 48,
   "metadata": {},
   "outputs": [
    {
     "name": "stdout",
     "output_type": "stream",
     "text": [
      "Enter a non-negative number: 6\n",
      "even\n"
     ]
    }
   ],
   "source": [
    "n=int(input(\"Enter a non-negative number: \"))\n",
    "\n",
    "def odd_even(n):\n",
    "    if n%2==0:\n",
    "        return \"even\"\n",
    "    else:\n",
    "        return \"odd\"\n",
    "    \n",
    "print(odd_even(n))"
   ]
  },
  {
   "cell_type": "code",
   "execution_count": 4,
   "metadata": {},
   "outputs": [
    {
     "name": "stdout",
     "output_type": "stream",
     "text": [
      "5\n"
     ]
    }
   ],
   "source": [
    "list = [4,2,3,4,4,6,7,4,4,10]\n",
    "count=0\n",
    "\n",
    "for num in list:\n",
    "    if num==4:\n",
    "        count+=1\n",
    "    else:\n",
    "        continue\n",
    "        \n",
    "print(count)"
   ]
  },
  {
   "cell_type": "code",
   "execution_count": 6,
   "metadata": {},
   "outputs": [
    {
     "ename": "SyntaxError",
     "evalue": "invalid syntax (<ipython-input-6-27e2dd4482e5>, line 3)",
     "output_type": "error",
     "traceback": [
      "\u001b[1;36m  File \u001b[1;32m\"<ipython-input-6-27e2dd4482e5>\"\u001b[1;36m, line \u001b[1;32m3\u001b[0m\n\u001b[1;33m    count += 1 for num in list if num==4\u001b[0m\n\u001b[1;37m                 ^\u001b[0m\n\u001b[1;31mSyntaxError\u001b[0m\u001b[1;31m:\u001b[0m invalid syntax\n"
     ]
    }
   ],
   "source": [
    "list = [4,2,3,4,4,6,7,4,4,10]\n",
    "count=0\n",
    "count += 1 for num in list if num==4\n",
    "        \n",
    "print(count)"
   ]
  },
  {
   "cell_type": "code",
   "execution_count": 13,
   "metadata": {},
   "outputs": [],
   "source": [
    "def vowel(s):\n",
    "    if s in [aeiou]:\n",
    "        return True\n",
    "    else:\n",
    "        return False\n",
    "\n",
    "##print(vowel('e'))"
   ]
  },
  {
   "cell_type": "code",
   "execution_count": 16,
   "metadata": {},
   "outputs": [
    {
     "ename": "NameError",
     "evalue": "name 's' is not defined",
     "output_type": "error",
     "traceback": [
      "\u001b[1;31m---------------------------------------------------------------------------\u001b[0m",
      "\u001b[1;31mNameError\u001b[0m                                 Traceback (most recent call last)",
      "\u001b[1;32m<ipython-input-16-ba2b23ffaddb>\u001b[0m in \u001b[0;36m<module>\u001b[1;34m\u001b[0m\n\u001b[0;32m      6\u001b[0m     \u001b[1;32mreturn\u001b[0m \u001b[1;32mTrue\u001b[0m  \u001b[1;31m# We didn't return False yet, so it must be all non-vowel.\u001b[0m\u001b[1;33m\u001b[0m\u001b[1;33m\u001b[0m\u001b[0m\n\u001b[0;32m      7\u001b[0m \u001b[1;33m\u001b[0m\u001b[0m\n\u001b[1;32m----> 8\u001b[1;33m \u001b[0mprint\u001b[0m\u001b[1;33m(\u001b[0m\u001b[0mnoVowel\u001b[0m\u001b[1;33m(\u001b[0m\u001b[0ms\u001b[0m\u001b[1;33m)\u001b[0m\u001b[1;33m)\u001b[0m\u001b[1;33m\u001b[0m\u001b[1;33m\u001b[0m\u001b[0m\n\u001b[0m",
      "\u001b[1;31mNameError\u001b[0m: name 's' is not defined"
     ]
    }
   ],
   "source": [
    "def noVowel(s):\n",
    "    'return True if string s contains no vowel, False otherwise'\n",
    "    for char in s:\n",
    "        if char.lower() in 'aeiou':\n",
    "            return False\n",
    "    return True  # We didn't return False yet, so it must be all non-vowel."
   ]
  },
  {
   "cell_type": "code",
   "execution_count": 15,
   "metadata": {},
   "outputs": [],
   "source": [
    "\n",
    "def noVowel(s):\n",
    "    return not any(vowel in s.lower() for vowel in \"aeiou\")"
   ]
  },
  {
   "cell_type": "code",
   "execution_count": 24,
   "metadata": {},
   "outputs": [
    {
     "name": "stdout",
     "output_type": "stream",
     "text": [
      "False\n"
     ]
    }
   ],
   "source": [
    "s='E'\n",
    "\n",
    "def noVowel(s):\n",
    "##    return not any(vowel in s.lower() for vowel in \"aeiou\")\n",
    "    for vowel in \"aeiou\":\n",
    "        if vowel in s.lower():\n",
    "            return True\n",
    "        else:\n",
    "            return False\n",
    "        \n",
    "print(noVowel(s))"
   ]
  },
  {
   "cell_type": "code",
   "execution_count": null,
   "metadata": {},
   "outputs": [],
   "source": []
  }
 ],
 "metadata": {
  "kernelspec": {
   "display_name": "Python 3",
   "language": "python",
   "name": "python3"
  },
  "language_info": {
   "codemirror_mode": {
    "name": "ipython",
    "version": 3
   },
   "file_extension": ".py",
   "mimetype": "text/x-python",
   "name": "python",
   "nbconvert_exporter": "python",
   "pygments_lexer": "ipython3",
   "version": "3.7.3"
  }
 },
 "nbformat": 4,
 "nbformat_minor": 5
}
