{
 "cells": [
  {
   "cell_type": "code",
   "execution_count": null,
   "id": "323a8cc3-0bb1-4b9b-a71c-e86877b784a7",
   "metadata": {},
   "outputs": [],
   "source": [
    "#https://www.w3resource.com/python-exercises/python-basic-exercises.php"
   ]
  },
  {
   "cell_type": "code",
   "execution_count": 1,
   "id": "d3fa832f-4670-4b62-aeeb-017f9cea255d",
   "metadata": {},
   "outputs": [
    {
     "name": "stdin",
     "output_type": "stream",
     "text": [
      "Input the Filename:  rajesh.doc\n"
     ]
    },
    {
     "name": "stdout",
     "output_type": "stream",
     "text": [
      "The extension of the file is : 'doc'\n"
     ]
    }
   ],
   "source": [
    "\"\"\"7. Write a Python program that accepts a filename from the user and prints the extension of the file.\n",
    "Sample filename : abc.java\n",
    "Output : java\n",
    "\"\"\"\n",
    "filename = input(\"Input the Filename: \")\n",
    "f_extns = filename.split(\".\")\n",
    "print(\"The extension of the file is : \" + repr(f_extns[-1]))"
   ]
  },
  {
   "cell_type": "code",
   "execution_count": 3,
   "id": "0a235a2b-b091-49b4-8e80-a9cb54eb454d",
   "metadata": {},
   "outputs": [
    {
     "name": "stdout",
     "output_type": "stream",
     "text": [
      "Return the absolute value of the argument.\n"
     ]
    }
   ],
   "source": [
    "#11. Write a Python program to print the documents (syntax, description etc.) of Python built-in function(s)\n",
    "# Print the docstring (documentation) of the 'abs' function\n",
    "print(abs.__doc__)"
   ]
  },
  {
   "cell_type": "code",
   "execution_count": null,
   "id": "da2a90c5-78fe-4ba1-8061-63ec287114cb",
   "metadata": {},
   "outputs": [],
   "source": [
    "#26. Write a Python program to create a histogram from a given list of integers.\n",
    "def histogram(items):\n",
    "    for n in items:\n",
    "        output = ''\n",
    "        times = n\n",
    "        while times > 0:\n",
    "            output += '*'\n",
    "            times = times - 1\n",
    "        print(output)\n",
    "\n",
    "histogram([2, 3, 6, 5])"
   ]
  },
  {
   "cell_type": "code",
   "execution_count": 5,
   "id": "b745c74f-a6e7-4524-bfae-6173f10355ee",
   "metadata": {},
   "outputs": [
    {
     "name": "stdout",
     "output_type": "stream",
     "text": [
      "GCD of 12 & 17 = 1\n",
      "GCD of 4 & 6 = 2\n",
      "GCD of 336 & 360 = 24\n"
     ]
    }
   ],
   "source": [
    "#31. Write a Python program that computes the greatest common divisor (GCD) of two positive integers.\n",
    "def gcd(x, y):\n",
    "    gcd = 1\n",
    "    \n",
    "    if x % y == 0:\n",
    "        return y\n",
    "\n",
    "    for k in range(int(y / 2), 0, -1):\n",
    "        if x % k == 0 and y % k == 0:\n",
    "            gcd = k\n",
    "            break\n",
    "    \n",
    "    return gcd\n",
    "\n",
    "# Print the GCD of specific pairs of numbers.\n",
    "print(\"GCD of 12 & 17 =\", gcd(12, 17))\n",
    "print(\"GCD of 4 & 6 =\", gcd(4, 6))\n",
    "print(\"GCD of 336 & 360 =\", gcd(336, 360))"
   ]
  },
  {
   "cell_type": "code",
   "execution_count": 3,
   "id": "2fdb8f37-a84e-4ff2-8b73-9f63bbb3b9fe",
   "metadata": {},
   "outputs": [
    {
     "name": "stdout",
     "output_type": "stream",
     "text": [
      "255\n"
     ]
    }
   ],
   "source": [
    "#32. Write a Python program to find the least common multiple (LCM) of two positive integers.\n",
    "def lcm(x, y):\n",
    "    if x > y:\n",
    "        z = x\n",
    "    else:\n",
    "        z = y\n",
    "\n",
    "    while True:\n",
    "        if (z % x == 0) and (z % y == 0):\n",
    "            lcm = z\n",
    "            break\n",
    "        z += 1\n",
    "    return lcm\n",
    "\n",
    "print(lcm(15, 17))"
   ]
  },
  {
   "cell_type": "code",
   "execution_count": null,
   "id": "8963e738-da4e-447d-bf45-6c15ce273bc9",
   "metadata": {},
   "outputs": [],
   "source": [
    "#6. Write a Python program that prints long text, converts it to a list, and prints all the words and the frequency of each word.\n",
    "from collections import Counter\n",
    "\n",
    "para='''United States Declaration of Independence\n",
    "From Wikipedia, the free encyclopedia\n",
    "... (omitting the rest for brevity) ... \n",
    "... much scholarly inquiry.\n",
    "The Declaration justified the independence of the United States by listing colonial grievances against\n",
    "King George III, and by asserting certain natural and legal rights, including a right of revolution.\n",
    "Having served its original purpose in announcing independence, references to the text of the\n",
    "Declaration were few in the following years. Abraham Lincoln made it the centerpiece of his rhetoric\n",
    "(as in the Gettysburg Address of 1863) and his policies. Since then, it has become a well-known statement\n",
    "on human rights, particularly its second sentence:\n",
    "\n",
    "We hold these truths to be self-evident, that all men are created equal, that they are endowed by their\n",
    "Creator with certain unalienable Rights, that among these are Life, Liberty and the pursuit of Happiness.\n",
    "\n",
    "This has been called \"one of the best-known sentences in the English language\", containing \"the most potent\n",
    "and consequential words in American history\". The passage came to represent a moral standard to which\n",
    "the United States should strive. This view was notably promoted by Abraham Lincoln, who considered the\n",
    "Declaration to be the foundation of his political philosophy and argued that it is a statement of principles\n",
    "through which the United States Constitution should be interpreted.\n",
    "\n",
    "The U.S. Declaration of Independence inspired many other similar documents in other countries, the first\n",
    "being the 1789 Declaration of Flanders issued during the Brabant Revolution in the Austrian Netherlands\n",
    "(modern-day Belgium). It also served as the primary model for numerous declarations of independence across\n",
    "Europe and Latin America, as well as Africa (Liberia) and Oceania (New Zealand) during the first half of the\n",
    "19th century.'''\n",
    "\n",
    "p=dict(Counter(para.split(\" \")))\n",
    "print(dict(sorted(p.items(), key=lambda item: item[1], reverse=True)))"
   ]
  },
  {
   "cell_type": "code",
   "execution_count": null,
   "id": "a7df748c-897e-49b4-b3ed-0ffa4b611917",
   "metadata": {},
   "outputs": [],
   "source": [
    "#7. Write a Python program to count the number of each character in a text file.\n",
    "\"\"\"\n",
    "abc.txt -\n",
    "German Unity Day\n",
    "From Wikipedia, the free encyclopedia\n",
    "The Day of German Unity (German: Tag der DeutschenEinheit) is the national day of Germany, celebrated on 3 October as a public holiday. It commemorates the anniversary of German reunification in 1990, when the goal of a united Germany that originated in the middle of the 19th century, was fulfilled again. Therefore, the name addresses neither the re-union nor the union, but the unity of Germany. The Day of German Unity on 3 October has been the German national holiday since 1990, when the reunification was formally completed.\n",
    "\"\"\"\n",
    "\n",
    "from collections import Counter\n",
    "\n",
    "with open('abc.txt','r') as file:\n",
    "    p=dict(Counter(file.read()))\n",
    "print(dict(sorted(p.items(), key=lambda item: item[1], reverse=True)))"
   ]
  }
 ],
 "metadata": {
  "kernelspec": {
   "display_name": "Python 3 (ipykernel)",
   "language": "python",
   "name": "python3"
  },
  "language_info": {
   "codemirror_mode": {
    "name": "ipython",
    "version": 3
   },
   "file_extension": ".py",
   "mimetype": "text/x-python",
   "name": "python",
   "nbconvert_exporter": "python",
   "pygments_lexer": "ipython3",
   "version": "3.12.4"
  }
 },
 "nbformat": 4,
 "nbformat_minor": 5
}
