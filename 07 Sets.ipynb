{
 "cells": [
  {
   "cell_type": "code",
   "execution_count": null,
   "id": "1510ccac",
   "metadata": {},
   "outputs": [],
   "source": [
    "## SETS"
   ]
  },
  {
   "cell_type": "code",
   "execution_count": null,
   "id": "55e7ab81",
   "metadata": {},
   "outputs": [],
   "source": [
    "## Sets are an unordered collection of unique elements\n",
    "## Set items are unordered, unchangeable, unindexed and do not allow duplicate values\n",
    "## The values True and 1 are considered the same value in sets, and are treated as duplicates\n",
    "## The values False and 0 are considered the same value in sets, and are treated as duplicates"
   ]
  },
  {
   "cell_type": "code",
   "execution_count": 4,
   "id": "e0f06d23",
   "metadata": {},
   "outputs": [
    {
     "name": "stdout",
     "output_type": "stream",
     "text": [
      "{1, 2, 3, 4, 5, 6}\n",
      "32\n",
      "{11, 12, 13, 14}\n",
      "frozenset({1, 2, 3, 4, 5, 6})\n"
     ]
    },
    {
     "ename": "AttributeError",
     "evalue": "'frozenset' object has no attribute 'add'",
     "output_type": "error",
     "traceback": [
      "\u001b[1;31m---------------------------------------------------------------------------\u001b[0m",
      "\u001b[1;31mAttributeError\u001b[0m                            Traceback (most recent call last)",
      "Cell \u001b[1;32mIn[4], line 11\u001b[0m\n\u001b[0;32m      8\u001b[0m fs\u001b[38;5;241m=\u001b[39m\u001b[38;5;28mfrozenset\u001b[39m(my_list)\n\u001b[0;32m      9\u001b[0m \u001b[38;5;28mprint\u001b[39m(fs)\n\u001b[1;32m---> 11\u001b[0m fs\u001b[38;5;241m.\u001b[39madd(\u001b[38;5;241m11\u001b[39m)\n",
      "\u001b[1;31mAttributeError\u001b[0m: 'frozenset' object has no attribute 'add'"
     ]
    }
   ],
   "source": [
    "my_list = [1,2,3,4,3,4,5,6,1,2,True]\n",
    "print (set(my_list))\n",
    "print(sum(my_list))\n",
    "\n",
    "my_set=set((11,12,13,14))                  # double brackets to create a set\n",
    "print(my_set)\n",
    "\n",
    "fs=frozenset(my_list)\n",
    "print(fs)\n",
    "\n",
    "fs.add(11)"
   ]
  },
  {
   "cell_type": "code",
   "execution_count": 2,
   "id": "f57c607a-68e7-4326-b64b-d473a7517b8f",
   "metadata": {},
   "outputs": [
    {
     "name": "stdout",
     "output_type": "stream",
     "text": [
      "\n",
      "Difference of color_list_1 and color_list_2:\n",
      "{'White', 'Black'}\n",
      "\n",
      "Difference of color_list_2 and color_list_1:\n",
      "{'Green'}\n"
     ]
    }
   ],
   "source": [
    "#29. Write a Python program that prints out all colors from color_list_1 that are not present in color_list_2.\n",
    "color_list_1 = set([\"White\", \"Black\", \"Red\"])\n",
    "color_list_2 = set([\"Red\", \"Green\"])\n",
    "\n",
    "print(\"\\nDifference of color_list_1 and color_list_2:\")\n",
    "print(color_list_1.difference(color_list_2))\n",
    "\n",
    "print(\"\\nDifference of color_list_2 and color_list_1:\")\n",
    "print(color_list_2.difference(color_list_1))"
   ]
  },
  {
   "cell_type": "code",
   "execution_count": 63,
   "id": "dc377fda-e6d0-4a49-8da6-182d32cf7b74",
   "metadata": {},
   "outputs": [
    {
     "name": "stdout",
     "output_type": "stream",
     "text": [
      "True\n",
      "add item {'apple', 'blueberry', 'cherry', 'banana'}\n",
      "merge {'apple', 'blueberry', 'papaya', 'cherry', 'pineapple', 'mango', 'banana'}\n",
      "merge_list {'pear', 'kiwi', 'mango', 'banana', 'apple', 'blueberry', 'cherry', 'papaya', 'pineapple'}\n",
      "discard {'pear', 'kiwi', 'mango', 'banana', 'apple', 'blueberry', 'cherry', 'pineapple'}\n"
     ]
    }
   ],
   "source": [
    "## METHODS\n",
    "\n",
    "#  Access a set\n",
    "s = {\"apple\", \"banana\", \"cherry\"}\n",
    "print(\"banana\" in s)\n",
    "\n",
    "#  Add item to set\n",
    "s.add(\"blueberry\")\n",
    "print(\"add item\",s)\n",
    "\n",
    "#  Merge two sets\n",
    "t = {\"pineapple\", \"mango\", \"papaya\"}\n",
    "s.update(t)\n",
    "print(\"merge\",s)\n",
    "p=[\"kiwi\",\"pear\"]\n",
    "s.update(p)\n",
    "print(\"merge_list\",s)\n",
    "\n",
    "#  Delete set item\n",
    "s.discard(\"papaya\")                      # does not raise error if item does not exist\n",
    "#s.remove(\"papaya\")                      # raises error if item does not exist    \n",
    "print(\"discard\",s)"
   ]
  },
  {
   "cell_type": "code",
   "execution_count": 65,
   "id": "cbfb68c1-e3f8-43d8-830c-2e08b7bfd156",
   "metadata": {},
   "outputs": [
    {
     "name": "stdout",
     "output_type": "stream",
     "text": [
      "symmetric_difference {'microsoft', 'google', 'cherry', 'banana'}\n",
      "symmetric_difference {'microsoft', 'google', 'cherry', 'banana'}\n",
      "symmetric_difference {'microsoft', 'cherry', 'google', 'banana'}\n",
      "{'microsoft', 'cherry', 'google', 'banana'}\n"
     ]
    }
   ],
   "source": [
    "## METHODS\n",
    "\n",
    "#  symmetric_difference()\n",
    "set1 = {\"apple\", \"banana\", \"cherry\"}\n",
    "set2 = {\"google\", \"microsoft\", \"apple\"}\n",
    "set3 = set1.symmetric_difference(set2)\n",
    "print(\"symmetric_difference\",set3)\n",
    "set4=set1^set2\n",
    "print(\"symmetric_difference\",set4)\n",
    "\n",
    "#  symmetric_difference_update()\n",
    "set1 = {\"apple\", \"banana\", \"cherry\"}\n",
    "set2 = {\"google\", \"microsoft\", \"apple\"}\n",
    "set1.symmetric_difference_update(set2)\n",
    "print(\"symmetric_difference\",set1)\n",
    "set1^set2\n",
    "print(set1)"
   ]
  },
  {
   "cell_type": "code",
   "execution_count": 67,
   "id": "5710eb07-2b6e-4345-bda6-f8f5a4c0cc0a",
   "metadata": {},
   "outputs": [
    {
     "name": "stdout",
     "output_type": "stream",
     "text": [
      "difference {'cherry', 'banana'}\n",
      "difference {'cherry', 'banana'}\n",
      "difference_update {'cherry', 'banana'}\n"
     ]
    }
   ],
   "source": [
    "## METHODS\n",
    "\n",
    "#  Difference()                             # return a new set that will contain only the items from the first set that are not present in the other set\n",
    "set1 = {\"apple\", \"banana\", \"cherry\"}\n",
    "set2 = {\"google\", \"microsoft\", \"apple\"}\n",
    "set3 = set1.difference(set2)\n",
    "print(\"difference\",set3)\n",
    "set4=set1-set2\n",
    "print(\"difference\",set4)\n",
    "\n",
    "#  difference_update()                              keep the items from the first set that are not in the other set, \n",
    "#                                                 but it will change the original set instead of returning a new set.\n",
    "set1 = {\"apple\", \"banana\", \"cherry\"}\n",
    "set2 = {\"google\", \"microsoft\", \"apple\"}\n",
    "set1.difference_update(set2)\n",
    "print(\"difference_update\",set1)"
   ]
  },
  {
   "cell_type": "code",
   "execution_count": 69,
   "id": "219f34e8-bb7b-4dfb-9caa-0dd38cef3e38",
   "metadata": {},
   "outputs": [
    {
     "name": "stdout",
     "output_type": "stream",
     "text": [
      "intersection {'apple'}\n",
      "intersection {'apple'}\n",
      "intersection_update {'apple'}\n"
     ]
    }
   ],
   "source": [
    "## METHODS\n",
    "\n",
    "#  Intersection()                               # will return a new set, that only contains the items that are present in both sets\n",
    "set1 = {\"apple\", \"banana\", \"cherry\"}\n",
    "set2 = {\"google\", \"microsoft\", \"apple\"}\n",
    "set3 = set1.intersection(set2)\n",
    "set4=set1&set2\n",
    "print(\"intersection\",set3)\n",
    "print(\"intersection\",set4)\n",
    "\n",
    "#  Intersection_update()                       # keep ONLY the duplicates, but it will change the original set instead of returning a new set.\n",
    "set1 = {\"apple\", \"banana\", \"cherry\"}\n",
    "set2 = {\"google\", \"microsoft\", \"apple\"}\n",
    "set1.intersection_update(set2)\n",
    "print(\"intersection_update\",set1)"
   ]
  },
  {
   "cell_type": "code",
   "execution_count": 71,
   "id": "ec24baf6-fb92-487a-9aa9-b7e8ede3d613",
   "metadata": {},
   "outputs": [
    {
     "name": "stdout",
     "output_type": "stream",
     "text": [
      "{'apple', 1, 2, 3, 'cherry', 'b', 'Elena', 'John', 'bananas', 'a', 'c'}\n",
      "Union {'apple', 'John', 'cherry', 'b', 'bananas', 'Elena', 'a', 'c'}\n",
      "Update {1, 2, 3, 'b', 'a', 'c'}\n"
     ]
    }
   ],
   "source": [
    "## METHODS\n",
    "\n",
    "#  Union()\n",
    "set1 = {\"a\", \"b\", \"c\"}\n",
    "set2 = (1, 2, 3)\n",
    "set3 = {\"John\", \"Elena\"}\n",
    "set4 = {\"apple\", \"bananas\", \"cherry\"}\n",
    "\n",
    "myset = set1.union(set2, set3, set4)              \n",
    "print(myset)\n",
    "myset2=set1 | set3 | set4                # cannot be used for non-set union\n",
    "print(\"Union\",myset2)\n",
    "\n",
    "#  Update()\n",
    "set1 = {\"a\", \"b\" , \"c\"}\n",
    "set2 = {1, 2, 3}\n",
    "set1.update(set2)                        # updates original set, not create new set\n",
    "print(\"Update\",set1)"
   ]
  },
  {
   "cell_type": "code",
   "execution_count": null,
   "id": "8630451d-88b0-44de-90a7-61f7d81497b3",
   "metadata": {},
   "outputs": [],
   "source": []
  }
 ],
 "metadata": {
  "kernelspec": {
   "display_name": "Python 3 (ipykernel)",
   "language": "python",
   "name": "python3"
  },
  "language_info": {
   "codemirror_mode": {
    "name": "ipython",
    "version": 3
   },
   "file_extension": ".py",
   "mimetype": "text/x-python",
   "name": "python",
   "nbconvert_exporter": "python",
   "pygments_lexer": "ipython3",
   "version": "3.12.7"
  }
 },
 "nbformat": 4,
 "nbformat_minor": 5
}
