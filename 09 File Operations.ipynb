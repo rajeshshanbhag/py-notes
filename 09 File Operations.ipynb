{
 "cells": [
  {
   "cell_type": "markdown",
   "id": "e2f0dff6-08f6-4925-8648-35cf467348a6",
   "metadata": {},
   "source": [
    "<h3 style=\"color:blue\" align=\"left\">File Operations</h3>"
   ]
  },
  {
   "cell_type": "markdown",
   "id": "68d6ff0d-4a56-4e92-869a-97a480415d6e",
   "metadata": {},
   "source": [
    "#### Read & Close a file"
   ]
  },
  {
   "cell_type": "markdown",
   "id": "537e6a4c-f8d5-4181-85f5-7a43f1a8b2df",
   "metadata": {},
   "source": [
    "##### if file is in same location os python program"
   ]
  },
  {
   "cell_type": "code",
   "execution_count": 48,
   "id": "a9b526d8-de84-4e48-a969-c5a495626412",
   "metadata": {},
   "outputs": [
    {
     "name": "stdout",
     "output_type": "stream",
     "text": [
      "JOB DESCRIPTION | Data Analyst  \n",
      "Job Title:  Data Analyst   Salary Grade (HR):   \n",
      "Job Code:    FLSA Status (HR):  Non-Exempt \n",
      "Department Name:  Information Technology and Data  Approved By (HR):  \n",
      "Reports to (Title): Chief Operations Officer  Date Approved (HR): \n",
      "Date Prepared: October 11, 2016  Prepared By:  Teresa Mooney \n"
     ]
    }
   ],
   "source": [
    "enc='utf-8'\n",
    "with open(\"demo.txt\",\"r\",encoding=enc) as f:                     # close statement is not required\n",
    "    book=f.read()\n",
    "    print(book)"
   ]
  },
  {
   "cell_type": "markdown",
   "id": "46195675-ce11-456d-a44e-e92ba5736d74",
   "metadata": {},
   "source": [
    "##### if file is not in same location os python program"
   ]
  },
  {
   "cell_type": "code",
   "execution_count": null,
   "id": "64682d31-1c6c-449a-988b-d3d3bd5b00c5",
   "metadata": {},
   "outputs": [],
   "source": [
    "enc='utf-8'\n",
    "with open(\"C:\\\\Users\\\\rajes\\\\Downloads\\\\Python\\\\Python Learnings\\\\try.txt\",\"r\",encoding=enc) as f:                     # close statement is not required\n",
    "    book=f.read()\n",
    "    print(book)"
   ]
  },
  {
   "cell_type": "markdown",
   "id": "82b99490-12c9-4e80-a209-74c43a051a30",
   "metadata": {},
   "source": [
    "#### File operations"
   ]
  },
  {
   "cell_type": "code",
   "execution_count": 49,
   "id": "5b15c3a9-e8e4-4a01-b267-79b85289cc77",
   "metadata": {},
   "outputs": [
    {
     "data": {
      "text/plain": [
       "'\\n                 exist\\tdoes not exist\\nread\\t           r\\terror\\ncreate\\t         error\\tx\\nappend\\t            a\\tcreate new file\\noverwrite\\t        w\\tcreate new file\\n\\n'"
      ]
     },
     "execution_count": 49,
     "metadata": {},
     "output_type": "execute_result"
    }
   ],
   "source": [
    "\"\"\"\n",
    "                 exist\tdoes not exist\n",
    "read\t           r\terror\n",
    "create\t         error\tx\n",
    "append\t            a\tcreate new file\n",
    "overwrite\t        w\tcreate new file\n",
    "\n",
    "\"\"\""
   ]
  },
  {
   "cell_type": "markdown",
   "id": "6408f207-651b-4ad6-b40a-12fb95c6f59c",
   "metadata": {},
   "source": [
    "#### Read a file"
   ]
  },
  {
   "cell_type": "code",
   "execution_count": 50,
   "id": "693684fa-09a0-4dd5-95fe-e4e8529a0d61",
   "metadata": {},
   "outputs": [
    {
     "name": "stdout",
     "output_type": "stream",
     "text": [
      "1- JOB DESCRIPTION | Data Analyst  \n",
      "Job Title:  Data Analyst   Salary Grade (HR):   \n",
      "Job Code:    FLSA Status (HR):  Non-Exempt \n",
      "Department Name:  Information Technology and Data  Approved By (HR):  \n",
      "Reports to (Title): Chief Operations Officer  Date Approved (HR): \n",
      "Date Prepared: October 11, 2016  Prepared By:  Teresa Mooney \n",
      "2- JOB\n",
      "3-  DESCRIPTION | Data Analyst  \n",
      "\n",
      "4- Job Title:  Data Analyst   Salary Grade (HR):   \n",
      "\n",
      "5- PTION | Data Analyst  \n",
      "\n",
      "6- ['Job Title:  Data Analyst   Salary Grade (HR):   \\n', 'Job Code:    FLSA Status (HR):  Non-Exempt \\n', 'Department Name:  Information Technology and Data  Approved By (HR):  \\n', 'Reports to (Title): Chief Operations Officer  Date Approved (HR): \\n', 'Date Prepared: October 11, 2016  Prepared By:  Teresa Mooney ']\n"
     ]
    }
   ],
   "source": [
    "f=open(\"demo.txt\",'r')                      # read; Default value. Opens a file for reading, error if the file does not exist\n",
    "print('1-',f.read())\n",
    "\n",
    "f=open(\"demo.txt\",'r')                      # since cursor is at end of tile, we read again to reset cursor to start of file\n",
    "print('2-',f.read(3))                       # how many characters to return\n",
    "print('3-',f.readline())                    # read 1 line at a time from cursor point\n",
    "print('4-',f.readline())                    # read 1 line at a time from cursor point\n",
    "\n",
    "f.seek(10)                                  # move cursor to position 10\n",
    "print('5-',f.readline())                    # read 1 line at a time from cursor point\n",
    "print('6-',f.readlines())                   # read all lines"
   ]
  },
  {
   "cell_type": "markdown",
   "id": "d1084ae9-3d21-4b35-b2ce-b757e01139d9",
   "metadata": {},
   "source": [
    "#### Loop thru file"
   ]
  },
  {
   "cell_type": "code",
   "execution_count": 51,
   "id": "b94ff33f-3a18-477a-9a92-d80e86ca74ee",
   "metadata": {},
   "outputs": [
    {
     "name": "stdout",
     "output_type": "stream",
     "text": [
      "JOB DESCRIPTION | Data Analyst  \n",
      "\n",
      "Job Title:  Data Analyst   Salary Grade (HR):   \n",
      "\n",
      "Job Code:    FLSA Status (HR):  Non-Exempt \n",
      "\n",
      "Department Name:  Information Technology and Data  Approved By (HR):  \n",
      "\n",
      "Reports to (Title): Chief Operations Officer  Date Approved (HR): \n",
      "\n",
      "Date Prepared: October 11, 2016  Prepared By:  Teresa Mooney \n"
     ]
    }
   ],
   "source": [
    "with open(\"demo.txt\",'r') as f:             # read\n",
    "    for line in f:                          # loop thru entire file\n",
    "        print(line)"
   ]
  },
  {
   "cell_type": "markdown",
   "id": "acefabed-e07f-4841-b7df-e0335d48596d",
   "metadata": {},
   "source": [
    "#### Append content to a file"
   ]
  },
  {
   "cell_type": "code",
   "execution_count": 52,
   "id": "e3721e47-be20-4b1f-b070-77be19388a02",
   "metadata": {},
   "outputs": [],
   "source": [
    "with open(\"demo.txt\",'a') as f:                    # append to existing file; creates the file if it does not exist                         \n",
    "    f.write(\"Now the file has more content!\")"
   ]
  },
  {
   "cell_type": "markdown",
   "id": "a38fa296-b842-4b94-b0f1-d8d37c01c584",
   "metadata": {},
   "source": [
    "#### Delete file"
   ]
  },
  {
   "cell_type": "code",
   "execution_count": 56,
   "id": "5868c79e-984b-41ab-945c-eaad7f39f079",
   "metadata": {},
   "outputs": [],
   "source": [
    "import os\n",
    "if os.path.exists(\"demo2.txt\"):\n",
    "    os.remove(\"demo2.txt\")\n",
    "else:\n",
    "    print(\"file does not exist\")"
   ]
  },
  {
   "cell_type": "markdown",
   "id": "04335ea8-af29-48ea-b1ad-e645a9ed35c5",
   "metadata": {},
   "source": [
    "#### Create a new file with content"
   ]
  },
  {
   "cell_type": "code",
   "execution_count": 57,
   "id": "1a68f8a6-e436-4c59-aef2-3b167b2a67ef",
   "metadata": {},
   "outputs": [],
   "source": [
    "with open(\"demo2.txt\",'x') as f:                   # create a new file; returns an error if the file exists\n",
    "    f.write(\"\"\"JOB DESCRIPTION | Data Analyst  \n",
    "Job Title:  Data Analyst   Salary Grade (HR):   \n",
    "Job Code:    FLSA Status (HR):  Non-Exempt \n",
    "Department Name:  Information Technology and Data  Approved By (HR):  \n",
    "Reports to (Title): Chief Operations Officer  Date Approved (HR): \n",
    "Date Prepared: October 11, 2016  Prepared By:  Teresa Mooney \n",
    "        \"\"\")"
   ]
  },
  {
   "cell_type": "markdown",
   "id": "07bf6d89-6ee4-456c-8a23-e6e3894a968d",
   "metadata": {},
   "source": [
    "#### Overwrite content in file"
   ]
  },
  {
   "cell_type": "code",
   "execution_count": 58,
   "id": "8a838725",
   "metadata": {},
   "outputs": [
    {
     "data": {
      "text/plain": [
       "True"
      ]
     },
     "execution_count": 58,
     "metadata": {},
     "output_type": "execute_result"
    }
   ],
   "source": [
    "#f=open(\"demo2.txt\",'w')                            # overwrite existing content; creates the file if it does not exist\n",
    "with open(\"demo2.txt\",'w') as f:\n",
    "    f.write(\"Woops! I have deleted the content!\")\n",
    "\n",
    "f.closed"
   ]
  }
 ],
 "metadata": {
  "kernelspec": {
   "display_name": "Python 3 (ipykernel)",
   "language": "python",
   "name": "python3"
  },
  "language_info": {
   "codemirror_mode": {
    "name": "ipython",
    "version": 3
   },
   "file_extension": ".py",
   "mimetype": "text/x-python",
   "name": "python",
   "nbconvert_exporter": "python",
   "pygments_lexer": "ipython3",
   "version": "3.12.7"
  }
 },
 "nbformat": 4,
 "nbformat_minor": 5
}
