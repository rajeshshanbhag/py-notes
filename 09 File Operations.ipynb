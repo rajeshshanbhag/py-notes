{
 "cells": [
  {
   "cell_type": "code",
   "execution_count": null,
   "id": "36007908",
   "metadata": {},
   "outputs": [],
   "source": [
    "## FILE OPERATIONS"
   ]
  },
  {
   "cell_type": "code",
   "execution_count": 56,
   "id": "a9b526d8-de84-4e48-a969-c5a495626412",
   "metadata": {},
   "outputs": [
    {
     "name": "stdout",
     "output_type": "stream",
     "text": [
      "JOB DESCRIPTION | Data Analyst  \n",
      "Job Title:  Data Analyst   Salary Grade (HR):   \n",
      "Job Code:    FLSA Status (HR):  Non-Exempt \n",
      "Department Name:  Information Technology and Data  Approved By (HR):  \n",
      "Reports to (Title): Chief Operations Officer  Date Approved (HR): \n",
      "Date Prepared: October 11, 2016  Prepared By:  Teresa Mooney \n",
      "Now the file has more content!Now the file has more content!Now the file has more content!\n"
     ]
    }
   ],
   "source": [
    "\"\"\"\n",
    "READ AND CLOSE a file\n",
    "#  make sure your .txt file is saved in the same location as your notebook\n",
    "\"\"\"\n",
    "\n",
    "enc='utf-8'\n",
    "with open(\"demo.txt\",\"r\",encoding=enc) as f:                     # close statement is not required\n",
    "    book=f.read()\n",
    "    print(book)"
   ]
  },
  {
   "cell_type": "code",
   "execution_count": null,
   "id": "c5c3ce2d-f830-4d18-b707-5dd073fd5951",
   "metadata": {},
   "outputs": [],
   "source": [
    "## ON EXISTING FILE  demo.txt\n",
    "\n",
    "\"\"\"\n",
    "\t            exist\tdoes not exist\n",
    "read\t           r\terror\n",
    "create\t         error\tx\n",
    "append\t            a\tcreate new file\n",
    "overwrite\t        w\tcreate new file\n",
    "\n",
    "\"\"\""
   ]
  },
  {
   "cell_type": "code",
   "execution_count": 39,
   "id": "693684fa-09a0-4dd5-95fe-e4e8529a0d61",
   "metadata": {},
   "outputs": [
    {
     "name": "stdout",
     "output_type": "stream",
     "text": [
      "1 JOB DESCRIPTION | Data Analyst  \n",
      "Job Title:  Data Analyst   Salary Grade (HR):   \n",
      "Job Code:    FLSA Status (HR):  Non-Exempt \n",
      "Department Name:  Information Technology and Data  Approved By (HR):  \n",
      "Reports to (Title): Chief Operations Officer  Date Approved (HR): \n",
      "Date Prepared: October 11, 2016  Prepared By:  Teresa Mooney \n",
      "Now the file has more content!Now the file has more content!Now the file has more content!\n",
      "2 JOB\n",
      "3  DESCRIPTION | Data Analyst  \n",
      "\n",
      "4 Job Title:  Data Analyst   Salary Grade (HR):   \n",
      "\n",
      "5 PTION | Data Analyst  \n",
      "\n",
      "6 ['Job Title:  Data Analyst   Salary Grade (HR):   \\n', 'Job Code:    FLSA Status (HR):  Non-Exempt \\n', 'Department Name:  Information Technology and Data  Approved By (HR):  \\n', 'Reports to (Title): Chief Operations Officer  Date Approved (HR): \\n', 'Date Prepared: October 11, 2016  Prepared By:  Teresa Mooney \\n', 'Now the file has more content!Now the file has more content!Now the file has more content!']\n"
     ]
    }
   ],
   "source": [
    "\"\"\"\n",
    "READ a file\n",
    "#  make sure your .txt file is saved in the same location as your notebook\n",
    "\"\"\"\n",
    "\n",
    "f=open(\"demo.txt\",'r')                      # read; Default value. Opens a file for reading, error if the file does not exist\n",
    "print('1',f.read())\n",
    "\n",
    "f=open(\"demo.txt\",'r')                      # since cursor is at end of tile, we read again to reset cursor to start of file\n",
    "print('2',f.read(3))                        # how many characters to return\n",
    "print('3',f.readline())                     # read 1 line at a time from cursor point\n",
    "print('4',f.readline())                     # read 1 line at a time from cursor point\n",
    "\n",
    "f.seek(10)                                  # cannot read same file twice; move cursor to beginning of file using 'seek'\n",
    "print('5',f.readline())                     # read 1 line at a time from cursor point\n",
    "print('6',f.readlines())"
   ]
  },
  {
   "cell_type": "code",
   "execution_count": 22,
   "id": "b94ff33f-3a18-477a-9a92-d80e86ca74ee",
   "metadata": {},
   "outputs": [
    {
     "name": "stdout",
     "output_type": "stream",
     "text": [
      "JOB DESCRIPTION | Data Analyst  \n",
      "\n",
      "Job Title:  Data Analyst   Salary Grade (HR):   \n",
      "\n",
      "Job Code:    FLSA Status (HR):  Non-Exempt \n",
      "\n",
      "Department Name:  Information Technology and Data  Approved By (HR):  \n",
      "\n",
      "Reports to (Title): Chief Operations Officer  Date Approved (HR): \n",
      "\n",
      "Date Prepared: October 11, 2016  Prepared By:  Teresa Mooney \n",
      "\n"
     ]
    }
   ],
   "source": [
    "\"\"\"\n",
    "READ a file\n",
    "#  make sure your .txt file is saved in the same location as your notebook\n",
    "\"\"\"\n",
    "\n",
    "f=open(\"demo.txt\",'r')                      # read\n",
    "for line in f:                              # loop thru entire file\n",
    "    print(line)\n",
    "f.close()"
   ]
  },
  {
   "cell_type": "code",
   "execution_count": 25,
   "id": "e3721e47-be20-4b1f-b070-77be19388a02",
   "metadata": {},
   "outputs": [
    {
     "name": "stdout",
     "output_type": "stream",
     "text": [
      "JOB DESCRIPTION | Data Analyst  \n",
      "Job Title:  Data Analyst   Salary Grade (HR):   \n",
      "Job Code:    FLSA Status (HR):  Non-Exempt \n",
      "Department Name:  Information Technology and Data  Approved By (HR):  \n",
      "Reports to (Title): Chief Operations Officer  Date Approved (HR): \n",
      "Date Prepared: October 11, 2016  Prepared By:  Teresa Mooney \n",
      "Now the file has more content!Now the file has more content!Now the file has more content!\n"
     ]
    }
   ],
   "source": [
    "\"\"\"\n",
    "APPEND to a file\n",
    "\"\"\"\n",
    "\n",
    "f=open(\"demo.txt\",'a')                      # append to existing file; creates the file if it does not exist\n",
    "f.write(\"Now the file has more content!\")\n",
    "f.close()\n",
    "\n",
    "f=open(\"demo.txt\",'r')                      # read\n",
    "print(f.read())\n",
    "f.close()"
   ]
  },
  {
   "cell_type": "code",
   "execution_count": 28,
   "id": "1a68f8a6-e436-4c59-aef2-3b167b2a67ef",
   "metadata": {},
   "outputs": [
    {
     "ename": "FileExistsError",
     "evalue": "[Errno 17] File exists: 'demo2.txt'",
     "output_type": "error",
     "traceback": [
      "\u001b[1;31m---------------------------------------------------------------------------\u001b[0m",
      "\u001b[1;31mFileExistsError\u001b[0m                           Traceback (most recent call last)",
      "Cell \u001b[1;32mIn[28], line 5\u001b[0m\n\u001b[0;32m      1\u001b[0m \u001b[38;5;124;03m\"\"\"\u001b[39;00m\n\u001b[0;32m      2\u001b[0m \u001b[38;5;124;03mCREATE A NEW file\u001b[39;00m\n\u001b[0;32m      3\u001b[0m \u001b[38;5;124;03m\"\"\"\u001b[39;00m\n\u001b[1;32m----> 5\u001b[0m f \u001b[38;5;241m=\u001b[39m \u001b[38;5;28mopen\u001b[39m(\u001b[38;5;124m\"\u001b[39m\u001b[38;5;124mdemo2.txt\u001b[39m\u001b[38;5;124m\"\u001b[39m, \u001b[38;5;124m\"\u001b[39m\u001b[38;5;124mx\u001b[39m\u001b[38;5;124m\"\u001b[39m)                     \u001b[38;5;66;03m#create a new file; returns an error if the file exists\u001b[39;00m\n\u001b[0;32m      6\u001b[0m f\u001b[38;5;241m.\u001b[39mclose()\n\u001b[0;32m      8\u001b[0m \u001b[38;5;28;01mimport\u001b[39;00m \u001b[38;5;21;01mos\u001b[39;00m\n",
      "File \u001b[1;32m~\\anaconda3\\Lib\\site-packages\\IPython\\core\\interactiveshell.py:324\u001b[0m, in \u001b[0;36m_modified_open\u001b[1;34m(file, *args, **kwargs)\u001b[0m\n\u001b[0;32m    317\u001b[0m \u001b[38;5;28;01mif\u001b[39;00m file \u001b[38;5;129;01min\u001b[39;00m {\u001b[38;5;241m0\u001b[39m, \u001b[38;5;241m1\u001b[39m, \u001b[38;5;241m2\u001b[39m}:\n\u001b[0;32m    318\u001b[0m     \u001b[38;5;28;01mraise\u001b[39;00m \u001b[38;5;167;01mValueError\u001b[39;00m(\n\u001b[0;32m    319\u001b[0m         \u001b[38;5;124mf\u001b[39m\u001b[38;5;124m\"\u001b[39m\u001b[38;5;124mIPython won\u001b[39m\u001b[38;5;124m'\u001b[39m\u001b[38;5;124mt let you open fd=\u001b[39m\u001b[38;5;132;01m{\u001b[39;00mfile\u001b[38;5;132;01m}\u001b[39;00m\u001b[38;5;124m by default \u001b[39m\u001b[38;5;124m\"\u001b[39m\n\u001b[0;32m    320\u001b[0m         \u001b[38;5;124m\"\u001b[39m\u001b[38;5;124mas it is likely to crash IPython. If you know what you are doing, \u001b[39m\u001b[38;5;124m\"\u001b[39m\n\u001b[0;32m    321\u001b[0m         \u001b[38;5;124m\"\u001b[39m\u001b[38;5;124myou can use builtins\u001b[39m\u001b[38;5;124m'\u001b[39m\u001b[38;5;124m open.\u001b[39m\u001b[38;5;124m\"\u001b[39m\n\u001b[0;32m    322\u001b[0m     )\n\u001b[1;32m--> 324\u001b[0m \u001b[38;5;28;01mreturn\u001b[39;00m io_open(file, \u001b[38;5;241m*\u001b[39margs, \u001b[38;5;241m*\u001b[39m\u001b[38;5;241m*\u001b[39mkwargs)\n",
      "\u001b[1;31mFileExistsError\u001b[0m: [Errno 17] File exists: 'demo2.txt'"
     ]
    }
   ],
   "source": [
    "\"\"\"\n",
    "CREATE A NEW file\n",
    "\"\"\"\n",
    "\n",
    "f = open(\"demo2.txt\", \"x\")                   # create a new file; returns an error if the file exists\n",
    "f.close()\n",
    "\n",
    "import os\n",
    "#os.remove(\"demo2.txt\")                      # delete the file"
   ]
  },
  {
   "cell_type": "code",
   "execution_count": 30,
   "id": "8a838725",
   "metadata": {},
   "outputs": [
    {
     "name": "stdout",
     "output_type": "stream",
     "text": [
      "Woops! I have deleted the content!\n"
     ]
    }
   ],
   "source": [
    "\"\"\"\n",
    "OVERWRITE CONTENT of a file\n",
    "\"\"\"\n",
    "\n",
    "f=open(\"demo2.txt\",'w')                      # overwrite existing content; creates the file if it does not exist\n",
    "f.write(\"Woops! I have deleted the content!\")\n",
    "f.close()\n",
    "\n",
    "f=open(\"demo2.txt\",'r')                      # read\n",
    "print(f.read())\n",
    "f.close()"
   ]
  },
  {
   "cell_type": "code",
   "execution_count": 55,
   "id": "754d83a5",
   "metadata": {},
   "outputs": [
    {
     "name": "stdout",
     "output_type": "stream",
     "text": [
      "Appending to test3.txt\n"
     ]
    }
   ],
   "source": [
    "%%writefile -a test3.txt\n",
    "5Hello, this is a quick test file.\n",
    "1Hello, this is a quick test file.\n",
    "2Hello, this is a quick test file.\n",
    "3Hello, this is a quick test file.\n",
    "4Hello, this is a quick test file."
   ]
  },
  {
   "cell_type": "code",
   "execution_count": 60,
   "id": "180a9b37-a0c8-4da7-aa60-7b2e59ba791c",
   "metadata": {},
   "outputs": [
    {
     "name": "stdout",
     "output_type": "stream",
     "text": [
      "aa\n",
      "True\n"
     ]
    }
   ],
   "source": [
    "f=open(\"try.txt\",'r')                      # read\n",
    "print(f.read())\n",
    "f.close()\n",
    "print(f.closed)"
   ]
  },
  {
   "cell_type": "code",
   "execution_count": null,
   "id": "79b39ff0-e7c4-4bd5-b19e-b009f0e66c4d",
   "metadata": {},
   "outputs": [],
   "source": []
  }
 ],
 "metadata": {
  "kernelspec": {
   "display_name": "Python 3 (ipykernel)",
   "language": "python",
   "name": "python3"
  },
  "language_info": {
   "codemirror_mode": {
    "name": "ipython",
    "version": 3
   },
   "file_extension": ".py",
   "mimetype": "text/x-python",
   "name": "python",
   "nbconvert_exporter": "python",
   "pygments_lexer": "ipython3",
   "version": "3.12.7"
  }
 },
 "nbformat": 4,
 "nbformat_minor": 5
}
