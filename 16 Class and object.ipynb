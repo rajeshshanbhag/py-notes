{
 "cells": [
  {
   "cell_type": "markdown",
   "id": "752411ac-0ab9-4a35-a378-c77f26936b09",
   "metadata": {},
   "source": [
    "<h3 style=\"color:blue\" align=\"left\">Classes & Objects</h3>"
   ]
  },
  {
   "cell_type": "markdown",
   "id": "57d864cf-a822-4fee-9ae9-7fdf4cb9107d",
   "metadata": {},
   "source": [
    "##### Classes are collection of properties and methods; objects are instances of a class"
   ]
  },
  {
   "cell_type": "markdown",
   "id": "ec872329-65dc-4342-a89a-cf17e96278ee",
   "metadata": {},
   "source": [
    "1. Class > Noun; Properties > Adjective; Methods > Verb\n",
    "2. Class property is common to all objects of the class\n",
    "3. Python looks for instance property, if not find a class property"
   ]
  },
  {
   "cell_type": "markdown",
   "id": "31b7ff0d-25f6-4383-a783-5b06a3529b5f",
   "metadata": {},
   "source": [
    "#### Properties & Methods"
   ]
  },
  {
   "cell_type": "code",
   "execution_count": 2,
   "id": "3950453c-26e9-4dba-b3e1-48e7be28e017",
   "metadata": {},
   "outputs": [
    {
     "name": "stdout",
     "output_type": "stream",
     "text": [
      "tom cruise shoots film\n",
      "tom cruise says how are you?\n",
      "maria sharapova plays tennis\n",
      "maria sharapova says how are you?\n"
     ]
    }
   ],
   "source": [
    "class Human:\n",
    "    def __init__(self, name, occupation):               # properties; init method initialises all properties before they are used\n",
    "        self.name = name                                ## without self parameter, the lifespan of the property is only within this method\n",
    "        self.occupation = occupation\n",
    "\n",
    "    def do_work(self):                                  # methods\n",
    "        if self.occupation == \"tennis player\":\n",
    "            print(self.name, \"plays tennis\")\n",
    "        elif self.occupation == \"actor\":\n",
    "            print(self.name, \"shoots film\")\n",
    "\n",
    "    def speaks(self):\n",
    "        print(self.name, \"says how are you?\")\n",
    "\n",
    "tom = Human(\"tom cruise\",\"actor\")\n",
    "tom.do_work()\n",
    "tom.speaks()\n",
    "\n",
    "maria = Human(\"maria sharapova\",\"tennis player\")\n",
    "maria.do_work()                                         # python IDE reads this as Human.do_work(maria)\n",
    "maria.speaks()"
   ]
  },
  {
   "cell_type": "markdown",
   "id": "c7108909-8832-454a-9f96-15f841998672",
   "metadata": {},
   "source": [
    "#### Static method"
   ]
  },
  {
   "cell_type": "code",
   "execution_count": 4,
   "id": "bbd53b57-54b7-40f6-a409-c45265523468",
   "metadata": {},
   "outputs": [
    {
     "name": "stdout",
     "output_type": "stream",
     "text": [
      "None\n",
      "Welcome\n",
      "None\n"
     ]
    }
   ],
   "source": [
    "class Employee():\n",
    "    def employeeDetails(self):\n",
    "        self.name=\"ben\"\n",
    "\n",
    "    @staticmethod\n",
    "    def welcomeMessage():\n",
    "        print(\"Welcome\")\n",
    "\n",
    "employee=Employee()\n",
    "print(employee.employeeDetails())\n",
    "print(employee.welcomeMessage())"
   ]
  },
  {
   "cell_type": "markdown",
   "id": "1c534bca-5ecc-45af-b7ef-e4750cc95eae",
   "metadata": {},
   "source": [
    "##### 1. Encapsulation - hiding the implementation details from the end user\n",
    "##### 2. Abstraction - process of steps followed to achieve encapsulation"
   ]
  },
  {
   "cell_type": "markdown",
   "id": "f9af0112-fc7b-440b-88b9-cabeed8a9edb",
   "metadata": {},
   "source": [
    "#### 3. Inheritance"
   ]
  },
  {
   "cell_type": "code",
   "execution_count": 9,
   "id": "bcc55229-1f73-4161-a3fd-d87cea2abe98",
   "metadata": {},
   "outputs": [
    {
     "name": "stdout",
     "output_type": "stream",
     "text": [
      "I'm car\n",
      "general use: transporation\n",
      "specific use: commute to work, vacation with family\n",
      "I'm motor cycle\n",
      "general use: transporation\n",
      "specific use: road trip, racing\n",
      "False\n"
     ]
    }
   ],
   "source": [
    "class Vehicle:                                   # parent class\n",
    "    def general_usage(self):\n",
    "        print(\"general use: transporation\")\n",
    "\n",
    "class Car(Vehicle):                              #child class; inherits from parent class\n",
    "    def __init__(self):\n",
    "        print(\"I'm car\")\n",
    "        self.wheels = 4\n",
    "        self.has_roof = True\n",
    "\n",
    "    def specific_usage(self):\n",
    "        self.general_usage()\n",
    "        print(\"specific use: commute to work, vacation with family\")\n",
    "\n",
    "class MotorCycle(Vehicle):\n",
    "    def __init__(self):\n",
    "        print(\"I'm motor cycle\")\n",
    "        self.wheels = 2\n",
    "        self.has_roof = False\n",
    "\n",
    "    def specific_usage(self):\n",
    "        self.general_usage()\n",
    "        print(\"specific use: road trip, racing\")\n",
    "\n",
    "c = Car()\n",
    "c.specific_usage()\n",
    "\n",
    "m = MotorCycle()\n",
    "m.specific_usage()\n",
    "\n",
    "print(issubclass(Car,MotorCycle))"
   ]
  },
  {
   "cell_type": "markdown",
   "id": "cbfc2626-c45c-4578-abaa-f44cb9688b0a",
   "metadata": {},
   "source": [
    "#### 3.1 Child class inheriting from 2 parent classes"
   ]
  },
  {
   "cell_type": "code",
   "execution_count": 3,
   "id": "2ca1edc6-bc13-4204-a5aa-7623c684eb6a",
   "metadata": {},
   "outputs": [
    {
     "name": "stdout",
     "output_type": "stream",
     "text": [
      "gardening,programming\n",
      "cooking,art\n",
      "sports\n"
     ]
    }
   ],
   "source": [
    "class Father():\n",
    "   def skills(self):\n",
    "       print(\"gardening,programming\")\n",
    "\n",
    "class Mother():\n",
    "   def skills(self):\n",
    "       print(\"cooking,art\")\n",
    "\n",
    "class Child(Father,Mother):\n",
    "    def skills(self):\n",
    "        Father.skills(self)\n",
    "        Mother.skills(self)\n",
    "        print(\"sports\")\n",
    "\n",
    "c = Child()\n",
    "c.skills()"
   ]
  },
  {
   "cell_type": "markdown",
   "id": "2d6235f8-0c3c-4569-8c3e-07478ef292dd",
   "metadata": {},
   "source": [
    "#### 3.2 Access Specifiers: Public, Protected, Private"
   ]
  },
  {
   "cell_type": "markdown",
   "id": "6de2f44b-f7ee-4c4f-b65d-ba6b92f57b34",
   "metadata": {},
   "source": [
    "1. Public - accessible to your class, derived class and anywhere outside your derived class; naming convention: memberName\n",
    "2. Protected - accessible to your class, derived class; naming convention: _memberName\n",
    "3. Private - accessible to your class; naming convention: __memberName"
   ]
  },
  {
   "cell_type": "code",
   "execution_count": 11,
   "id": "53159bb0-29e7-45e0-a64d-3cc02a280fb4",
   "metadata": {},
   "outputs": [
    {
     "name": "stdout",
     "output_type": "stream",
     "text": [
      "Public Attribute numberOfWheels: 4\n",
      "Protected Attribute color: Black\n"
     ]
    },
    {
     "ename": "AttributeError",
     "evalue": "'Car' object has no attribute 'yearOfManufacture'",
     "output_type": "error",
     "traceback": [
      "\u001b[1;31m---------------------------------------------------------------------------\u001b[0m",
      "\u001b[1;31mAttributeError\u001b[0m                            Traceback (most recent call last)",
      "Cell \u001b[1;32mIn[11], line 14\u001b[0m\n\u001b[0;32m     11\u001b[0m \u001b[38;5;28mprint\u001b[39m(\u001b[38;5;124mf\u001b[39m\u001b[38;5;124m'\u001b[39m\u001b[38;5;124mPublic Attribute numberOfWheels: \u001b[39m\u001b[38;5;132;01m{\u001b[39;00mcar\u001b[38;5;241m.\u001b[39mnumberOfWheels\u001b[38;5;132;01m}\u001b[39;00m\u001b[38;5;124m'\u001b[39m)\n\u001b[0;32m     13\u001b[0m bmw\u001b[38;5;241m=\u001b[39mBmw()\n\u001b[1;32m---> 14\u001b[0m \u001b[38;5;28mprint\u001b[39m(\u001b[38;5;124mf\u001b[39m\u001b[38;5;124m'\u001b[39m\u001b[38;5;124mPrivate Attribute yearOfManufacture: \u001b[39m\u001b[38;5;132;01m{\u001b[39;00mcar\u001b[38;5;241m.\u001b[39myearOfManufacture\u001b[38;5;132;01m}\u001b[39;00m\u001b[38;5;124m'\u001b[39m)\n",
      "\u001b[1;31mAttributeError\u001b[0m: 'Car' object has no attribute 'yearOfManufacture'"
     ]
    }
   ],
   "source": [
    "class Car:\n",
    "    numberOfWheels=4                                                  # public atttribute\n",
    "    _color=\"Black\"                                                    # protected atttribute    \n",
    "    __yearOfManufacture=2017                                          # private atttribute\n",
    "\n",
    "class Bmw(Car):\n",
    "    def __init__(self):\n",
    "        print(f'Protected Attribute color: {self._color}')\n",
    "\n",
    "car=Car()\n",
    "print(f'Public Attribute numberOfWheels: {car.numberOfWheels}')\n",
    "\n",
    "bmw=Bmw()\n",
    "print(f'Private Attribute yearOfManufacture: {car.yearOfManufacture}')         # private attribute cannot be read outside of its class"
   ]
  },
  {
   "cell_type": "markdown",
   "id": "7341df68-8366-4e44-90d6-4535cfeff642",
   "metadata": {},
   "source": [
    "#### 4. Polymorphism"
   ]
  },
  {
   "cell_type": "markdown",
   "id": "1afdd123-5ea0-4e60-ba33-1b3fb7a3ca92",
   "metadata": {},
   "source": [
    "Polymorphism is when a single operator can perform different operations for different data types. For example, in Python, the + operator can perform addition for integers and concatenation for string"
   ]
  },
  {
   "cell_type": "code",
   "execution_count": 13,
   "id": "01daf8b5-90de-46b6-b9af-dcca2652cda0",
   "metadata": {},
   "outputs": [
    {
     "name": "stdout",
     "output_type": "stream",
     "text": [
      "Area: 6\n",
      "Area: 78.5\n"
     ]
    }
   ],
   "source": [
    "class Shape:\n",
    "    def area(self):\n",
    "        return \"Undefined\"\n",
    "\n",
    "class Rectangle(Shape):\n",
    "    def __init__(self, length, width):\n",
    "        self.length = length\n",
    "        self.width = width\n",
    "\n",
    "    def area(self):\n",
    "        return self.length * self.width\n",
    "\n",
    "class Circle(Shape):\n",
    "    def __init__(self, radius):\n",
    "        self.radius = radius\n",
    "\n",
    "    def area(self):\n",
    "        return 3.14 * self.radius ** 2\n",
    "\n",
    "shapes = [Rectangle(2, 3), Circle(5)]\n",
    "for shape in shapes:\n",
    "    print(f\"Area: {shape.area()}\")"
   ]
  },
  {
   "cell_type": "markdown",
   "id": "c508e954-7053-4253-b22f-bd45ca3c51f0",
   "metadata": {},
   "source": [
    "#### 4.1 Diamond shape problem with multiple inheritance"
   ]
  },
  {
   "cell_type": "code",
   "execution_count": 14,
   "id": "1691047e-8848-44cc-8501-02bf95dcc296",
   "metadata": {},
   "outputs": [
    {
     "name": "stdout",
     "output_type": "stream",
     "text": [
      "This method belongs to class B\n"
     ]
    }
   ],
   "source": [
    "class A:\n",
    "    def method(self):\n",
    "        print(\"This method belongs to class A\")\n",
    "    pass\n",
    "\n",
    "class B(A):\n",
    "    def method(self):\n",
    "        print(\"This method belongs to class B\")\n",
    "    pass\n",
    "\n",
    "class C(A):\n",
    "    def method(self):\n",
    "        print(\"This method belongs to class C\")\n",
    "    pass\n",
    "\n",
    "class D(B,C):\n",
    "    pass\n",
    "\n",
    "d=D()\n",
    "d.method()"
   ]
  },
  {
   "cell_type": "markdown",
   "id": "08535f3b-0e03-4a20-a3e4-c95bfab42efb",
   "metadata": {},
   "source": [
    "#### 4.2 Overloading the operator"
   ]
  },
  {
   "cell_type": "code",
   "execution_count": 15,
   "id": "b1b58788-efad-442d-8534-b79d58f3b33c",
   "metadata": {},
   "outputs": [
    {
     "name": "stdout",
     "output_type": "stream",
     "text": [
      "Sum of two squares: 60\n"
     ]
    }
   ],
   "source": [
    "class Square:\n",
    "    def __init__(self,side):\n",
    "        self.side=side\n",
    "\n",
    "    def __add__(squareOne,squareTwo):                          # overloading the operator\n",
    "        return((4*squareOne.side)+(4*squareTwo.side))\n",
    "\n",
    "squareOne=Square(5)\n",
    "squareTwo=Square(10)\n",
    "\n",
    "print(\"Sum of two squares:\",squareOne+squareTwo)"
   ]
  },
  {
   "cell_type": "markdown",
   "id": "97ae1d63-2944-447c-91ee-ae8bac419c62",
   "metadata": {},
   "source": [
    "#### 4.3 Abstract Base Class (ABC)"
   ]
  },
  {
   "cell_type": "markdown",
   "id": "0993e7f7-6080-4b57-bf8c-591483dcdea7",
   "metadata": {},
   "source": [
    "Base class that forces derived classes to have the method"
   ]
  },
  {
   "cell_type": "code",
   "execution_count": 18,
   "id": "7734636a-57b8-4bbc-a346-1dbaef921c92",
   "metadata": {},
   "outputs": [
    {
     "ename": "TypeError",
     "evalue": "Can't instantiate abstract class Square without an implementation for abstract method 'area'",
     "output_type": "error",
     "traceback": [
      "\u001b[1;31m---------------------------------------------------------------------------\u001b[0m",
      "\u001b[1;31mTypeError\u001b[0m                                 Traceback (most recent call last)",
      "Cell \u001b[1;32mIn[18], line 19\u001b[0m\n\u001b[0;32m     16\u001b[0m     \u001b[38;5;28;01mdef\u001b[39;00m \u001b[38;5;21marea\u001b[39m(\u001b[38;5;28mself\u001b[39m):\n\u001b[0;32m     17\u001b[0m         \u001b[38;5;28mprint\u001b[39m(\u001b[38;5;124m\"\u001b[39m\u001b[38;5;124mArea of a rectangle:\u001b[39m\u001b[38;5;124m\"\u001b[39m,\u001b[38;5;28mself\u001b[39m\u001b[38;5;241m.\u001b[39mwidth\u001b[38;5;241m*\u001b[39m\u001b[38;5;28mself\u001b[39m\u001b[38;5;241m.\u001b[39mlength)\n\u001b[1;32m---> 19\u001b[0m square\u001b[38;5;241m=\u001b[39mSquare()\n\u001b[0;32m     20\u001b[0m rectangle\u001b[38;5;241m=\u001b[39mRectangle()\n\u001b[0;32m     22\u001b[0m square\u001b[38;5;241m.\u001b[39marea()\n",
      "\u001b[1;31mTypeError\u001b[0m: Can't instantiate abstract class Square without an implementation for abstract method 'area'"
     ]
    }
   ],
   "source": [
    "from abc import ABCMeta, abstractmethod\n",
    "\n",
    "class Shape(metaclass=ABCMeta):\n",
    "    @abstractmethod\n",
    "    def area(self):\n",
    "        return 0\n",
    "\n",
    "class Square(Shape):\n",
    "    side=4\n",
    "#    def area(self):\n",
    "#        print(\"Area of a square:\",self.side*self.side)\n",
    "\n",
    "class Rectangle(Shape):\n",
    "    width=5\n",
    "    length=10\n",
    "    def area(self):\n",
    "        print(\"Area of a rectangle:\",self.width*self.length)\n",
    "\n",
    "square=Square()\n",
    "rectangle=Rectangle()\n",
    "\n",
    "square.area()\n",
    "rectangle.area()"
   ]
  },
  {
   "cell_type": "markdown",
   "id": "ff2d5f6d-be13-4f54-9bd1-d0facce2aed3",
   "metadata": {},
   "source": [
    "#### Project"
   ]
  },
  {
   "cell_type": "markdown",
   "id": "b78aec72-52e2-4131-9c67-6d20b1fabbda",
   "metadata": {},
   "source": [
    "**Project 1**\n",
    "\n",
    "Write a program to provide layers of abstraction for a car rental system. Your program should perform the following:\n",
    "1. Hatchback, Sedan, SUV should be type of cars that are being provided for rent\n",
    "2. Cost per day:\n",
    "Hatchback - $30\n",
    "Sedan - $50\n",
    "SUV - $100\n",
    "3. Give a prompt to the customer asking him the type of car and the number of days he would like to borrow and provide the fare details to the user."
   ]
  },
  {
   "cell_type": "code",
   "execution_count": null,
   "id": "80ad6186-29f1-4151-ae75-47d517138a95",
   "metadata": {},
   "outputs": [],
   "source": [
    "class Car:\n",
    "    def __init__(self):\n",
    "        # A dictionary to map the type of car and price per day\n",
    "        self.carFare = {'Hatchback': 30, 'Sedan': 50, 'SUV': 100}\n",
    "\n",
    "    def displayFareDetails(self):\n",
    "        print(\"Cost per day: \")\n",
    "        print(\"Hatchback: $\",self.carFare['Hatchback'])\n",
    "        print(\"Sedan: $\", self.carFare['Sedan'])\n",
    "        print(\"SUV: $\", self.carFare['SUV'])\n",
    "\n",
    "    def calculateFare(self, typeOfCar, numberOfDays):\n",
    "        # Calculate the fare depending upon the type of car and number of days as requested by the user\n",
    "        return self.carFare[typeOfCar] * numberOfDays\n",
    "\n",
    "\n",
    "car = Car()\n",
    "while True:\n",
    "    print(\"Enter 1 to display the fare details\")\n",
    "    print(\"Enter 2 to rent a car\")\n",
    "    print(\"Enter 3 to exit\")\n",
    "    userChoice = (int(input()))\n",
    "    if userChoice == 1:\n",
    "        car.displayFareDetails()\n",
    "    elif userChoice == 2:\n",
    "        print(\"Enter the type of car you would like to borrow\")\n",
    "        typeOfCar = input()\n",
    "        print(\"Enter the number of days you would like to borrow the car\")\n",
    "        numberOfDays = int(input())\n",
    "        fare = car.calculateFare(typeOfCar, numberOfDays)\n",
    "        print(\"Total payable amount: $\",fare)\n",
    "        print(\"Thank you!\")\n",
    "    elif userChoice == 3:\n",
    "        quit()"
   ]
  }
 ],
 "metadata": {
  "kernelspec": {
   "display_name": "Python 3 (ipykernel)",
   "language": "python",
   "name": "python3"
  },
  "language_info": {
   "codemirror_mode": {
    "name": "ipython",
    "version": 3
   },
   "file_extension": ".py",
   "mimetype": "text/x-python",
   "name": "python",
   "nbconvert_exporter": "python",
   "pygments_lexer": "ipython3",
   "version": "3.12.7"
  }
 },
 "nbformat": 4,
 "nbformat_minor": 5
}
