{
 "cells": [
  {
   "cell_type": "markdown",
   "metadata": {},
   "source": [
    "<h2 align=\"left\" style=\"color:blue\">Operators</h2>"
   ]
  },
  {
   "cell_type": "code",
   "execution_count": null,
   "metadata": {},
   "outputs": [],
   "source": [
    "\"\"\"\n",
    "COMPARISON OPERATORS\n",
    "\n",
    "==             If the values of two operands are equal, then the condition becomes true. is case sensitive and type sensitive\n",
    "!=             If values of two operands are not equal, then condition becomes true.\n",
    ">              If the value of left operand is greater than the value of right operand, then condition becomes true.\n",
    "<              If the value of left operand is less than the value of right operand, then condition becomes true.\n",
    ">=             If the value of left operand is greater than or equal to the value of right operand, then condition becomes true.\n",
    "<=             If the value of left operand is less than or equal to the value of right operand, then condition becomes true.\n",
    "\"\"\"\n"
   ]
  },
  {
   "cell_type": "code",
   "execution_count": null,
   "metadata": {},
   "outputs": [],
   "source": [
    "\"\"\"\n",
    "LOGICAL OPERATORS\n",
    "\n",
    "And\n",
    "Or\n",
    "Not\n",
    "\n",
    "\"\"\""
   ]
  }
 ],
 "metadata": {
  "kernelspec": {
   "display_name": "Python 3 (ipykernel)",
   "language": "python",
   "name": "python3"
  },
  "language_info": {
   "codemirror_mode": {
    "name": "ipython",
    "version": 3
   },
   "file_extension": ".py",
   "mimetype": "text/x-python",
   "name": "python",
   "nbconvert_exporter": "python",
   "pygments_lexer": "ipython3",
   "version": "3.12.7"
  }
 },
 "nbformat": 4,
 "nbformat_minor": 4
}
