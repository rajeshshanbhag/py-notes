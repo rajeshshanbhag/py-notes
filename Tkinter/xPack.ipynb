{
 "cells": [
  {
   "cell_type": "code",
   "execution_count": null,
   "id": "49049c32-1991-48e3-83cc-2a1539da393c",
   "metadata": {},
   "outputs": [],
   "source": [
    "##    Pack\n",
    "###   organizes widgets in blocks\n",
    "###   before placing them on the window"
   ]
  },
  {
   "cell_type": "code",
   "execution_count": null,
   "id": "6ffcd95a-f615-4c11-b114-594c80d0bb50",
   "metadata": {},
   "outputs": [],
   "source": [
    "##    Pack parameters\n",
    "###   side = direction of widgets, predefined parameters tk.TOP tk.BOTTOM, tk.LEFT, tk.RIGHT\n",
    "###   expand = if you want widget to stretch when window expands; if side is left/right = expand will determine width; if side is top/ bottom = expand will determine height\n",
    "###   fill = which directions you want the widget to fill in the parent window; choose 'x', 'y' directions, or 'both'\n",
    "###   Internal padding: ipadx,ipady =  how many pixels to use for padding inside the widget, also for horizontal or vertical padding\n",
    "###   External padding: padx,pady = the number of pixels surrounding the widget to create a padding between other widgets, for horizontal or vertical padding\n",
    "###   anchor = n(north),s,e,w,c(centre),nw,ne,se,sw"
   ]
  },
  {
   "cell_type": "code",
   "execution_count": 1,
   "id": "81357eed-cffe-47c3-9b64-cf9fdbe09eb7",
   "metadata": {},
   "outputs": [
    {
     "name": "stdout",
     "output_type": "stream",
     "text": [
      "Volume Decrease -1\n",
      "Volume Increase +1\n"
     ]
    }
   ],
   "source": [
    "from tkinter import *\n",
    "\n",
    "root = Tk()  # create parent window\n",
    "\n",
    "def volumeUp():\n",
    "    '''output message to terminal to tell that the button is working'''\n",
    "    print(\"Volume Increase +1\")\n",
    "\n",
    "def volumeDown():\n",
    "    '''output message to terminal to tell that the button is working'''\n",
    "    print(\"Volume Decrease -1\")\n",
    "\n",
    "# use Button and Label widgets to create a simple TV remote\n",
    "def turnOnTV():\n",
    "    '''callback method used for turn_on button'''\n",
    "    # use a Toplevel widget to display an image in a new window\n",
    "    window = Toplevel(root)\n",
    "    window.title(\"TV\")\n",
    "    image = PhotoImage(file=\"cat.gif\")\n",
    "\n",
    "    original_image = Label(window, image=image)\n",
    "    original_image.image = image\n",
    "    original_image.pack()\n",
    "\n",
    "turn_on = Button(root, text=\"ON\", command=turnOnTV)\n",
    "turn_on.pack()\n",
    "\n",
    "turn_off = Button(root, text=\"OFF\", command=root.quit)\n",
    "turn_off.pack()\n",
    "\n",
    "volume = Label(root, text=\"VOLUME\")\n",
    "volume.pack()\n",
    "\n",
    "vol_up = Button(root, text=\"+\", command=volumeUp)\n",
    "vol_up.pack()\n",
    "\n",
    "vol_down = Button(root, text=\"-\", command=volumeDown)\n",
    "vol_down.pack()\n",
    "\n",
    "root.mainloop()"
   ]
  },
  {
   "cell_type": "code",
   "execution_count": null,
   "id": "c37779a7-99b3-4451-b10d-e8a9813e97d9",
   "metadata": {},
   "outputs": [],
   "source": []
  }
 ],
 "metadata": {
  "kernelspec": {
   "display_name": "Python 3 (ipykernel)",
   "language": "python",
   "name": "python3"
  },
  "language_info": {
   "codemirror_mode": {
    "name": "ipython",
    "version": 3
   },
   "file_extension": ".py",
   "mimetype": "text/x-python",
   "name": "python",
   "nbconvert_exporter": "python",
   "pygments_lexer": "ipython3",
   "version": "3.12.4"
  }
 },
 "nbformat": 4,
 "nbformat_minor": 5
}
