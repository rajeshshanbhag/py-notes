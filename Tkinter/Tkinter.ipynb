{
 "cells": [
  {
   "cell_type": "markdown",
   "id": "bbb629ae-2a18-4829-b2a7-595f7f550927",
   "metadata": {},
   "source": [
    "## 1. Root"
   ]
  },
  {
   "cell_type": "code",
   "execution_count": 44,
   "id": "810609ca-bc8b-4255-b3f5-5589220fccc4",
   "metadata": {},
   "outputs": [
    {
     "data": {
      "text/plain": [
       "''"
      ]
     },
     "execution_count": 44,
     "metadata": {},
     "output_type": "execute_result"
    }
   ],
   "source": [
    "from tkinter import *                                               # standard binding, loads tk library\n",
    "from tkinter import ttk                                             # loads ttk library\n",
    "\n",
    "##  Create main window\n",
    "root = Tk()\n",
    "root.title('Tkinter Pack Layout')\n",
    "root.configure(background=\"sky blue\")\n",
    "root.minsize(200,200)                                               # minimum size user can shink the window\n",
    "root.maxsize(500,500)                                               # maximum size user can expand the window\n",
    "root.geometry('600x400+500+500')                                    # width, height, x, and y coordinates of screen\n",
    "\n",
    "#root.mainloop()"
   ]
  },
  {
   "cell_type": "markdown",
   "id": "7c20aab3-818e-4e0f-9534-947880b1a311",
   "metadata": {},
   "source": [
    "## 2. Widgets\n",
    ">In Tk, all widgets are part of a widget (or window) hierarchy, with a single root at the top of the hierarchy.  \n",
    ">Each separate widget is a Python object. When instantiating a widget, you must pass its parent as a parameter to the widget class."
   ]
  },
  {
   "cell_type": "code",
   "execution_count": 48,
   "id": "96d06ef4-c1b1-4cb1-80ee-55e8a8aeccb8",
   "metadata": {},
   "outputs": [
    {
     "data": {
      "text/plain": [
       "'goodbye'"
      ]
     },
     "execution_count": 48,
     "metadata": {},
     "output_type": "execute_result"
    }
   ],
   "source": [
    "## Widget configuration options\n",
    "button = ttk.Button(root, text=\"Hello\", command=\"buttonpressed\")\n",
    "button.grid()\n",
    "button['text']                                                      # display value of text\n",
    "button['text'] = 'goodbye'                                          # change value of text\n",
    "button['text']\n",
    "\n",
    "#button.configure()"
   ]
  },
  {
   "cell_type": "code",
   "execution_count": 50,
   "id": "cb17ce2e-c65d-45a2-81e0-a410d0a61168",
   "metadata": {},
   "outputs": [
    {
     "name": "stdout",
     "output_type": "stream",
     "text": [
      "Tk w=1 h=1 x=0 y=0\n",
      "  TButton w=1 h=1 x=0 y=0\n"
     ]
    }
   ],
   "source": [
    "def print_hierarchy(w, depth=0):\n",
    "    print('  '*depth + w.winfo_class() + ' w=' + str(w.winfo_width()) + ' h=' + str(w.winfo_height()) + ' x=' + str(w.winfo_x()) + ' y=' + str(w.winfo_y()))\n",
    "    for i in w.winfo_children():\n",
    "        print_hierarchy(i, depth+1)\n",
    "\n",
    "print_hierarchy(root)"
   ]
  },
  {
   "cell_type": "markdown",
   "id": "7dc1287c-91a2-4625-9d0d-58f6e757e41c",
   "metadata": {},
   "source": [
    "##    3. Geometry Management\n",
    ">placing widgets on frame  \n",
    ">program tells the geometry manager what slaves to manage within the master, provides hints (row/ column options) how to be displayed"
   ]
  },
  {
   "cell_type": "markdown",
   "id": "fdb45000-da7f-4225-a729-07f77ac2846f",
   "metadata": {},
   "source": [
    "##    3.1 Pack\n",
    ">organizes widgets in blocks  \n",
    ">before placing them on the window"
   ]
  },
  {
   "cell_type": "code",
   "execution_count": null,
   "id": "8c6138a2-524a-4033-9cb9-0d8fc3355f26",
   "metadata": {},
   "outputs": [],
   "source": [
    "from tkinter import *\n",
    "\n",
    "root = Tk()\n",
    "root.title(\"Login UI using Pack\")\n",
    "root.geometry(\"450x450\")                                            # set starting size of window\n",
    "root.minsize(200, 160)                                              # width x height\n",
    "root.maxsize(1000, 1000)                                              # width x height\n",
    "root.config(bg=\"#6FAFE7\")                                           # set background color of root window\n",
    "\n",
    "login = Label(root, text=\"Login\", bg=\"#2176C1\", fg='white', relief=RAISED)\n",
    "login.pack(ipady=5,padx=10,pady=10,fill='x')\n",
    "login.config(font=(\"Calibri\", 30))                                  # change font and size of label\n",
    "\n",
    "# Create Label in our window\n",
    "image = PhotoImage(file=\"cat.gif\")\n",
    "img = Label(root, image=image)\n",
    "img.pack()\n",
    "\n",
    "def checkInput():\n",
    "    '''check that the username and password match'''\n",
    "    usernm = \"Test123\"\n",
    "    pswrd = \"Pass123\"\n",
    "    entered_usernm = username_entry.get()                           # get username from Entry widget\n",
    "    entered_pswrd = password_entry.get()                            # get password from Entry widget\n",
    "\n",
    "    if (usernm == entered_usernm) and (pswrd == entered_pswrd):\n",
    "        print(\"Hello!\")\n",
    "        root.destroy()  \n",
    "\n",
    "    else:\n",
    "        print(\"Login failed: Invalid username or password.\")\n",
    "\n",
    "def toggled():\n",
    "    '''display a message to the terminal every time the check button\n",
    "    is clicked'''\n",
    "    print(\"The check button works.\")\n",
    "\n",
    "# Username Entry\n",
    "username_frame = Frame(root, bg=\"#6FAFE7\")\n",
    "username_frame.pack()\n",
    "\n",
    "Label(username_frame, text=\"Username\", bg=\"#6FAFE7\").pack(side='left', padx=5)\n",
    "\n",
    "username_entry = Entry(username_frame, bd=3)\n",
    "username_entry.pack(side='right')\n",
    "\n",
    "# Password entry\n",
    "password_frame = Frame(root, bg=\"#6FAFE7\")\n",
    "password_frame.pack()\n",
    "\n",
    "Label(password_frame, text=\"Password\", bg=\"#6FAFE7\").pack(side='left', padx=7)\n",
    "\n",
    "password_entry = Entry(password_frame, bd=3)\n",
    "password_entry.pack(side='right')\n",
    "\n",
    "# Create Go! Button\n",
    "go_button = Button(root, text=\"GO!\", command=checkInput, bg=\"#6FAFE7\", width=15).pack(pady=5)\n",
    "\n",
    "# Remember me and forgot password\n",
    "bottom_frame = Frame(root, bg=\"#6FAFE7\")\n",
    "bottom_frame.pack()\n",
    "\n",
    "var = IntVar()\n",
    "\n",
    "remember_me = Checkbutton(bottom_frame, text=\"Remember me\", bg=\"#6FAFE7\", command=toggled, variable=var)\n",
    "remember_me.pack(side='left', padx=19)\n",
    "\n",
    "# The forgot password Label is just a placeholder, has no function currently\n",
    "forgot_pswrd = Label(bottom_frame, text=\"Forgot password?\", bg=\"#6FAFE7\")\n",
    "forgot_pswrd.pack(side=\"right\", padx=19)\n",
    "\n",
    "root.mainloop()"
   ]
  },
  {
   "cell_type": "markdown",
   "id": "6385096e-f657-4ade-8cd9-f766507ae668",
   "metadata": {},
   "source": [
    "##    3.1.1 Pack parameters\n",
    ">side = direction of widgets, predefined parameters tk.TOP tk.BOTTOM, tk.LEFT, tk.RIGHT  \n",
    ">expand = if you want widget to stretch when window expands; if side is left/right = expand will determine width; if side is top/ bottom = expand will determine height  \n",
    ">fill = which directions you want the widget to fill in the parent window; choose 'x', 'y' directions, or 'both'  \n",
    ">Internal padding: ipadx,ipady =  how many pixels to use for padding inside the widget, also for horizontal or vertical padding  \n",
    ">External padding: padx,pady = the number of pixels surrounding the widget to create a padding between other widgets, for horizontal or vertical padding  \n",
    ">anchor = n(north),s,e,w,c(centre),nw,ne,se,sw"
   ]
  },
  {
   "cell_type": "code",
   "execution_count": null,
   "id": "7774705c-e2d4-459b-aec4-d7cf6ee271e0",
   "metadata": {},
   "outputs": [],
   "source": [
    "from tkinter import *\n",
    "\n",
    "root = Tk()\n",
    "\n",
    "def volumeUp():\n",
    "    '''output message to terminal to tell that the button is working'''\n",
    "    print(\"Volume Increase +1\")\n",
    "\n",
    "def volumeDown():\n",
    "    '''output message to terminal to tell that the button is working'''\n",
    "    print(\"Volume Decrease -1\")\n",
    "\n",
    "# use Button and Label widgets to create a simple TV remote\n",
    "def turnOnTV():\n",
    "    '''callback method used for turn_on button'''\n",
    "    # use a Toplevel widget to display an image in a new window\n",
    "    window = Toplevel(root)\n",
    "    window.title(\"TV\")\n",
    "    image = PhotoImage(file=\"cat.gif\")\n",
    "\n",
    "    original_image = Label(window, image=image)\n",
    "    original_image.image = image\n",
    "    original_image.pack()\n",
    "\n",
    "turn_on = Button(root, text=\"ON\", command=turnOnTV)\n",
    "turn_on.pack()\n",
    "\n",
    "turn_off = Button(root, text=\"OFF\", command=root.quit)\n",
    "turn_off.pack()\n",
    "\n",
    "volume = Label(root, text=\"VOLUME\")\n",
    "volume.pack()\n",
    "\n",
    "vol_up = Button(root, text=\"+\", command=volumeUp)\n",
    "vol_up.pack()\n",
    "\n",
    "vol_down = Button(root, text=\"-\", command=volumeDown)\n",
    "vol_down.pack()\n",
    "\n",
    "root.mainloop()"
   ]
  },
  {
   "cell_type": "markdown",
   "id": "1df69d76-94dc-4d28-9ca7-413f977e4cc6",
   "metadata": {},
   "source": [
    "##  3.2 Grid\n",
    ">widgets are assigned a column number and a row number  \n",
    ">Column and row numbers must be positive integers  \n",
    ">You can leave gaps in column and row numbers  \n",
    ">The width (or height) of each column will vary depending on the width (or height) of the widgets contained within the column. "
   ]
  },
  {
   "cell_type": "markdown",
   "id": "1eabb609-30ad-4d87-836e-ce57e1233520",
   "metadata": {},
   "source": [
    "## 3.2.1 Grid Parameters\n",
    ">row, column -- the row and column values for the location of the widget. Both start from 0.  \n",
    ">columnspan, rowspan -- specifies how many columns or rows a widget will be in. This is very useful to help get the spacing right for your widgets.  \n",
    ">padx, pady -- the number of pixels surrounding the widget to create padding between other widgets, for horizontal or vertical padding  \n",
    ">ipadx, ipady -- how many pixels to use for padding inside the widget, also for horizontal or vertical padding  \n",
    ">sticky -- specifies a value of S, N, E, W, or a combination of them, e.g. NW, NE, SW, or SE.  \n",
    ">>The parameter tells which side of the \"cell\" the widget will \"stick\" to . If you use W+E+N+S, then the widget will fill up the \"cell\". Default is to center the widget within the \"cell\"."
   ]
  },
  {
   "cell_type": "code",
   "execution_count": 11,
   "id": "23544f28-2a67-4be3-b52d-036db152f59f",
   "metadata": {},
   "outputs": [],
   "source": [
    "from tkinter import *\n",
    "from tkinter import ttk\n",
    "\n",
    "root = Tk()\n",
    "\n",
    "content = ttk.Frame(root)\n",
    "frame = ttk.Frame(content, borderwidth=5, relief=\"ridge\", width=200, height=100)\n",
    "namelbl = ttk.Label(content, text=\"Name\")\n",
    "name = ttk.Entry(content)\n",
    "\n",
    "onevar = BooleanVar(value=True)\n",
    "twovar = BooleanVar(value=False)\n",
    "threevar = BooleanVar(value=True)\n",
    "\n",
    "one = ttk.Checkbutton(content, text=\"One\", variable=onevar, onvalue=True)\n",
    "two = ttk.Checkbutton(content, text=\"Two\", variable=twovar, onvalue=True)\n",
    "three = ttk.Checkbutton(content, text=\"Three\", variable=threevar, onvalue=True)\n",
    "ok = ttk.Button(content, text=\"Okay\")\n",
    "cancel = ttk.Button(content, text=\"Cancel\")\n",
    "\n",
    "content.grid(column=0, row=0)\n",
    "frame.grid(column=0, row=0, columnspan=3, rowspan=2)\n",
    "namelbl.grid(column=3, row=0, columnspan=2)\n",
    "name.grid(column=3, row=1, columnspan=2)\n",
    "one.grid(column=0, row=3)\n",
    "two.grid(column=1, row=3)\n",
    "three.grid(column=2, row=3)\n",
    "ok.grid(column=3, row=3)\n",
    "cancel.grid(column=4, row=3)\n",
    "\n",
    "root.mainloop()"
   ]
  },
  {
   "cell_type": "code",
   "execution_count": null,
   "id": "2f839c39-0b07-4ea2-b348-f942e08e5495",
   "metadata": {},
   "outputs": [],
   "source": []
  },
  {
   "cell_type": "code",
   "execution_count": null,
   "id": "a7384c2e-c4f8-44d1-a3e7-41d5735f86fb",
   "metadata": {},
   "outputs": [],
   "source": []
  },
  {
   "cell_type": "markdown",
   "id": "4eed796d-3080-4c45-bc28-50bc67543c8f",
   "metadata": {},
   "source": [
    "##  4. Event Handling"
   ]
  },
  {
   "cell_type": "code",
   "execution_count": null,
   "id": "ee14608d-9ded-459e-8bc1-341c54867694",
   "metadata": {},
   "outputs": [],
   "source": []
  },
  {
   "cell_type": "code",
   "execution_count": null,
   "id": "924c9446-3889-4194-bef9-281e3b817639",
   "metadata": {},
   "outputs": [],
   "source": []
  }
 ],
 "metadata": {
  "kernelspec": {
   "display_name": "Python 3 (ipykernel)",
   "language": "python",
   "name": "python3"
  },
  "language_info": {
   "codemirror_mode": {
    "name": "ipython",
    "version": 3
   },
   "file_extension": ".py",
   "mimetype": "text/x-python",
   "name": "python",
   "nbconvert_exporter": "python",
   "pygments_lexer": "ipython3",
   "version": "3.12.4"
  }
 },
 "nbformat": 4,
 "nbformat_minor": 5
}
