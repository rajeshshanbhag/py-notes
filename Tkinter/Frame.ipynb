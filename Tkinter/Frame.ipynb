{
 "cells": [
  {
   "cell_type": "code",
   "execution_count": null,
   "id": "4516443f-873c-44c6-aa16-4d6018d3eb36",
   "metadata": {},
   "outputs": [],
   "source": [
    "##    frame is a widget that displays as a simple rectangle.\n",
    "##    use a frame to organize other widgets both visually and at the coding level."
   ]
  },
  {
   "cell_type": "code",
   "execution_count": null,
   "id": "43f73942-7385-4840-b8a2-8c8cdd63a028",
   "metadata": {},
   "outputs": [],
   "source": [
    "###   frame = ttk.Frame(master, **options)"
   ]
  },
  {
   "cell_type": "code",
   "execution_count": null,
   "id": "6ed61249-77f9-466f-9878-0afccf21c775",
   "metadata": {},
   "outputs": [],
   "source": [
    "##    Frame size\n",
    "###   frame = ttk.Frame(master,height,width)"
   ]
  },
  {
   "cell_type": "code",
   "execution_count": null,
   "id": "2adb47c1-4796-47ef-a05c-115aeafdd625",
   "metadata": {},
   "outputs": [],
   "source": [
    "##    Frame padding\n",
    "##    allows you to add extra space inside the frame and outside of the contained widgets. Paddings are in pixels.\n",
    "###   frame['padding'] = (left, top, right, bottom)\n",
    "###   frame['padding'] = (left/ right, top/ bottom)\n",
    "###   frame['padding'] = (all sides)"
   ]
  },
  {
   "cell_type": "code",
   "execution_count": null,
   "id": "27eb7296-5f1d-4ae3-99a2-82c503253660",
   "metadata": {},
   "outputs": [],
   "source": [
    "##    frame borders\n",
    "##    define border width and style\n",
    "###   frame['borderwidth'] = 5\n",
    "###   frame['relief'] = 'sunken'\n",
    "\n",
    "\"\"\"\n",
    "##    Relief\n",
    "FLAT creates a frame that appears to be flat.\n",
    "SUNKEN adds a border that gives the frame the appearance of being sunken into the window.\n",
    "RAISED gives the frame a border that makes it appear to stick out from the screen.\n",
    "GROOVE adds a border that appears as a sunken groove around an otherwise flat frame.\n",
    "RIDGE gives the appearance of a raised lip around the edge of the frame.\n",
    "\"\"\""
   ]
  }
 ],
 "metadata": {
  "kernelspec": {
   "display_name": "Python 3 (ipykernel)",
   "language": "python",
   "name": "python3"
  },
  "language_info": {
   "codemirror_mode": {
    "name": "ipython",
    "version": 3
   },
   "file_extension": ".py",
   "mimetype": "text/x-python",
   "name": "python",
   "nbconvert_exporter": "python",
   "pygments_lexer": "ipython3",
   "version": "3.12.4"
  }
 },
 "nbformat": 4,
 "nbformat_minor": 5
}
