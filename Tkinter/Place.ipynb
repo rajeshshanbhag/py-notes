{
 "cells": [
  {
   "cell_type": "code",
   "execution_count": null,
   "id": "a6123580-0a96-4c06-a423-0c405f66065b",
   "metadata": {},
   "outputs": [],
   "source": [
    "A few of the parameters you can play around with are listed below:\n",
    "\n",
    "in_: specifies the master window for the widget\n",
    "x, y: specifies the specific x and y values of the widget in the parent window\n",
    "relx, rely: horizontal and vertical offset relative to the size of the parent widget, values between 0.0 and 1.0\n",
    "relwidth, relheight: set the height and width of widgets relative to the size of the parent widget, values between 0.0 and 1.0\n",
    "anchor: difines where the widget is placed in the parent widget, specified by 'n', 's', 'e', 'w', or some combination of them. The default is 'center'"
   ]
  }
 ],
 "metadata": {
  "kernelspec": {
   "display_name": "Python 3 (ipykernel)",
   "language": "python",
   "name": "python3"
  },
  "language_info": {
   "codemirror_mode": {
    "name": "ipython",
    "version": 3
   },
   "file_extension": ".py",
   "mimetype": "text/x-python",
   "name": "python",
   "nbconvert_exporter": "python",
   "pygments_lexer": "ipython3",
   "version": "3.12.4"
  }
 },
 "nbformat": 4,
 "nbformat_minor": 5
}
