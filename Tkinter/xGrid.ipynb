{
 "cells": [
  {
   "cell_type": "code",
   "execution_count": null,
   "id": "617a05cb-dbdb-4548-b780-32738a7b63b6",
   "metadata": {},
   "outputs": [],
   "source": [
    "## Parameters\n",
    "row, column -- the row and column values for the location of the widget. Both start from 0.\n",
    "columnspan, rowspan -- specifies how many columns or rows a widget will be in. This is very useful to help get the spacing right for your widgets.\n",
    "padx, pady -- the number of pixels surrounding the widget to create padding between other widgets, for horizontal or vertical padding\n",
    "ipadx, ipady -- how many pixels to use for padding inside the widget, also for horizontal or vertical padding\n",
    "sticky -- specifies a value of S, N, E, W, or a combination of them, e.g. NW, NE, SW, or SE. The parameter tells which side of the \"cell\" the widget will \"stick\" to . If you use W+E+N+S, then the widget will fill up the \"cell\". Default is to center the widget within the \"cell\"."
   ]
  }
 ],
 "metadata": {
  "kernelspec": {
   "display_name": "Python 3 (ipykernel)",
   "language": "python",
   "name": "python3"
  },
  "language_info": {
   "codemirror_mode": {
    "name": "ipython",
    "version": 3
   },
   "file_extension": ".py",
   "mimetype": "text/x-python",
   "name": "python",
   "nbconvert_exporter": "python",
   "pygments_lexer": "ipython3",
   "version": "3.12.4"
  }
 },
 "nbformat": 4,
 "nbformat_minor": 5
}
