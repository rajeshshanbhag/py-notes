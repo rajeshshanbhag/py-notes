{
 "cells": [
  {
   "cell_type": "code",
   "execution_count": null,
   "id": "fea022a7-c23b-4957-9360-be36ac5aeed5",
   "metadata": {},
   "outputs": [],
   "source": [
    "Button(root,text,command)\n",
    "\n",
    "activebackground & activeforeground -- sets the background or foreground colors when the cursor is over the button\n",
    "bd -- sets the border width of button in pixels\n",
    "bg & fg -- sets the background and foreground colors\n",
    "font -- chooses the text font for the button\n",
    "height & width -- sets height and width sizes\n",
    "image -- uses an image on the button rather than text"
   ]
  }
 ],
 "metadata": {
  "kernelspec": {
   "display_name": "Python 3 (ipykernel)",
   "language": "python",
   "name": "python3"
  },
  "language_info": {
   "codemirror_mode": {
    "name": "ipython",
    "version": 3
   },
   "file_extension": ".py",
   "mimetype": "text/x-python",
   "name": "python",
   "nbconvert_exporter": "python",
   "pygments_lexer": "ipython3",
   "version": "3.12.4"
  }
 },
 "nbformat": 4,
 "nbformat_minor": 5
}
