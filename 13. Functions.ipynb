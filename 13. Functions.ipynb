{
 "cells": [
  {
   "cell_type": "markdown",
   "id": "e23ba835-2c98-4c13-ab5c-6c4bfcade355",
   "metadata": {},
   "source": [
    "<h3 style=\"color:blue\" align=\"left\">Functions</h3>"
   ]
  },
  {
   "cell_type": "code",
   "execution_count": 8,
   "id": "27893b54-35d3-42df-9cd3-7868f8293bcb",
   "metadata": {},
   "outputs": [
    {
     "name": "stdout",
     "output_type": "stream",
     "text": [
      "2198.0\n",
      "549.5\n",
      "769.3000000000001\n"
     ]
    }
   ],
   "source": [
    "def cylinder_volume(radius,height):                        \n",
    "    volume=3.14*(radius**2)*height\n",
    "    return volume\n",
    "\n",
    "print(cylinder_volume(10,7))\n",
    "print(cylinder_volume(5,7))                                # positional arguments\n",
    "print(cylinder_volume(height=5,radius=7))                  # keyword arguments"
   ]
  },
  {
   "cell_type": "code",
   "execution_count": 9,
   "id": "137f48ca-38e4-4aae-b0bc-89ac33a2b4e1",
   "metadata": {},
   "outputs": [
    {
     "name": "stdout",
     "output_type": "stream",
     "text": [
      "2198.0\n"
     ]
    }
   ],
   "source": [
    "def cylinder_volume(radius,height=7):                      # default argument\n",
    "    volume=3.14*(radius**2)*height\n",
    "    return volume\n",
    "\n",
    "print(cylinder_volume(10))"
   ]
  },
  {
   "cell_type": "code",
   "execution_count": 11,
   "id": "1d88adb1-5876-4d62-8520-8d3d5fdc2f9d",
   "metadata": {},
   "outputs": [
    {
     "name": "stdout",
     "output_type": "stream",
     "text": [
      "10\n",
      "28\n"
     ]
    }
   ],
   "source": [
    "def sum_all(*args):                                          # variable number of arguments\n",
    "    total =0\n",
    "    for n in args:\n",
    "        total+=n\n",
    "    return total\n",
    "\n",
    "print(sum_all(1,2,3,4))\n",
    "print(sum_all(1,2,3,4,5,6,7))"
   ]
  },
  {
   "cell_type": "code",
   "execution_count": null,
   "id": "e28c05ea-d4d2-4537-9ae1-8bf5fc6e6c2a",
   "metadata": {},
   "outputs": [],
   "source": []
  }
 ],
 "metadata": {
  "kernelspec": {
   "display_name": "Python 3 (ipykernel)",
   "language": "python",
   "name": "python3"
  },
  "language_info": {
   "codemirror_mode": {
    "name": "ipython",
    "version": 3
   },
   "file_extension": ".py",
   "mimetype": "text/x-python",
   "name": "python",
   "nbconvert_exporter": "python",
   "pygments_lexer": "ipython3",
   "version": "3.12.7"
  }
 },
 "nbformat": 4,
 "nbformat_minor": 5
}
