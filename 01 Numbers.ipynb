{
 "cells": [
  {
   "cell_type": "markdown",
   "id": "daba0eb5-3cb2-4d71-b7ab-4421ef2f0b85",
   "metadata": {},
   "source": [
    "<h3 style=\"color:blue\" align=\"left\">Numbers</h3>"
   ]
  },
  {
   "cell_type": "code",
   "execution_count": 3,
   "id": "6bee93c6",
   "metadata": {},
   "outputs": [
    {
     "name": "stdout",
     "output_type": "stream",
     "text": [
      "8\n",
      "3\n",
      "10\n",
      "2.5\n",
      "3\n",
      "1\n",
      "3125\n",
      "2.23606797749979\n",
      "14\n",
      "49\n",
      "0.2999999999999998\n",
      "12000.0\n",
      "0.00012\n"
     ]
    }
   ],
   "source": [
    "## Operation\n",
    "\n",
    "print (5+3)              # addition\n",
    "print (5-2)              # substraction\n",
    "print (5*2)              # multiplication\n",
    "print (5/2)              # Division\n",
    "print (10//3)            # floor division truncates decimals\n",
    "print (5%2)              # modulo = remiander\n",
    "print (5**5)             # power\n",
    "print (5**0.5)           # root\n",
    "print (5+2*2+5)\n",
    "print ((5+2)*(2+5))\n",
    "print(6-5.7)             # floating num\n",
    "print(1.2e4)             # scientific notation (e4=10000)\n",
    "print(1.2e-4)            # scientific notation (e-4=1/10000)"
   ]
  },
  {
   "cell_type": "code",
   "execution_count": 4,
   "id": "4a57de35-8c67-40a6-9435-8feb7865b3e3",
   "metadata": {},
   "outputs": [
    {
     "name": "stdout",
     "output_type": "stream",
     "text": [
      "212.38\n"
     ]
    }
   ],
   "source": [
    "a=212.3764\n",
    "print(f\"{a:.2f}\")"
   ]
  },
  {
   "cell_type": "code",
   "execution_count": 5,
   "id": "d8364d94-98df-4b86-87b1-7cd786074852",
   "metadata": {},
   "outputs": [
    {
     "data": {
      "text/plain": [
       "'111'"
      ]
     },
     "execution_count": 5,
     "metadata": {},
     "output_type": "execute_result"
    }
   ],
   "source": [
    "format(7,'b')"
   ]
  }
 ],
 "metadata": {
  "kernelspec": {
   "display_name": "Python 3 (ipykernel)",
   "language": "python",
   "name": "python3"
  },
  "language_info": {
   "codemirror_mode": {
    "name": "ipython",
    "version": 3
   },
   "file_extension": ".py",
   "mimetype": "text/x-python",
   "name": "python",
   "nbconvert_exporter": "python",
   "pygments_lexer": "ipython3",
   "version": "3.12.7"
  }
 },
 "nbformat": 4,
 "nbformat_minor": 5
}
