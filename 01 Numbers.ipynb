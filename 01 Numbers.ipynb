{
 "cells": [
  {
   "cell_type": "code",
   "execution_count": null,
   "id": "6e0ba390",
   "metadata": {},
   "outputs": [],
   "source": [
    "## NUMBERS"
   ]
  },
  {
   "cell_type": "code",
   "execution_count": 3,
   "id": "6bee93c6",
   "metadata": {},
   "outputs": [
    {
     "name": "stdout",
     "output_type": "stream",
     "text": [
      "8\n",
      "3\n",
      "10\n",
      "2.5\n",
      "3\n",
      "1\n",
      "3125\n",
      "2.23606797749979\n",
      "14\n",
      "49\n",
      "0.2999999999999998\n"
     ]
    }
   ],
   "source": [
    "## Operation\n",
    "\n",
    "print (5+3)\n",
    "print (5-2)\n",
    "print (5*2)\n",
    "print (5/2)\n",
    "print (10//3)            # floor division truncates decimals\n",
    "print (5%2)             # modulo = remiander\n",
    "print (5**5)             # power\n",
    "print (5**0.5)          # root\n",
    "print (5+2*2+5)\n",
    "print ((5+2)*(2+5))\n",
    "print(6-5.7)                # floating num"
   ]
  },
  {
   "cell_type": "code",
   "execution_count": 4,
   "id": "4a57de35-8c67-40a6-9435-8feb7865b3e3",
   "metadata": {},
   "outputs": [
    {
     "name": "stdout",
     "output_type": "stream",
     "text": [
      "212.38\n"
     ]
    }
   ],
   "source": [
    "a=212.3764\n",
    "print(f\"{a:.2f}\")"
   ]
  },
  {
   "cell_type": "code",
   "execution_count": null,
   "id": "e983f29c-7cf3-4bab-97ef-cc92e4961633",
   "metadata": {},
   "outputs": [],
   "source": []
  }
 ],
 "metadata": {
  "kernelspec": {
   "display_name": "Python 3 (ipykernel)",
   "language": "python",
   "name": "python3"
  },
  "language_info": {
   "codemirror_mode": {
    "name": "ipython",
    "version": 3
   },
   "file_extension": ".py",
   "mimetype": "text/x-python",
   "name": "python",
   "nbconvert_exporter": "python",
   "pygments_lexer": "ipython3",
   "version": "3.12.7"
  }
 },
 "nbformat": 4,
 "nbformat_minor": 5
}
