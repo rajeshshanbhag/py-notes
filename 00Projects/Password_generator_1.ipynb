{
 "cells": [
  {
   "cell_type": "code",
   "execution_count": 1,
   "id": "136344a9-718a-4084-abf6-7f5a3712d870",
   "metadata": {},
   "outputs": [
    {
     "name": "stdin",
     "output_type": "stream",
     "text": [
      "Length of password between 4 and 8:  7\n"
     ]
    },
    {
     "name": "stdout",
     "output_type": "stream",
     "text": [
      "|b~=yQG\n"
     ]
    }
   ],
   "source": [
    "import random\n",
    "import string\n",
    "\n",
    "all_char = string.ascii_letters + string.digits + string.punctuation\n",
    "\n",
    "a=int(input(\"Length of password between 4 and 8: \"))\n",
    "\n",
    "if a>8 or a<4:\n",
    "    print(\"Error: Enter password length between 4 and 8\")    \n",
    "else:\n",
    "    print(''.join(random.sample(all_char,k=a)))"
   ]
  },
  {
   "cell_type": "code",
   "execution_count": null,
   "id": "1e7d723b-7100-4995-b7da-a12f9d7d325d",
   "metadata": {},
   "outputs": [],
   "source": []
  }
 ],
 "metadata": {
  "kernelspec": {
   "display_name": "Python 3 (ipykernel)",
   "language": "python",
   "name": "python3"
  },
  "language_info": {
   "codemirror_mode": {
    "name": "ipython",
    "version": 3
   },
   "file_extension": ".py",
   "mimetype": "text/x-python",
   "name": "python",
   "nbconvert_exporter": "python",
   "pygments_lexer": "ipython3",
   "version": "3.12.7"
  }
 },
 "nbformat": 4,
 "nbformat_minor": 5
}
