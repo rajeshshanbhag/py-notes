{
 "cells": [
  {
   "cell_type": "markdown",
   "id": "5f7ea2eb-fce7-423f-8233-96122c25441c",
   "metadata": {},
   "source": [
    "# Random Module"
   ]
  },
  {
   "cell_type": "markdown",
   "id": "6f6a73a2-97e5-4ac0-b113-8964e01934ce",
   "metadata": {},
   "source": [
    "### Random module generates random data (strings or numbers). These are psudo-random data.\n",
    "### The pseudo-random generators of this module should not be used for security purposes."
   ]
  },
  {
   "cell_type": "code",
   "execution_count": 147,
   "id": "5c8e2316-b1af-489c-a52d-132505b0b7a4",
   "metadata": {},
   "outputs": [],
   "source": [
    "import random"
   ]
  },
  {
   "cell_type": "markdown",
   "id": "a08aef3a-10f5-48bf-9e58-31508211cb2e",
   "metadata": {},
   "source": [
    "## random.seed(a,version)\n",
    "+    used to initialise random number\n",
    "+    used to save the state of a random function, so that it can generate same random numbers on multiple executions of the code on the same machine\n",
    "+    a = if no value defined, generator uses current system time\n",
    "+    version = integer used to specify how to convert l in a integer."
   ]
  },
  {
   "cell_type": "code",
   "execution_count": 150,
   "id": "c85f9b94-e599-494f-aba0-198486c119a3",
   "metadata": {},
   "outputs": [],
   "source": [
    "random.seed()"
   ]
  },
  {
   "cell_type": "markdown",
   "id": "4afd3dbd-8b9b-4c03-9d7f-428b1342f8e5",
   "metadata": {},
   "source": [
    "## random.random()\n",
    "+    generate random floating numbers"
   ]
  },
  {
   "cell_type": "code",
   "execution_count": 153,
   "id": "edc192a7-ac4a-4dab-abaf-4eca62ce5bc9",
   "metadata": {},
   "outputs": [
    {
     "data": {
      "text/plain": [
       "0.8164796664150659"
      ]
     },
     "execution_count": 153,
     "metadata": {},
     "output_type": "execute_result"
    }
   ],
   "source": [
    "random.random()"
   ]
  },
  {
   "cell_type": "markdown",
   "id": "68b28b38-8e67-40a4-a870-ff78fdc418ab",
   "metadata": {},
   "source": [
    "## random.randint(n,m)\n",
    "+    generate random integer between n and m"
   ]
  },
  {
   "cell_type": "code",
   "execution_count": 156,
   "id": "d3951646-7bbd-409b-a092-3e380210e701",
   "metadata": {},
   "outputs": [
    {
     "data": {
      "text/plain": [
       "539"
      ]
     },
     "execution_count": 156,
     "metadata": {},
     "output_type": "execute_result"
    }
   ],
   "source": [
    "random.randint(501,555)"
   ]
  },
  {
   "cell_type": "markdown",
   "id": "096022c4-f3c2-475e-9a81-b173c9c2b24c",
   "metadata": {},
   "source": [
    "## random.randrange(n,m,step)\n",
    "+    generate random integer between n and m-1"
   ]
  },
  {
   "cell_type": "code",
   "execution_count": 221,
   "id": "4725788e-e627-4cae-ba91-d639c097e252",
   "metadata": {},
   "outputs": [
    {
     "data": {
      "text/plain": [
       "550"
      ]
     },
     "execution_count": 221,
     "metadata": {},
     "output_type": "execute_result"
    }
   ],
   "source": [
    "random.randrange(500,555,5)"
   ]
  },
  {
   "cell_type": "markdown",
   "id": "51936a78-49b5-4b24-bf20-0a15bd86d833",
   "metadata": {},
   "source": [
    "## random.choice()\n",
    "+    prints a random element from the list"
   ]
  },
  {
   "cell_type": "code",
   "execution_count": 195,
   "id": "dcf822e8-2190-4ad4-9f83-234b11d0437c",
   "metadata": {},
   "outputs": [
    {
     "name": "stdout",
     "output_type": "stream",
     "text": [
      "choice,list: 4\n",
      "choice,string: o\n",
      "choice,tuple: 3\n"
     ]
    }
   ],
   "source": [
    "list=[1,2,3,4,5]\n",
    "string=\"Python\"\n",
    "tuple=(1,2,3,4,5)\n",
    "print(\"choice,list:\",random.choice(list))\n",
    "print(\"choice,string:\",random.choice(string))\n",
    "print(\"choice,tuple:\",random.choice(tuple))"
   ]
  },
  {
   "cell_type": "markdown",
   "id": "4302151c-ec71-4b2a-a82c-bda4ba90c7a9",
   "metadata": {},
   "source": [
    "## random.choices(sequence,weights=None,cum_weights=None,k=1)\n",
    "+    prints a random elements from the list with replacement (duplicates)\n",
    "+    weights=A list were you can weigh the possibility for each value\n",
    "+    cum_weights = A list were you can cumulative weigh the possibility for each value\n",
    "+    k = length\n",
    "## random.sample(sequence,k=length)\n",
    "+    prints a random elements from the list without replacement (duplicates)"
   ]
  },
  {
   "cell_type": "code",
   "execution_count": 250,
   "id": "5636473a-0053-496f-8c4f-29915f739990",
   "metadata": {},
   "outputs": [
    {
     "name": "stdout",
     "output_type": "stream",
     "text": [
      "choices,list: [4, 3, 4]\n",
      "sample,list: [1, 5, 2]\n",
      "choices,string: ['y', 'h', 'P']\n",
      "sample,string: ['n', 't', 'y']\n",
      "choices,tuple: [1, 3, 5]\n",
      "sample,tuple: [5, 4, 3]\n",
      "choices_weight,list: [5, 3, 1]\n",
      "choices_cum_weight,list: [5, 5, 5]\n"
     ]
    }
   ],
   "source": [
    "print(\"choices,list:\",random.choices(list,k=3))\n",
    "print(\"sample,list:\",random.sample(list,3))\n",
    "\n",
    "print(\"choices,string:\",random.choices(string,k=3))\n",
    "print(\"sample,string:\",random.sample(string,3))\n",
    "\n",
    "print(\"choices,tuple:\",random.choices(tuple,k=3))\n",
    "print(\"sample,tuple:\",random.sample(tuple,3))\n",
    "\n",
    "print(\"choices_weight,list:\",random.choices(list,weights=[1,1,5,1,4],k=3))            # weight (chances) of 3 and 5 are high"
   ]
  },
  {
   "cell_type": "markdown",
   "id": "ff7f1498-63a7-4124-be29-33b2fc680d86",
   "metadata": {},
   "source": [
    "## random.shuffle(sequence,length)\n",
    "+    use to shuffle a sequence (list)\n",
    "+    list order is changed; if you do not want to change order, shuffle a copy of the list"
   ]
  },
  {
   "cell_type": "code",
   "execution_count": 288,
   "id": "0ba02e8b-b54b-472a-b108-516553855fb4",
   "metadata": {},
   "outputs": [
    {
     "name": "stdout",
     "output_type": "stream",
     "text": [
      "[5, 3, 4, 1, 2]\n"
     ]
    }
   ],
   "source": [
    "random.shuffle(list)\n",
    "print(list)"
   ]
  },
  {
   "cell_type": "markdown",
   "id": "3abd66f3-cb81-4c9c-bea2-4a2a94e54d6e",
   "metadata": {},
   "source": [
    "## random.uniform(a,b)\n",
    "+    generate random floats between a and b"
   ]
  },
  {
   "cell_type": "code",
   "execution_count": 284,
   "id": "12cc7081-af1b-4638-a86c-46db43e82578",
   "metadata": {},
   "outputs": [
    {
     "data": {
      "text/plain": [
       "540.7605499666835"
      ]
     },
     "execution_count": 284,
     "metadata": {},
     "output_type": "execute_result"
    }
   ],
   "source": [
    "random.uniform(501,555)"
   ]
  },
  {
   "cell_type": "code",
   "execution_count": 296,
   "id": "92fb6282-2fa3-4c54-8f83-5a18f000fa02",
   "metadata": {},
   "outputs": [
    {
     "data": {
      "text/plain": [
       "{'CRSc', 'VepI', 'bkkW', 'ujDh', 'zurD'}"
      ]
     },
     "execution_count": 296,
     "metadata": {},
     "output_type": "execute_result"
    }
   ],
   "source": [
    "import string\n",
    "\n",
    "def unique_strings(k: int, ntokens: int,\n",
    "               pool: str=string.ascii_letters) -> set:\n",
    "    \"\"\"Generate a set of unique string tokens.\n",
    "\n",
    "    k: Length of each token\n",
    "    ntokens: Number of tokens\n",
    "    pool: Iterable of characters to choose from\n",
    "\n",
    "    For a highly optimized version:\n",
    "    https://stackoverflow.com/a/48421303/7954504\n",
    "    \"\"\"\n",
    "\n",
    "    seen = set()\n",
    "\n",
    "    # An optimization for tightly-bound loops:\n",
    "    # Bind these methods outside of a loop\n",
    "    join = ''.join\n",
    "    add = seen.add\n",
    "\n",
    "    while len(seen) < ntokens:\n",
    "        token = join(random.choices(pool, k=k))\n",
    "        add(token)\n",
    "    return seen\n",
    "\n",
    "\n",
    "unique_strings(k=4, ntokens=5)\n",
    "\n",
    "#unique_strings(5, 4, string.printable)"
   ]
  },
  {
   "cell_type": "code",
   "execution_count": null,
   "id": "8d569531-6518-4f37-b9c9-2263ac02fa3c",
   "metadata": {},
   "outputs": [],
   "source": []
  }
 ],
 "metadata": {
  "kernelspec": {
   "display_name": "Python 3 (ipykernel)",
   "language": "python",
   "name": "python3"
  },
  "language_info": {
   "codemirror_mode": {
    "name": "ipython",
    "version": 3
   },
   "file_extension": ".py",
   "mimetype": "text/x-python",
   "name": "python",
   "nbconvert_exporter": "python",
   "pygments_lexer": "ipython3",
   "version": "3.12.4"
  }
 },
 "nbformat": 4,
 "nbformat_minor": 5
}
