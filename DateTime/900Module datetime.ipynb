{
 "cells": [
  {
   "cell_type": "code",
   "execution_count": 15,
   "id": "5ae602b8-b8f3-4202-8af6-3d7dd777f278",
   "metadata": {},
   "outputs": [
    {
     "name": "stdout",
     "output_type": "stream",
     "text": [
      "2024-08-27 19:26:30.741863\n",
      "Current date and time : \n",
      "2024-08-27 19:26:30\n"
     ]
    }
   ],
   "source": [
    "# Import the 'datetime' module to work with date and time\n",
    "import datetime\n",
    "\n",
    "# Get the current date and time\n",
    "now = datetime.datetime.now()\n",
    "print(now)\n",
    "\n",
    "# Create a datetime object representing the current date and time\n",
    "\n",
    "# Display a message indicating what is being printed\n",
    "print(\"Current date and time : \")\n",
    "\n",
    "# Print the current date and time in a specific format\n",
    "print(now.strftime(\"%Y-%m-%d %H:%M:%S\"))\n",
    "\n",
    "# Use the 'strftime' method to format the datetime object as a string with the desired format"
   ]
  },
  {
   "cell_type": "code",
   "execution_count": null,
   "id": "4ad2b3a0-46dd-4cd4-b5ff-49866f23fa18",
   "metadata": {},
   "outputs": [],
   "source": []
  }
 ],
 "metadata": {
  "kernelspec": {
   "display_name": "Python 3 (ipykernel)",
   "language": "python",
   "name": "python3"
  },
  "language_info": {
   "codemirror_mode": {
    "name": "ipython",
    "version": 3
   },
   "file_extension": ".py",
   "mimetype": "text/x-python",
   "name": "python",
   "nbconvert_exporter": "python",
   "pygments_lexer": "ipython3",
   "version": "3.12.4"
  }
 },
 "nbformat": 4,
 "nbformat_minor": 5
}
