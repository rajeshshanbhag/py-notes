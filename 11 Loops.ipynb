{
 "cells": [
  {
   "cell_type": "markdown",
   "id": "350a668f-2814-41e5-ad88-e9bb5801f7b2",
   "metadata": {},
   "source": [
    "<h3 align=\"left\" style=\"color:blue\">Loops</h3>"
   ]
  },
  {
   "cell_type": "markdown",
   "id": "43ebc528-2cdc-4923-a620-9b047db65e9f",
   "metadata": {},
   "source": [
    "#### IF Loop"
   ]
  },
  {
   "cell_type": "code",
   "execution_count": 5,
   "id": "742eec43-0742-403b-a9e2-e2a05534c574",
   "metadata": {},
   "outputs": [
    {
     "name": "stdin",
     "output_type": "stream",
     "text": [
      "Enter a number:  9\n"
     ]
    },
    {
     "name": "stdout",
     "output_type": "stream",
     "text": [
      "This is an odd number\n"
     ]
    }
   ],
   "source": [
    "n=int(input(\"Enter a number: \"))\n",
    "\n",
    "if n%2==0:\n",
    "    print(\"This is an even number\")\n",
    "else:\n",
    "    print(\"This is an odd number\")"
   ]
  },
  {
   "cell_type": "markdown",
   "id": "98569024-8ba3-445a-8bb8-f5515d4d30a9",
   "metadata": {},
   "source": [
    "#### IF and FOR loop"
   ]
  },
  {
   "cell_type": "code",
   "execution_count": 12,
   "id": "55fb9353-f23a-492a-a19e-c0ff022f0774",
   "metadata": {},
   "outputs": [
    {
     "name": "stdout",
     "output_type": "stream",
     "text": [
      "pasta\n",
      "meal not found\n",
      "pizza\n",
      "meal found\n"
     ]
    }
   ],
   "source": [
    "meals = [\"pasta\", \"pizza\", \"salad\"]\n",
    "for meal in meals:\n",
    "    if meal==\"pizza\":\n",
    "        print(meal)\n",
    "        print(\"meal found\")\n",
    "        break\n",
    "    else:\n",
    "        print(meal)\n",
    "        print(\"meal not found\")"
   ]
  },
  {
   "cell_type": "markdown",
   "id": "08956c0c-17f2-4896-b9df-69af93565ebc",
   "metadata": {},
   "source": [
    "#### FOR loop"
   ]
  },
  {
   "cell_type": "code",
   "execution_count": 15,
   "id": "bbb1eaab-dc93-4d8c-885a-3b95723bb843",
   "metadata": {},
   "outputs": [
    {
     "name": "stdout",
     "output_type": "stream",
     "text": [
      "1\n",
      "9\n",
      "25\n"
     ]
    }
   ],
   "source": [
    "for i in range(1,6):\n",
    "    if i%2==0:                             \n",
    "        continue                          # continue loop, dont go to next line, i.e. skip even numbers\n",
    "    print(i*i)"
   ]
  },
  {
   "cell_type": "markdown",
   "id": "17a2b7a8-cf6b-4213-b737-fe6db841cfe3",
   "metadata": {},
   "source": [
    "#### FOR loop"
   ]
  },
  {
   "cell_type": "code",
   "execution_count": 19,
   "id": "b0fbce18-d9d7-4c2c-927e-1cf1e9289645",
   "metadata": {},
   "outputs": [
    {
     "name": "stdout",
     "output_type": "stream",
     "text": [
      "Pasta\n",
      "Pizza\n",
      "Salad\n",
      "==========\n",
      "0 pasta\n",
      "1 pizza\n",
      "2 salad\n",
      "==========\n",
      "0 pasta\n",
      "1 pizza\n",
      "2 salad\n",
      "==========\n",
      "0\n",
      "1\n",
      "2\n",
      "3\n",
      "4\n",
      "==========\n",
      "pasta soda\n",
      "pizza juice\n",
      "salad water\n"
     ]
    }
   ],
   "source": [
    "meals = [\"pasta\", \"pizza\", \"salad\"]\n",
    "drinks = [\"soda\", \"juice\", \"water\"]\n",
    "\n",
    "for meal in meals:\n",
    "    print(meal.capitalize())\n",
    "print(\"==========\")\n",
    "    \n",
    "for index,meal in enumerate(meals):\n",
    "    print(index,meal)\n",
    "print(\"==========\")\n",
    "\n",
    "for r in range(len(meals)):\n",
    "    print(r,meals[r])\n",
    "print(\"==========\")\n",
    "\n",
    "for i in range(5):\n",
    "    print(i)\n",
    "print(\"==========\")\n",
    "\n",
    "for a,b in zip(meals,drinks):\n",
    "    print(a,b)"
   ]
  },
  {
   "cell_type": "markdown",
   "id": "bcbb9efb-eb7d-4165-8893-553659fdbe68",
   "metadata": {},
   "source": [
    "#### WHILE Loop"
   ]
  },
  {
   "cell_type": "code",
   "execution_count": 20,
   "id": "9b26d47a-5a8f-4fd1-9119-d8104d64576d",
   "metadata": {},
   "outputs": [
    {
     "name": "stdout",
     "output_type": "stream",
     "text": [
      "2\n",
      "3\n",
      "4\n",
      "5\n"
     ]
    }
   ],
   "source": [
    "i=1\n",
    "while i<5:\n",
    "    i=i+1\n",
    "    print(i)\n",
    "    continue"
   ]
  },
  {
   "cell_type": "markdown",
   "id": "9a0b3283-b965-4440-a1d8-e9cd7831e71d",
   "metadata": {},
   "source": [
    "#### WHILE-MATCH-CASE loop"
   ]
  },
  {
   "cell_type": "code",
   "execution_count": 25,
   "id": "9b64a382-0f09-4cd9-91e6-122ac3b70742",
   "metadata": {},
   "outputs": [
    {
     "name": "stdin",
     "output_type": "stream",
     "text": [
      "add or show or edit or display or exit: add\n",
      "Enter a todo:  task1\n",
      "add or show or edit or display or exit: \n"
     ]
    },
    {
     "name": "stdout",
     "output_type": "stream",
     "text": [
      "try again\n"
     ]
    },
    {
     "name": "stdin",
     "output_type": "stream",
     "text": [
      "add or show or edit or display or exit: exit\n"
     ]
    }
   ],
   "source": [
    "todo2=[]\n",
    "\n",
    "while True:\n",
    "    user_action = input(\"add or show or edit or display or exit:\")\n",
    "\n",
    "    match user_action:\n",
    "        case \"add\":\n",
    "            todo = input(\"Enter a todo: \")\n",
    "            todo2.append(todo)\n",
    "        case \"show\" | \"display\":\n",
    "            print(todo2)\n",
    "        case \"exit\":\n",
    "            break\n",
    "        case \"edit\":            \n",
    "            x=int(input(\"Number of todo to edit: \")) - 1\n",
    "            todo2[x] = input(\"Enter new todo: \")        \n",
    "            print(todo2)\n",
    "        case _:\n",
    "            print(\"try again\")"
   ]
  }
 ],
 "metadata": {
  "kernelspec": {
   "display_name": "Python 3 (ipykernel)",
   "language": "python",
   "name": "python3"
  },
  "language_info": {
   "codemirror_mode": {
    "name": "ipython",
    "version": 3
   },
   "file_extension": ".py",
   "mimetype": "text/x-python",
   "name": "python",
   "nbconvert_exporter": "python",
   "pygments_lexer": "ipython3",
   "version": "3.12.7"
  }
 },
 "nbformat": 4,
 "nbformat_minor": 5
}
