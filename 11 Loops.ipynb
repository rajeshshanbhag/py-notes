{
 "cells": [
  {
   "cell_type": "code",
   "execution_count": 8,
   "id": "1e37052c-984c-4cb4-8b96-0e3f9a6e0a2d",
   "metadata": {},
   "outputs": [
    {
     "data": {
      "text/plain": [
       "'\\nMATCH CASE\\n'"
      ]
     },
     "execution_count": 8,
     "metadata": {},
     "output_type": "execute_result"
    }
   ],
   "source": [
    "\"\"\"\n",
    "MATCH CASE\n",
    "\"\"\""
   ]
  },
  {
   "cell_type": "code",
   "execution_count": 38,
   "id": "9b26d47a-5a8f-4fd1-9119-d8104d64576d",
   "metadata": {},
   "outputs": [
    {
     "name": "stdout",
     "output_type": "stream",
     "text": [
      "2\n",
      "3\n",
      "4\n",
      "5\n"
     ]
    }
   ],
   "source": [
    "\"\"\"\n",
    "WHILE Loop\n",
    "\"\"\"\n",
    "i=1\n",
    "while i<5:\n",
    "    i=i+1\n",
    "    print(i)\n",
    "    continue"
   ]
  },
  {
   "cell_type": "code",
   "execution_count": null,
   "id": "9b64a382-0f09-4cd9-91e6-122ac3b70742",
   "metadata": {},
   "outputs": [
    {
     "name": "stdin",
     "output_type": "stream",
     "text": [
      "add or show or edit or display or exit: add\n",
      "Enter a todo:  one\n",
      "add or show or edit or display or exit: add\n",
      "Enter a todo:  two\n",
      "add or show or edit or display or exit: add\n",
      "Enter a todo:  three\n",
      "add or show or edit or display or exit: edit\n",
      "Number of todo to edit:  3\n",
      "Enter new todo:  four\n"
     ]
    },
    {
     "name": "stdout",
     "output_type": "stream",
     "text": [
      "['one', 'two', 'four']\n"
     ]
    }
   ],
   "source": [
    "\"\"\"\n",
    "WHILE-MATCH-CASE loop\n",
    "\"\"\"\n",
    "\n",
    "todo2=[]\n",
    "\n",
    "while True:\n",
    "    user_action = input(\"add or show or edit or display or exit:\")\n",
    "\n",
    "    match user_action:\n",
    "        case \"add\":\n",
    "            todo = input(\"Enter a todo: \")\n",
    "            todo2.append(todo)\n",
    "        case \"show\" | \"display\":\n",
    "            print(todo2)\n",
    "        case \"exit\":\n",
    "            break\n",
    "        case \"edit\":            \n",
    "            x=int(input(\"Number of todo to edit: \")) - 1\n",
    "            todo2[x] = input(\"Enter new todo: \")        \n",
    "            print(todo2)\n",
    "        case _:\n",
    "            print(\"try again\")"
   ]
  },
  {
   "cell_type": "code",
   "execution_count": 25,
   "id": "b0fbce18-d9d7-4c2c-927e-1cf1e9289645",
   "metadata": {},
   "outputs": [
    {
     "name": "stdout",
     "output_type": "stream",
     "text": [
      "Pasta\n",
      "Pizza\n",
      "Salad\n",
      "==========\n",
      "0 pasta\n",
      "1 pizza\n",
      "2 salad\n",
      "==========\n",
      "0 pasta\n",
      "1 pizza\n",
      "2 salad\n",
      "==========\n",
      "0\n",
      "1\n",
      "2\n",
      "3\n",
      "4\n"
     ]
    }
   ],
   "source": [
    "\"\"\"\n",
    "FOR LOOP\n",
    "\"\"\"\n",
    "meals = [\"pasta\", \"pizza\", \"salad\"]\n",
    "for meal in meals:\n",
    "    print(meal.capitalize())\n",
    "print(\"==========\")\n",
    "    \n",
    "for index,meal in enumerate(meals):\n",
    "    print(index,meal)\n",
    "print(\"==========\")\n",
    "\n",
    "for r in range(len(meals)):\n",
    "    print(r,meals[r])\n",
    "print(\"==========\")\n",
    "\n",
    "for i in range(5):\n",
    "    print(i)"
   ]
  },
  {
   "cell_type": "code",
   "execution_count": null,
   "id": "78a10d1f-af63-49fa-ab22-7fe8fad6500a",
   "metadata": {},
   "outputs": [],
   "source": [
    "\"\"\"\n",
    "WITH Loop\n",
    "\"\"\"\n",
    "\n",
    "#Option 1:\n",
    "f=open(\"todos.txt\",\"r\")\n",
    "h=f.readlines()\n",
    "f.close()\n",
    "\n",
    "#Option 2 with WITH:\n",
    "with open(\"todos.txt\",\"r\") as f:\n",
    "    h=f.readlines()                                   # no need to close file\n"
   ]
  },
  {
   "cell_type": "code",
   "execution_count": 29,
   "id": "55fb9353-f23a-492a-a19e-c0ff022f0774",
   "metadata": {},
   "outputs": [
    {
     "name": "stdout",
     "output_type": "stream",
     "text": [
      "pasta\n",
      "meal not found\n",
      "pizza\n",
      "meal found\n",
      "1\n",
      "9\n",
      "25\n"
     ]
    }
   ],
   "source": [
    "\"\"\"\n",
    "IF LOOP\n",
    "\"\"\"\n",
    "meals = [\"pasta\", \"pizza\", \"salad\"]\n",
    "for meal in meals:\n",
    "    if meal==\"pizza\":\n",
    "        print(meal)\n",
    "        print(\"meal found\")\n",
    "        break\n",
    "    else:\n",
    "        print(meal)\n",
    "        print(\"meal not found\")\n",
    "\n",
    "\n",
    "for i in range(1,6):\n",
    "    if i%2==0:                             # skip even numbers\n",
    "        continue\n",
    "    print(i*i)"
   ]
  },
  {
   "cell_type": "code",
   "execution_count": null,
   "id": "39c8a728-064d-4b2d-8752-451439282c7c",
   "metadata": {},
   "outputs": [],
   "source": []
  }
 ],
 "metadata": {
  "kernelspec": {
   "display_name": "Python 3 (ipykernel)",
   "language": "python",
   "name": "python3"
  },
  "language_info": {
   "codemirror_mode": {
    "name": "ipython",
    "version": 3
   },
   "file_extension": ".py",
   "mimetype": "text/x-python",
   "name": "python",
   "nbconvert_exporter": "python",
   "pygments_lexer": "ipython3",
   "version": "3.12.7"
  }
 },
 "nbformat": 4,
 "nbformat_minor": 5
}
