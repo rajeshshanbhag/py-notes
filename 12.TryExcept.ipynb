{
 "cells": [
  {
   "cell_type": "code",
   "execution_count": 9,
   "id": "0824ad84-cd85-4300-8a7d-c41104711abe",
   "metadata": {},
   "outputs": [
    {
     "name": "stdin",
     "output_type": "stream",
     "text": [
      "Enter number1:  5\n",
      "Enter number2:  a\n"
     ]
    },
    {
     "name": "stdout",
     "output_type": "stream",
     "text": [
      "exception ValueError\n",
      "Division is:  None\n"
     ]
    }
   ],
   "source": [
    "x=input(\"Enter number1: \")\n",
    "y=input(\"Enter number2: \")\n",
    "try:\n",
    "    z = int(x) / int(y)\n",
    "except ZeroDivisionError as e:\n",
    "    print('Division by zero exception')\n",
    "    z = None\n",
    "except TypeError as e:\n",
    "    print('Type error exception')\n",
    "    z = None\n",
    "#except ValueError as e:\n",
    "#    print('Value error exception')\n",
    "#    z = None\n",
    "except Exception as e:\n",
    "    print('exception',type(e).__name__)\n",
    "    z = None\n",
    "print(\"Division is: \", z)"
   ]
  },
  {
   "cell_type": "code",
   "execution_count": null,
   "id": "4266fbbc-9745-4cf5-92e4-50ec594c5834",
   "metadata": {},
   "outputs": [],
   "source": []
  }
 ],
 "metadata": {
  "kernelspec": {
   "display_name": "Python 3 (ipykernel)",
   "language": "python",
   "name": "python3"
  },
  "language_info": {
   "codemirror_mode": {
    "name": "ipython",
    "version": 3
   },
   "file_extension": ".py",
   "mimetype": "text/x-python",
   "name": "python",
   "nbconvert_exporter": "python",
   "pygments_lexer": "ipython3",
   "version": "3.12.7"
  }
 },
 "nbformat": 4,
 "nbformat_minor": 5
}
