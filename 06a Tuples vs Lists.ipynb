{
 "cells": [
  {
   "cell_type": "markdown",
   "id": "e9966c9f-fe7a-4b3b-9b05-cb21eb242c62",
   "metadata": {},
   "source": [
    "<h3 align=\"left\" style=\"color:blue\">Tuples vs Lists</h3>"
   ]
  },
  {
   "cell_type": "markdown",
   "id": "33eeca94-2cac-43c3-ada5-5954fa0427cf",
   "metadata": {},
   "source": [
    "#### Tuples vs Lists\n",
    "1. Tuples are immutable; lists are mutable\n",
    "2. Iterations are faster in tuples\n",
    "3. Tuples consume less memory\n",
    "4. Lists have more in-built functions\n",
    "5. Use tuples to access data; use lists for insertion or deletion of data"
   ]
  },
  {
   "cell_type": "markdown",
   "id": "edd04209-21ef-4360-8876-649998c31fe0",
   "metadata": {},
   "source": [
    "#### Memory consumption"
   ]
  },
  {
   "cell_type": "code",
   "execution_count": 3,
   "id": "0efbe080-528d-4e4f-84e3-1fbee56a4cda",
   "metadata": {},
   "outputs": [
    {
     "name": "stdout",
     "output_type": "stream",
     "text": [
      "List size 104\n",
      "Tuple size 80\n"
     ]
    }
   ],
   "source": [
    "import sys\n",
    "a_list = []\n",
    "a_tuple = ()\n",
    "a_list = [21,22,23,24,25]\n",
    "a_tuple = (21,22,23,24,25)\n",
    "print(\"List size\", sys.getsizeof(a_list))\n",
    "print(\"Tuple size\",sys.getsizeof(a_tuple))"
   ]
  },
  {
   "cell_type": "markdown",
   "id": "64a65716-27f8-4a2b-944d-15caa819ff15",
   "metadata": {},
   "source": [
    "#### Performance"
   ]
  },
  {
   "cell_type": "code",
   "execution_count": 10,
   "id": "e74e69f7-25a8-4049-bd2d-cc953b27709b",
   "metadata": {},
   "outputs": [
    {
     "name": "stdout",
     "output_type": "stream",
     "text": [
      "Total lookup time for Tuple:  15762654400\n",
      "Total lookup time for LIST:  27620820300\n"
     ]
    }
   ],
   "source": [
    "import sys, platform\n",
    "import time\n",
    "\n",
    "l=list(range(100000001))\n",
    "t=tuple(range(100000001))\n",
    "\n",
    "start = time.time_ns()\n",
    "\n",
    "for i in range(len(t)):\n",
    "    a = t[i]\n",
    "end = time.time_ns()\n",
    "print(\"Total lookup time for Tuple: \", end - start)\n",
    "\n",
    "start = time.time_ns()\n",
    "for i in range(len(l)):\n",
    "    a = l[i]\n",
    "end = time.time_ns()\n",
    "print(\"Total lookup time for LIST: \", end - start)"
   ]
  },
  {
   "cell_type": "code",
   "execution_count": null,
   "id": "3e55be36-2423-4150-a511-e6b7fdc4f60a",
   "metadata": {},
   "outputs": [],
   "source": []
  },
  {
   "cell_type": "code",
   "execution_count": null,
   "id": "10986850-5331-4963-8310-d9a9ef009b04",
   "metadata": {},
   "outputs": [],
   "source": []
  }
 ],
 "metadata": {
  "kernelspec": {
   "display_name": "Python 3 (ipykernel)",
   "language": "python",
   "name": "python3"
  },
  "language_info": {
   "codemirror_mode": {
    "name": "ipython",
    "version": 3
   },
   "file_extension": ".py",
   "mimetype": "text/x-python",
   "name": "python",
   "nbconvert_exporter": "python",
   "pygments_lexer": "ipython3",
   "version": "3.12.7"
  }
 },
 "nbformat": 4,
 "nbformat_minor": 5
}
