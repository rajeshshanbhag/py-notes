{
 "cells": [
  {
   "cell_type": "markdown",
   "id": "cff740a5-86e7-495b-85dc-124910bfdf2c",
   "metadata": {},
   "source": [
    "<h3 style=\"color:blue\" align=\"left\">Lists</h3>"
   ]
  },
  {
   "cell_type": "markdown",
   "id": "cef5891b-0792-4307-8742-b79e1298b7a8",
   "metadata": {},
   "source": [
    "#### Lists are mutable, ordered and changeable. Allows duplicate members."
   ]
  },
  {
   "cell_type": "markdown",
   "id": "5f81c884-65d5-41a2-a9f1-b61781dc14a9",
   "metadata": {},
   "source": [
    "#### Operations"
   ]
  },
  {
   "cell_type": "code",
   "execution_count": 1,
   "id": "832e3eff",
   "metadata": {},
   "outputs": [
    {
     "name": "stdout",
     "output_type": "stream",
     "text": [
      "2- 3\n",
      "3- Chicago\n",
      "4- ['NewYork']\n",
      "5- ['Chicago', 'SanJose']\n",
      "6- ['NewYork', 'Chicago', 'SanJose', 'Denver']\n"
     ]
    }
   ],
   "source": [
    "my_list = ['NewYork', 'Chicago', 'SanJose']\n",
    "\n",
    "print (\"2-\",len(my_list))\n",
    "print (\"3-\",my_list[1])\n",
    "print (\"4-\",my_list[:1])               # upto ane excluding index 1\n",
    "print (\"5-\",my_list[1:])               # from and including index 1\n",
    "\n",
    "my_list = my_list + ['Denver']\n",
    "print (\"6-\",my_list)"
   ]
  },
  {
   "cell_type": "markdown",
   "id": "de56abfc-9397-4816-a920-adede156c94a",
   "metadata": {},
   "source": [
    "#### Iterable"
   ]
  },
  {
   "cell_type": "code",
   "execution_count": 2,
   "id": "50b5e5eb-59ff-4f3c-b66d-b056d4cef5d3",
   "metadata": {},
   "outputs": [
    {
     "name": "stdout",
     "output_type": "stream",
     "text": [
      "0-NewYork\n",
      "1-Chicago\n",
      "2-SanJose\n",
      "3-Denver\n",
      "NewYork\n",
      "Chicago\n",
      "SanJose\n",
      "Denver\n",
      "0\n",
      "1\n",
      "2\n",
      "3\n"
     ]
    }
   ],
   "source": [
    "for index,item in enumerate(my_list):\n",
    "    print(f\"{index}-{item}\")\n",
    "\n",
    "for x in my_list:\n",
    "    print(x)\n",
    "\n",
    "for x in range(len(my_list)):\n",
    "    print(x)"
   ]
  },
  {
   "cell_type": "markdown",
   "id": "8dbd36f6-3d15-47fe-82d3-6baf52b00eca",
   "metadata": {},
   "source": [
    "#### Methods"
   ]
  },
  {
   "cell_type": "code",
   "execution_count": 3,
   "id": "356ed026",
   "metadata": {},
   "outputs": [
    {
     "name": "stdout",
     "output_type": "stream",
     "text": [
      "1- ['NewYork', 'Chicago', 'SanJose', 'Denver']\n",
      "2- ['NewYork', 'Chicago', 'SanJose', 'Denver', 'Houston']\n",
      "3- 4\n",
      "4- ['NewYork', 'Chicago', 'SanJose', 'Denver', 'Houston']\n",
      "5- ['NewYork', 'Seattle', 'SanJose', 'Denver', 'Houston']\n",
      "6- ['Memphis', 'Seattle', 'SanJose', 'Denver', 'Houston']\n",
      "7- ['Memphis', 'Seattle', 'Denver', 'Houston']\n",
      "8- ['Denver', 'Houston', 'Memphis', 'Seattle']\n",
      "9a- ['Seattle', 'Memphis', 'Houston', 'Denver']\n",
      "9- ['Denver', 'Houston', 'Memphis', 'Seattle']\n",
      "10- Denver, Houston, Memphis, Seattle\n",
      "10a- ['Denver', 'Houston', 'Memphis', 'Seattle']\n",
      "2a- ['Denver', 'Houston', 'Memphis', 'Seattle', 'D', 'a', 'l', 'l', 'a', 's']\n",
      "2b- ['Denver', 'Galveston', 'Houston', 'Memphis', 'Seattle', 'D', 'a', 'l', 'l', 'a', 's']\n",
      "['Denver', 'Houston', 'Memphis', 'Seattle']\n"
     ]
    }
   ],
   "source": [
    "print (\"1-\",my_list)\n",
    "\n",
    "my_list.append('Houston')\n",
    "print (\"2-\",my_list)\n",
    "\n",
    "print(\"3-\",my_list.index('Houston'))\n",
    "\n",
    "print (\"4-\",my_list)\n",
    "\n",
    "my_list.__setitem__(1,'Seattle')                  # assigns a value to the key\n",
    "print (\"5-\",my_list)\n",
    "\n",
    "my_list[0]='Memphis'\n",
    "print (\"6-\",my_list)\n",
    "\n",
    "my_list.pop(2)\n",
    "print (\"7-\",my_list)\n",
    "\n",
    "my_list.sort()\n",
    "print (\"8-\",my_list)\n",
    "\n",
    "my_list.sort(reverse=True)\n",
    "print (\"9a-\",my_list)\n",
    "\n",
    "my_list.reverse()\n",
    "print (\"9-\",my_list)\n",
    "\n",
    "print (\"10-\",', '.join(my_list))\n",
    "\n",
    "your_list=my_list.copy()\n",
    "print(\"10a-\",your_list)\n",
    "\n",
    "my_list.extend('Dallas')                         # Add the elements of a list (or any iterable), to the end of the current list\n",
    "print (\"2a-\",my_list)\n",
    "\n",
    "my_list.insert(1,'Galveston')\n",
    "print (\"2b-\",my_list)\n",
    "\n",
    "my_list=your_list.copy()\n",
    "print(my_list)"
   ]
  },
  {
   "cell_type": "markdown",
   "id": "90c6cd9e-3e69-4ca0-a64d-5612d3565e46",
   "metadata": {},
   "source": [
    "#### Nested Lists"
   ]
  },
  {
   "cell_type": "code",
   "execution_count": 4,
   "id": "50ad6711",
   "metadata": {},
   "outputs": [
    {
     "name": "stdout",
     "output_type": "stream",
     "text": [
      "1- [['NewYork', 'Houston', 'Denver', 'Chicago'], ['Delhi', 'Mumbai', 'Chennai'], ['Sydney', 'Brisbane', 'Melbourne']]\n",
      "2- ['Delhi', 'Mumbai', 'Chennai']\n",
      "3- Delhi\n"
     ]
    }
   ],
   "source": [
    "my_list_1 = ['NewYork', 'Houston', 'Denver', 'Chicago']\n",
    "my_list_2 = ['Delhi', 'Mumbai', 'Chennai']\n",
    "my_list_3 = ['Sydney', 'Brisbane', 'Melbourne']\n",
    "\n",
    "new_list = [my_list_1,my_list_2,my_list_3]\n",
    "print (\"1-\",new_list)\n",
    "print (\"2-\",new_list[1])\n",
    "print (\"3-\",new_list[1][0])"
   ]
  },
  {
   "cell_type": "markdown",
   "id": "fd0913c8-66b4-4e64-a420-8ce326cc8f41",
   "metadata": {},
   "source": [
    "#### Write a Python program that concatenates all elements in a list into a string and returns it."
   ]
  },
  {
   "cell_type": "code",
   "execution_count": 2,
   "id": "34c47cff-a432-49e8-a1fd-0190ec7c3262",
   "metadata": {},
   "outputs": [
    {
     "name": "stdout",
     "output_type": "stream",
     "text": [
      "13223\n"
     ]
    }
   ],
   "source": [
    "def conc(lst):\n",
    "    str1=\"\"\n",
    "    for i in lst:\n",
    "        str1+=str(i)\n",
    "    return str1\n",
    "\n",
    "print(conc([1,32,23]))"
   ]
  },
  {
   "cell_type": "markdown",
   "id": "169efce1-a057-4a50-9f75-a769d2053432",
   "metadata": {},
   "source": [
    "#### ZIP 2 lists"
   ]
  },
  {
   "cell_type": "code",
   "execution_count": 7,
   "id": "ac5ec3c9-884d-4ffa-a460-a50ba064cb67",
   "metadata": {},
   "outputs": [
    {
     "name": "stdout",
     "output_type": "stream",
     "text": [
      "[(1, 10), (2, 20), (3, 30), (4, 40)]\n"
     ]
    }
   ],
   "source": [
    "a=[1,2,3,4,5]\n",
    "b=[10,20,30,40]\n",
    "\n",
    "print(list(zip(a,b)))"
   ]
  }
 ],
 "metadata": {
  "kernelspec": {
   "display_name": "Python 3 (ipykernel)",
   "language": "python",
   "name": "python3"
  },
  "language_info": {
   "codemirror_mode": {
    "name": "ipython",
    "version": 3
   },
   "file_extension": ".py",
   "mimetype": "text/x-python",
   "name": "python",
   "nbconvert_exporter": "python",
   "pygments_lexer": "ipython3",
   "version": "3.12.7"
  }
 },
 "nbformat": 4,
 "nbformat_minor": 5
}
