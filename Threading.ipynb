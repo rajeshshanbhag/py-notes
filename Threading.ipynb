{
 "cells": [
  {
   "cell_type": "code",
   "execution_count": null,
   "id": "ab60d29f-53fa-451f-b85f-166ae6df4fbd",
   "metadata": {},
   "outputs": [],
   "source": [
    "import time\n",
    "import threading\n",
    "\n",
    "def calc_square(numbers):\n",
    "    print(\"calculate square numbers\")\n",
    "    for n in numbers:\n",
    "        time.sleep(1)\n",
    "        print('square:',n*n)\n",
    "\n",
    "def calc_cube(numbers):\n",
    "    print(\"calculate cube of numbers\")\n",
    "    for n in numbers:\n",
    "        time.sleep(1)\n",
    "        print('cube:',n*n*n)\n",
    "\n",
    "arr = [2,3,8,9]\n",
    "\n",
    "t = time.time()\n",
    "\n",
    "t1= threading.Thread(target=calc_square, args=(arr,))\n",
    "t2= threading.Thread(target=calc_cube, args=(arr,))\n",
    "\n",
    "t1.start()\n",
    "t2.start()\n",
    "\n",
    "t1.join()\n",
    "t2.join()\n",
    "\n",
    "print(\"done in : \",time.time()-t)\n",
    "print(\"Hah... I am done with all my work now!\")"
   ]
  }
 ],
 "metadata": {
  "kernelspec": {
   "display_name": "Python 3 (ipykernel)",
   "language": "python",
   "name": "python3"
  },
  "language_info": {
   "codemirror_mode": {
    "name": "ipython",
    "version": 3
   },
   "file_extension": ".py",
   "mimetype": "text/x-python",
   "name": "python",
   "nbconvert_exporter": "python",
   "pygments_lexer": "ipython3",
   "version": "3.12.7"
  }
 },
 "nbformat": 4,
 "nbformat_minor": 5
}
