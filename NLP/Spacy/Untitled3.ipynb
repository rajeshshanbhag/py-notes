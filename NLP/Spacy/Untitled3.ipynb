{
 "cells": [
  {
   "cell_type": "code",
   "execution_count": 2,
   "id": "77c1f566-b895-4723-9a23-12bca0765aac",
   "metadata": {},
   "outputs": [
    {
     "name": "stdout",
     "output_type": "stream",
     "text": [
      "JD file list found:  ['JD1.txt']\n"
     ]
    },
    {
     "ename": "NameError",
     "evalue": "name 'data_jd' is not defined",
     "output_type": "error",
     "traceback": [
      "\u001b[1;31m---------------------------------------------------------------------------\u001b[0m",
      "\u001b[1;31mNameError\u001b[0m                                 Traceback (most recent call last)",
      "Cell \u001b[1;32mIn[2], line 34\u001b[0m\n\u001b[0;32m     31\u001b[0m     \u001b[38;5;66;03m#tokens = text.split()\u001b[39;00m\n\u001b[0;32m     32\u001b[0m     \u001b[38;5;28;01mreturn\u001b[39;00m tokens\n\u001b[1;32m---> 34\u001b[0m data \u001b[38;5;241m=\u001b[39m clean_text(data_jd)\n\u001b[0;32m     35\u001b[0m tokens \u001b[38;5;241m=\u001b[39m spacy_tokenizer(data)\n",
      "\u001b[1;31mNameError\u001b[0m: name 'data_jd' is not defined"
     ]
    }
   ],
   "source": [
    "import os\n",
    "\n",
    "#Getting JD filelist from data/jd directory\n",
    "jd_file_list = os.listdir('jd/')\n",
    "print('JD file list found: ', jd_file_list)\n",
    "\n",
    "import spacy\n",
    "import re\n",
    "nlp = spacy.load('en_core_web_sm')\n",
    "\n",
    "\n",
    "def clean_text(text):\n",
    "    '''\n",
    "    This function cleans non-ASCII special characters from input text data.\n",
    "    Input: Text string\n",
    "    Output: Text string\n",
    "    '''\n",
    "    import re\n",
    "    cleaned_data = re.sub(r'[^a-zA-Z0-9\\s\\/]', '', text)\n",
    "    cleaned_data = cleaned_data.replace('/', ' ')\n",
    "    return cleaned_data\n",
    "\n",
    "\n",
    "def spacy_tokenizer(text):\n",
    "    '''\n",
    "    This function uses the spacy tokeniser to tokenise the input text.\n",
    "    Input: Text string\n",
    "    Output: Tokens\n",
    "    '''\n",
    "    tokens = nlp(text)\n",
    "    #tokens = text.split()\n",
    "    return tokens\n",
    "\n",
    "data = clean_text(data_jd)\n",
    "tokens = spacy_tokenizer(data)"
   ]
  },
  {
   "cell_type": "code",
   "execution_count": null,
   "id": "7d48b6b0-7879-4a0e-89a4-2822933ef22e",
   "metadata": {},
   "outputs": [],
   "source": []
  }
 ],
 "metadata": {
  "kernelspec": {
   "display_name": "Python 3 (ipykernel)",
   "language": "python",
   "name": "python3"
  },
  "language_info": {
   "codemirror_mode": {
    "name": "ipython",
    "version": 3
   },
   "file_extension": ".py",
   "mimetype": "text/x-python",
   "name": "python",
   "nbconvert_exporter": "python",
   "pygments_lexer": "ipython3",
   "version": "3.12.7"
  }
 },
 "nbformat": 4,
 "nbformat_minor": 5
}
