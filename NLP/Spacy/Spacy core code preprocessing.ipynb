{
 "cells": [
  {
   "cell_type": "code",
   "execution_count": 4,
   "id": "88e737ef-c7af-4c20-933a-f3b63ad783ad",
   "metadata": {},
   "outputs": [
    {
     "name": "stdout",
     "output_type": "stream",
     "text": [
      "The African helmeted turtle #$%!!! (Pelomedusa subrufa) is a species of side-necked terrapin in the family Pelomedusidae. The species naturally occurs in fresh and stagnant water bodies throughout much of sub-Saharan Africa, and in southern Yemen. It is omnivorous, with its diet consisting mainly of aquatic invertebrates, small fish, and vegetation. It is typically a small turtle, with most individuals being less than 20 centimetres (7.9 inches) in straight carapace length. The female lays two to ten eggs on average, normally during late spring and early summer. The eggs are placed in a flask-shaped nest about 4 to 7 inches (10 to 18 centimetres) deep and hatch in 75 to 90 days. This African helmeted turtle was photographed in Phinda Private Game Reserve, South Africa.\n"
     ]
    }
   ],
   "source": [
    "## Load text\n",
    "enc='utf-8'\n",
    "with open(\"African_helmeted_turtle.txt\",\"r\",encoding=enc) as f:\n",
    "    book=f.read()\n",
    "    print(book)"
   ]
  },
  {
   "cell_type": "code",
   "execution_count": 5,
   "id": "304ec1b9-c825-43e4-96f4-99aee044d53a",
   "metadata": {},
   "outputs": [],
   "source": [
    "import spacy\n",
    "nlp = spacy.load(\"en_core_web_sm\")\n",
    "# nlp = spacy.load(\"en_core_web_md\")\n",
    "# nlp = spacy.load(\"en_core_web_lg\")\n",
    "# nlp = spacy.load(\"en_core_web_trf\")"
   ]
  },
  {
   "cell_type": "code",
   "execution_count": 6,
   "id": "40ec244a-bc05-498c-84fe-4a09fde7662c",
   "metadata": {},
   "outputs": [
    {
     "data": {
      "text/plain": [
       "[('tok2vec', <spacy.pipeline.tok2vec.Tok2Vec at 0x20d5b11d970>),\n",
       " ('tagger', <spacy.pipeline.tagger.Tagger at 0x20d5b11dc10>),\n",
       " ('parser', <spacy.pipeline.dep_parser.DependencyParser at 0x20d5b158ba0>),\n",
       " ('attribute_ruler',\n",
       "  <spacy.pipeline.attributeruler.AttributeRuler at 0x20d5b388d90>),\n",
       " ('lemmatizer', <spacy.lang.en.lemmatizer.EnglishLemmatizer at 0x20d5b393950>),\n",
       " ('ner', <spacy.pipeline.ner.EntityRecognizer at 0x20d5b158cf0>)]"
      ]
     },
     "execution_count": 6,
     "metadata": {},
     "output_type": "execute_result"
    }
   ],
   "source": [
    "## check pipeline\n",
    "nlp.pipeline"
   ]
  },
  {
   "cell_type": "code",
   "execution_count": 24,
   "id": "74f333fb-df13-4670-b519-30baf89de25a",
   "metadata": {},
   "outputs": [],
   "source": [
    "## process text with nlp object to create a doc object\n",
    "##doc=nlp(book)\n",
    "#type(doc)"
   ]
  },
  {
   "cell_type": "code",
   "execution_count": 25,
   "id": "696d5bba-ed40-427b-bdfc-9a16caf583cf",
   "metadata": {},
   "outputs": [
    {
     "data": {
      "text/plain": [
       "The African helmeted turtle #$%"
      ]
     },
     "execution_count": 25,
     "metadata": {},
     "output_type": "execute_result"
    }
   ],
   "source": [
    "## Span object is a slice of the document consisting of one or more tokens. \n",
    "doc[0:7]"
   ]
  },
  {
   "cell_type": "markdown",
   "id": "9a790c22-b4e4-4b23-9415-ae43c5a3b6ee",
   "metadata": {},
   "source": [
    "## Text Preprocessing"
   ]
  },
  {
   "cell_type": "markdown",
   "id": "91c24fbb-4e8d-4124-ae6b-f314dc28548e",
   "metadata": {},
   "source": [
    "### Clean text, punctuation, lower case"
   ]
  },
  {
   "cell_type": "code",
   "execution_count": null,
   "id": "201926cc-fe6e-4ee7-9812-bb129b7dc333",
   "metadata": {},
   "outputs": [],
   "source": []
  },
  {
   "cell_type": "markdown",
   "id": "9a003f51-541d-4af6-9a0e-f4061d5809d1",
   "metadata": {},
   "source": [
    "### Tokenize Text"
   ]
  },
  {
   "cell_type": "code",
   "execution_count": 27,
   "id": "6d1eb7e5-e350-4b01-9bfb-ccb977e9e72b",
   "metadata": {},
   "outputs": [],
   "source": [
    "## sentence / word tokenization\n",
    "def spacy_tokenizer(text):\n",
    "    #token=[sentence for sentence in text.sents]\n",
    "    tokens=nlp(text)\n",
    "    return tokens"
   ]
  },
  {
   "cell_type": "code",
   "execution_count": 28,
   "id": "4083001c-68c0-490c-aafc-dd51f3d9bad8",
   "metadata": {},
   "outputs": [
    {
     "name": "stdout",
     "output_type": "stream",
     "text": [
      "TOKEN: The African helmeted turtle #$%!!! (Pelomedusa subrufa) is a species of side-necked terrapin in the family Pelomedusidae. The species naturally occurs in fresh and stagnant water bodies throughout much of sub-Saharan Africa, and in southern Yemen. It is omnivorous, with its diet consisting mainly of aquatic invertebrates, small fish, and vegetation. It is typically a small turtle, with most individuals being less than 20 centimetres (7.9 inches) in straight carapace length. The female lays two to ten eggs on average, normally during late spring and early summer. The eggs are placed in a flask-shaped nest about 4 to 7 inches (10 to 18 centimetres) deep and hatch in 75 to 90 days. This African helmeted turtle was photographed in Phinda Private Game Reserve, South Africa.\n"
     ]
    }
   ],
   "source": [
    "tokens=spacy_tokenizer(book)\n",
    "print(\"TOKEN:\",tokens)"
   ]
  },
  {
   "cell_type": "markdown",
   "id": "17adb44b-8700-4737-8e9f-8c6a1765db02",
   "metadata": {},
   "source": [
    "### Lemmatization, stop words, punctuation"
   ]
  },
  {
   "cell_type": "code",
   "execution_count": 208,
   "id": "4c42b8b1-723f-4741-868b-9453e0fb76de",
   "metadata": {},
   "outputs": [],
   "source": [
    "def spacy_text_lemmatize(text):\n",
    "    from spacy.lang.en.stop_words import STOP_WORDS\n",
    "    stop_words=spacy.lang.en.stop_words.STOP_WORDS\n",
    "    p=[(token.lemma_,token.pos_) for token in text]\n",
    "    t1=[t for t in p if t[1] not in [\"SPACE\", \"PUNCT\", \"SYM\",\"X\"] and t[0] not in stop_words]\n",
    "    return t1"
   ]
  },
  {
   "cell_type": "code",
   "execution_count": 209,
   "id": "18f2a0ca-04f9-42fa-b137-9039394ede24",
   "metadata": {},
   "outputs": [
    {
     "name": "stdout",
     "output_type": "stream",
     "text": [
      "LEMMATISED LIST: [('african', 'ADJ'), ('helmeted', 'ADJ'), ('turtle', 'NOUN'), ('%', 'NOUN'), ('Pelomedusa', 'PROPN'), ('subrufa', 'NOUN'), ('species', 'NOUN'), ('neck', 'VERB'), ('terrapin', 'NOUN'), ('family', 'NOUN'), ('Pelomedusidae', 'PROPN'), ('specie', 'NOUN'), ('naturally', 'ADV'), ('occur', 'VERB'), ('fresh', 'ADJ'), ('stagnant', 'ADJ'), ('water', 'NOUN'), ('body', 'NOUN'), ('sub', 'ADJ'), ('-', 'ADJ'), ('saharan', 'ADJ'), ('Africa', 'PROPN'), ('southern', 'ADJ'), ('Yemen', 'PROPN'), ('omnivorous', 'ADJ'), ('diet', 'NOUN'), ('consist', 'VERB'), ('mainly', 'ADV'), ('aquatic', 'ADJ'), ('invertebrate', 'NOUN'), ('small', 'ADJ'), ('fish', 'NOUN'), ('vegetation', 'NOUN'), ('typically', 'ADV'), ('small', 'ADJ'), ('turtle', 'NOUN'), ('individual', 'NOUN'), ('20', 'NUM'), ('centimetre', 'NOUN'), ('7.9', 'NUM'), ('inch', 'NOUN'), ('straight', 'ADJ'), ('carapace', 'NOUN'), ('length', 'NOUN'), ('female', 'ADJ'), ('lay', 'NOUN'), ('egg', 'NOUN'), ('average', 'ADJ'), ('normally', 'ADV'), ('late', 'ADJ'), ('spring', 'NOUN'), ('early', 'ADJ'), ('summer', 'NOUN'), ('egg', 'NOUN'), ('place', 'VERB'), ('flask', 'NOUN'), ('shape', 'VERB'), ('nest', 'NOUN'), ('4', 'NUM'), ('7', 'NUM'), ('inch', 'NOUN'), ('10', 'NUM'), ('18', 'NUM'), ('centimetre', 'NOUN'), ('deep', 'ADV'), ('hatch', 'VERB'), ('75', 'NUM'), ('90', 'NUM'), ('day', 'NOUN'), ('african', 'ADJ'), ('helmeted', 'ADJ'), ('turtle', 'NOUN'), ('photograph', 'VERB'), ('Phinda', 'PROPN'), ('Private', 'PROPN'), ('Game', 'PROPN'), ('Reserve', 'PROPN'), ('South', 'PROPN'), ('Africa', 'PROPN')]\n"
     ]
    }
   ],
   "source": [
    "lemmatized_pos_list=spacy_text_lemmatize(tokens)\n",
    "print(\"LEMMATISED LIST:\",lemmatized_pos_list)"
   ]
  },
  {
   "cell_type": "code",
   "execution_count": 106,
   "id": "cd3d0de8-3fba-4eba-b528-7cad982b2418",
   "metadata": {},
   "outputs": [
    {
     "name": "stdout",
     "output_type": "stream",
     "text": [
      "TOKEN: [('The', 0), ('African', 4), ('helmeted', 12), ('turtle', 21), ('#', 28), ('$', 29), ('%', 30), ('!', 31), ('!', 32), ('!', 33), ('(', 35), ('Pelomedusa', 36), ('subrufa', 47), (')', 54), ('is', 56), ('a', 59), ('species', 61), ('of', 69), ('side', 72), ('-', 76), ('necked', 77), ('terrapin', 84), ('in', 93), ('the', 96), ('family', 100), ('Pelomedusidae', 107), ('.', 120), ('The', 122), ('species', 126), ('naturally', 134), ('occurs', 144), ('in', 151), ('fresh', 154), ('and', 160), ('stagnant', 164), ('water', 173), ('bodies', 179), ('throughout', 186), ('much', 197), ('of', 202), ('sub', 205), ('-', 208), ('Saharan', 209), ('Africa', 217), (',', 223), ('and', 225), ('in', 229), ('southern', 232), ('Yemen', 241), ('.', 246), ('It', 248), ('is', 251), ('omnivorous', 254), (',', 264), ('with', 266), ('its', 271), ('diet', 275), ('consisting', 280), ('mainly', 291), ('of', 298), ('aquatic', 301), ('invertebrates', 309), (',', 322), ('small', 324), ('fish', 330), (',', 334), ('and', 336), ('vegetation', 340), ('.', 350), ('It', 352), ('is', 355), ('typically', 358), ('a', 368), ('small', 370), ('turtle', 376), (',', 382), ('with', 384), ('most', 389), ('individuals', 394), ('being', 406), ('less', 412), ('than', 417), ('20', 422), ('centimetres', 425), ('(', 437), ('7.9', 438), ('inches', 442), (')', 448), ('in', 450), ('straight', 453), ('carapace', 462), ('length', 471), ('.', 477), ('The', 479), ('female', 483), ('lays', 490), ('two', 495), ('to', 499), ('ten', 502), ('eggs', 506), ('on', 511), ('average', 514), (',', 521), ('normally', 523), ('during', 532), ('late', 539), ('spring', 544), ('and', 551), ('early', 555), ('summer', 561), ('.', 567), ('The', 569), ('eggs', 573), ('are', 578), ('placed', 582), ('in', 589), ('a', 592), ('flask', 594), ('-', 599), ('shaped', 600), ('nest', 607), ('about', 612), ('4', 618), ('to', 620), ('7', 623), ('inches', 625), ('(', 632), ('10', 633), ('to', 636), ('18', 639), ('centimetres', 642), (')', 653), ('deep', 655), ('and', 660), ('hatch', 664), ('in', 670), ('75', 673), ('to', 676), ('90', 679), ('days', 682), ('.', 686), ('This', 688), ('African', 693), ('helmeted', 701), ('turtle', 710), ('was', 717), ('photographed', 721), ('in', 734), ('Phinda', 737), ('Private', 744), ('Game', 752), ('Reserve', 757), (',', 764), ('South', 766), ('Africa', 772), ('.', 778)]\n",
      "----------\n",
      "STOPWORD FILTERED LIST: [African, helmeted, turtle, $, Pelomedusa, subrufa, species, necked, terrapin, family, Pelomedusidae, species, naturally, occurs, fresh, stagnant, water, bodies, sub, Saharan, Africa, southern, Yemen, omnivorous, diet, consisting, mainly, aquatic, invertebrates, small, fish, vegetation, typically, small, turtle, individuals, 20, centimetres, 7.9, inches, straight, carapace, length, female, lays, eggs, average, normally, late, spring, early, summer, eggs, placed, flask, shaped, nest, 4, 7, inches, 10, 18, centimetres, deep, hatch, 75, 90, days, African, helmeted, turtle, photographed, Phinda, Private, Game, Reserve, South, Africa]\n",
      "----------\n",
      "LEMMATISED LIST: [(The, '|', 'the'), (African, '|', 'african'), (is, '|', 'be'), (necked, '|', 'neck'), (The, '|', 'the'), (species, '|', 'specie'), (occurs, '|', 'occur'), (bodies, '|', 'body'), (Saharan, '|', 'saharan'), (It, '|', 'it'), (is, '|', 'be'), (consisting, '|', 'consist'), (invertebrates, '|', 'invertebrate'), (It, '|', 'it'), (is, '|', 'be'), (individuals, '|', 'individual'), (being, '|', 'be'), (centimetres, '|', 'centimetre'), (inches, '|', 'inch'), (The, '|', 'the'), (lays, '|', 'lay'), (eggs, '|', 'egg'), (The, '|', 'the'), (eggs, '|', 'egg'), (are, '|', 'be'), (placed, '|', 'place'), (shaped, '|', 'shape'), (inches, '|', 'inch'), (centimetres, '|', 'centimetre'), (days, '|', 'day'), (This, '|', 'this'), (African, '|', 'african'), (was, '|', 'be'), (photographed, '|', 'photograph')]\n",
      "----------\n",
      "POS TAG: [(The, '|', 'DT', '|', 'determiner', '|', 'DET', '|', 'determiner'), (African, '|', 'JJ', '|', 'adjective (English), other noun-modifier (Chinese)', '|', 'ADJ', '|', 'adjective'), (helmeted, '|', 'JJ', '|', 'adjective (English), other noun-modifier (Chinese)', '|', 'ADJ', '|', 'adjective'), (turtle, '|', 'NN', '|', 'noun, singular or mass', '|', 'NOUN', '|', 'noun'), (#, '|', '$', '|', 'symbol, currency', '|', 'SYM', '|', 'symbol'), ($, '|', '$', '|', 'symbol, currency', '|', 'SYM', '|', 'symbol'), (%, '|', 'NN', '|', 'noun, singular or mass', '|', 'NOUN', '|', 'noun'), (!, '|', '.', '|', 'punctuation mark, sentence closer', '|', 'PUNCT', '|', 'punctuation'), (!, '|', '.', '|', 'punctuation mark, sentence closer', '|', 'PUNCT', '|', 'punctuation'), (!, '|', '.', '|', 'punctuation mark, sentence closer', '|', 'PUNCT', '|', 'punctuation'), ((, '|', '-LRB-', '|', 'left round bracket', '|', 'PUNCT', '|', 'punctuation'), (Pelomedusa, '|', 'NNP', '|', 'noun, proper singular', '|', 'PROPN', '|', 'proper noun'), (subrufa, '|', 'NN', '|', 'noun, singular or mass', '|', 'NOUN', '|', 'noun'), (), '|', '-RRB-', '|', 'right round bracket', '|', 'PUNCT', '|', 'punctuation'), (is, '|', 'VBZ', '|', 'verb, 3rd person singular present', '|', 'AUX', '|', 'auxiliary'), (a, '|', 'DT', '|', 'determiner', '|', 'DET', '|', 'determiner'), (species, '|', 'NN', '|', 'noun, singular or mass', '|', 'NOUN', '|', 'noun'), (of, '|', 'IN', '|', 'conjunction, subordinating or preposition', '|', 'ADP', '|', 'adposition'), (side, '|', 'NN', '|', 'noun, singular or mass', '|', 'NOUN', '|', 'noun'), (-, '|', 'HYPH', '|', 'punctuation mark, hyphen', '|', 'PUNCT', '|', 'punctuation'), (necked, '|', 'VBN', '|', 'verb, past participle', '|', 'VERB', '|', 'verb'), (terrapin, '|', 'NN', '|', 'noun, singular or mass', '|', 'NOUN', '|', 'noun'), (in, '|', 'IN', '|', 'conjunction, subordinating or preposition', '|', 'ADP', '|', 'adposition'), (the, '|', 'DT', '|', 'determiner', '|', 'DET', '|', 'determiner'), (family, '|', 'NN', '|', 'noun, singular or mass', '|', 'NOUN', '|', 'noun'), (Pelomedusidae, '|', 'NNP', '|', 'noun, proper singular', '|', 'PROPN', '|', 'proper noun'), (., '|', '.', '|', 'punctuation mark, sentence closer', '|', 'PUNCT', '|', 'punctuation'), (The, '|', 'DT', '|', 'determiner', '|', 'DET', '|', 'determiner'), (species, '|', 'NNS', '|', 'noun, plural', '|', 'NOUN', '|', 'noun'), (naturally, '|', 'RB', '|', 'adverb', '|', 'ADV', '|', 'adverb'), (occurs, '|', 'VBZ', '|', 'verb, 3rd person singular present', '|', 'VERB', '|', 'verb'), (in, '|', 'IN', '|', 'conjunction, subordinating or preposition', '|', 'ADP', '|', 'adposition'), (fresh, '|', 'JJ', '|', 'adjective (English), other noun-modifier (Chinese)', '|', 'ADJ', '|', 'adjective'), (and, '|', 'CC', '|', 'conjunction, coordinating', '|', 'CCONJ', '|', 'coordinating conjunction'), (stagnant, '|', 'JJ', '|', 'adjective (English), other noun-modifier (Chinese)', '|', 'ADJ', '|', 'adjective'), (water, '|', 'NN', '|', 'noun, singular or mass', '|', 'NOUN', '|', 'noun'), (bodies, '|', 'NNS', '|', 'noun, plural', '|', 'NOUN', '|', 'noun'), (throughout, '|', 'IN', '|', 'conjunction, subordinating or preposition', '|', 'ADP', '|', 'adposition'), (much, '|', 'JJ', '|', 'adjective (English), other noun-modifier (Chinese)', '|', 'ADJ', '|', 'adjective'), (of, '|', 'IN', '|', 'conjunction, subordinating or preposition', '|', 'ADP', '|', 'adposition'), (sub, '|', 'JJ', '|', 'adjective (English), other noun-modifier (Chinese)', '|', 'ADJ', '|', 'adjective'), (-, '|', 'JJ', '|', 'adjective (English), other noun-modifier (Chinese)', '|', 'ADJ', '|', 'adjective'), (Saharan, '|', 'JJ', '|', 'adjective (English), other noun-modifier (Chinese)', '|', 'ADJ', '|', 'adjective'), (Africa, '|', 'NNP', '|', 'noun, proper singular', '|', 'PROPN', '|', 'proper noun'), (,, '|', ',', '|', 'punctuation mark, comma', '|', 'PUNCT', '|', 'punctuation'), (and, '|', 'CC', '|', 'conjunction, coordinating', '|', 'CCONJ', '|', 'coordinating conjunction'), (in, '|', 'IN', '|', 'conjunction, subordinating or preposition', '|', 'ADP', '|', 'adposition'), (southern, '|', 'JJ', '|', 'adjective (English), other noun-modifier (Chinese)', '|', 'ADJ', '|', 'adjective'), (Yemen, '|', 'NNP', '|', 'noun, proper singular', '|', 'PROPN', '|', 'proper noun'), (., '|', '.', '|', 'punctuation mark, sentence closer', '|', 'PUNCT', '|', 'punctuation'), (It, '|', 'PRP', '|', 'pronoun, personal', '|', 'PRON', '|', 'pronoun'), (is, '|', 'VBZ', '|', 'verb, 3rd person singular present', '|', 'AUX', '|', 'auxiliary'), (omnivorous, '|', 'JJ', '|', 'adjective (English), other noun-modifier (Chinese)', '|', 'ADJ', '|', 'adjective'), (,, '|', ',', '|', 'punctuation mark, comma', '|', 'PUNCT', '|', 'punctuation'), (with, '|', 'IN', '|', 'conjunction, subordinating or preposition', '|', 'ADP', '|', 'adposition'), (its, '|', 'PRP$', '|', 'pronoun, possessive', '|', 'PRON', '|', 'pronoun'), (diet, '|', 'NN', '|', 'noun, singular or mass', '|', 'NOUN', '|', 'noun'), (consisting, '|', 'VBG', '|', 'verb, gerund or present participle', '|', 'VERB', '|', 'verb'), (mainly, '|', 'RB', '|', 'adverb', '|', 'ADV', '|', 'adverb'), (of, '|', 'IN', '|', 'conjunction, subordinating or preposition', '|', 'ADP', '|', 'adposition'), (aquatic, '|', 'JJ', '|', 'adjective (English), other noun-modifier (Chinese)', '|', 'ADJ', '|', 'adjective'), (invertebrates, '|', 'NNS', '|', 'noun, plural', '|', 'NOUN', '|', 'noun'), (,, '|', ',', '|', 'punctuation mark, comma', '|', 'PUNCT', '|', 'punctuation'), (small, '|', 'JJ', '|', 'adjective (English), other noun-modifier (Chinese)', '|', 'ADJ', '|', 'adjective'), (fish, '|', 'NN', '|', 'noun, singular or mass', '|', 'NOUN', '|', 'noun'), (,, '|', ',', '|', 'punctuation mark, comma', '|', 'PUNCT', '|', 'punctuation'), (and, '|', 'CC', '|', 'conjunction, coordinating', '|', 'CCONJ', '|', 'coordinating conjunction'), (vegetation, '|', 'NN', '|', 'noun, singular or mass', '|', 'NOUN', '|', 'noun'), (., '|', '.', '|', 'punctuation mark, sentence closer', '|', 'PUNCT', '|', 'punctuation'), (It, '|', 'PRP', '|', 'pronoun, personal', '|', 'PRON', '|', 'pronoun'), (is, '|', 'VBZ', '|', 'verb, 3rd person singular present', '|', 'AUX', '|', 'auxiliary'), (typically, '|', 'RB', '|', 'adverb', '|', 'ADV', '|', 'adverb'), (a, '|', 'DT', '|', 'determiner', '|', 'DET', '|', 'determiner'), (small, '|', 'JJ', '|', 'adjective (English), other noun-modifier (Chinese)', '|', 'ADJ', '|', 'adjective'), (turtle, '|', 'NN', '|', 'noun, singular or mass', '|', 'NOUN', '|', 'noun'), (,, '|', ',', '|', 'punctuation mark, comma', '|', 'PUNCT', '|', 'punctuation'), (with, '|', 'IN', '|', 'conjunction, subordinating or preposition', '|', 'ADP', '|', 'adposition'), (most, '|', 'JJS', '|', 'adjective, superlative', '|', 'ADJ', '|', 'adjective'), (individuals, '|', 'NNS', '|', 'noun, plural', '|', 'NOUN', '|', 'noun'), (being, '|', 'VBG', '|', 'verb, gerund or present participle', '|', 'AUX', '|', 'auxiliary'), (less, '|', 'JJR', '|', 'adjective, comparative', '|', 'ADJ', '|', 'adjective'), (than, '|', 'IN', '|', 'conjunction, subordinating or preposition', '|', 'ADP', '|', 'adposition'), (20, '|', 'CD', '|', 'cardinal number', '|', 'NUM', '|', 'numeral'), (centimetres, '|', 'NNS', '|', 'noun, plural', '|', 'NOUN', '|', 'noun'), ((, '|', '-LRB-', '|', 'left round bracket', '|', 'PUNCT', '|', 'punctuation'), (7.9, '|', 'CD', '|', 'cardinal number', '|', 'NUM', '|', 'numeral'), (inches, '|', 'NNS', '|', 'noun, plural', '|', 'NOUN', '|', 'noun'), (), '|', '-RRB-', '|', 'right round bracket', '|', 'PUNCT', '|', 'punctuation'), (in, '|', 'IN', '|', 'conjunction, subordinating or preposition', '|', 'ADP', '|', 'adposition'), (straight, '|', 'JJ', '|', 'adjective (English), other noun-modifier (Chinese)', '|', 'ADJ', '|', 'adjective'), (carapace, '|', 'NN', '|', 'noun, singular or mass', '|', 'NOUN', '|', 'noun'), (length, '|', 'NN', '|', 'noun, singular or mass', '|', 'NOUN', '|', 'noun'), (., '|', '.', '|', 'punctuation mark, sentence closer', '|', 'PUNCT', '|', 'punctuation'), (The, '|', 'DT', '|', 'determiner', '|', 'DET', '|', 'determiner'), (female, '|', 'JJ', '|', 'adjective (English), other noun-modifier (Chinese)', '|', 'ADJ', '|', 'adjective'), (lays, '|', 'NNS', '|', 'noun, plural', '|', 'NOUN', '|', 'noun'), (two, '|', 'CD', '|', 'cardinal number', '|', 'NUM', '|', 'numeral'), (to, '|', 'TO', '|', 'infinitival \"to\"', '|', 'PART', '|', 'particle'), (ten, '|', 'CD', '|', 'cardinal number', '|', 'NUM', '|', 'numeral'), (eggs, '|', 'NNS', '|', 'noun, plural', '|', 'NOUN', '|', 'noun'), (on, '|', 'IN', '|', 'conjunction, subordinating or preposition', '|', 'ADP', '|', 'adposition'), (average, '|', 'JJ', '|', 'adjective (English), other noun-modifier (Chinese)', '|', 'ADJ', '|', 'adjective'), (,, '|', ',', '|', 'punctuation mark, comma', '|', 'PUNCT', '|', 'punctuation'), (normally, '|', 'RB', '|', 'adverb', '|', 'ADV', '|', 'adverb'), (during, '|', 'IN', '|', 'conjunction, subordinating or preposition', '|', 'ADP', '|', 'adposition'), (late, '|', 'JJ', '|', 'adjective (English), other noun-modifier (Chinese)', '|', 'ADJ', '|', 'adjective'), (spring, '|', 'NN', '|', 'noun, singular or mass', '|', 'NOUN', '|', 'noun'), (and, '|', 'CC', '|', 'conjunction, coordinating', '|', 'CCONJ', '|', 'coordinating conjunction'), (early, '|', 'JJ', '|', 'adjective (English), other noun-modifier (Chinese)', '|', 'ADJ', '|', 'adjective'), (summer, '|', 'NN', '|', 'noun, singular or mass', '|', 'NOUN', '|', 'noun'), (., '|', '.', '|', 'punctuation mark, sentence closer', '|', 'PUNCT', '|', 'punctuation'), (The, '|', 'DT', '|', 'determiner', '|', 'DET', '|', 'determiner'), (eggs, '|', 'NNS', '|', 'noun, plural', '|', 'NOUN', '|', 'noun'), (are, '|', 'VBP', '|', 'verb, non-3rd person singular present', '|', 'AUX', '|', 'auxiliary'), (placed, '|', 'VBN', '|', 'verb, past participle', '|', 'VERB', '|', 'verb'), (in, '|', 'IN', '|', 'conjunction, subordinating or preposition', '|', 'ADP', '|', 'adposition'), (a, '|', 'DT', '|', 'determiner', '|', 'DET', '|', 'determiner'), (flask, '|', 'NN', '|', 'noun, singular or mass', '|', 'NOUN', '|', 'noun'), (-, '|', 'HYPH', '|', 'punctuation mark, hyphen', '|', 'PUNCT', '|', 'punctuation'), (shaped, '|', 'VBN', '|', 'verb, past participle', '|', 'VERB', '|', 'verb'), (nest, '|', 'NN', '|', 'noun, singular or mass', '|', 'NOUN', '|', 'noun'), (about, '|', 'IN', '|', 'conjunction, subordinating or preposition', '|', 'ADP', '|', 'adposition'), (4, '|', 'CD', '|', 'cardinal number', '|', 'NUM', '|', 'numeral'), (to, '|', 'TO', '|', 'infinitival \"to\"', '|', 'PART', '|', 'particle'), (7, '|', 'CD', '|', 'cardinal number', '|', 'NUM', '|', 'numeral'), (inches, '|', 'NNS', '|', 'noun, plural', '|', 'NOUN', '|', 'noun'), ((, '|', '-LRB-', '|', 'left round bracket', '|', 'PUNCT', '|', 'punctuation'), (10, '|', 'CD', '|', 'cardinal number', '|', 'NUM', '|', 'numeral'), (to, '|', 'TO', '|', 'infinitival \"to\"', '|', 'PART', '|', 'particle'), (18, '|', 'CD', '|', 'cardinal number', '|', 'NUM', '|', 'numeral'), (centimetres, '|', 'NNS', '|', 'noun, plural', '|', 'NOUN', '|', 'noun'), (), '|', '-RRB-', '|', 'right round bracket', '|', 'PUNCT', '|', 'punctuation'), (deep, '|', 'RB', '|', 'adverb', '|', 'ADV', '|', 'adverb'), (and, '|', 'CC', '|', 'conjunction, coordinating', '|', 'CCONJ', '|', 'coordinating conjunction'), (hatch, '|', 'VB', '|', 'verb, base form', '|', 'VERB', '|', 'verb'), (in, '|', 'IN', '|', 'conjunction, subordinating or preposition', '|', 'ADP', '|', 'adposition'), (75, '|', 'CD', '|', 'cardinal number', '|', 'NUM', '|', 'numeral'), (to, '|', 'TO', '|', 'infinitival \"to\"', '|', 'PART', '|', 'particle'), (90, '|', 'CD', '|', 'cardinal number', '|', 'NUM', '|', 'numeral'), (days, '|', 'NNS', '|', 'noun, plural', '|', 'NOUN', '|', 'noun'), (., '|', '.', '|', 'punctuation mark, sentence closer', '|', 'PUNCT', '|', 'punctuation'), (This, '|', 'DT', '|', 'determiner', '|', 'DET', '|', 'determiner'), (African, '|', 'JJ', '|', 'adjective (English), other noun-modifier (Chinese)', '|', 'ADJ', '|', 'adjective'), (helmeted, '|', 'JJ', '|', 'adjective (English), other noun-modifier (Chinese)', '|', 'ADJ', '|', 'adjective'), (turtle, '|', 'NN', '|', 'noun, singular or mass', '|', 'NOUN', '|', 'noun'), (was, '|', 'VBD', '|', 'verb, past tense', '|', 'AUX', '|', 'auxiliary'), (photographed, '|', 'VBN', '|', 'verb, past participle', '|', 'VERB', '|', 'verb'), (in, '|', 'IN', '|', 'conjunction, subordinating or preposition', '|', 'ADP', '|', 'adposition'), (Phinda, '|', 'NNP', '|', 'noun, proper singular', '|', 'PROPN', '|', 'proper noun'), (Private, '|', 'NNP', '|', 'noun, proper singular', '|', 'PROPN', '|', 'proper noun'), (Game, '|', 'NNP', '|', 'noun, proper singular', '|', 'PROPN', '|', 'proper noun'), (Reserve, '|', 'NNP', '|', 'noun, proper singular', '|', 'PROPN', '|', 'proper noun'), (,, '|', ',', '|', 'punctuation mark, comma', '|', 'PUNCT', '|', 'punctuation'), (South, '|', 'NNP', '|', 'noun, proper singular', '|', 'PROPN', '|', 'proper noun'), (Africa, '|', 'NNP', '|', 'noun, proper singular', '|', 'PROPN', '|', 'proper noun'), (., '|', '.', '|', 'punctuation mark, sentence closer', '|', 'PUNCT', '|', 'punctuation')]\n",
      "----------\n"
     ]
    },
    {
     "ename": "NameError",
     "evalue": "name 'extract_ne' is not defined",
     "output_type": "error",
     "traceback": [
      "\u001b[1;31m---------------------------------------------------------------------------\u001b[0m",
      "\u001b[1;31mNameError\u001b[0m                                 Traceback (most recent call last)",
      "Cell \u001b[1;32mIn[106], line 13\u001b[0m\n\u001b[0;32m     11\u001b[0m \u001b[38;5;28mprint\u001b[39m(\u001b[38;5;124m\"\u001b[39m\u001b[38;5;124mPOS TAG:\u001b[39m\u001b[38;5;124m\"\u001b[39m,pos_tagged)\n\u001b[0;32m     12\u001b[0m \u001b[38;5;28mprint\u001b[39m(\u001b[38;5;124m\"\u001b[39m\u001b[38;5;124m----------\u001b[39m\u001b[38;5;124m\"\u001b[39m)\n\u001b[1;32m---> 13\u001b[0m ner_tagged\u001b[38;5;241m=\u001b[39mextract_ne(pos_tagged)\n\u001b[0;32m     14\u001b[0m \u001b[38;5;28mprint\u001b[39m(\u001b[38;5;124m\"\u001b[39m\u001b[38;5;124mNER TAGGED:\u001b[39m\u001b[38;5;124m\"\u001b[39m,ner_tagged)\n",
      "\u001b[1;31mNameError\u001b[0m: name 'extract_ne' is not defined"
     ]
    }
   ],
   "source": [
    "token=spacy_tokenizer(doc)\n",
    "print(\"TOKEN:\",token)\n",
    "print(\"----------\")\n",
    "stopword_filtered_list=spacy_remove_stopwords(token)\n",
    "print(\"STOPWORD FILTERED LIST:\",stopword_filtered_list)\n",
    "print(\"----------\")\n",
    "lemmatized_list=spacy_text_lemmatize(stopword_filtered_list)\n",
    "print(\"LEMMATISED LIST:\",lemmatized_list)\n",
    "print(\"----------\")\n",
    "pos_tagged=spacy_pos_tag(lemmatized_list)\n",
    "print(\"POS TAG:\",pos_tagged)\n",
    "print(\"----------\")\n",
    "ner_tagged=extract_ne(pos_tagged)\n",
    "print(\"NER TAGGED:\",ner_tagged)"
   ]
  },
  {
   "cell_type": "code",
   "execution_count": 234,
   "id": "9d852484-c733-4489-8d54-25756b0cc435",
   "metadata": {},
   "outputs": [
    {
     "name": "stdout",
     "output_type": "stream",
     "text": [
      "second | ORDINAL | \"first\", \"second\", etc.\n",
      "first | ORDINAL | \"first\", \"second\", etc.\n"
     ]
    }
   ],
   "source": [
    "## Predicting NAMED ENTITIES\n",
    "for ent in doc.ents:\n",
    "    print(ent.text,\"|\",ent.label_,\"|\",spacy.explain(ent.label_))"
   ]
  },
  {
   "cell_type": "code",
   "execution_count": 236,
   "id": "d323701c-d362-4369-8077-0a7b6a8695f7",
   "metadata": {},
   "outputs": [
    {
     "data": {
      "text/html": [
       "<span class=\"tex2jax_ignore\"><div class=\"entities\" style=\"line-height: 2.5; direction: ltr\">Fellow countrymen: at this \n",
       "<mark class=\"entity\" style=\"background: #e4e7d2; padding: 0.45em 0.6em; margin: 0 0.25em; line-height: 1; border-radius: 0.35em;\">\n",
       "    second\n",
       "    <span style=\"font-size: 0.8em; font-weight: bold; line-height: 1; border-radius: 0.35em; vertical-align: middle; margin-left: 0.5rem\">ORDINAL</span>\n",
       "</mark>\n",
       " appearing to take the oath of the presidential office there is less occasion for an extended address than there was at the \n",
       "<mark class=\"entity\" style=\"background: #e4e7d2; padding: 0.45em 0.6em; margin: 0 0.25em; line-height: 1; border-radius: 0.35em;\">\n",
       "    first\n",
       "    <span style=\"font-size: 0.8em; font-weight: bold; line-height: 1; border-radius: 0.35em; vertical-align: middle; margin-left: 0.5rem\">ORDINAL</span>\n",
       "</mark>\n",
       ". Then a statement somewhat in detail of a course to be pursued seemed fitting and proper.<br><br>With malice toward none with charity for all with firmness in the right as God gives us to see the right let us strive on to finish the work we are in to bind up the nation's wounds, to care for him who shall have borne the battle and for his widow and his orphan ~ to do all which may achieve and cherish a just and lasting peace among ourselves and with all nations.</div></span>"
      ],
      "text/plain": [
       "<IPython.core.display.HTML object>"
      ]
     },
     "metadata": {},
     "output_type": "display_data"
    }
   ],
   "source": [
    "## Displacy NAMES ENTITIES\n",
    "displacy.render(doc, style=\"ent\")"
   ]
  },
  {
   "cell_type": "code",
   "execution_count": 80,
   "id": "02a1892d-747e-46c1-bc08-8ca7ea23ee23",
   "metadata": {},
   "outputs": [
    {
     "name": "stdout",
     "output_type": "stream",
     "text": [
      "God gives us\n"
     ]
    }
   ],
   "source": [
    "## RULE BASED MATCHING\n",
    "## Match on Doc objects, Match on tokens and token attributes\n",
    "## Use a model's predictions (Noun vs Verb)\n",
    "\n",
    "import spacy\n",
    "\n",
    "# Import the Matcher\n",
    "from spacy.matcher import Matcher\n",
    "\n",
    "# Load a pipeline and create the nlp object\n",
    "nlp = spacy.load(\"en_core_web_sm\")\n",
    "\n",
    "# Process some text\n",
    "#doc1 = nlp(book)\n",
    "\n",
    "# Initialize the matcher with the shared vocab\n",
    "matcher = Matcher(nlp.vocab)\n",
    "\n",
    "# Add the pattern to the matcher\n",
    "# Match patterns are lists of dictionaries\n",
    "# Match using lexical attributes (IS_DIGIT, IS_PUNCT,LOWER)\n",
    "# Match using token attributes (LEMMA,POS)\n",
    "# Match using operators (\"OP\") or quantifiers (? (0,1time), + (1 or more),* (0 or more), ! (negation 0 times))\n",
    "pattern = [{\"LOWER\": \"god\"}, {\"LEMMA\": \"give\"},{\"POS\":\"PRON\"}]\n",
    "matcher.add(\"T\", [pattern])\n",
    "\n",
    "# Call the matcher on the doc\n",
    "matches = matcher(doc)\n",
    "\n",
    "# Iterate over the matches\n",
    "for match_id, start, end in matches:\n",
    "    # Get the matched span\n",
    "    matched_span = doc[start:end]\n",
    "    print(matched_span.text)"
   ]
  },
  {
   "cell_type": "code",
   "execution_count": 100,
   "id": "edf80681-32e3-47ab-af04-5db153c770f8",
   "metadata": {},
   "outputs": [
    {
     "name": "stdout",
     "output_type": "stream",
     "text": [
      "3197928453018144401\n",
      "3197928453018144401\n",
      "coffee\n",
      "coffee\n"
     ]
    }
   ],
   "source": [
    "## Shared Vocab\n",
    "## spaCy stores all shared data in a vocabulary, the Vocab. This includes words, but also the labels schemes for tags and entities.\n",
    "## To save memory, all strings are encoded to hash IDs. \n",
    "\n",
    "nlp.vocab.strings.add(\"coffee\")\n",
    "\n",
    "#look up hash value\n",
    "coffee_hash = nlp.vocab.strings[\"coffee\"]\n",
    "# The doc also exposes the vocab and strings\n",
    "doc_hash = doc.vocab.strings[\"coffee\"]                 \n",
    "\n",
    "#look up string value\n",
    "coffee_string = nlp.vocab.strings[coffee_hash]\n",
    "string = nlp.vocab.strings[3197928453018144401]           # If a word is not in the vocabulary, there's no way to get its string.\n",
    "\n",
    "print(coffee_hash)\n",
    "print(doc_hash)\n",
    "print(coffee_string)\n",
    "print(string)"
   ]
  },
  {
   "cell_type": "code",
   "execution_count": 102,
   "id": "f0afb8d8-a2bf-4861-ba2d-25809338d4d6",
   "metadata": {},
   "outputs": [
    {
     "name": "stdout",
     "output_type": "stream",
     "text": [
      "coffee 3197928453018144401 True\n"
     ]
    }
   ],
   "source": [
    "## Lexeme\n",
    "## Lexemes are context-independent entries in the vocabulary.\n",
    "## Lexemes don't have context-dependant entries like part-of-speech tags, dependencies or entity labels.\n",
    "\n",
    "doc = nlp(\"I love coffee\")\n",
    "lexeme = nlp.vocab[\"coffee\"]\n",
    "\n",
    "# Print the lexical attributes\n",
    "print(lexeme.text, lexeme.orth, lexeme.is_alpha)"
   ]
  },
  {
   "cell_type": "code",
   "execution_count": 116,
   "id": "f9448f02-4c90-4706-bee1-309ab4aac0b5",
   "metadata": {},
   "outputs": [
    {
     "name": "stdout",
     "output_type": "stream",
     "text": [
      "doc>>  Hello world!\n",
      "span>>  Hello world\n",
      "[('Hello world', 'GREETING')]\n"
     ]
    }
   ],
   "source": [
    "## Create Doc, Span, entities\n",
    "\n",
    "# Import the Doc and Span classes\n",
    "from spacy.tokens import Doc, Span\n",
    "\n",
    "# The words and spaces to create the doc from\n",
    "words = [\"Hello\", \"world\", \"!\"]\n",
    "spaces = [True, False, False]\n",
    "\n",
    "# Create a doc manually\n",
    "doc = Doc(nlp.vocab, words=words, spaces=spaces)\n",
    "print(\"doc>> \",doc)\n",
    "\n",
    "# Create a span manually\n",
    "span = Span(doc, 0, 2)\n",
    "\n",
    "# Create a span with a label\n",
    "span = Span(doc, 0, 2, label=\"GREETING\")\n",
    "print(\"span>> \",span)\n",
    "\n",
    "# Add span to the doc.ents\n",
    "doc.ents = [span]\n",
    "print([(ent.text, ent.label_) for ent in doc.ents])"
   ]
  },
  {
   "cell_type": "code",
   "execution_count": 134,
   "id": "766b0b6a-334e-4e23-8462-d44319f6ec63",
   "metadata": {},
   "outputs": [
    {
     "name": "stdout",
     "output_type": "stream",
     "text": [
      "Found proper noun before a verb: Berlin\n"
     ]
    }
   ],
   "source": [
    "## Best Practice on Dat Structures\n",
    "\n",
    "import spacy\n",
    "\n",
    "nlp = spacy.load(\"en_core_web_sm\")\n",
    "doc = nlp(\"Berlin looks like a nice city than Sydney\")\n",
    "\n",
    "# Get all tokens and part-of-speech tags   >> use native token attributes to keep things consistent, convert the results to strings as late as possible\n",
    "\"\"\"\n",
    "token_texts = [token.text for token in doc]\n",
    "pos_tags = [token.pos_ for token in doc]\n",
    "\"\"\"\n",
    "\n",
    "# Instead of below\n",
    "\"\"\"\n",
    "for index, pos in enumerate(pos_tags):\n",
    "    # Check if the current token is a proper noun\n",
    "    if pos == \"PROPN\":\n",
    "        # Check if the next token is a verb\n",
    "        if pos_tags[index + 1] == \"VERB\":\n",
    "            result = token_texts[index]\n",
    "            print(\"Found proper noun before a verb:\", result)\n",
    "\"\"\"\n",
    "\n",
    "# try this\n",
    "# Iterate over the tokens\n",
    "for token in doc:\n",
    "    # Check if the current token is a proper noun\n",
    "    if token.pos_ == \"PROPN\":\n",
    "        if token.i + 1 < len(doc):\n",
    "            # Check if the next token is a verb\n",
    "            if doc[token.i + 1].pos_ == \"VERB\":\n",
    "                print(\"Found proper noun before a verb:\", token.text)"
   ]
  },
  {
   "cell_type": "code",
   "execution_count": 142,
   "id": "a6c69159-9470-42cf-9073-1695cf56e4c8",
   "metadata": {},
   "outputs": [
    {
     "name": "stdout",
     "output_type": "stream",
     "text": [
      "doc similarity: 0.8698332283318978\n",
      "token similarity: 0.685019850730896\n",
      "0.1821369691957915\n",
      "0.47190033157126826\n"
     ]
    }
   ],
   "source": [
    "## Word vectors and semantic similarity\n",
    "## use spaCy to predict how similar documents, spans or tokens are to each other\n",
    "\n",
    "## The Doc, Token and Span objects have a .similarity method that takes another object\n",
    "## returns a floating point number between 0 and 1, indicating how similar they are.\n",
    "## use medium or large spacy pipeline (not small)\n",
    "\n",
    "# Load a larger pipeline with vectors\n",
    "nlp = spacy.load(\"en_core_web_md\")\n",
    "\n",
    "# Compare two documents\n",
    "doc1 = nlp(\"I like fast food\")\n",
    "doc2 = nlp(\"I like pizza\")\n",
    "print(\"doc similarity:\",doc1.similarity(doc2))\n",
    "\n",
    "# Compare two tokens\n",
    "doc = nlp(\"I like pizza and pasta\")\n",
    "token1 = doc[2]\n",
    "token2 = doc[4]\n",
    "print(\"token similarity:\",token1.similarity(token2))"
   ]
  },
  {
   "cell_type": "code",
   "execution_count": 144,
   "id": "d81499ec-95e3-4c59-8312-bb2050c2ebd7",
   "metadata": {},
   "outputs": [
    {
     "name": "stdout",
     "output_type": "stream",
     "text": [
      "0.1821369691957915\n",
      "0.47190033157126826\n"
     ]
    }
   ],
   "source": [
    "## You can also use the similarity methods to compare different types of objects. For example, a document and a token.\n",
    "\n",
    "# Compare a document with a token\n",
    "doc = nlp(\"I like pizza\")\n",
    "token = nlp(\"soap\")[0]\n",
    "print(doc.similarity(token))\n",
    "\n",
    "# Compare a span with a document\n",
    "span = nlp(\"I like pizza and pasta\")[2:5]\n",
    "doc = nlp(\"McDonalds sells burgers\")\n",
    "print(span.similarity(doc))"
   ]
  },
  {
   "cell_type": "code",
   "execution_count": 148,
   "id": "36298efe-7def-4024-982d-4d70b8694d26",
   "metadata": {},
   "outputs": [
    {
     "name": "stdout",
     "output_type": "stream",
     "text": [
      "[ 0.20778  -2.4151    0.36605   2.0139   -0.23752  -3.1952   -0.2952\n",
      "  1.2272   -3.4129   -0.54969   0.32634  -1.0813    0.55626   1.5195\n",
      "  0.97797  -3.1816   -0.37207  -0.86093   2.1509   -4.0845    0.035405\n",
      "  3.5702   -0.79413  -1.7025   -1.6371   -3.198    -1.9387    0.91166\n",
      "  0.85409   1.8039   -1.103    -2.5274    1.6365   -0.82082   1.0278\n",
      " -1.705     1.5511   -0.95633  -1.4702   -1.865    -0.19324  -0.49123\n",
      "  2.2361    2.2119    3.6654    1.7943   -0.20601   1.5483   -1.3964\n",
      " -0.50819   2.1288   -2.332     1.3539   -2.1917    1.8923    0.28472\n",
      "  0.54285   1.2309    0.26027   1.9542    1.1739   -0.40348   3.2028\n",
      "  0.75381  -2.7179   -1.3587   -1.1965   -2.0923    2.2855   -0.3058\n",
      " -0.63174   0.70083   0.16899   1.2325    0.97006  -0.23356  -2.094\n",
      " -1.737     3.6075   -1.511    -0.9135    0.53878   0.49268   0.44751\n",
      "  0.6315    1.4963    4.1725    2.1961   -1.2409    0.4214    2.9678\n",
      "  1.841     3.0133   -4.4652    0.96521  -0.29787   4.3386   -1.2527\n",
      " -1.7734   -3.5637   -0.20035  -3.3013    0.99951  -0.92888  -0.94594\n",
      "  1.5124   -3.9385    2.7935   -3.1042    3.3382    0.54513  -0.37663\n",
      "  2.5151    0.51468  -0.88907   1.011     3.4705   -3.6037    1.3702\n",
      "  2.3468    1.6674    1.3904   -2.8112    2.237    -1.0344   -0.57164\n",
      "  1.0641   -1.6919    1.958    -0.78305   0.14741   0.51083   1.8278\n",
      " -0.69638   0.90548   0.62282  -1.8315   -2.8587    0.48424  -2.0527\n",
      " -0.53808  -2.3472    1.0354   -1.8257   -0.3892   -0.24943   0.8651\n",
      " -1.5195    1.2166   -2.698    -0.96698   2.2175   -0.16089  -0.49677\n",
      " -0.19646   1.3284    4.0824    1.3919    0.80669  -1.0316   -0.28056\n",
      " -1.8632    0.47716  -0.53628   1.3853   -2.1755   -0.2354    2.4933\n",
      " -0.87255   1.4493   -0.10778  -0.44159   1.3462    4.4211   -1.8385\n",
      "  0.3985    0.47637  -0.60074   3.3583   -0.15006  -0.40495   2.7225\n",
      " -1.6297    0.86797  -4.1445   -2.7793    1.1535   -0.011691  0.9792\n",
      " -1.0141    0.80134   0.43642   1.4337    2.8927    0.82871  -1.1827\n",
      " -1.3838    2.3903   -0.89323   1.1461   -1.7435    0.8654   -0.27075\n",
      " -0.78698   1.5631   -0.5923    0.098082 -0.26682   1.6282   -0.77495\n",
      "  3.2552    1.7964   -1.4314    1.2336    2.3102   -1.6328    2.8366\n",
      " -0.71384   0.43967   1.5627    3.079    -0.922    -0.43981  -0.7659\n",
      "  1.9362   -2.2479    1.041     0.63206   1.5855    3.4097   -2.9204\n",
      " -1.4751   -0.59534  -1.688    -4.1362    2.745    -2.8515    3.6509\n",
      " -0.66993  -2.8794    2.0733    1.1779   -2.0307    2.595    -0.12246\n",
      "  1.5844    1.1855    0.022385 -2.2916   -2.2684   -2.7537    0.34981\n",
      " -4.6243   -0.96521  -1.1435   -2.8894   -0.12619   2.9577   -1.7227\n",
      "  0.24757   1.2149    3.5349   -0.95802   0.080346 -1.6553   -0.6734\n",
      "  2.2918   -1.8229   -1.1336    1.8884    2.4789   -0.66061   2.0529\n",
      " -0.76687   0.32362  -2.2579    0.91278   0.36231   0.61562  -0.15396\n",
      " -0.42917  -0.89848   0.17298  -0.76978  -2.0222   -1.7127   -1.5632\n",
      "  0.56631  -1.354     2.6261    1.9156   -1.5651    1.8315   -1.4257\n",
      " -1.6861   -0.51953   1.7635   -0.50722   1.388    -1.1012  ]\n"
     ]
    }
   ],
   "source": [
    "## Similarity is determined using word vectors, multi-dimensional representations of meanings of words.\n",
    "## Algorithms like Word2Vec (that are used to convert raw text to vectors) can be added to Spacy's pipeline\n",
    "## By default, the similarity returned by spaCy is the cosine similarity between two vectors – but this can be adjusted if necessary.\n",
    "## Doc and Span vectors default to average of token vectors\n",
    "\n",
    "# Load a larger pipeline with vectors\n",
    "nlp = spacy.load(\"en_core_web_md\")\n",
    "doc = nlp(\"I have a banana\")\n",
    "\n",
    "# Access the vector via the token.vector attribute\n",
    "print(doc[3].vector)"
   ]
  },
  {
   "cell_type": "code",
   "execution_count": null,
   "id": "90f1fc50-49b3-4e4d-b20b-7032848953b7",
   "metadata": {},
   "outputs": [],
   "source": [
    "## similarity depends on the context and what application needs to do\n",
    "## Useful for many applications: recommendation systems, flagging duplicates etc.\n",
    "\n",
    "doc1 = nlp(\"I like cats\")\n",
    "doc2 = nlp(\"I hate cats\")\n",
    "\n",
    "print(doc1.similarity(doc2))\n",
    "\n",
    "## high similarity score because both texts express sentiment about cats\n",
    "## in a different application context, you might want to consider the phrases as very dissimilar, because they talk about opposite sentiments."
   ]
  }
 ],
 "metadata": {
  "kernelspec": {
   "display_name": "Python 3 (ipykernel)",
   "language": "python",
   "name": "python3"
  },
  "language_info": {
   "codemirror_mode": {
    "name": "ipython",
    "version": 3
   },
   "file_extension": ".py",
   "mimetype": "text/x-python",
   "name": "python",
   "nbconvert_exporter": "python",
   "pygments_lexer": "ipython3",
   "version": "3.12.7"
  }
 },
 "nbformat": 4,
 "nbformat_minor": 5
}
