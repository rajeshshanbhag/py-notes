{
 "cells": [
  {
   "cell_type": "code",
   "execution_count": null,
   "id": "7ba8871b-21dc-452e-b7df-40e8789bb153",
   "metadata": {},
   "outputs": [],
   "source": [
    "# https://www.nlpdemystified.org/course/tokenization"
   ]
  },
  {
   "cell_type": "code",
   "execution_count": 69,
   "id": "01f8d49e-fe95-44c5-9eaf-9ff79690c552",
   "metadata": {},
   "outputs": [
    {
     "name": "stdout",
     "output_type": "stream",
     "text": [
      "Requirement already satisfied: spacy==3.* in c:\\users\\rajes\\anaconda3\\lib\\site-packages (3.8.2)\n",
      "Requirement already satisfied: spacy-legacy<3.1.0,>=3.0.11 in c:\\users\\rajes\\anaconda3\\lib\\site-packages (from spacy==3.*) (3.0.12)\n",
      "Requirement already satisfied: spacy-loggers<2.0.0,>=1.0.0 in c:\\users\\rajes\\anaconda3\\lib\\site-packages (from spacy==3.*) (1.0.5)\n",
      "Requirement already satisfied: murmurhash<1.1.0,>=0.28.0 in c:\\users\\rajes\\anaconda3\\lib\\site-packages (from spacy==3.*) (1.0.10)\n",
      "Requirement already satisfied: cymem<2.1.0,>=2.0.2 in c:\\users\\rajes\\anaconda3\\lib\\site-packages (from spacy==3.*) (2.0.8)\n",
      "Requirement already satisfied: preshed<3.1.0,>=3.0.2 in c:\\users\\rajes\\anaconda3\\lib\\site-packages (from spacy==3.*) (3.0.9)\n",
      "Requirement already satisfied: thinc<8.4.0,>=8.3.0 in c:\\users\\rajes\\anaconda3\\lib\\site-packages (from spacy==3.*) (8.3.2)\n",
      "Requirement already satisfied: wasabi<1.2.0,>=0.9.1 in c:\\users\\rajes\\anaconda3\\lib\\site-packages (from spacy==3.*) (1.1.3)\n",
      "Requirement already satisfied: srsly<3.0.0,>=2.4.3 in c:\\users\\rajes\\anaconda3\\lib\\site-packages (from spacy==3.*) (2.4.8)\n",
      "Requirement already satisfied: catalogue<2.1.0,>=2.0.6 in c:\\users\\rajes\\anaconda3\\lib\\site-packages (from spacy==3.*) (2.0.10)\n",
      "Requirement already satisfied: weasel<0.5.0,>=0.1.0 in c:\\users\\rajes\\anaconda3\\lib\\site-packages (from spacy==3.*) (0.4.1)\n",
      "Requirement already satisfied: typer<1.0.0,>=0.3.0 in c:\\users\\rajes\\anaconda3\\lib\\site-packages (from spacy==3.*) (0.12.5)\n",
      "Requirement already satisfied: tqdm<5.0.0,>=4.38.0 in c:\\users\\rajes\\anaconda3\\lib\\site-packages (from spacy==3.*) (4.66.4)\n",
      "Requirement already satisfied: requests<3.0.0,>=2.13.0 in c:\\users\\rajes\\anaconda3\\lib\\site-packages (from spacy==3.*) (2.32.2)\n",
      "Requirement already satisfied: pydantic!=1.8,!=1.8.1,<3.0.0,>=1.7.4 in c:\\users\\rajes\\anaconda3\\lib\\site-packages (from spacy==3.*) (2.5.3)\n",
      "Requirement already satisfied: jinja2 in c:\\users\\rajes\\anaconda3\\lib\\site-packages (from spacy==3.*) (3.1.4)\n",
      "Requirement already satisfied: setuptools in c:\\users\\rajes\\anaconda3\\lib\\site-packages (from spacy==3.*) (69.5.1)\n",
      "Requirement already satisfied: packaging>=20.0 in c:\\users\\rajes\\anaconda3\\lib\\site-packages (from spacy==3.*) (23.2)\n",
      "Requirement already satisfied: langcodes<4.0.0,>=3.2.0 in c:\\users\\rajes\\anaconda3\\lib\\site-packages (from spacy==3.*) (3.4.1)\n",
      "Requirement already satisfied: numpy>=1.19.0 in c:\\users\\rajes\\anaconda3\\lib\\site-packages (from spacy==3.*) (2.0.1)\n",
      "Requirement already satisfied: language-data>=1.2 in c:\\users\\rajes\\anaconda3\\lib\\site-packages (from langcodes<4.0.0,>=3.2.0->spacy==3.*) (1.2.0)\n",
      "Requirement already satisfied: annotated-types>=0.4.0 in c:\\users\\rajes\\anaconda3\\lib\\site-packages (from pydantic!=1.8,!=1.8.1,<3.0.0,>=1.7.4->spacy==3.*) (0.6.0)\n",
      "Requirement already satisfied: pydantic-core==2.14.6 in c:\\users\\rajes\\anaconda3\\lib\\site-packages (from pydantic!=1.8,!=1.8.1,<3.0.0,>=1.7.4->spacy==3.*) (2.14.6)\n",
      "Requirement already satisfied: typing-extensions>=4.6.1 in c:\\users\\rajes\\anaconda3\\lib\\site-packages (from pydantic!=1.8,!=1.8.1,<3.0.0,>=1.7.4->spacy==3.*) (4.11.0)\n",
      "Requirement already satisfied: charset-normalizer<4,>=2 in c:\\users\\rajes\\anaconda3\\lib\\site-packages (from requests<3.0.0,>=2.13.0->spacy==3.*) (2.0.4)\n",
      "Requirement already satisfied: idna<4,>=2.5 in c:\\users\\rajes\\anaconda3\\lib\\site-packages (from requests<3.0.0,>=2.13.0->spacy==3.*) (3.7)\n",
      "Requirement already satisfied: urllib3<3,>=1.21.1 in c:\\users\\rajes\\anaconda3\\lib\\site-packages (from requests<3.0.0,>=2.13.0->spacy==3.*) (2.2.2)\n",
      "Requirement already satisfied: certifi>=2017.4.17 in c:\\users\\rajes\\anaconda3\\lib\\site-packages (from requests<3.0.0,>=2.13.0->spacy==3.*) (2024.8.30)\n",
      "Requirement already satisfied: blis<1.1.0,>=1.0.0 in c:\\users\\rajes\\anaconda3\\lib\\site-packages (from thinc<8.4.0,>=8.3.0->spacy==3.*) (1.0.1)\n",
      "Requirement already satisfied: confection<1.0.0,>=0.0.1 in c:\\users\\rajes\\anaconda3\\lib\\site-packages (from thinc<8.4.0,>=8.3.0->spacy==3.*) (0.1.5)\n",
      "Requirement already satisfied: colorama in c:\\users\\rajes\\anaconda3\\lib\\site-packages (from tqdm<5.0.0,>=4.38.0->spacy==3.*) (0.4.6)\n",
      "Requirement already satisfied: click>=8.0.0 in c:\\users\\rajes\\anaconda3\\lib\\site-packages (from typer<1.0.0,>=0.3.0->spacy==3.*) (8.1.7)\n",
      "Requirement already satisfied: shellingham>=1.3.0 in c:\\users\\rajes\\anaconda3\\lib\\site-packages (from typer<1.0.0,>=0.3.0->spacy==3.*) (1.5.4)\n",
      "Requirement already satisfied: rich>=10.11.0 in c:\\users\\rajes\\anaconda3\\lib\\site-packages (from typer<1.0.0,>=0.3.0->spacy==3.*) (13.3.5)\n",
      "Requirement already satisfied: cloudpathlib<1.0.0,>=0.7.0 in c:\\users\\rajes\\anaconda3\\lib\\site-packages (from weasel<0.5.0,>=0.1.0->spacy==3.*) (0.19.0)\n",
      "Requirement already satisfied: smart-open<8.0.0,>=5.2.1 in c:\\users\\rajes\\anaconda3\\lib\\site-packages (from weasel<0.5.0,>=0.1.0->spacy==3.*) (5.2.1)\n",
      "Requirement already satisfied: MarkupSafe>=2.0 in c:\\users\\rajes\\anaconda3\\lib\\site-packages (from jinja2->spacy==3.*) (2.1.3)\n",
      "Requirement already satisfied: marisa-trie>=0.7.7 in c:\\users\\rajes\\anaconda3\\lib\\site-packages (from language-data>=1.2->langcodes<4.0.0,>=3.2.0->spacy==3.*) (1.2.0)\n",
      "Requirement already satisfied: markdown-it-py<3.0.0,>=2.2.0 in c:\\users\\rajes\\anaconda3\\lib\\site-packages (from rich>=10.11.0->typer<1.0.0,>=0.3.0->spacy==3.*) (2.2.0)\n",
      "Requirement already satisfied: pygments<3.0.0,>=2.13.0 in c:\\users\\rajes\\anaconda3\\lib\\site-packages (from rich>=10.11.0->typer<1.0.0,>=0.3.0->spacy==3.*) (2.15.1)\n",
      "Requirement already satisfied: mdurl~=0.1 in c:\\users\\rajes\\anaconda3\\lib\\site-packages (from markdown-it-py<3.0.0,>=2.2.0->rich>=10.11.0->typer<1.0.0,>=0.3.0->spacy==3.*) (0.1.0)\n"
     ]
    }
   ],
   "source": [
    "!pip install -U spacy==3.*"
   ]
  },
  {
   "cell_type": "code",
   "execution_count": 71,
   "id": "31507e68-1c99-42bd-a8d1-5deed693b3fa",
   "metadata": {},
   "outputs": [],
   "source": [
    "#!pip install blis"
   ]
  },
  {
   "cell_type": "code",
   "execution_count": 73,
   "id": "1d33ccf7-6f93-47cf-9df5-9f55bb785bdf",
   "metadata": {},
   "outputs": [],
   "source": [
    "#!python -m spacy info"
   ]
  },
  {
   "cell_type": "code",
   "execution_count": 75,
   "id": "d32dadff-8cdb-44f1-860f-409cde83b741",
   "metadata": {},
   "outputs": [],
   "source": [
    "#import spacy"
   ]
  },
  {
   "cell_type": "code",
   "execution_count": 77,
   "id": "daa7c508-baf8-422b-8c40-d52e71f1a8ca",
   "metadata": {},
   "outputs": [
    {
     "name": "stderr",
     "output_type": "stream",
     "text": [
      "Traceback (most recent call last):\n",
      "  File \"<frozen runpy>\", line 189, in _run_module_as_main\n",
      "  File \"<frozen runpy>\", line 148, in _get_module_details\n",
      "  File \"<frozen runpy>\", line 112, in _get_module_details\n",
      "  File \"C:\\Users\\rajes\\anaconda3\\Lib\\site-packages\\spacy\\__init__.py\", line 6, in <module>\n",
      "    from .errors import setup_default_warnings\n",
      "  File \"C:\\Users\\rajes\\anaconda3\\Lib\\site-packages\\spacy\\errors.py\", line 3, in <module>\n",
      "    from .compat import Literal\n",
      "  File \"C:\\Users\\rajes\\anaconda3\\Lib\\site-packages\\spacy\\compat.py\", line 4, in <module>\n",
      "    from thinc.util import copy_array\n",
      "  File \"C:\\Users\\rajes\\anaconda3\\Lib\\site-packages\\thinc\\__init__.py\", line 5, in <module>\n",
      "    from .config import registry\n",
      "  File \"C:\\Users\\rajes\\anaconda3\\Lib\\site-packages\\thinc\\config.py\", line 5, in <module>\n",
      "    from .types import Decorator\n",
      "  File \"C:\\Users\\rajes\\anaconda3\\Lib\\site-packages\\thinc\\types.py\", line 25, in <module>\n",
      "    from .compat import cupy, has_cupy\n",
      "  File \"C:\\Users\\rajes\\anaconda3\\Lib\\site-packages\\thinc\\compat.py\", line 99, in <module>\n",
      "    import h5py\n",
      "  File \"C:\\Users\\rajes\\anaconda3\\Lib\\site-packages\\h5py\\__init__.py\", line 45, in <module>\n",
      "    from ._conv import register_converters as _register_converters, \\\n",
      "  File \"h5py\\\\_conv.pyx\", line 1, in init h5py._conv\n",
      "  File \"h5py\\\\h5r.pyx\", line 1, in init h5py.h5r\n",
      "  File \"h5py\\\\h5p.pyx\", line 1, in init h5py.h5p\n",
      "ValueError: numpy.dtype size changed, may indicate binary incompatibility. Expected 96 from C header, got 88 from PyObject\n"
     ]
    }
   ],
   "source": [
    "!python -m spacy download en_core_web_sm"
   ]
  },
  {
   "cell_type": "code",
   "execution_count": null,
   "id": "79d14c6e-c32b-440a-b9a1-108e8b8bb958",
   "metadata": {},
   "outputs": [],
   "source": []
  }
 ],
 "metadata": {
  "kernelspec": {
   "display_name": "Python 3 (ipykernel)",
   "language": "python",
   "name": "python3"
  },
  "language_info": {
   "codemirror_mode": {
    "name": "ipython",
    "version": 3
   },
   "file_extension": ".py",
   "mimetype": "text/x-python",
   "name": "python",
   "nbconvert_exporter": "python",
   "pygments_lexer": "ipython3",
   "version": "3.12.3"
  }
 },
 "nbformat": 4,
 "nbformat_minor": 5
}
