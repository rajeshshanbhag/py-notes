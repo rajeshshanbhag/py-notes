{
 "cells": [
  {
   "cell_type": "code",
   "execution_count": 1,
   "id": "c5fc00aa-d8a9-4249-b645-56c7cc9617b5",
   "metadata": {},
   "outputs": [
    {
     "name": "stdout",
     "output_type": "stream",
     "text": [
      "The African helmeted turtle #$%!!! (Pelomedusa subrufa) is a species of side-necked terrapin in the family Pelomedusidae. The species naturally occurs in fresh and stagnant water bodies throughout much of sub-Saharan Africa, and in southern Yemen. It is omnivorous, with its diet consisting mainly of aquatic invertebrates, small fish, and vegetation. It is typically a small turtle, with most individuals being less than 20 centimetres (7.9 inches) in straight carapace length. The female lays two to ten eggs on average, normally during late spring and early summer. The eggs are placed in a flask-shaped nest about 4 to 7 inches (10 to 18 centimetres) deep and hatch in 75 to 90 days. This African helmeted turtle was photographed in Phinda Private Game Reserve, South Africa.\n"
     ]
    }
   ],
   "source": [
    "## Load text\n",
    "enc='utf-8'\n",
    "with open(\"African_helmeted_turtle.txt\",\"r\",encoding=enc) as f:\n",
    "    book=f.read()\n",
    "    print(book)"
   ]
  },
  {
   "cell_type": "code",
   "execution_count": 2,
   "id": "6ff64fc9-39b8-4b57-ad01-b31c17130226",
   "metadata": {},
   "outputs": [],
   "source": [
    "import spacy\n",
    "nlp = spacy.load(\"en_core_web_sm\")"
   ]
  },
  {
   "cell_type": "code",
   "execution_count": 3,
   "id": "0bc877d4-a41a-4fce-9ed5-951980968155",
   "metadata": {},
   "outputs": [],
   "source": [
    "doc=nlp(book)"
   ]
  },
  {
   "cell_type": "code",
   "execution_count": 29,
   "id": "fe38c465-4054-4e9e-9066-ff3c90146229",
   "metadata": {},
   "outputs": [],
   "source": [
    "## sentence / word tokenization\n",
    "def spacy_tokenizer(text):\n",
    "    #token=[sentence for sentence in text.sents]\n",
    "    return [t.text for t in text]                #.idx is starting posiiton in doc   "
   ]
  },
  {
   "cell_type": "code",
   "execution_count": 30,
   "id": "a76c5048-9b96-49fd-8ee4-4f0397d26287",
   "metadata": {},
   "outputs": [
    {
     "name": "stdout",
     "output_type": "stream",
     "text": [
      "TOKEN: ['The', 'African', 'helmeted', 'turtle', '#', '$', '%', '!', '!', '!', '(', 'Pelomedusa', 'subrufa', ')', 'is', 'a', 'species', 'of', 'side', '-', 'necked', 'terrapin', 'in', 'the', 'family', 'Pelomedusidae', '.', 'The', 'species', 'naturally', 'occurs', 'in', 'fresh', 'and', 'stagnant', 'water', 'bodies', 'throughout', 'much', 'of', 'sub', '-', 'Saharan', 'Africa', ',', 'and', 'in', 'southern', 'Yemen', '.', 'It', 'is', 'omnivorous', ',', 'with', 'its', 'diet', 'consisting', 'mainly', 'of', 'aquatic', 'invertebrates', ',', 'small', 'fish', ',', 'and', 'vegetation', '.', 'It', 'is', 'typically', 'a', 'small', 'turtle', ',', 'with', 'most', 'individuals', 'being', 'less', 'than', '20', 'centimetres', '(', '7.9', 'inches', ')', 'in', 'straight', 'carapace', 'length', '.', 'The', 'female', 'lays', 'two', 'to', 'ten', 'eggs', 'on', 'average', ',', 'normally', 'during', 'late', 'spring', 'and', 'early', 'summer', '.', 'The', 'eggs', 'are', 'placed', 'in', 'a', 'flask', '-', 'shaped', 'nest', 'about', '4', 'to', '7', 'inches', '(', '10', 'to', '18', 'centimetres', ')', 'deep', 'and', 'hatch', 'in', '75', 'to', '90', 'days', '.', 'This', 'African', 'helmeted', 'turtle', 'was', 'photographed', 'in', 'Phinda', 'Private', 'Game', 'Reserve', ',', 'South', 'Africa', '.']\n"
     ]
    }
   ],
   "source": [
    "tokens=spacy_tokenizer(doc)\n",
    "print(\"TOKEN:\",tokens)"
   ]
  },
  {
   "cell_type": "code",
   "execution_count": 28,
   "id": "b43c4481-4fa4-47bc-a683-33873b2f4639",
   "metadata": {},
   "outputs": [],
   "source": [
    "## Token attributes\n",
    "def spacy_token_attr(token_list):\n",
    "    import tabulate\n",
    "    from tabulate import tabulate\n",
    "    header=['token','token.i','token.is_alpha','token.is_punct','token.like_num']\n",
    "    data=[(t,t.i,t.is_alpha,t.is_punct,t.like_num) for t in token_list]\n",
    "    return tabulate(data,headers=header)"
   ]
  },
  {
   "cell_type": "code",
   "execution_count": 27,
   "id": "1d05effb-bc16-4639-ada5-4d5e5955c812",
   "metadata": {},
   "outputs": [
    {
     "name": "stdout",
     "output_type": "stream",
     "text": [
      "The African helmeted turtle #$%!!! (Pelomedusa subrufa) is a species of side-necked terrapin in the family Pelomedusidae. The species naturally occurs in fresh and stagnant water bodies throughout much of sub-Saharan Africa, and in southern Yemen. It is omnivorous, with its diet consisting mainly of aquatic invertebrates, small fish, and vegetation. It is typically a small turtle, with most individuals being less than 20 centimetres (7.9 inches) in straight carapace length. The female lays two to ten eggs on average, normally during late spring and early summer. The eggs are placed in a flask-shaped nest about 4 to 7 inches (10 to 18 centimetres) deep and hatch in 75 to 90 days. This African helmeted turtle was photographed in Phinda Private Game Reserve, South Africa.\n",
      "token            token.i  token.is_alpha    token.is_punct    token.like_num\n",
      "-------------  ---------  ----------------  ----------------  ----------------\n",
      "The                    0  True              False             False\n",
      "African                1  True              False             False\n",
      "helmeted               2  True              False             False\n",
      "turtle                 3  True              False             False\n",
      "#                      4  False             True              False\n",
      "$                      5  False             False             False\n",
      "%                      6  False             True              False\n",
      "!                      7  False             True              False\n",
      "!                      8  False             True              False\n",
      "!                      9  False             True              False\n",
      "(                     10  False             True              False\n",
      "Pelomedusa            11  True              False             False\n",
      "subrufa               12  True              False             False\n",
      ")                     13  False             True              False\n",
      "is                    14  True              False             False\n",
      "a                     15  True              False             False\n",
      "species               16  True              False             False\n",
      "of                    17  True              False             False\n",
      "side                  18  True              False             False\n",
      "-                     19  False             True              False\n",
      "necked                20  True              False             False\n",
      "terrapin              21  True              False             False\n",
      "in                    22  True              False             False\n",
      "the                   23  True              False             False\n",
      "family                24  True              False             False\n",
      "Pelomedusidae         25  True              False             False\n",
      ".                     26  False             True              False\n",
      "The                   27  True              False             False\n",
      "species               28  True              False             False\n",
      "naturally             29  True              False             False\n",
      "occurs                30  True              False             False\n",
      "in                    31  True              False             False\n",
      "fresh                 32  True              False             False\n",
      "and                   33  True              False             False\n",
      "stagnant              34  True              False             False\n",
      "water                 35  True              False             False\n",
      "bodies                36  True              False             False\n",
      "throughout            37  True              False             False\n",
      "much                  38  True              False             False\n",
      "of                    39  True              False             False\n",
      "sub                   40  True              False             False\n",
      "-                     41  False             True              False\n",
      "Saharan               42  True              False             False\n",
      "Africa                43  True              False             False\n",
      ",                     44  False             True              False\n",
      "and                   45  True              False             False\n",
      "in                    46  True              False             False\n",
      "southern              47  True              False             False\n",
      "Yemen                 48  True              False             False\n",
      ".                     49  False             True              False\n",
      "It                    50  True              False             False\n",
      "is                    51  True              False             False\n",
      "omnivorous            52  True              False             False\n",
      ",                     53  False             True              False\n",
      "with                  54  True              False             False\n",
      "its                   55  True              False             False\n",
      "diet                  56  True              False             False\n",
      "consisting            57  True              False             False\n",
      "mainly                58  True              False             False\n",
      "of                    59  True              False             False\n",
      "aquatic               60  True              False             False\n",
      "invertebrates         61  True              False             False\n",
      ",                     62  False             True              False\n",
      "small                 63  True              False             False\n",
      "fish                  64  True              False             False\n",
      ",                     65  False             True              False\n",
      "and                   66  True              False             False\n",
      "vegetation            67  True              False             False\n",
      ".                     68  False             True              False\n",
      "It                    69  True              False             False\n",
      "is                    70  True              False             False\n",
      "typically             71  True              False             False\n",
      "a                     72  True              False             False\n",
      "small                 73  True              False             False\n",
      "turtle                74  True              False             False\n",
      ",                     75  False             True              False\n",
      "with                  76  True              False             False\n",
      "most                  77  True              False             False\n",
      "individuals           78  True              False             False\n",
      "being                 79  True              False             False\n",
      "less                  80  True              False             False\n",
      "than                  81  True              False             False\n",
      "20                    82  False             False             True\n",
      "centimetres           83  True              False             False\n",
      "(                     84  False             True              False\n",
      "7.9                   85  False             False             True\n",
      "inches                86  True              False             False\n",
      ")                     87  False             True              False\n",
      "in                    88  True              False             False\n",
      "straight              89  True              False             False\n",
      "carapace              90  True              False             False\n",
      "length                91  True              False             False\n",
      ".                     92  False             True              False\n",
      "The                   93  True              False             False\n",
      "female                94  True              False             False\n",
      "lays                  95  True              False             False\n",
      "two                   96  True              False             True\n",
      "to                    97  True              False             False\n",
      "ten                   98  True              False             True\n",
      "eggs                  99  True              False             False\n",
      "on                   100  True              False             False\n",
      "average              101  True              False             False\n",
      ",                    102  False             True              False\n",
      "normally             103  True              False             False\n",
      "during               104  True              False             False\n",
      "late                 105  True              False             False\n",
      "spring               106  True              False             False\n",
      "and                  107  True              False             False\n",
      "early                108  True              False             False\n",
      "summer               109  True              False             False\n",
      ".                    110  False             True              False\n",
      "The                  111  True              False             False\n",
      "eggs                 112  True              False             False\n",
      "are                  113  True              False             False\n",
      "placed               114  True              False             False\n",
      "in                   115  True              False             False\n",
      "a                    116  True              False             False\n",
      "flask                117  True              False             False\n",
      "-                    118  False             True              False\n",
      "shaped               119  True              False             False\n",
      "nest                 120  True              False             False\n",
      "about                121  True              False             False\n",
      "4                    122  False             False             True\n",
      "to                   123  True              False             False\n",
      "7                    124  False             False             True\n",
      "inches               125  True              False             False\n",
      "(                    126  False             True              False\n",
      "10                   127  False             False             True\n",
      "to                   128  True              False             False\n",
      "18                   129  False             False             True\n",
      "centimetres          130  True              False             False\n",
      ")                    131  False             True              False\n",
      "deep                 132  True              False             False\n",
      "and                  133  True              False             False\n",
      "hatch                134  True              False             False\n",
      "in                   135  True              False             False\n",
      "75                   136  False             False             True\n",
      "to                   137  True              False             False\n",
      "90                   138  False             False             True\n",
      "days                 139  True              False             False\n",
      ".                    140  False             True              False\n",
      "This                 141  True              False             False\n",
      "African              142  True              False             False\n",
      "helmeted             143  True              False             False\n",
      "turtle               144  True              False             False\n",
      "was                  145  True              False             False\n",
      "photographed         146  True              False             False\n",
      "in                   147  True              False             False\n",
      "Phinda               148  True              False             False\n",
      "Private              149  True              False             False\n",
      "Game                 150  True              False             False\n",
      "Reserve              151  True              False             False\n",
      ",                    152  False             True              False\n",
      "South                153  True              False             False\n",
      "Africa               154  True              False             False\n",
      ".                    155  False             True              False\n"
     ]
    }
   ],
   "source": [
    "print(spacy_token_attr(doc))"
   ]
  },
  {
   "cell_type": "code",
   "execution_count": null,
   "id": "f4b3d206-d84f-4d0f-b35b-e4b70497fbfd",
   "metadata": {},
   "outputs": [],
   "source": []
  }
 ],
 "metadata": {
  "kernelspec": {
   "display_name": "Python 3 (ipykernel)",
   "language": "python",
   "name": "python3"
  },
  "language_info": {
   "codemirror_mode": {
    "name": "ipython",
    "version": 3
   },
   "file_extension": ".py",
   "mimetype": "text/x-python",
   "name": "python",
   "nbconvert_exporter": "python",
   "pygments_lexer": "ipython3",
   "version": "3.12.7"
  }
 },
 "nbformat": 4,
 "nbformat_minor": 5
}
