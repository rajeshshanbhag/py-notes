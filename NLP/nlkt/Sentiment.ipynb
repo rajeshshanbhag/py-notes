{
 "cells": [
  {
   "cell_type": "code",
   "execution_count": null,
   "id": "32f1adc0-ffb8-4bcb-a15d-26f5abec50c8",
   "metadata": {},
   "outputs": [],
   "source": [
    "#### sentiment analysis\n",
    "\n",
    "from nltk.sentiment import SentimentIntensityAnalyzer\n",
    "nltk.download('vader_lexicon')\n",
    "import re\n",
    "\n",
    "analyzer=SentimentIntensityAnalyzer()\n",
    "\n",
    "s=analyzer.polarity_scores(book)\n",
    "print(\"Polarity of book:\",s)\n",
    "print(\"Positive score of book:\",s['pos'])"
   ]
  }
 ],
 "metadata": {
  "kernelspec": {
   "display_name": "Python 3 (ipykernel)",
   "language": "python",
   "name": "python3"
  },
  "language_info": {
   "codemirror_mode": {
    "name": "ipython",
    "version": 3
   },
   "file_extension": ".py",
   "mimetype": "text/x-python",
   "name": "python",
   "nbconvert_exporter": "python",
   "pygments_lexer": "ipython3",
   "version": "3.12.4"
  }
 },
 "nbformat": 4,
 "nbformat_minor": 5
}
