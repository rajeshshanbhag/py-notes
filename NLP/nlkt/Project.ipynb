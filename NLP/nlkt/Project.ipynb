{
 "cells": [
  {
   "cell_type": "code",
   "execution_count": 1,
   "id": "5019c5e4-aba7-4f07-a935-d8ab92061414",
   "metadata": {},
   "outputs": [
    {
     "name": "stderr",
     "output_type": "stream",
     "text": [
      "[nltk_data] Downloading package twitter_samples to\n",
      "[nltk_data]     C:\\Users\\rajes\\AppData\\Roaming\\nltk_data...\n",
      "[nltk_data]   Package twitter_samples is already up-to-date!\n"
     ]
    },
    {
     "name": "stdout",
     "output_type": "stream",
     "text": [
      "Total number of adjectives =  6091\n",
      "Total number of nouns =  13181\n"
     ]
    }
   ],
   "source": [
    "# Import data and tagger\n",
    "\n",
    "import nltk\n",
    "nltk.download('twitter_samples')\n",
    "\n",
    "#import nlkt\n",
    "from nltk.corpus import twitter_samples\n",
    "from nltk.tag import pos_tag_sents\n",
    "#nltk.download('twitter_samples')\n",
    "\n",
    "# Load tokenized tweets\n",
    "tweets_tokens = twitter_samples.tokenized('positive_tweets.json')\n",
    "\n",
    "# Tag tagged tweets\n",
    "tweets_tagged = pos_tag_sents(tweets_tokens)\n",
    "\n",
    "# Set accumulators\n",
    "JJ_count = 0\n",
    "NN_count = 0\n",
    "\n",
    "# Loop through list of tweets\n",
    "for tweet in tweets_tagged:\n",
    "    for pair in tweet:\n",
    "        tag = pair[1]\n",
    "        if tag == 'JJ':\n",
    "            JJ_count += 1\n",
    "        elif tag == 'NN':\n",
    "            NN_count += 1\n",
    "\n",
    "# Print total numbers for each adjectives and nouns\n",
    "print('Total number of adjectives = ', JJ_count)\n",
    "print('Total number of nouns = ', NN_count)"
   ]
  },
  {
   "cell_type": "code",
   "execution_count": null,
   "id": "14bd8ffb-8255-499b-b385-281253272d7f",
   "metadata": {},
   "outputs": [],
   "source": []
  }
 ],
 "metadata": {
  "kernelspec": {
   "display_name": "Python 3 (ipykernel)",
   "language": "python",
   "name": "python3"
  },
  "language_info": {
   "codemirror_mode": {
    "name": "ipython",
    "version": 3
   },
   "file_extension": ".py",
   "mimetype": "text/x-python",
   "name": "python",
   "nbconvert_exporter": "python",
   "pygments_lexer": "ipython3",
   "version": "3.12.4"
  }
 },
 "nbformat": 4,
 "nbformat_minor": 5
}
