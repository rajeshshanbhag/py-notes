{
 "cells": [
  {
   "cell_type": "code",
   "execution_count": 155,
   "id": "8b8892e1-63f9-4302-a621-8260e4572ae5",
   "metadata": {},
   "outputs": [],
   "source": [
    "enc='utf-8'\n",
    "with open(\"African_helmeted_turtle.txt\",\"r\",encoding=enc) as f:\n",
    "    book=f.read()\n",
    "    #print(book)"
   ]
  },
  {
   "cell_type": "code",
   "execution_count": 156,
   "id": "e0bb0b57-d7f2-4806-8f78-4ba191f21b0c",
   "metadata": {},
   "outputs": [
    {
     "name": "stdout",
     "output_type": "stream",
     "text": [
      "The African helmeted turtle #$%!!! (Pelomedusa subrufa) is a species of side-necked terrapin in the family Pelomedusidae. The species naturally occurs in fresh and stagnant water bodies throughout much of sub-Saharan Africa, and in southern Yemen. It is omnivorous, with its diet consisting mainly of aquatic invertebrates, small fish, and vegetation. It is typically a small turtle, with most individuals being less than 20 centimetres (7.9 inches) in straight carapace length. The female lays two to ten eggs on average, normally during late spring and early summer. The eggs are placed in a flask-shaped nest about 4 to 7 inches (10 to 18 centimetres) deep and hatch in 75 to 90 days. This African helmeted turtle was photographed in Phinda Private Game Reserve, South Africa.\n"
     ]
    }
   ],
   "source": [
    "print(book)"
   ]
  },
  {
   "cell_type": "code",
   "execution_count": 157,
   "id": "69b675ee-f840-4473-8390-376a1441bcea",
   "metadata": {},
   "outputs": [
    {
     "name": "stdout",
     "output_type": "stream",
     "text": [
      "Requirement already satisfied: nltk in c:\\users\\rajes\\anaconda3\\lib\\site-packages (3.9.1)\n",
      "Requirement already satisfied: click in c:\\users\\rajes\\anaconda3\\lib\\site-packages (from nltk) (8.1.7)\n",
      "Requirement already satisfied: joblib in c:\\users\\rajes\\anaconda3\\lib\\site-packages (from nltk) (1.4.2)\n",
      "Requirement already satisfied: regex>=2021.8.3 in c:\\users\\rajes\\anaconda3\\lib\\site-packages (from nltk) (2024.9.11)\n",
      "Requirement already satisfied: tqdm in c:\\users\\rajes\\anaconda3\\lib\\site-packages (from nltk) (4.66.5)\n",
      "Requirement already satisfied: colorama in c:\\users\\rajes\\anaconda3\\lib\\site-packages (from click->nltk) (0.4.6)\n"
     ]
    }
   ],
   "source": [
    "!pip install nltk"
   ]
  },
  {
   "cell_type": "code",
   "execution_count": 182,
   "id": "0b1dff55-4877-41ac-b827-32d7648829d3",
   "metadata": {},
   "outputs": [],
   "source": [
    "import re\n",
    "import nltk"
   ]
  },
  {
   "cell_type": "markdown",
   "id": "deb8640a-5f62-42f1-9e04-74e443362420",
   "metadata": {},
   "source": [
    "## TEXT PREPROCESSING"
   ]
  },
  {
   "cell_type": "markdown",
   "id": "3a915322-d2ac-438e-ad9f-68c1e161059c",
   "metadata": {},
   "source": [
    "### Clean text\n",
    "#### remove punctuations"
   ]
  },
  {
   "cell_type": "markdown",
   "id": "d7923f46-d588-4d2f-9a3b-5d52aa1bb57c",
   "metadata": {},
   "source": [
    "### Tokenize text"
   ]
  },
  {
   "cell_type": "markdown",
   "id": "611b059f-9184-4ce7-bd5a-0686e692146d",
   "metadata": {},
   "source": [
    "### Remove Stopwords"
   ]
  },
  {
   "cell_type": "markdown",
   "id": "dbba16ec-f5fd-4eba-8303-aa42c292c39f",
   "metadata": {},
   "source": [
    "### Stem the filtered list"
   ]
  },
  {
   "cell_type": "markdown",
   "id": "68801973-3af0-444b-8b55-19bac3d7714b",
   "metadata": {},
   "source": [
    "### Lemmatize the text"
   ]
  },
  {
   "cell_type": "markdown",
   "id": "73351b8c-a17e-474e-9134-cde8dce97846",
   "metadata": {},
   "source": [
    "### Parts of speech tagging"
   ]
  },
  {
   "cell_type": "markdown",
   "id": "17275e50-5eec-4c4b-a8c3-188fd2004a04",
   "metadata": {},
   "source": [
    "### Named Entity Recognition"
   ]
  },
  {
   "cell_type": "markdown",
   "id": "bb3fe809-039e-410c-9c8a-2678264af96a",
   "metadata": {},
   "source": [
    "### Code"
   ]
  },
  {
   "cell_type": "markdown",
   "id": "22c1a1a8-19ea-46ba-9bbb-25a52e491880",
   "metadata": {},
   "source": [
    "# Chunking & Chinking"
   ]
  },
  {
   "cell_type": "code",
   "execution_count": 242,
   "id": "2a7b8736-aae9-473e-af8e-be7c23f8ff75",
   "metadata": {},
   "outputs": [
    {
     "name": "stdout",
     "output_type": "stream",
     "text": [
      "(S\n",
      "  It/PRP\n",
      "  's/VBZ\n",
      "  (NP a/DT dangerous/JJ business/NN)\n",
      "  ,/,\n",
      "  Frodo/NNP\n",
      "  ,/,\n",
      "  going/VBG\n",
      "  out/RP\n",
      "  your/PRP$\n",
      "  (NP door/NN)\n",
      "  ./.)\n"
     ]
    }
   ],
   "source": [
    "pattern='NP:{<DT>?<JJ>*<NN>}'\n",
    "array=nltk.RegexpParser(pattern)\n",
    "tree=array.parse(pos_tag)\n",
    "print(tree)\n",
    "tree.draw()"
   ]
  },
  {
   "cell_type": "code",
   "execution_count": 244,
   "id": "1a8a0733-baf4-44ba-8ae4-3200da92f426",
   "metadata": {},
   "outputs": [
    {
     "name": "stdout",
     "output_type": "stream",
     "text": [
      "(S\n",
      "  (Chunk It/PRP 's/VBZ a/DT)\n",
      "  dangerous/JJ\n",
      "  (Chunk\n",
      "    business/NN\n",
      "    ,/,\n",
      "    Frodo/NNP\n",
      "    ,/,\n",
      "    going/VBG\n",
      "    out/RP\n",
      "    your/PRP$\n",
      "    door/NN\n",
      "    ./.))\n"
     ]
    }
   ],
   "source": [
    "pattern=\"\"\"\n",
    "    Chunk:{<.*>+}                                                  # {} = include        }{ = exclude\n",
    "    }<JJ>{\"\"\"    \n",
    "array=nltk.RegexpParser(pattern)\n",
    "tree=array.parse(pos_tag)\n",
    "print(tree)\n",
    "tree.draw()                                                    \n",
    "# The first chunk has all the text that appeared before the adjective that was excluded.\n",
    "#The second chunk contains everything after the adjective that was excluded."
   ]
  },
  {
   "cell_type": "markdown",
   "id": "0963615e-111a-44b4-859a-c2213911afc2",
   "metadata": {},
   "source": [
    "# Concordance"
   ]
  },
  {
   "cell_type": "code",
   "execution_count": 174,
   "id": "e818938e-8502-484f-9193-7a96edc71959",
   "metadata": {},
   "outputs": [
    {
     "name": "stdout",
     "output_type": "stream",
     "text": [
      "Displaying 14 of 14 matches:\n",
      " to hearing from you all . ABLE young man seeks , sexy older women . Phone for \n",
      "ble relationship . GENUINE ATTRACTIVE MAN 40 y . o ., no ties , secure , 5 ft .\n",
      "ship , and quality times . VIETNAMESE MAN Single , never married , financially \n",
      "ip . WELL DRESSED emotionally healthy man 37 like to meet full figured woman fo\n",
      " nth subs LIKE TO BE MISTRESS of YOUR MAN like to be treated well . Bold DTE no\n",
      "eeks lady in similar position MARRIED MAN 50 , attrac . fit , seeks lady 40 - 5\n",
      "eks nice girl 25 - 30 serious rship . Man 46 attractive fit , assertive , and k\n",
      " 40 - 50 sought by Aussie mid 40s b / man f / ship r / ship LOVE to meet widowe\n",
      "discreet times . Sth E Subs . MARRIED MAN 42yo 6ft , fit , seeks Lady for discr\n",
      "woman , seeks professional , employed man , with interests in theatre , dining \n",
      " tall and of large build seeks a good man . I am a nonsmoker , social drinker ,\n",
      "lead to relationship . SEEKING HONEST MAN I am 41 y . o ., 5 ft . 4 , med . bui\n",
      " quiet times . Seeks 35 - 45 , honest man with good SOH & similar interests , f\n",
      " genuine , caring , honest and normal man for fship , poss rship . S / S , S / \n"
     ]
    }
   ],
   "source": [
    "text8.concordance(\"man\")\n",
    "# the last three of those fourteen matches have to do with seeking an honest man"
   ]
  },
  {
   "cell_type": "code",
   "execution_count": 176,
   "id": "9989d566-32af-4785-bf38-6aa3d82de028",
   "metadata": {},
   "outputs": [
    {
     "name": "stdout",
     "output_type": "stream",
     "text": [
      "Displaying 11 of 11 matches:\n",
      "at home . Seeking an honest , caring woman , slim or med . build , who enjoys t\n",
      "thy man 37 like to meet full figured woman for relationship . 48 slim , shy , S\n",
      "rry . MALE 58 years old . Is there a Woman who would like to spend 1 weekend a \n",
      " other interests . Seeking Christian Woman for fship , view to rship . SWM 45 D\n",
      "ALE 60 - burly beared seeks intimate woman for outings n / s s / d F / ston / P\n",
      "ington . SCORPIO 47 seeks passionate woman for discreet intimate encounters SEX\n",
      "le dad . 42 , East sub . 5 \" 9 seeks woman 30 + for f / ship relationship TALL \n",
      "personal trainer looking for married woman age open for fun MARRIED Dark guy 37\n",
      "rinker , seeking slim - medium build woman who is happy in life , age open . AC\n",
      ". O . TERTIARY Educated professional woman , seeks professional , employed man \n",
      " real romantic , age 50 - 65 y . o . WOMAN OF SUBSTANCE 56 , 59 kg ., 50 , fit \n"
     ]
    }
   ],
   "source": [
    "text8.concordance(\"woman\")\n",
    "# The issue of honesty came up in the first match only"
   ]
  },
  {
   "cell_type": "markdown",
   "id": "4f80fc15-b90e-428c-b5ef-04d149656e3b",
   "metadata": {},
   "source": [
    "# Dispersion Plot"
   ]
  },
  {
   "cell_type": "code",
   "execution_count": 184,
   "id": "64c38165-4194-4321-8ada-8af6c9f45203",
   "metadata": {},
   "outputs": [
    {
     "data": {
      "image/png": "[encoded data removed]",
      "text/plain": [
       "<Figure size 640x480 with 1 Axes>"
      ]
     },
     "metadata": {},
     "output_type": "display_data"
    }
   ],
   "source": [
    "text8.dispersion_plot([\"woman\", \"lady\", \"girl\", \"gal\", \"man\", \"gentleman\", \"boy\", \"guy\"])\n",
    "# Each vertical blue line represents one instance of a word. Each horizontal row of blue lines represents the corpus as a whole. \n",
    "# This plot shows that:  \n",
    "#\"lady\" was used a lot more than \"woman\" or \"girl\". There were no instances of \"gal\".  \n",
    "#\"man\" and \"guy\" were used a similar number of times and were more common than \"gentleman\" or \"boy\"."
   ]
  },
  {
   "cell_type": "markdown",
   "id": "1539dc7e-0790-4d38-8e58-b5030b76139f",
   "metadata": {},
   "source": [
    "# Frequency Distribution"
   ]
  },
  {
   "cell_type": "code",
   "execution_count": 219,
   "id": "a181d203-1f64-496a-8bad-570ce6922bc9",
   "metadata": {},
   "outputs": [
    {
     "name": "stdout",
     "output_type": "stream",
     "text": [
      "<FreqDist with 1108 samples and 4867 outcomes>\n"
     ]
    },
    {
     "data": {
      "text/plain": [
       "[(',', 539),\n",
       " ('.', 353),\n",
       " ('/', 110),\n",
       " ('for', 99),\n",
       " ('and', 74),\n",
       " ('to', 74),\n",
       " ('lady', 68),\n",
       " ('-', 66),\n",
       " ('seeks', 60),\n",
       " ('a', 52),\n",
       " ('with', 44),\n",
       " ('S', 36),\n",
       " ('ship', 33),\n",
       " ('&', 30),\n",
       " ('relationship', 29),\n",
       " ('fun', 28),\n",
       " ('in', 27),\n",
       " ('slim', 27),\n",
       " ('build', 27),\n",
       " ('o', 26)]"
      ]
     },
     "execution_count": 219,
     "metadata": {},
     "output_type": "execute_result"
    }
   ],
   "source": [
    "from nltk import FreqDist\n",
    "# FreqDist is a subclass of collections.Counter\n",
    "fd=FreqDist(text8)\n",
    "print(fd)\n",
    "fd.most_common(20)"
   ]
  },
  {
   "cell_type": "code",
   "execution_count": 229,
   "id": "bb17ea18-3c92-42f4-9c05-1a120a6f17b9",
   "metadata": {},
   "outputs": [
    {
     "data": {
      "text/plain": [
       "[(',', 539),\n",
       " ('.', 353),\n",
       " ('/', 110),\n",
       " ('lady', 68),\n",
       " ('-', 66),\n",
       " ('seeks', 60),\n",
       " ('ship', 33),\n",
       " ('&', 30),\n",
       " ('relationship', 29),\n",
       " ('fun', 28),\n",
       " ('slim', 27),\n",
       " ('build', 27),\n",
       " ('smoker', 23),\n",
       " ('50', 23),\n",
       " ('non', 22),\n",
       " ('movies', 22),\n",
       " ('good', 21),\n",
       " ('honest', 20),\n",
       " ('dining', 19),\n",
       " ('rship', 18)]"
      ]
     },
     "execution_count": 229,
     "metadata": {},
     "output_type": "execute_result"
    }
   ],
   "source": [
    "meaningful_words = [word for word in text8 if word.casefold() not in e]\n",
    "fd=FreqDist(meaningful_words)\n",
    "fd.most_common(20)"
   ]
  },
  {
   "cell_type": "code",
   "execution_count": 231,
   "id": "01f9373b-133e-4268-b976-fdbd5c2ee0fb",
   "metadata": {},
   "outputs": [
    {
     "data": {
      "image/png": "[encoded data removed]",
      "text/plain": [
       "<Figure size 640x480 with 1 Axes>"
      ]
     },
     "metadata": {},
     "output_type": "display_data"
    },
    {
     "data": {
      "text/plain": [
       "<Axes: xlabel='Samples', ylabel='Cumulative Counts'>"
      ]
     },
     "execution_count": 231,
     "metadata": {},
     "output_type": "execute_result"
    }
   ],
   "source": [
    "fd.plot(20,cumulative=True)"
   ]
  },
  {
   "cell_type": "code",
   "execution_count": null,
   "id": "6bccee08-1972-4174-be9c-10c28b080f37",
   "metadata": {},
   "outputs": [],
   "source": [
    "# Collocations\n",
    "+    A collocation is a sequence of words that shows up often"
   ]
  },
  {
   "cell_type": "code",
   "execution_count": 234,
   "id": "3ed58dc1-05d9-4faa-bed9-c6e1e9486c3b",
   "metadata": {},
   "outputs": [
    {
     "name": "stdout",
     "output_type": "stream",
     "text": [
      "would like; medium build; social drinker; quiet nights; non smoker;\n",
      "long term; age open; Would like; easy going; financially secure; fun\n",
      "times; similar interests; Age open; weekends away; poss rship; well\n",
      "presented; never married; single mum; permanent relationship; slim\n",
      "build\n"
     ]
    }
   ],
   "source": [
    "text8.collocations()"
   ]
  },
  {
   "cell_type": "code",
   "execution_count": 236,
   "id": "d675885f-30aa-41f9-956b-2fcba5bf367a",
   "metadata": {},
   "outputs": [
    {
     "name": "stdout",
     "output_type": "stream",
     "text": [
      "medium build; social drinker; non smoker; quiet night; long term;\n",
      "would like; age open; easy going; financially secure; Would like; fun\n",
      "time; similar interest; Age open; weekend away; well presented; never\n",
      "married; single mum; permanent relationship; year old; slim build\n"
     ]
    }
   ],
   "source": [
    "lemmatized_words = [lemmatizer.lemmatize(word) for word in text8]\n",
    "new_text = nltk.Text(lemmatized_words)\n",
    "new_text.collocations()"
   ]
  }
 ],
 "metadata": {
  "kernelspec": {
   "display_name": "Python 3 (ipykernel)",
   "language": "python",
   "name": "python3"
  },
  "language_info": {
   "codemirror_mode": {
    "name": "ipython",
    "version": 3
   },
   "file_extension": ".py",
   "mimetype": "text/x-python",
   "name": "python",
   "nbconvert_exporter": "python",
   "pygments_lexer": "ipython3",
   "version": "3.12.7"
  }
 },
 "nbformat": 4,
 "nbformat_minor": 5
}
