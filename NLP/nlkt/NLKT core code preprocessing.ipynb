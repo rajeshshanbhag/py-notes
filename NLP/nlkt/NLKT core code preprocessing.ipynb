{
 "cells": [
  {
   "cell_type": "code",
   "execution_count": 17,
   "id": "8b8892e1-63f9-4302-a621-8260e4572ae5",
   "metadata": {},
   "outputs": [
    {
     "name": "stdout",
     "output_type": "stream",
     "text": [
      "The African helmeted turtle #$%!!! (Pelomedusa subrufa) is a species of side-necked terrapin in the family Pelomedusidae. The species naturally occurs in fresh and stagnant water bodies throughout much of sub-Saharan Africa, and in southern Yemen. It is omnivorous, with its diet consisting mainly of aquatic invertebrates, small fish, and vegetation. It is typically a small turtle, with most individuals being less than 20 centimetres (7.9 inches) in straight carapace length. The female lays two to ten eggs on average, normally during late spring and early summer. The eggs are placed in a flask-shaped nest about 4 to 7 inches (10 to 18 centimetres) deep and hatch in 75 to 90 days. This African helmeted turtle was photographed in Phinda Private Game Reserve, South Africa.\n"
     ]
    }
   ],
   "source": [
    "## load text\n",
    "enc='utf-8'\n",
    "with open(\"African_helmeted_turtle.txt\",\"r\",encoding=enc) as f:\n",
    "    book=f.read()\n",
    "    print(book)"
   ]
  },
  {
   "cell_type": "code",
   "execution_count": 18,
   "id": "69b675ee-f840-4473-8390-376a1441bcea",
   "metadata": {},
   "outputs": [
    {
     "name": "stdout",
     "output_type": "stream",
     "text": [
      "Requirement already satisfied: nltk in c:\\users\\rajes\\anaconda3\\lib\\site-packages (3.9.1)\n",
      "Requirement already satisfied: click in c:\\users\\rajes\\anaconda3\\lib\\site-packages (from nltk) (8.1.7)\n",
      "Requirement already satisfied: joblib in c:\\users\\rajes\\anaconda3\\lib\\site-packages (from nltk) (1.4.2)\n",
      "Requirement already satisfied: regex>=2021.8.3 in c:\\users\\rajes\\anaconda3\\lib\\site-packages (from nltk) (2024.9.11)\n",
      "Requirement already satisfied: tqdm in c:\\users\\rajes\\anaconda3\\lib\\site-packages (from nltk) (4.66.5)\n",
      "Requirement already satisfied: colorama in c:\\users\\rajes\\anaconda3\\lib\\site-packages (from click->nltk) (0.4.6)\n"
     ]
    }
   ],
   "source": [
    "!pip install nltk"
   ]
  },
  {
   "cell_type": "code",
   "execution_count": 19,
   "id": "0b1dff55-4877-41ac-b827-32d7648829d3",
   "metadata": {},
   "outputs": [],
   "source": [
    "import re\n",
    "import nltk"
   ]
  },
  {
   "cell_type": "markdown",
   "id": "deb8640a-5f62-42f1-9e04-74e443362420",
   "metadata": {},
   "source": [
    "## TEXT PREPROCESSING"
   ]
  },
  {
   "cell_type": "markdown",
   "id": "54f8bf59-2e6c-4d9a-8ea7-7f03994a3fce",
   "metadata": {},
   "source": [
    "### Clean text"
   ]
  },
  {
   "cell_type": "code",
   "execution_count": 20,
   "id": "9578cc8e-cd0e-42c5-a824-d4c8fa03b252",
   "metadata": {},
   "outputs": [],
   "source": [
    "def clean_text(text):\n",
    "    pattern=r'[^a-zA-Z0-9\\s]'\n",
    "    cleaned_text=re.sub(pattern,'',text)\n",
    "    return cleaned_text"
   ]
  },
  {
   "cell_type": "markdown",
   "id": "d7923f46-d588-4d2f-9a3b-5d52aa1bb57c",
   "metadata": {},
   "source": [
    "### Tokenize text"
   ]
  },
  {
   "cell_type": "code",
   "execution_count": 21,
   "id": "086862d0-ab1d-4235-a5aa-7be356a2df39",
   "metadata": {},
   "outputs": [],
   "source": [
    "def nltk_tokenizer(text):\n",
    "    from nltk.tokenize import sent_tokenize, word_tokenize\n",
    "    nltk.download('punkt_tab')\n",
    "\n",
    "    #token=sent_tokenize(text)\n",
    "    token=word_tokenize(text)\n",
    "    return token"
   ]
  },
  {
   "cell_type": "markdown",
   "id": "4bdde810-b81f-45a0-a712-3ca53b3497ee",
   "metadata": {},
   "source": [
    "### Remove Stopwords"
   ]
  },
  {
   "cell_type": "code",
   "execution_count": 22,
   "id": "f6c65b3b-7a50-4e15-a9b9-c42dabf85433",
   "metadata": {},
   "outputs": [],
   "source": [
    "def nltk_remove_stopwords(text):\n",
    "    nltk.download('stopwords')\n",
    "    from nltk.corpus import stopwords\n",
    "    en=stopwords.words(\"english\")\n",
    "    stopword_filtered_token=[word for word in text if word.casefold() not in en]\n",
    "    return stopword_filtered_token"
   ]
  },
  {
   "cell_type": "markdown",
   "id": "dbba16ec-f5fd-4eba-8303-aa42c292c39f",
   "metadata": {},
   "source": [
    "### Stem the filtered list"
   ]
  },
  {
   "cell_type": "code",
   "execution_count": 26,
   "id": "ec60956b-3024-4153-8431-691aa6f6daac",
   "metadata": {},
   "outputs": [],
   "source": [
    "#  use PorterStemmer\n",
    "def nltk_text_stem(token):\n",
    "    from nltk.stem import PorterStemmer\n",
    "    stemmer = PorterStemmer()\n",
    "    stemmed_token=[stemmer.stem(word) for word in token]\n",
    "    #print(stemmed_token)\n",
    "    return stemmed_token"
   ]
  },
  {
   "cell_type": "markdown",
   "id": "68801973-3af0-444b-8b55-19bac3d7714b",
   "metadata": {},
   "source": [
    "### Lemmatize the text"
   ]
  },
  {
   "cell_type": "code",
   "execution_count": 29,
   "id": "b8b29600-52f7-457c-9e52-45a95dc4a84d",
   "metadata": {},
   "outputs": [],
   "source": [
    "def nltk_text_lemmatize(token):\n",
    "    from nltk.stem import WordNetLemmatizer\n",
    "    nltk.download('wordnet')\n",
    "    return [WordNetLemmatizer().lemmatize(word) for word in token]"
   ]
  },
  {
   "cell_type": "markdown",
   "id": "73351b8c-a17e-474e-9134-cde8dce97846",
   "metadata": {},
   "source": [
    "### Parts of speech tagging"
   ]
  },
  {
   "cell_type": "code",
   "execution_count": 33,
   "id": "3fc7ee3f-94b7-4833-8d26-35fce669ced9",
   "metadata": {},
   "outputs": [],
   "source": [
    "def nltk_pos_tag(token):\n",
    "    nltk.download('averaged_perceptron_tagger_eng')\n",
    "    pos_tag=nltk.pos_tag(token)\n",
    "    return pos_tag"
   ]
  },
  {
   "cell_type": "markdown",
   "id": "17275e50-5eec-4c4b-a8c3-188fd2004a04",
   "metadata": {},
   "source": [
    "### Named Entity Recognition"
   ]
  },
  {
   "cell_type": "code",
   "execution_count": 34,
   "id": "ff83b647-e300-462f-ba61-877b161f0048",
   "metadata": {},
   "outputs": [],
   "source": [
    "def nltk_extract_ne(token):\n",
    "    nltk.download('maxent_ne_chunker_tab')\n",
    "    tree = nltk.ne_chunk(token,binary=True)\n",
    "    return set(\n",
    "        \" \".join(i[0] for i in t)\n",
    "        for t in tree\n",
    "        if hasattr(t, \"label\") and t.label() == \"NE\"\n",
    "    )"
   ]
  },
  {
   "cell_type": "markdown",
   "id": "bb3fe809-039e-410c-9c8a-2678264af96a",
   "metadata": {},
   "source": [
    "### Code"
   ]
  },
  {
   "cell_type": "code",
   "execution_count": 35,
   "id": "4d94fc8e-fdc5-43ae-8a68-73beea6cf261",
   "metadata": {},
   "outputs": [
    {
     "name": "stdout",
     "output_type": "stream",
     "text": [
      "CLEANED TEXT: The African helmeted turtle  Pelomedusa subrufa is a species of sidenecked terrapin in the family Pelomedusidae The species naturally occurs in fresh and stagnant water bodies throughout much of subSaharan Africa and in southern Yemen It is omnivorous with its diet consisting mainly of aquatic invertebrates small fish and vegetation It is typically a small turtle with most individuals being less than 20 centimetres 79 inches in straight carapace length The female lays two to ten eggs on average normally during late spring and early summer The eggs are placed in a flaskshaped nest about 4 to 7 inches 10 to 18 centimetres deep and hatch in 75 to 90 days This African helmeted turtle was photographed in Phinda Private Game Reserve South Africa\n",
      "----------\n",
      "TOKEN: ['The', 'African', 'helmeted', 'turtle', 'Pelomedusa', 'subrufa', 'is', 'a', 'species', 'of', 'sidenecked', 'terrapin', 'in', 'the', 'family', 'Pelomedusidae', 'The', 'species', 'naturally', 'occurs', 'in', 'fresh', 'and', 'stagnant', 'water', 'bodies', 'throughout', 'much', 'of', 'subSaharan', 'Africa', 'and', 'in', 'southern', 'Yemen', 'It', 'is', 'omnivorous', 'with', 'its', 'diet', 'consisting', 'mainly', 'of', 'aquatic', 'invertebrates', 'small', 'fish', 'and', 'vegetation', 'It', 'is', 'typically', 'a', 'small', 'turtle', 'with', 'most', 'individuals', 'being', 'less', 'than', '20', 'centimetres', '79', 'inches', 'in', 'straight', 'carapace', 'length', 'The', 'female', 'lays', 'two', 'to', 'ten', 'eggs', 'on', 'average', 'normally', 'during', 'late', 'spring', 'and', 'early', 'summer', 'The', 'eggs', 'are', 'placed', 'in', 'a', 'flaskshaped', 'nest', 'about', '4', 'to', '7', 'inches', '10', 'to', '18', 'centimetres', 'deep', 'and', 'hatch', 'in', '75', 'to', '90', 'days', 'This', 'African', 'helmeted', 'turtle', 'was', 'photographed', 'in', 'Phinda', 'Private', 'Game', 'Reserve', 'South', 'Africa']\n",
      "----------\n",
      "STOPWORD FILTERED LIST: ['African', 'helmeted', 'turtle', 'Pelomedusa', 'subrufa', 'species', 'sidenecked', 'terrapin', 'family', 'Pelomedusidae', 'species', 'naturally', 'occurs', 'fresh', 'stagnant', 'water', 'bodies', 'throughout', 'much', 'subSaharan', 'Africa', 'southern', 'Yemen', 'omnivorous', 'diet', 'consisting', 'mainly', 'aquatic', 'invertebrates', 'small', 'fish', 'vegetation', 'typically', 'small', 'turtle', 'individuals', 'less', '20', 'centimetres', '79', 'inches', 'straight', 'carapace', 'length', 'female', 'lays', 'two', 'ten', 'eggs', 'average', 'normally', 'late', 'spring', 'early', 'summer', 'eggs', 'placed', 'flaskshaped', 'nest', '4', '7', 'inches', '10', '18', 'centimetres', 'deep', 'hatch', '75', '90', 'days', 'African', 'helmeted', 'turtle', 'photographed', 'Phinda', 'Private', 'Game', 'Reserve', 'South', 'Africa']\n",
      "----------\n",
      "STEMMED LIST: ['african', 'helmet', 'turtl', 'pelomedusa', 'subrufa', 'speci', 'sideneck', 'terrapin', 'famili', 'pelomedusida', 'speci', 'natur', 'occur', 'fresh', 'stagnant', 'water', 'bodi', 'throughout', 'much', 'subsaharan', 'africa', 'southern', 'yemen', 'omnivor', 'diet', 'consist', 'mainli', 'aquat', 'invertebr', 'small', 'fish', 'veget', 'typic', 'small', 'turtl', 'individu', 'less', '20', 'centimetr', '79', 'inch', 'straight', 'carapac', 'length', 'femal', 'lay', 'two', 'ten', 'egg', 'averag', 'normal', 'late', 'spring', 'earli', 'summer', 'egg', 'place', 'flaskshap', 'nest', '4', '7', 'inch', '10', '18', 'centimetr', 'deep', 'hatch', '75', '90', 'day', 'african', 'helmet', 'turtl', 'photograph', 'phinda', 'privat', 'game', 'reserv', 'south', 'africa']\n",
      "----------\n",
      "LEMMATISED LIST: ['African', 'helmeted', 'turtle', 'Pelomedusa', 'subrufa', 'specie', 'sidenecked', 'terrapin', 'family', 'Pelomedusidae', 'specie', 'naturally', 'occurs', 'fresh', 'stagnant', 'water', 'body', 'throughout', 'much', 'subSaharan', 'Africa', 'southern', 'Yemen', 'omnivorous', 'diet', 'consisting', 'mainly', 'aquatic', 'invertebrate', 'small', 'fish', 'vegetation', 'typically', 'small', 'turtle', 'individual', 'less', '20', 'centimetre', '79', 'inch', 'straight', 'carapace', 'length', 'female', 'lay', 'two', 'ten', 'egg', 'average', 'normally', 'late', 'spring', 'early', 'summer', 'egg', 'placed', 'flaskshaped', 'nest', '4', '7', 'inch', '10', '18', 'centimetre', 'deep', 'hatch', '75', '90', 'day', 'African', 'helmeted', 'turtle', 'photographed', 'Phinda', 'Private', 'Game', 'Reserve', 'South', 'Africa']\n",
      "----------\n"
     ]
    },
    {
     "name": "stderr",
     "output_type": "stream",
     "text": [
      "[nltk_data] Downloading package punkt_tab to\n",
      "[nltk_data]     C:\\Users\\rajes\\AppData\\Roaming\\nltk_data...\n",
      "[nltk_data]   Package punkt_tab is already up-to-date!\n",
      "[nltk_data] Downloading package stopwords to\n",
      "[nltk_data]     C:\\Users\\rajes\\AppData\\Roaming\\nltk_data...\n",
      "[nltk_data]   Package stopwords is already up-to-date!\n",
      "[nltk_data] Downloading package wordnet to\n",
      "[nltk_data]     C:\\Users\\rajes\\AppData\\Roaming\\nltk_data...\n",
      "[nltk_data]   Package wordnet is already up-to-date!\n",
      "[nltk_data] Downloading package averaged_perceptron_tagger_eng to\n",
      "[nltk_data]     C:\\Users\\rajes\\AppData\\Roaming\\nltk_data...\n",
      "[nltk_data]   Package averaged_perceptron_tagger_eng is already up-to-\n",
      "[nltk_data]       date!\n",
      "[nltk_data] Downloading package maxent_ne_chunker_tab to\n",
      "[nltk_data]     C:\\Users\\rajes\\AppData\\Roaming\\nltk_data...\n"
     ]
    },
    {
     "name": "stdout",
     "output_type": "stream",
     "text": [
      "POS TAG: [('African', 'JJ'), ('helmeted', 'VBD'), ('turtle', 'JJ'), ('Pelomedusa', 'NNP'), ('subrufa', 'NN'), ('specie', 'NN'), ('sidenecked', 'VBD'), ('terrapin', 'JJ'), ('family', 'NN'), ('Pelomedusidae', 'NNP'), ('specie', 'NN'), ('naturally', 'RB'), ('occurs', 'VBZ'), ('fresh', 'JJ'), ('stagnant', 'JJ'), ('water', 'NN'), ('body', 'NN'), ('throughout', 'IN'), ('much', 'JJ'), ('subSaharan', 'NN'), ('Africa', 'NNP'), ('southern', 'JJ'), ('Yemen', 'NNP'), ('omnivorous', 'JJ'), ('diet', 'JJ'), ('consisting', 'VBG'), ('mainly', 'RB'), ('aquatic', 'JJ'), ('invertebrate', 'NN'), ('small', 'JJ'), ('fish', 'JJ'), ('vegetation', 'NN'), ('typically', 'RB'), ('small', 'JJ'), ('turtle', 'JJ'), ('individual', 'JJ'), ('less', 'JJR'), ('20', 'CD'), ('centimetre', 'NN'), ('79', 'CD'), ('inch', 'NN'), ('straight', 'RB'), ('carapace', 'NN'), ('length', 'JJ'), ('female', 'JJ'), ('lay', 'NN'), ('two', 'CD'), ('ten', 'JJ'), ('egg', 'NN'), ('average', 'JJ'), ('normally', 'RB'), ('late', 'JJ'), ('spring', 'NN'), ('early', 'JJ'), ('summer', 'NN'), ('egg', 'NN'), ('placed', 'VBD'), ('flaskshaped', 'JJ'), ('nest', 'JJS'), ('4', 'CD'), ('7', 'CD'), ('inch', 'NN'), ('10', 'CD'), ('18', 'CD'), ('centimetre', 'NN'), ('deep', 'JJ'), ('hatch', 'NN'), ('75', 'CD'), ('90', 'CD'), ('day', 'NN'), ('African', 'NNP'), ('helmeted', 'VBD'), ('turtle', 'RB'), ('photographed', 'JJ'), ('Phinda', 'NNP'), ('Private', 'NNP'), ('Game', 'NNP'), ('Reserve', 'NNP'), ('South', 'NNP'), ('Africa', 'NNP')]\n",
      "----------\n"
     ]
    },
    {
     "name": "stderr",
     "output_type": "stream",
     "text": [
      "[nltk_data]   Package maxent_ne_chunker_tab is already up-to-date!\n"
     ]
    },
    {
     "name": "stdout",
     "output_type": "stream",
     "text": [
      "NER TAGGED: {'Phinda Private Game Reserve South Africa', 'African', 'subSaharan Africa'}\n"
     ]
    }
   ],
   "source": [
    "cleaned_text=clean_text(book)\n",
    "print(\"CLEANED TEXT:\",cleaned_text)\n",
    "print(\"----------\")\n",
    "token=nltk_tokenizer(cleaned_text)\n",
    "print(\"TOKEN:\",token)\n",
    "print(\"----------\")\n",
    "stopword_filtered_list=nltk_remove_stopwords(token)\n",
    "print(\"STOPWORD FILTERED LIST:\",stopword_filtered_list)\n",
    "print(\"----------\")\n",
    "stemmed_list=nltk_text_stem(stopword_filtered_list)\n",
    "print(\"STEMMED LIST:\",stemmed_list)\n",
    "print(\"----------\")\n",
    "lemmatized_list=nltk_text_lemmatize(stopword_filtered_list)\n",
    "print(\"LEMMATISED LIST:\",lemmatized_list)\n",
    "print(\"----------\")\n",
    "pos_tagged=nltk_pos_tag(lemmatized_list)\n",
    "print(\"POS TAG:\",pos_tagged)\n",
    "print(\"----------\")\n",
    "ner_tagged=nltk_extract_ne(pos_tagged)\n",
    "print(\"NER TAGGED:\",ner_tagged)"
   ]
  },
  {
   "cell_type": "code",
   "execution_count": 16,
   "id": "4995bc0d-39e4-4ffc-b359-f99a5f523abf",
   "metadata": {},
   "outputs": [
    {
     "name": "stdout",
     "output_type": "stream",
     "text": [
      "['The', 'African', 'helmeted', 'turtle', 'Pelomedusa', 'subrufa', 'is']\n"
     ]
    }
   ],
   "source": [
    "t=token[0:7]\n",
    "print(t)"
   ]
  },
  {
   "cell_type": "code",
   "execution_count": null,
   "id": "1f69d056-abf9-48ef-b125-b69833e2df10",
   "metadata": {},
   "outputs": [],
   "source": []
  }
 ],
 "metadata": {
  "kernelspec": {
   "display_name": "Python 3 (ipykernel)",
   "language": "python",
   "name": "python3"
  },
  "language_info": {
   "codemirror_mode": {
    "name": "ipython",
    "version": 3
   },
   "file_extension": ".py",
   "mimetype": "text/x-python",
   "name": "python",
   "nbconvert_exporter": "python",
   "pygments_lexer": "ipython3",
   "version": "3.12.7"
  }
 },
 "nbformat": 4,
 "nbformat_minor": 5
}
