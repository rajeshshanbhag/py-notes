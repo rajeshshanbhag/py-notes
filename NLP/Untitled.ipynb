{
 "cells": [
  {
   "cell_type": "code",
   "execution_count": 33,
   "id": "a80e2748-01eb-4db4-b170-5e0d0afa7e3a",
   "metadata": {},
   "outputs": [
    {
     "name": "stdout",
     "output_type": "stream",
     "text": [
      "The African helmeted turtle #$%!!! (Pelomedusa subrufa) is a species of side-necked terrapin in the family Pelomedusidae. The species naturally occurs in fresh and stagnant water bodies throughout much of sub-Saharan Africa, and in southern Yemen. It is omnivorous, with its diet consisting mainly of aquatic invertebrates, small fish, and vegetation. It is typically a small turtle, with most individuals being less than 20 centimetres (7.9 inches) in straight carapace length. The female lays two to ten eggs on average, normally during late spring and early summer. The eggs are placed in a flask-shaped nest about 4 to 7 inches (10 to 18 centimetres) deep and hatch in 75 to 90 days. This African helmeted turtle was photographed in Phinda Private Game Reserve, South Africa.\n"
     ]
    }
   ],
   "source": [
    "## Load text\n",
    "enc='utf-8'\n",
    "with open(\"African_helmeted_turtle.txt\",\"r\",encoding=enc) as f:\n",
    "    book=f.read()\n",
    "    print(book)"
   ]
  },
  {
   "cell_type": "code",
   "execution_count": 34,
   "id": "50eb1f17-3036-4d14-a8a7-f7b6dc0dde9e",
   "metadata": {},
   "outputs": [],
   "source": [
    "import spacy\n",
    "nlp = spacy.load(\"en_core_web_sm\")"
   ]
  },
  {
   "cell_type": "code",
   "execution_count": 35,
   "id": "45dbace5-41af-4b37-9b8b-118aae11d627",
   "metadata": {},
   "outputs": [],
   "source": [
    "#doc=nlp(book)"
   ]
  },
  {
   "cell_type": "code",
   "execution_count": 36,
   "id": "fc4d8729-6f80-41f5-9668-0b1f2aee774a",
   "metadata": {},
   "outputs": [],
   "source": [
    "#type(doc)"
   ]
  },
  {
   "cell_type": "code",
   "execution_count": 37,
   "id": "d4879084-cb22-452c-bb4f-1dcb8d4921ae",
   "metadata": {},
   "outputs": [],
   "source": [
    "def spacy_tokenizer(text):\n",
    "    #token=[sentence for sentence in text.sents]\n",
    "    tokens=nlp(text)\n",
    "    return tokens"
   ]
  },
  {
   "cell_type": "code",
   "execution_count": 38,
   "id": "5a223046-dabb-450b-b3c5-20742d92e7c7",
   "metadata": {},
   "outputs": [
    {
     "data": {
      "text/plain": [
       "The African helmeted turtle #$%!!! (Pelomedusa subrufa) is a species of side-necked terrapin in the family Pelomedusidae. The species naturally occurs in fresh and stagnant water bodies throughout much of sub-Saharan Africa, and in southern Yemen. It is omnivorous, with its diet consisting mainly of aquatic invertebrates, small fish, and vegetation. It is typically a small turtle, with most individuals being less than 20 centimetres (7.9 inches) in straight carapace length. The female lays two to ten eggs on average, normally during late spring and early summer. The eggs are placed in a flask-shaped nest about 4 to 7 inches (10 to 18 centimetres) deep and hatch in 75 to 90 days. This African helmeted turtle was photographed in Phinda Private Game Reserve, South Africa."
      ]
     },
     "execution_count": 38,
     "metadata": {},
     "output_type": "execute_result"
    }
   ],
   "source": [
    "spacy_tokenizer(book)"
   ]
  },
  {
   "cell_type": "code",
   "execution_count": null,
   "id": "923c3fef-37ba-4163-bb68-eafedc6231da",
   "metadata": {},
   "outputs": [],
   "source": []
  }
 ],
 "metadata": {
  "kernelspec": {
   "display_name": "Python 3 (ipykernel)",
   "language": "python",
   "name": "python3"
  },
  "language_info": {
   "codemirror_mode": {
    "name": "ipython",
    "version": 3
   },
   "file_extension": ".py",
   "mimetype": "text/x-python",
   "name": "python",
   "nbconvert_exporter": "python",
   "pygments_lexer": "ipython3",
   "version": "3.12.7"
  }
 },
 "nbformat": 4,
 "nbformat_minor": 5
}
